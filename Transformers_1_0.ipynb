{
  "nbformat": 4,
  "nbformat_minor": 0,
  "metadata": {
    "colab": {
      "name": "Transformers 1.0.ipynb",
      "provenance": [],
      "collapsed_sections": [],
      "toc_visible": true,
      "authorship_tag": "ABX9TyOzOmyeFFi2iKdUfZUd3zlp",
      "include_colab_link": true
    },
    "kernelspec": {
      "name": "python3",
      "display_name": "Python 3"
    },
    "language_info": {
      "name": "python"
    }
  },
  "cells": [
    {
      "cell_type": "markdown",
      "metadata": {
        "id": "view-in-github",
        "colab_type": "text"
      },
      "source": [
        "<a href=\"https://colab.research.google.com/github/LinggarM/Transformers-1.0/blob/master/Transformers_1_0.ipynb\" target=\"_parent\"><img src=\"https://colab.research.google.com/assets/colab-badge.svg\" alt=\"Open In Colab\"/></a>"
      ]
    },
    {
      "cell_type": "markdown",
      "source": [
        "# Import Dependencies"
      ],
      "metadata": {
        "id": "iler_PjeQ1sn"
      }
    },
    {
      "cell_type": "code",
      "source": [
        "pip install transformers"
      ],
      "metadata": {
        "colab": {
          "base_uri": "https://localhost:8080/"
        },
        "id": "7I8c12MaigBv",
        "outputId": "0e21145f-2dae-4871-b8bb-9c249fe38caa"
      },
      "execution_count": 57,
      "outputs": [
        {
          "output_type": "stream",
          "name": "stdout",
          "text": [
            "Requirement already satisfied: transformers in /usr/local/lib/python3.7/dist-packages (4.17.0)\n",
            "Requirement already satisfied: sacremoses in /usr/local/lib/python3.7/dist-packages (from transformers) (0.0.49)\n",
            "Requirement already satisfied: regex!=2019.12.17 in /usr/local/lib/python3.7/dist-packages (from transformers) (2019.12.20)\n",
            "Requirement already satisfied: importlib-metadata in /usr/local/lib/python3.7/dist-packages (from transformers) (4.11.2)\n",
            "Requirement already satisfied: filelock in /usr/local/lib/python3.7/dist-packages (from transformers) (3.6.0)\n",
            "Requirement already satisfied: tokenizers!=0.11.3,>=0.11.1 in /usr/local/lib/python3.7/dist-packages (from transformers) (0.11.6)\n",
            "Requirement already satisfied: tqdm>=4.27 in /usr/local/lib/python3.7/dist-packages (from transformers) (4.63.0)\n",
            "Requirement already satisfied: huggingface-hub<1.0,>=0.1.0 in /usr/local/lib/python3.7/dist-packages (from transformers) (0.4.0)\n",
            "Requirement already satisfied: pyyaml>=5.1 in /usr/local/lib/python3.7/dist-packages (from transformers) (6.0)\n",
            "Requirement already satisfied: numpy>=1.17 in /usr/local/lib/python3.7/dist-packages (from transformers) (1.21.5)\n",
            "Requirement already satisfied: packaging>=20.0 in /usr/local/lib/python3.7/dist-packages (from transformers) (21.3)\n",
            "Requirement already satisfied: requests in /usr/local/lib/python3.7/dist-packages (from transformers) (2.23.0)\n",
            "Requirement already satisfied: typing-extensions>=3.7.4.3 in /usr/local/lib/python3.7/dist-packages (from huggingface-hub<1.0,>=0.1.0->transformers) (3.10.0.2)\n",
            "Requirement already satisfied: pyparsing!=3.0.5,>=2.0.2 in /usr/local/lib/python3.7/dist-packages (from packaging>=20.0->transformers) (3.0.7)\n",
            "Requirement already satisfied: zipp>=0.5 in /usr/local/lib/python3.7/dist-packages (from importlib-metadata->transformers) (3.7.0)\n",
            "Requirement already satisfied: idna<3,>=2.5 in /usr/local/lib/python3.7/dist-packages (from requests->transformers) (2.10)\n",
            "Requirement already satisfied: chardet<4,>=3.0.2 in /usr/local/lib/python3.7/dist-packages (from requests->transformers) (3.0.4)\n",
            "Requirement already satisfied: certifi>=2017.4.17 in /usr/local/lib/python3.7/dist-packages (from requests->transformers) (2021.10.8)\n",
            "Requirement already satisfied: urllib3!=1.25.0,!=1.25.1,<1.26,>=1.21.1 in /usr/local/lib/python3.7/dist-packages (from requests->transformers) (1.24.3)\n",
            "Requirement already satisfied: joblib in /usr/local/lib/python3.7/dist-packages (from sacremoses->transformers) (1.1.0)\n",
            "Requirement already satisfied: click in /usr/local/lib/python3.7/dist-packages (from sacremoses->transformers) (7.1.2)\n",
            "Requirement already satisfied: six in /usr/local/lib/python3.7/dist-packages (from sacremoses->transformers) (1.15.0)\n"
          ]
        }
      ]
    },
    {
      "cell_type": "code",
      "execution_count": 58,
      "metadata": {
        "id": "vn3WSZdKOZRk"
      },
      "outputs": [],
      "source": [
        "import numpy as np\n",
        "import pandas as pd\n",
        "import matplotlib.pyplot as plt\n",
        "import seaborn as sns\n",
        "import torch\n",
        "import tensorflow as tf"
      ]
    },
    {
      "cell_type": "markdown",
      "source": [
        "# Data Preparation"
      ],
      "metadata": {
        "id": "jEig_MLdOMpb"
      }
    },
    {
      "cell_type": "markdown",
      "source": [
        "## Import Dummy Data (Ukara Dataset)\n",
        "[https://github.com/aliakbars/ukara](https://github.com/aliakbars/ukara)"
      ],
      "metadata": {
        "id": "vtJm-R_IYj9D"
      }
    },
    {
      "cell_type": "code",
      "source": [
        "from google.colab import drive\n",
        "drive.mount('/content/gdrive/')"
      ],
      "metadata": {
        "colab": {
          "base_uri": "https://localhost:8080/"
        },
        "id": "v3xcbAvuVXyE",
        "outputId": "c11863ab-bd3b-4a22-8c39-923117a7ec73"
      },
      "execution_count": 59,
      "outputs": [
        {
          "output_type": "stream",
          "name": "stdout",
          "text": [
            "Drive already mounted at /content/gdrive/; to attempt to forcibly remount, call drive.mount(\"/content/gdrive/\", force_remount=True).\n"
          ]
        }
      ]
    },
    {
      "cell_type": "code",
      "source": [
        "path = \"/content/gdrive/MyDrive/Upload/Machine Learning/Projects/Transformers 1.0/Data/Dummy Data\"\n",
        "data_dev = f\"{path}/Data A/data_dev_A.csv\"\n",
        "data_train = f\"{path}/Data A/data_train_A.csv\""
      ],
      "metadata": {
        "id": "xEzvT0wQO_BD"
      },
      "execution_count": 60,
      "outputs": []
    },
    {
      "cell_type": "code",
      "source": [
        "df_dev = pd.read_csv(data_dev)\n",
        "df_train = pd.read_csv(data_train)"
      ],
      "metadata": {
        "id": "zEFN8L2mPAdi"
      },
      "execution_count": 61,
      "outputs": []
    },
    {
      "cell_type": "code",
      "source": [
        "df_train.head()"
      ],
      "metadata": {
        "colab": {
          "base_uri": "https://localhost:8080/",
          "height": 206
        },
        "id": "8r8rI-vAWRJ5",
        "outputId": "a16d21f5-22a1-4d68-c494-350edf339b8b"
      },
      "execution_count": 62,
      "outputs": [
        {
          "output_type": "execute_result",
          "data": {
            "text/plain": [
              "  RES_ID                                           RESPONSE  LABEL\n",
              "0   TRA1  intetraksi/beradaptasi terhadap lingkungan yan...      1\n",
              "1   TRA2         seperti jatuhnya meteor tsunami gempa bumi      0\n",
              "2   TRA3      hanya tuhan yang tahu tantangan nya itu apaan      0\n",
              "3   TRA4                      mereka akan sulit beradaptasi      1\n",
              "4   TRA5             Tempat tinggal, ekonomi, dan pekerjaan      1"
            ],
            "text/html": [
              "\n",
              "  <div id=\"df-1b805464-bfd8-4cec-9ccc-5ad4253b70c6\">\n",
              "    <div class=\"colab-df-container\">\n",
              "      <div>\n",
              "<style scoped>\n",
              "    .dataframe tbody tr th:only-of-type {\n",
              "        vertical-align: middle;\n",
              "    }\n",
              "\n",
              "    .dataframe tbody tr th {\n",
              "        vertical-align: top;\n",
              "    }\n",
              "\n",
              "    .dataframe thead th {\n",
              "        text-align: right;\n",
              "    }\n",
              "</style>\n",
              "<table border=\"1\" class=\"dataframe\">\n",
              "  <thead>\n",
              "    <tr style=\"text-align: right;\">\n",
              "      <th></th>\n",
              "      <th>RES_ID</th>\n",
              "      <th>RESPONSE</th>\n",
              "      <th>LABEL</th>\n",
              "    </tr>\n",
              "  </thead>\n",
              "  <tbody>\n",
              "    <tr>\n",
              "      <th>0</th>\n",
              "      <td>TRA1</td>\n",
              "      <td>intetraksi/beradaptasi terhadap lingkungan yan...</td>\n",
              "      <td>1</td>\n",
              "    </tr>\n",
              "    <tr>\n",
              "      <th>1</th>\n",
              "      <td>TRA2</td>\n",
              "      <td>seperti jatuhnya meteor tsunami gempa bumi</td>\n",
              "      <td>0</td>\n",
              "    </tr>\n",
              "    <tr>\n",
              "      <th>2</th>\n",
              "      <td>TRA3</td>\n",
              "      <td>hanya tuhan yang tahu tantangan nya itu apaan</td>\n",
              "      <td>0</td>\n",
              "    </tr>\n",
              "    <tr>\n",
              "      <th>3</th>\n",
              "      <td>TRA4</td>\n",
              "      <td>mereka akan sulit beradaptasi</td>\n",
              "      <td>1</td>\n",
              "    </tr>\n",
              "    <tr>\n",
              "      <th>4</th>\n",
              "      <td>TRA5</td>\n",
              "      <td>Tempat tinggal, ekonomi, dan pekerjaan</td>\n",
              "      <td>1</td>\n",
              "    </tr>\n",
              "  </tbody>\n",
              "</table>\n",
              "</div>\n",
              "      <button class=\"colab-df-convert\" onclick=\"convertToInteractive('df-1b805464-bfd8-4cec-9ccc-5ad4253b70c6')\"\n",
              "              title=\"Convert this dataframe to an interactive table.\"\n",
              "              style=\"display:none;\">\n",
              "        \n",
              "  <svg xmlns=\"http://www.w3.org/2000/svg\" height=\"24px\"viewBox=\"0 0 24 24\"\n",
              "       width=\"24px\">\n",
              "    <path d=\"M0 0h24v24H0V0z\" fill=\"none\"/>\n",
              "    <path d=\"M18.56 5.44l.94 2.06.94-2.06 2.06-.94-2.06-.94-.94-2.06-.94 2.06-2.06.94zm-11 1L8.5 8.5l.94-2.06 2.06-.94-2.06-.94L8.5 2.5l-.94 2.06-2.06.94zm10 10l.94 2.06.94-2.06 2.06-.94-2.06-.94-.94-2.06-.94 2.06-2.06.94z\"/><path d=\"M17.41 7.96l-1.37-1.37c-.4-.4-.92-.59-1.43-.59-.52 0-1.04.2-1.43.59L10.3 9.45l-7.72 7.72c-.78.78-.78 2.05 0 2.83L4 21.41c.39.39.9.59 1.41.59.51 0 1.02-.2 1.41-.59l7.78-7.78 2.81-2.81c.8-.78.8-2.07 0-2.86zM5.41 20L4 18.59l7.72-7.72 1.47 1.35L5.41 20z\"/>\n",
              "  </svg>\n",
              "      </button>\n",
              "      \n",
              "  <style>\n",
              "    .colab-df-container {\n",
              "      display:flex;\n",
              "      flex-wrap:wrap;\n",
              "      gap: 12px;\n",
              "    }\n",
              "\n",
              "    .colab-df-convert {\n",
              "      background-color: #E8F0FE;\n",
              "      border: none;\n",
              "      border-radius: 50%;\n",
              "      cursor: pointer;\n",
              "      display: none;\n",
              "      fill: #1967D2;\n",
              "      height: 32px;\n",
              "      padding: 0 0 0 0;\n",
              "      width: 32px;\n",
              "    }\n",
              "\n",
              "    .colab-df-convert:hover {\n",
              "      background-color: #E2EBFA;\n",
              "      box-shadow: 0px 1px 2px rgba(60, 64, 67, 0.3), 0px 1px 3px 1px rgba(60, 64, 67, 0.15);\n",
              "      fill: #174EA6;\n",
              "    }\n",
              "\n",
              "    [theme=dark] .colab-df-convert {\n",
              "      background-color: #3B4455;\n",
              "      fill: #D2E3FC;\n",
              "    }\n",
              "\n",
              "    [theme=dark] .colab-df-convert:hover {\n",
              "      background-color: #434B5C;\n",
              "      box-shadow: 0px 1px 3px 1px rgba(0, 0, 0, 0.15);\n",
              "      filter: drop-shadow(0px 1px 2px rgba(0, 0, 0, 0.3));\n",
              "      fill: #FFFFFF;\n",
              "    }\n",
              "  </style>\n",
              "\n",
              "      <script>\n",
              "        const buttonEl =\n",
              "          document.querySelector('#df-1b805464-bfd8-4cec-9ccc-5ad4253b70c6 button.colab-df-convert');\n",
              "        buttonEl.style.display =\n",
              "          google.colab.kernel.accessAllowed ? 'block' : 'none';\n",
              "\n",
              "        async function convertToInteractive(key) {\n",
              "          const element = document.querySelector('#df-1b805464-bfd8-4cec-9ccc-5ad4253b70c6');\n",
              "          const dataTable =\n",
              "            await google.colab.kernel.invokeFunction('convertToInteractive',\n",
              "                                                     [key], {});\n",
              "          if (!dataTable) return;\n",
              "\n",
              "          const docLinkHtml = 'Like what you see? Visit the ' +\n",
              "            '<a target=\"_blank\" href=https://colab.research.google.com/notebooks/data_table.ipynb>data table notebook</a>'\n",
              "            + ' to learn more about interactive tables.';\n",
              "          element.innerHTML = '';\n",
              "          dataTable['output_type'] = 'display_data';\n",
              "          await google.colab.output.renderOutput(dataTable, element);\n",
              "          const docLink = document.createElement('div');\n",
              "          docLink.innerHTML = docLinkHtml;\n",
              "          element.appendChild(docLink);\n",
              "        }\n",
              "      </script>\n",
              "    </div>\n",
              "  </div>\n",
              "  "
            ]
          },
          "metadata": {},
          "execution_count": 62
        }
      ]
    },
    {
      "cell_type": "code",
      "source": [
        "df_dev.head()"
      ],
      "metadata": {
        "colab": {
          "base_uri": "https://localhost:8080/",
          "height": 206
        },
        "id": "ngDcSEcJWgCw",
        "outputId": "015aff5f-5f4a-4e6d-8729-fd625e093bdb"
      },
      "execution_count": 63,
      "outputs": [
        {
          "output_type": "execute_result",
          "data": {
            "text/plain": [
              "  RES_ID                                           RESPONSE\n",
              "0  DEVA1  karena di tempat tnggalnya tidak aman karena b...\n",
              "1  DEVA2  banyak yang menolak, susah mencari lapangan pe...\n",
              "2  DEVA3  ah berkomunikasi dengan wilyah yang mereka tem...\n",
              "3  DEVA4  tantangan yang akan mereka hadapi, seperti mer...\n",
              "4  DEVA5      Mereka akan tidak terbiasa dengan tempat baru"
            ],
            "text/html": [
              "\n",
              "  <div id=\"df-86f744d7-3287-44da-9959-9f6c953f06a5\">\n",
              "    <div class=\"colab-df-container\">\n",
              "      <div>\n",
              "<style scoped>\n",
              "    .dataframe tbody tr th:only-of-type {\n",
              "        vertical-align: middle;\n",
              "    }\n",
              "\n",
              "    .dataframe tbody tr th {\n",
              "        vertical-align: top;\n",
              "    }\n",
              "\n",
              "    .dataframe thead th {\n",
              "        text-align: right;\n",
              "    }\n",
              "</style>\n",
              "<table border=\"1\" class=\"dataframe\">\n",
              "  <thead>\n",
              "    <tr style=\"text-align: right;\">\n",
              "      <th></th>\n",
              "      <th>RES_ID</th>\n",
              "      <th>RESPONSE</th>\n",
              "    </tr>\n",
              "  </thead>\n",
              "  <tbody>\n",
              "    <tr>\n",
              "      <th>0</th>\n",
              "      <td>DEVA1</td>\n",
              "      <td>karena di tempat tnggalnya tidak aman karena b...</td>\n",
              "    </tr>\n",
              "    <tr>\n",
              "      <th>1</th>\n",
              "      <td>DEVA2</td>\n",
              "      <td>banyak yang menolak, susah mencari lapangan pe...</td>\n",
              "    </tr>\n",
              "    <tr>\n",
              "      <th>2</th>\n",
              "      <td>DEVA3</td>\n",
              "      <td>ah berkomunikasi dengan wilyah yang mereka tem...</td>\n",
              "    </tr>\n",
              "    <tr>\n",
              "      <th>3</th>\n",
              "      <td>DEVA4</td>\n",
              "      <td>tantangan yang akan mereka hadapi, seperti mer...</td>\n",
              "    </tr>\n",
              "    <tr>\n",
              "      <th>4</th>\n",
              "      <td>DEVA5</td>\n",
              "      <td>Mereka akan tidak terbiasa dengan tempat baru</td>\n",
              "    </tr>\n",
              "  </tbody>\n",
              "</table>\n",
              "</div>\n",
              "      <button class=\"colab-df-convert\" onclick=\"convertToInteractive('df-86f744d7-3287-44da-9959-9f6c953f06a5')\"\n",
              "              title=\"Convert this dataframe to an interactive table.\"\n",
              "              style=\"display:none;\">\n",
              "        \n",
              "  <svg xmlns=\"http://www.w3.org/2000/svg\" height=\"24px\"viewBox=\"0 0 24 24\"\n",
              "       width=\"24px\">\n",
              "    <path d=\"M0 0h24v24H0V0z\" fill=\"none\"/>\n",
              "    <path d=\"M18.56 5.44l.94 2.06.94-2.06 2.06-.94-2.06-.94-.94-2.06-.94 2.06-2.06.94zm-11 1L8.5 8.5l.94-2.06 2.06-.94-2.06-.94L8.5 2.5l-.94 2.06-2.06.94zm10 10l.94 2.06.94-2.06 2.06-.94-2.06-.94-.94-2.06-.94 2.06-2.06.94z\"/><path d=\"M17.41 7.96l-1.37-1.37c-.4-.4-.92-.59-1.43-.59-.52 0-1.04.2-1.43.59L10.3 9.45l-7.72 7.72c-.78.78-.78 2.05 0 2.83L4 21.41c.39.39.9.59 1.41.59.51 0 1.02-.2 1.41-.59l7.78-7.78 2.81-2.81c.8-.78.8-2.07 0-2.86zM5.41 20L4 18.59l7.72-7.72 1.47 1.35L5.41 20z\"/>\n",
              "  </svg>\n",
              "      </button>\n",
              "      \n",
              "  <style>\n",
              "    .colab-df-container {\n",
              "      display:flex;\n",
              "      flex-wrap:wrap;\n",
              "      gap: 12px;\n",
              "    }\n",
              "\n",
              "    .colab-df-convert {\n",
              "      background-color: #E8F0FE;\n",
              "      border: none;\n",
              "      border-radius: 50%;\n",
              "      cursor: pointer;\n",
              "      display: none;\n",
              "      fill: #1967D2;\n",
              "      height: 32px;\n",
              "      padding: 0 0 0 0;\n",
              "      width: 32px;\n",
              "    }\n",
              "\n",
              "    .colab-df-convert:hover {\n",
              "      background-color: #E2EBFA;\n",
              "      box-shadow: 0px 1px 2px rgba(60, 64, 67, 0.3), 0px 1px 3px 1px rgba(60, 64, 67, 0.15);\n",
              "      fill: #174EA6;\n",
              "    }\n",
              "\n",
              "    [theme=dark] .colab-df-convert {\n",
              "      background-color: #3B4455;\n",
              "      fill: #D2E3FC;\n",
              "    }\n",
              "\n",
              "    [theme=dark] .colab-df-convert:hover {\n",
              "      background-color: #434B5C;\n",
              "      box-shadow: 0px 1px 3px 1px rgba(0, 0, 0, 0.15);\n",
              "      filter: drop-shadow(0px 1px 2px rgba(0, 0, 0, 0.3));\n",
              "      fill: #FFFFFF;\n",
              "    }\n",
              "  </style>\n",
              "\n",
              "      <script>\n",
              "        const buttonEl =\n",
              "          document.querySelector('#df-86f744d7-3287-44da-9959-9f6c953f06a5 button.colab-df-convert');\n",
              "        buttonEl.style.display =\n",
              "          google.colab.kernel.accessAllowed ? 'block' : 'none';\n",
              "\n",
              "        async function convertToInteractive(key) {\n",
              "          const element = document.querySelector('#df-86f744d7-3287-44da-9959-9f6c953f06a5');\n",
              "          const dataTable =\n",
              "            await google.colab.kernel.invokeFunction('convertToInteractive',\n",
              "                                                     [key], {});\n",
              "          if (!dataTable) return;\n",
              "\n",
              "          const docLinkHtml = 'Like what you see? Visit the ' +\n",
              "            '<a target=\"_blank\" href=https://colab.research.google.com/notebooks/data_table.ipynb>data table notebook</a>'\n",
              "            + ' to learn more about interactive tables.';\n",
              "          element.innerHTML = '';\n",
              "          dataTable['output_type'] = 'display_data';\n",
              "          await google.colab.output.renderOutput(dataTable, element);\n",
              "          const docLink = document.createElement('div');\n",
              "          docLink.innerHTML = docLinkHtml;\n",
              "          element.appendChild(docLink);\n",
              "        }\n",
              "      </script>\n",
              "    </div>\n",
              "  </div>\n",
              "  "
            ]
          },
          "metadata": {},
          "execution_count": 63
        }
      ]
    },
    {
      "cell_type": "markdown",
      "source": [
        "## Process Data"
      ],
      "metadata": {
        "id": "pHPY8GlgYlau"
      }
    },
    {
      "cell_type": "markdown",
      "source": [
        "**Stimulus** : Pemanasan global terjadi karena peningkatan produksi karbon dioksida yang dihasilkan oleh pembakaran fosil dan konsumsi bahan bakar yang tinggi. Salah satu akibat adalah mencairnya es abadi di kutub utara dan selatan yang menimbulkan naiknya ketinggian air laut. kenaikan air laut akan terjadi terus menerus meskipun dalam hitungan centimeter akan mengakibatkan perubahan yang signifikan. Film “Waterworld”, adalah film fiksi ilmiah yang menunjukkan akibat adanya pemanasan global yang sangat besar sehingga menyebabkan bumi menjadi tertutup oleh lautan. Negara-negara dan daratan yang dulunya kering menjadi tengelamn karena terjadi kenaikan permukaan air laut. Penduduk yang dulunya bisa berkehidupan bebas menjadi terpaksa mengungsi ke daratan yang lebih tinggi atau tinggal diatas air.\n",
        "\n",
        "**Pertanyaan** : Apa yang akan menjadi tantangan bagi suatu penduduk ketika terjadi situasi daratan tidak dapat ditinggali kembali karena tengelam oleh naiknya air laut?"
      ],
      "metadata": {
        "id": "wRxRXaywZEx7"
      }
    },
    {
      "cell_type": "code",
      "source": [
        "# question initialization\n",
        "stimulus = \"Pemanasan global terjadi karena peningkatan produksi karbon dioksida yang dihasilkan oleh pembakaran fosil dan konsumsi bahan bakar yang tinggi. Salah satu akibat adalah mencairnya es abadi di kutub utara dan selatan yang menimbulkan naiknya ketinggian air laut. kenaikan air laut akan terjadi terus menerus meskipun dalam hitungan centimeter akan mengakibatkan perubahan yang signifikan. Film “Waterworld”, adalah film fiksi ilmiah yang menunjukkan akibat adanya pemanasan global yang sangat besar sehingga menyebabkan bumi menjadi tertutup oleh lautan. Negara-negara dan daratan yang dulunya kering menjadi tengelamn karena terjadi kenaikan permukaan air laut. Penduduk yang dulunya bisa berkehidupan bebas menjadi terpaksa mengungsi ke daratan yang lebih tinggi atau tinggal diatas air.\"\n",
        "pertanyaan = \"Apa yang akan menjadi tantangan bagi suatu penduduk ketika terjadi situasi daratan tidak dapat ditinggali kembali karena tengelam oleh naiknya air laut?\""
      ],
      "metadata": {
        "id": "AA9IoSy2Ya4l"
      },
      "execution_count": 64,
      "outputs": []
    },
    {
      "cell_type": "code",
      "source": [
        "# get answers data\n",
        "jawaban_train = df_train['RESPONSE'].tolist()\n",
        "jawaban_dev = df_dev['RESPONSE'].tolist()\n",
        "data_jawaban = jawaban_train + jawaban_dev"
      ],
      "metadata": {
        "id": "XAw-M-13W52A"
      },
      "execution_count": 65,
      "outputs": []
    },
    {
      "cell_type": "code",
      "source": [
        "# get answers data length\n",
        "data_len = len(data_jawaban)"
      ],
      "metadata": {
        "id": "Hp3UiC5dXckn"
      },
      "execution_count": 66,
      "outputs": []
    },
    {
      "cell_type": "code",
      "source": [
        "# set id_mahasiswa\n",
        "id_mahasiswa = np.arange(data_len)"
      ],
      "metadata": {
        "id": "4rhdQQYfWFos"
      },
      "execution_count": 68,
      "outputs": []
    },
    {
      "cell_type": "code",
      "source": [
        "# create dataframe for dummy data\n",
        "df_dummy = pd.DataFrame({'id_mahasiswa': id_mahasiswa, 'jawaban': data_jawaban})\n",
        "df_dummy.head()"
      ],
      "metadata": {
        "colab": {
          "base_uri": "https://localhost:8080/",
          "height": 206
        },
        "id": "0uJbuQ1FcLY-",
        "outputId": "be0d8706-35b6-47c1-aacf-e5c8f9772448"
      },
      "execution_count": 69,
      "outputs": [
        {
          "output_type": "execute_result",
          "data": {
            "text/plain": [
              "   id_mahasiswa                                            jawaban\n",
              "0             0  intetraksi/beradaptasi terhadap lingkungan yan...\n",
              "1             1         seperti jatuhnya meteor tsunami gempa bumi\n",
              "2             2      hanya tuhan yang tahu tantangan nya itu apaan\n",
              "3             3                      mereka akan sulit beradaptasi\n",
              "4             4             Tempat tinggal, ekonomi, dan pekerjaan"
            ],
            "text/html": [
              "\n",
              "  <div id=\"df-cd83a3a9-97ec-4195-9eba-5327a700b79c\">\n",
              "    <div class=\"colab-df-container\">\n",
              "      <div>\n",
              "<style scoped>\n",
              "    .dataframe tbody tr th:only-of-type {\n",
              "        vertical-align: middle;\n",
              "    }\n",
              "\n",
              "    .dataframe tbody tr th {\n",
              "        vertical-align: top;\n",
              "    }\n",
              "\n",
              "    .dataframe thead th {\n",
              "        text-align: right;\n",
              "    }\n",
              "</style>\n",
              "<table border=\"1\" class=\"dataframe\">\n",
              "  <thead>\n",
              "    <tr style=\"text-align: right;\">\n",
              "      <th></th>\n",
              "      <th>id_mahasiswa</th>\n",
              "      <th>jawaban</th>\n",
              "    </tr>\n",
              "  </thead>\n",
              "  <tbody>\n",
              "    <tr>\n",
              "      <th>0</th>\n",
              "      <td>0</td>\n",
              "      <td>intetraksi/beradaptasi terhadap lingkungan yan...</td>\n",
              "    </tr>\n",
              "    <tr>\n",
              "      <th>1</th>\n",
              "      <td>1</td>\n",
              "      <td>seperti jatuhnya meteor tsunami gempa bumi</td>\n",
              "    </tr>\n",
              "    <tr>\n",
              "      <th>2</th>\n",
              "      <td>2</td>\n",
              "      <td>hanya tuhan yang tahu tantangan nya itu apaan</td>\n",
              "    </tr>\n",
              "    <tr>\n",
              "      <th>3</th>\n",
              "      <td>3</td>\n",
              "      <td>mereka akan sulit beradaptasi</td>\n",
              "    </tr>\n",
              "    <tr>\n",
              "      <th>4</th>\n",
              "      <td>4</td>\n",
              "      <td>Tempat tinggal, ekonomi, dan pekerjaan</td>\n",
              "    </tr>\n",
              "  </tbody>\n",
              "</table>\n",
              "</div>\n",
              "      <button class=\"colab-df-convert\" onclick=\"convertToInteractive('df-cd83a3a9-97ec-4195-9eba-5327a700b79c')\"\n",
              "              title=\"Convert this dataframe to an interactive table.\"\n",
              "              style=\"display:none;\">\n",
              "        \n",
              "  <svg xmlns=\"http://www.w3.org/2000/svg\" height=\"24px\"viewBox=\"0 0 24 24\"\n",
              "       width=\"24px\">\n",
              "    <path d=\"M0 0h24v24H0V0z\" fill=\"none\"/>\n",
              "    <path d=\"M18.56 5.44l.94 2.06.94-2.06 2.06-.94-2.06-.94-.94-2.06-.94 2.06-2.06.94zm-11 1L8.5 8.5l.94-2.06 2.06-.94-2.06-.94L8.5 2.5l-.94 2.06-2.06.94zm10 10l.94 2.06.94-2.06 2.06-.94-2.06-.94-.94-2.06-.94 2.06-2.06.94z\"/><path d=\"M17.41 7.96l-1.37-1.37c-.4-.4-.92-.59-1.43-.59-.52 0-1.04.2-1.43.59L10.3 9.45l-7.72 7.72c-.78.78-.78 2.05 0 2.83L4 21.41c.39.39.9.59 1.41.59.51 0 1.02-.2 1.41-.59l7.78-7.78 2.81-2.81c.8-.78.8-2.07 0-2.86zM5.41 20L4 18.59l7.72-7.72 1.47 1.35L5.41 20z\"/>\n",
              "  </svg>\n",
              "      </button>\n",
              "      \n",
              "  <style>\n",
              "    .colab-df-container {\n",
              "      display:flex;\n",
              "      flex-wrap:wrap;\n",
              "      gap: 12px;\n",
              "    }\n",
              "\n",
              "    .colab-df-convert {\n",
              "      background-color: #E8F0FE;\n",
              "      border: none;\n",
              "      border-radius: 50%;\n",
              "      cursor: pointer;\n",
              "      display: none;\n",
              "      fill: #1967D2;\n",
              "      height: 32px;\n",
              "      padding: 0 0 0 0;\n",
              "      width: 32px;\n",
              "    }\n",
              "\n",
              "    .colab-df-convert:hover {\n",
              "      background-color: #E2EBFA;\n",
              "      box-shadow: 0px 1px 2px rgba(60, 64, 67, 0.3), 0px 1px 3px 1px rgba(60, 64, 67, 0.15);\n",
              "      fill: #174EA6;\n",
              "    }\n",
              "\n",
              "    [theme=dark] .colab-df-convert {\n",
              "      background-color: #3B4455;\n",
              "      fill: #D2E3FC;\n",
              "    }\n",
              "\n",
              "    [theme=dark] .colab-df-convert:hover {\n",
              "      background-color: #434B5C;\n",
              "      box-shadow: 0px 1px 3px 1px rgba(0, 0, 0, 0.15);\n",
              "      filter: drop-shadow(0px 1px 2px rgba(0, 0, 0, 0.3));\n",
              "      fill: #FFFFFF;\n",
              "    }\n",
              "  </style>\n",
              "\n",
              "      <script>\n",
              "        const buttonEl =\n",
              "          document.querySelector('#df-cd83a3a9-97ec-4195-9eba-5327a700b79c button.colab-df-convert');\n",
              "        buttonEl.style.display =\n",
              "          google.colab.kernel.accessAllowed ? 'block' : 'none';\n",
              "\n",
              "        async function convertToInteractive(key) {\n",
              "          const element = document.querySelector('#df-cd83a3a9-97ec-4195-9eba-5327a700b79c');\n",
              "          const dataTable =\n",
              "            await google.colab.kernel.invokeFunction('convertToInteractive',\n",
              "                                                     [key], {});\n",
              "          if (!dataTable) return;\n",
              "\n",
              "          const docLinkHtml = 'Like what you see? Visit the ' +\n",
              "            '<a target=\"_blank\" href=https://colab.research.google.com/notebooks/data_table.ipynb>data table notebook</a>'\n",
              "            + ' to learn more about interactive tables.';\n",
              "          element.innerHTML = '';\n",
              "          dataTable['output_type'] = 'display_data';\n",
              "          await google.colab.output.renderOutput(dataTable, element);\n",
              "          const docLink = document.createElement('div');\n",
              "          docLink.innerHTML = docLinkHtml;\n",
              "          element.appendChild(docLink);\n",
              "        }\n",
              "      </script>\n",
              "    </div>\n",
              "  </div>\n",
              "  "
            ]
          },
          "metadata": {},
          "execution_count": 69
        }
      ]
    },
    {
      "cell_type": "code",
      "source": [
        "# get data (question, id, answers, and data length)\n",
        "question = pertanyaan\n",
        "id_answers = df_dummy['id_mahasiswa'].tolist()\n",
        "answers = df_dummy['jawaban'].tolist()\n",
        "total_answers = len(df_dummy)"
      ],
      "metadata": {
        "id": "Gkgi3-iIXrpR"
      },
      "execution_count": 70,
      "outputs": []
    },
    {
      "cell_type": "code",
      "source": [
        "# data limitation\n",
        "max_data = 50\n",
        "id_answers = id_answers[:max_data]\n",
        "answers = answers[:max_data]\n",
        "total_answers = max_data"
      ],
      "metadata": {
        "id": "ugmGpiWiwo3x"
      },
      "execution_count": 71,
      "outputs": []
    },
    {
      "cell_type": "markdown",
      "source": [
        "# Encode Data (Pertanyaan & Jawaban)"
      ],
      "metadata": {
        "id": "r2IKFjK3e6fu"
      }
    },
    {
      "cell_type": "markdown",
      "source": [
        "## IndoBERT"
      ],
      "metadata": {
        "id": "kcwf2ylcfmHF"
      }
    },
    {
      "cell_type": "markdown",
      "source": [
        "### Import Model & Tokenizer"
      ],
      "metadata": {
        "id": "Rp5Tfaz_qm8u"
      }
    },
    {
      "cell_type": "code",
      "source": [
        "from transformers import BertTokenizer, AutoModel\n",
        "tokenizer = BertTokenizer.from_pretrained(\"indobenchmark/indobert-base-p1\")\n",
        "model = AutoModel.from_pretrained(\"indobenchmark/indobert-base-p1\")"
      ],
      "metadata": {
        "id": "9hDiUAdOf1WE"
      },
      "execution_count": 72,
      "outputs": []
    },
    {
      "cell_type": "markdown",
      "source": [
        "### Data Preprocessing (Tokenization, Padding, Vectorization)"
      ],
      "metadata": {
        "id": "zUg0KsNQqrtE"
      }
    },
    {
      "cell_type": "markdown",
      "source": [
        "#### Answers"
      ],
      "metadata": {
        "id": "Op11HYvdrMg0"
      }
    },
    {
      "cell_type": "code",
      "source": [
        "encoded_answers = tokenizer(answers, padding= True, return_tensors=\"pt\")"
      ],
      "metadata": {
        "id": "DExolNjKkdbK"
      },
      "execution_count": 73,
      "outputs": []
    },
    {
      "cell_type": "code",
      "source": [
        "print(encoded_answers['input_ids'])"
      ],
      "metadata": {
        "colab": {
          "base_uri": "https://localhost:8080/"
        },
        "id": "_mXtJGRbm4jH",
        "outputId": "1ddd9ded-f076-4831-9e80-035bd04db915"
      },
      "execution_count": 74,
      "outputs": [
        {
          "output_type": "stream",
          "name": "stdout",
          "text": [
            "tensor([[    2,  1666, 15261,  ...,     0,     0,     0],\n",
            "        [    2,   295, 16300,  ...,     0,     0,     0],\n",
            "        [    2,   344,  1251,  ...,     0,     0,     0],\n",
            "        ...,\n",
            "        [    2,   267,   308,  ...,     0,     0,     0],\n",
            "        [    2,   599,   119,  ...,     0,     0,     0],\n",
            "        [    2,  8635,   224,  ...,     0,     0,     0]])\n"
          ]
        }
      ]
    },
    {
      "cell_type": "markdown",
      "source": [
        "#### Question"
      ],
      "metadata": {
        "id": "PeQklhHRrJ0s"
      }
    },
    {
      "cell_type": "code",
      "source": [
        "# get answer encoding length\n",
        "question_enc_len = len(encoded_answers['input_ids'][0])"
      ],
      "metadata": {
        "id": "KBj8zehpxWGu"
      },
      "execution_count": 75,
      "outputs": []
    },
    {
      "cell_type": "code",
      "source": [
        "encoded_question = tokenizer(question, max_length = question_enc_len, padding= 'max_length', return_tensors='pt')"
      ],
      "metadata": {
        "id": "akr4j2Bnm5g3"
      },
      "execution_count": 76,
      "outputs": []
    },
    {
      "cell_type": "code",
      "source": [
        "print(encoded_question['input_ids'])"
      ],
      "metadata": {
        "colab": {
          "base_uri": "https://localhost:8080/"
        },
        "id": "hccjTBHqoKoQ",
        "outputId": "48d36848-db96-440d-d3e0-8e2b1962afc1"
      },
      "execution_count": 77,
      "outputs": [
        {
          "output_type": "stream",
          "name": "stdout",
          "text": [
            "tensor([[    2,   387,    34,   150,   234,  4776,   396,   607,  2317,   640,\n",
            "           597,  3461,  9840,   119,   173,  7378, 30356,   755,   211,  9390,\n",
            "          8893,   213, 17486,   514,  1784, 30477,     3,     0,     0,     0,\n",
            "             0,     0,     0,     0,     0,     0,     0,     0,     0,     0,\n",
            "             0]])\n"
          ]
        }
      ]
    },
    {
      "cell_type": "markdown",
      "source": [
        "### Embedding"
      ],
      "metadata": {
        "id": "y6tuOLSorX8D"
      }
    },
    {
      "cell_type": "markdown",
      "source": [
        "#### Question"
      ],
      "metadata": {
        "id": "4uhWWlM6tx7v"
      }
    },
    {
      "cell_type": "code",
      "source": [
        "embedded_question = model(torch.LongTensor(encoded_question['input_ids']).view(1,-1))"
      ],
      "metadata": {
        "id": "F4AB-GLfsYfQ"
      },
      "execution_count": 78,
      "outputs": []
    },
    {
      "cell_type": "code",
      "source": [
        "# get 'last_hidden_state' vector dimension\n",
        "print(embedded_question['last_hidden_state'].shape)"
      ],
      "metadata": {
        "colab": {
          "base_uri": "https://localhost:8080/"
        },
        "id": "Og3xLR62stE4",
        "outputId": "bff4a254-8772-4eea-f861-bb3c4ce284f2"
      },
      "execution_count": 95,
      "outputs": [
        {
          "output_type": "stream",
          "name": "stdout",
          "text": [
            "torch.Size([1, 41, 768])\n"
          ]
        }
      ]
    },
    {
      "cell_type": "code",
      "source": [
        "# get 'pooler_output' vector dimension\n",
        "print(embedded_question['pooler_output'].shape)"
      ],
      "metadata": {
        "colab": {
          "base_uri": "https://localhost:8080/"
        },
        "id": "9hEHN2LYj9tw",
        "outputId": "a2781d62-c001-4768-804c-d17ddb588daf"
      },
      "execution_count": 97,
      "outputs": [
        {
          "output_type": "stream",
          "name": "stdout",
          "text": [
            "torch.Size([1, 768])\n"
          ]
        }
      ]
    },
    {
      "cell_type": "code",
      "source": [
        "# pooler_output (last 4 hidden states) get best result from paper https://arxiv.org/pdf/1810.04805.pdf\n",
        "print(embedded_question['pooler_output'][0][:10])\n",
        "print(torch.cat(tuple(embedded_question['last_hidden_state'][0][-4:])))\n",
        "print(torch.sum(embedded_question['last_hidden_state'][0][-4:], dim=0))"
      ],
      "metadata": {
        "colab": {
          "base_uri": "https://localhost:8080/"
        },
        "id": "tmBUmQYb3iH9",
        "outputId": "e5d15413-a0b2-436d-bd63-86cf18b6c468"
      },
      "execution_count": 199,
      "outputs": [
        {
          "output_type": "stream",
          "name": "stdout",
          "text": [
            "tensor([-8.9305e-01, -7.7686e-01,  5.2353e-01, -5.4589e-01,  5.9358e-01,\n",
            "        -7.1775e-01,  3.7165e-01,  9.0938e-01, -5.5386e-04, -8.6047e-01],\n",
            "       grad_fn=<SliceBackward0>)\n",
            "tensor([-0.4714,  0.3485,  0.9281,  ...,  0.0991, -0.4381,  0.1323],\n",
            "       grad_fn=<CatBackward0>)\n",
            "tensor([-1.4327e+00,  5.5742e-01,  4.5030e+00,  4.4450e+00, -4.4110e-01,\n",
            "         2.5947e+00, -1.5760e+00,  2.7743e+00, -1.4935e-01,  1.6939e+00,\n",
            "        -3.0849e+00, -3.0322e+00, -2.2727e+00,  1.8770e+00, -4.5083e+00,\n",
            "         6.0758e+00, -3.1998e+00, -2.0938e+00, -8.5179e-01,  6.4602e+00,\n",
            "         2.5565e+00,  6.1748e+00,  6.1207e-01, -2.8973e+00, -7.5682e-02,\n",
            "         6.3534e+00, -3.3588e-02,  7.1756e-02,  3.6234e+00,  3.4828e+00,\n",
            "         1.2861e+00, -5.3944e+00, -2.1874e-01, -4.8693e+00, -6.3279e+00,\n",
            "         1.4662e+00,  7.8108e-02,  3.8683e+00, -5.5925e+00, -2.8312e+00,\n",
            "        -3.3830e+00, -9.0223e-01, -4.8722e+00, -3.2790e+00, -2.1526e+00,\n",
            "         3.9571e-02,  3.6963e+00, -1.4293e+00,  1.5486e+00,  3.3636e+00,\n",
            "         7.3775e+00, -3.4988e+00, -9.0818e-01, -5.9564e+00,  5.1573e-01,\n",
            "        -3.3412e-01,  5.0318e+00,  5.9936e+00,  3.9432e+00, -2.1950e+00,\n",
            "         5.4445e+00, -9.1061e-03, -8.5517e+00, -1.3030e-01,  3.1222e+00,\n",
            "         1.5581e+00, -1.5642e+00, -1.0697e+00, -5.4893e-01,  2.5969e+00,\n",
            "         2.6492e+00, -5.3417e+00, -8.0933e+00,  1.8414e+00, -1.0175e+00,\n",
            "        -1.1788e+00, -5.6667e+00,  1.9427e+00, -8.5447e+00, -2.3552e+00,\n",
            "        -3.2711e+00,  5.4700e-01,  3.5340e+00, -2.0300e+00,  3.6359e+00,\n",
            "         4.0739e-02, -3.7288e+00,  6.9095e+00,  5.5012e-01,  1.2756e+00,\n",
            "         1.1929e+00,  2.1331e+00, -1.6952e+00, -4.7679e+00,  1.1883e+00,\n",
            "        -2.0991e+00, -2.8865e-01,  2.2058e+00,  6.7979e+00,  7.7246e+00,\n",
            "         9.0052e-01, -1.7781e+00, -6.0592e+00, -1.9906e+00, -1.8029e+00,\n",
            "         2.8761e+00, -2.9148e+00, -5.0934e+00,  5.0098e-01, -1.0391e+00,\n",
            "        -3.3499e+00, -4.7237e-01,  2.2766e+00, -4.5363e+00,  7.9943e+00,\n",
            "         1.1160e-01, -4.1202e+00, -1.8265e+00, -1.2273e+00,  1.0208e+00,\n",
            "        -4.8030e-01,  4.8386e+00,  5.2162e+00,  8.0408e+00,  1.0458e-01,\n",
            "        -8.0677e-01, -1.6244e+00, -1.9267e+00, -4.1897e-01, -4.3619e+00,\n",
            "        -2.0734e+00,  1.3596e-01,  4.0640e+00,  1.1207e+00,  1.0483e+00,\n",
            "         4.3058e+00,  2.7312e+00, -2.0356e+00,  6.4603e-01,  1.2412e+00,\n",
            "        -1.0061e+01,  1.8950e+00, -2.8046e+00, -1.0367e+00, -3.2621e+00,\n",
            "         8.1267e+00,  1.8771e+00, -1.2261e+00,  2.3618e-01,  1.0894e+00,\n",
            "        -1.7826e+00,  9.9284e+00, -2.5442e+00,  5.5861e+00,  8.1003e+00,\n",
            "         1.8841e+00,  4.8289e+00,  2.2310e-01,  9.8944e-01, -4.2692e+00,\n",
            "        -2.2102e-01, -4.4537e-02, -2.2125e+00,  4.9467e+00,  7.2815e-01,\n",
            "        -4.6579e+00, -3.7270e+00, -2.6808e+00,  5.0027e+00,  8.9813e+00,\n",
            "        -4.5936e-01,  5.3663e-01,  7.0738e+00, -3.4853e-01,  1.7356e+00,\n",
            "        -5.4043e+00,  7.7734e+00, -1.7890e+00,  5.6489e-01,  6.4534e-01,\n",
            "         4.0107e+00, -1.1612e+00, -2.3871e+00,  6.8256e+00,  3.4723e+00,\n",
            "        -3.7346e+00,  1.7630e+00, -7.5539e+00,  9.9362e-02,  7.0276e-02,\n",
            "        -3.6056e+00,  9.5715e+00,  8.7032e+00,  2.9154e+00, -1.7969e+00,\n",
            "        -6.4277e+00,  1.1435e+00, -6.6170e+00,  1.3758e+00,  3.6098e+00,\n",
            "        -1.3593e+00, -5.7411e+00,  2.8878e+00, -7.5540e+00, -4.3543e+00,\n",
            "        -2.4698e+00, -1.3309e+00,  1.4194e+00, -1.3919e+00,  6.4738e+00,\n",
            "        -2.5934e+00,  2.0060e+00,  6.7238e-01, -4.8235e+00,  5.9464e+00,\n",
            "         2.7756e+00,  1.0205e+00, -2.6169e-01, -1.9109e+00, -4.0794e+00,\n",
            "         7.3168e+00, -5.6577e+00,  6.3121e+00,  2.0306e-01,  3.4064e+00,\n",
            "         1.8376e-01, -3.7444e+00,  3.2983e+00, -1.3551e+00,  1.3181e+00,\n",
            "         7.4316e+00,  2.1411e-01,  4.0972e+00, -1.3367e+00,  1.8369e+00,\n",
            "         5.9910e+00,  6.0852e+00,  1.6944e+00, -1.5603e-01, -3.7907e+00,\n",
            "        -4.6304e-01,  3.8320e+00, -3.0651e+00, -2.3246e-02,  1.8872e-01,\n",
            "        -3.5540e+00, -2.4486e+00,  2.7290e-01,  4.2934e+00, -3.9212e+00,\n",
            "         3.1102e+00,  1.6458e+00,  5.3824e-02,  1.2148e+01, -4.8990e+00,\n",
            "        -1.2157e+00,  5.2123e+00,  1.9759e+00, -4.9958e+00,  1.1998e-01,\n",
            "         2.6476e+00,  2.0003e-01,  3.7543e+00,  5.3597e-01,  5.3225e+00,\n",
            "        -2.6545e+00,  4.8684e+00,  5.1838e-01, -7.7384e+00,  2.4660e+00,\n",
            "         7.5477e-01,  3.6591e+00,  5.3457e-01,  3.6857e+00,  9.0599e-01,\n",
            "         4.1478e-01,  4.5286e+00, -6.6221e+00, -9.8758e-01, -1.3596e+00,\n",
            "        -8.2628e+00,  7.5681e-02, -2.0595e+00, -2.2611e+00,  2.2409e+00,\n",
            "         3.5356e-01, -3.9450e+00,  6.3460e+00,  2.3470e+00, -3.7381e+00,\n",
            "         3.0585e+00, -2.6949e+00, -2.4087e+00,  1.4616e+00, -2.0353e+00,\n",
            "        -4.1694e+00,  5.4521e+00,  4.7700e-01, -3.6285e+00,  4.0908e+00,\n",
            "         5.9512e+00, -4.0583e+00, -5.3718e-01,  9.0482e-01, -3.0394e+00,\n",
            "        -7.8052e+00,  1.3164e+00, -6.9548e+00,  6.9153e+00, -5.3375e+00,\n",
            "         8.2616e-01,  6.3008e-01,  1.7491e+00, -3.0603e+00, -3.3030e+00,\n",
            "        -8.8992e+00,  4.6562e+00, -8.8171e+00,  1.4192e+00, -4.8550e-01,\n",
            "         8.6250e-01,  7.2213e+00,  9.5872e-01, -7.1747e-01, -2.1146e+00,\n",
            "         5.4376e+00,  2.9058e+00,  6.7285e+00,  9.0465e-01,  2.9422e+00,\n",
            "        -4.7758e+00, -8.7358e+00, -7.1378e-01,  4.8325e-01, -4.7262e+00,\n",
            "        -7.5929e-01, -2.5358e+00, -7.7606e+00,  5.7371e+00, -1.1243e+01,\n",
            "         6.6320e+00, -8.2449e+00,  4.4591e+00, -5.8332e+00,  5.6291e+00,\n",
            "        -1.0262e+01, -4.7194e-01, -3.1035e+00, -4.2124e-01,  6.5064e+00,\n",
            "         1.2525e+00, -3.1835e+00, -3.3611e+00, -2.4173e+00, -5.6434e-01,\n",
            "        -3.0112e+00, -2.3373e+00,  1.7432e+00, -4.1660e+00,  2.3963e-03,\n",
            "         7.2110e+00, -1.5184e+00,  3.0149e+00, -2.9737e+00, -2.4871e+00,\n",
            "        -1.2392e+00, -4.3113e+00, -3.6671e+00, -3.7230e+00,  3.9170e-01,\n",
            "         1.6348e+00, -1.0715e+00, -1.3816e+00,  4.8368e+00, -1.1416e+00,\n",
            "         3.5634e+00, -1.4301e+00,  1.2326e+00, -5.9595e-03, -2.1272e+00,\n",
            "        -3.5424e+00,  6.2337e-01,  5.8350e+00, -2.2345e+00,  5.1160e+00,\n",
            "         1.2971e+00, -7.3952e-01,  2.8050e+00,  4.3206e+00,  7.7943e-02,\n",
            "        -1.3327e+00, -1.0208e+00, -8.4194e-01,  5.8860e+00,  7.2036e-01,\n",
            "        -1.6323e+00,  4.1783e+00,  5.4222e-01, -4.3772e+00,  1.6278e+00,\n",
            "         7.9903e-01,  8.0593e+00,  5.4491e-01,  2.4953e+00, -1.6810e+00,\n",
            "        -3.6689e+00, -9.4177e-01, -3.9624e+00, -8.7858e+00, -8.0446e-01,\n",
            "        -7.7280e+00, -2.0782e+00,  1.7919e+00, -4.0908e+00, -2.5764e+00,\n",
            "         2.9996e+00,  7.1039e-01,  2.6334e+00,  4.7295e-01, -6.1769e+00,\n",
            "         4.2215e+00, -4.7799e+00,  3.2880e+00,  1.5443e+00, -5.4090e+00,\n",
            "        -5.3311e+00,  4.2582e-01,  6.8677e-01,  4.0443e+00,  7.8880e-01,\n",
            "        -7.1826e+00, -1.4265e+00,  3.3290e+00, -1.2827e+00, -9.9687e-01,\n",
            "        -5.4082e+00, -6.4947e-01,  6.1226e+00,  5.6270e+00,  2.6821e+00,\n",
            "         3.7138e+00, -2.4648e+00,  1.9152e+00, -6.8222e-01, -1.7439e+00,\n",
            "         2.9429e+00,  4.1547e+00, -3.6311e-01, -4.0984e+00,  4.8522e+00,\n",
            "         3.8232e+00, -3.2295e+00, -8.5325e+00, -5.3855e+00,  7.1453e+00,\n",
            "         3.5561e+00,  1.9773e+00, -2.8196e+00, -3.0288e+00,  7.6446e+00,\n",
            "        -2.3802e+00,  9.2277e+00,  1.3551e-01,  3.6825e+00,  6.9099e+00,\n",
            "         8.0482e-01,  1.6305e+00, -3.1963e+00,  4.1986e+00,  1.9711e+00,\n",
            "        -1.7883e+00, -1.2680e+01,  5.9287e+00,  1.6433e+00, -3.6777e+00,\n",
            "        -8.3384e-01,  1.6821e+00,  3.8133e+00, -6.3490e+00,  7.9851e+00,\n",
            "         1.9357e+00, -6.1101e+00,  2.6901e+00,  2.3713e+00, -1.7727e+00,\n",
            "         4.3243e+00,  3.9310e+00, -6.5478e+00,  9.7411e-01,  3.7230e-01,\n",
            "         8.4997e-01,  2.3331e+00, -5.0961e+00,  1.3679e+00,  1.8316e-01,\n",
            "         5.2466e-01, -1.2690e+00,  6.0674e-01,  2.8215e+00,  1.4313e-01,\n",
            "        -4.9320e+00, -3.0489e+00,  1.6427e+00, -2.6750e+00, -4.1419e+00,\n",
            "         1.0184e+00,  4.8475e+00, -3.9758e+00, -1.7307e+00,  3.8610e+00,\n",
            "         4.7785e+00,  4.1755e+00,  4.6231e-01, -5.0514e-02, -5.1931e+00,\n",
            "        -6.3449e-01,  8.8972e+00,  4.5932e+00,  2.8007e+00,  4.2419e-01,\n",
            "         2.7339e+00,  1.4825e+01,  4.6351e+00, -1.1590e+01,  1.9502e+00,\n",
            "         5.5043e+00,  1.3818e-01, -5.1549e+00, -1.4030e+00, -4.7954e-01,\n",
            "         4.2444e-02,  1.9055e+00,  4.2835e+00,  3.8783e+00,  4.0945e+00,\n",
            "        -3.8522e+00,  2.3099e+00,  3.2907e+00,  9.9319e-01, -1.4202e-01,\n",
            "         6.5054e+00,  1.1351e-01,  7.8415e+00,  1.8227e+00, -1.0576e+00,\n",
            "         4.1081e+00, -3.7194e+00, -3.2996e+00,  3.0731e+00,  3.7651e+00,\n",
            "        -1.0097e+00,  3.5938e+00,  7.3622e-01,  1.8781e+00,  2.9394e+00,\n",
            "        -7.4025e+00,  9.2490e-01,  6.1009e-01,  3.6470e-01, -1.5120e+00,\n",
            "        -1.2386e+00, -7.4786e+00, -6.2674e-01, -5.7140e+00,  9.0279e-01,\n",
            "        -1.3082e+00, -3.5314e+00,  3.4682e+00, -4.1949e+00,  3.7822e+00,\n",
            "         6.4923e-01, -1.0511e+00, -3.0426e+00,  4.1552e-01,  2.6184e+00,\n",
            "        -2.9970e-01,  1.5913e+00, -1.3561e+00, -1.6939e+00, -3.1788e+00,\n",
            "         8.9878e+00,  7.4967e+00, -4.5193e-02,  5.2882e+00,  8.4588e+00,\n",
            "        -9.0738e-01, -3.1473e+00, -2.5284e+00, -3.0493e+00, -8.4180e+00,\n",
            "        -3.7867e+00,  1.4759e+00,  6.6439e-01,  7.8306e-01,  7.5461e+00,\n",
            "        -1.3744e+00,  4.7954e+00, -2.3309e+00,  3.4984e+00,  5.9521e+00,\n",
            "         3.8806e+00, -5.5591e+00, -3.9194e+00, -2.3674e+00, -7.0534e+00,\n",
            "        -7.5187e+00, -5.8717e+00,  4.4928e+00, -5.4894e+00, -5.2532e+00,\n",
            "        -2.0061e+00,  5.3771e-03, -1.2628e+00,  4.5321e-01, -2.5538e+00,\n",
            "         3.4277e+00, -2.2856e+00, -1.6628e+00, -4.0990e+00, -5.4923e+00,\n",
            "         1.9803e-01, -2.3908e+00, -2.6793e+00, -3.8065e+00, -3.9404e-01,\n",
            "         7.8861e+00,  5.7206e-01, -8.6920e+00,  2.0441e+00, -8.5877e-01,\n",
            "        -2.5268e+00, -5.8175e-01, -8.6019e-01, -1.2071e+00, -9.0657e+00,\n",
            "         2.2573e+00,  2.2166e+00,  1.0140e+00,  1.1791e+00,  3.7575e+00,\n",
            "         1.0536e+00,  6.6360e+00, -1.0796e+00,  1.6168e+00, -1.0970e+01,\n",
            "        -2.4141e+00,  5.4059e-01, -3.7795e+00,  3.0049e+00, -3.0474e+00,\n",
            "        -7.7629e+00,  7.7258e+00, -6.2548e+00,  1.4851e+00,  1.1207e+00,\n",
            "         2.4016e-01, -1.4505e+00, -5.7129e-01,  7.4507e-01, -2.2491e+00,\n",
            "         1.9644e-01, -7.4257e+00, -2.1349e+00,  4.2027e+00,  3.2395e+00,\n",
            "         2.7345e+00, -5.1162e+00,  1.6023e+00,  3.3436e-01,  2.2703e-01,\n",
            "         2.5642e+00, -7.6719e-01,  6.9969e+00, -1.1923e+00,  5.4725e+00,\n",
            "        -3.0899e-01,  1.5271e-01, -1.3186e+00, -3.7332e-01, -1.2192e+00,\n",
            "        -1.7822e+00, -5.5964e+00, -7.8957e-01, -2.2283e+00,  4.6482e+00,\n",
            "        -1.1875e+00, -7.8274e+00,  4.3625e+00,  6.3921e+00, -5.0370e+00,\n",
            "         3.1263e-01,  2.4946e+00,  4.8521e+00,  2.1695e+00,  4.3217e+00,\n",
            "        -2.4354e+00,  3.3933e+00, -2.8349e+00, -3.8566e+00,  4.0973e+00,\n",
            "         5.1122e+00, -3.1668e+00, -6.9200e+00, -6.6781e-01, -1.9518e+00,\n",
            "         1.6945e+00,  3.6889e+00, -9.5203e-01, -6.7189e+00, -1.3462e+00,\n",
            "         3.4535e+00, -2.8312e+00, -5.0481e+00, -2.1850e+00,  1.7892e+00,\n",
            "         7.6995e+00,  4.7327e+00, -2.0647e+00, -2.4297e+00, -2.0558e+00,\n",
            "         2.5870e+00,  2.8750e+00, -1.8851e+00,  5.7295e-01,  1.0819e+00,\n",
            "         4.5535e+00, -8.5443e-01,  4.1500e+00,  1.0915e+00, -1.6171e+00,\n",
            "         3.5365e-01, -1.3318e+00, -2.3233e+00,  2.3122e+00, -1.7717e+00,\n",
            "        -9.8818e-01,  2.5832e+00, -5.2177e+00, -3.1808e+00,  7.8476e-01,\n",
            "        -8.4012e+00, -4.2092e+00, -3.5735e+00,  1.5978e-01,  1.3733e+00,\n",
            "        -3.0316e+00, -5.9711e+00, -7.6152e+00,  7.3483e-01, -3.7508e+00,\n",
            "        -6.8409e+00, -2.9428e-01,  1.2466e+01,  3.0678e+00,  7.9305e+00,\n",
            "        -6.0122e+00, -2.4676e+00, -1.0051e+00, -6.5013e+00, -1.7261e+00,\n",
            "        -2.2332e+00, -8.4717e-01, -5.3871e+00, -9.8528e-01,  2.8400e+00,\n",
            "         5.6714e-01, -1.8695e+00, -3.8826e-01], grad_fn=<SumBackward1>)\n"
          ]
        }
      ]
    },
    {
      "cell_type": "code",
      "source": [
        "# get vector from mean of all hidden states\n",
        "embeddedquestion_meanhiddenstate = torch.mean(embedded_question['last_hidden_state'][0], dim=0)"
      ],
      "metadata": {
        "id": "3kIlyMQPjIbm"
      },
      "execution_count": 100,
      "outputs": []
    },
    {
      "cell_type": "code",
      "source": [
        "# get vector from sum of all hidden states\n",
        "embeddedquestion_sumhiddenstate = torch.sum(embedded_question['last_hidden_state'][0], dim=0)"
      ],
      "metadata": {
        "id": "FZ0OZef5kxIC"
      },
      "execution_count": 111,
      "outputs": []
    },
    {
      "cell_type": "code",
      "source": [
        "print(embedded_question['last_hidden_state'])"
      ],
      "metadata": {
        "colab": {
          "base_uri": "https://localhost:8080/"
        },
        "id": "EFoTvoAcmFdg",
        "outputId": "8aee4af2-482a-4aa0-9689-aeb7017d1099"
      },
      "execution_count": 112,
      "outputs": [
        {
          "output_type": "stream",
          "name": "stdout",
          "text": [
            "tensor([[[ 1.3860,  1.6921,  1.2233,  ..., -0.3143, -0.0187,  0.6325],\n",
            "         [ 0.8425, -0.4155,  0.2525,  ..., -0.1358, -1.1921,  1.1689],\n",
            "         [ 0.6814,  0.7837, -0.1358,  ...,  0.3423, -0.9431,  1.4636],\n",
            "         ...,\n",
            "         [-0.5308,  0.2529,  0.9454,  ...,  0.2480, -0.6178, -0.1041],\n",
            "         [-0.3763,  0.1834,  1.3085,  ..., -0.0104, -0.3863, -0.1750],\n",
            "         [-0.0542, -0.2274,  1.3209,  ...,  0.0991, -0.4381,  0.1323]]],\n",
            "       grad_fn=<NativeLayerNormBackward0>)\n"
          ]
        }
      ]
    },
    {
      "cell_type": "markdown",
      "source": [
        "#### Answers"
      ],
      "metadata": {
        "id": "WvU2pUjJtuqX"
      }
    },
    {
      "cell_type": "code",
      "source": [
        "embedded_answers = []\n",
        "for i in range(total_answers) :\n",
        "  x = torch.LongTensor(encoded_answers['input_ids'][i]).view(1,-1)\n",
        "  x = model(x)\n",
        "  embedded_answers.append(x)"
      ],
      "metadata": {
        "id": "zDQRpwPKpYbu"
      },
      "execution_count": 27,
      "outputs": []
    },
    {
      "cell_type": "code",
      "source": [
        "# get 'last_hidden_state' vector dimension\n",
        "print((embedded_answers[0]['last_hidden_state']).shape)"
      ],
      "metadata": {
        "colab": {
          "base_uri": "https://localhost:8080/"
        },
        "id": "WD2FGb4stsQd",
        "outputId": "d62b0b0c-0b81-4c02-855e-1aa5b2fbddd2"
      },
      "execution_count": 28,
      "outputs": [
        {
          "output_type": "stream",
          "name": "stdout",
          "text": [
            "torch.Size([1, 41, 768])\n"
          ]
        }
      ]
    },
    {
      "cell_type": "markdown",
      "source": [
        "#### Convert to Numpy"
      ],
      "metadata": {
        "id": "fkfs-EJX0CoD"
      }
    },
    {
      "cell_type": "code",
      "source": [
        "# question\n",
        "embedded_question_np = embedded_question['last_hidden_state'].detach().numpy()\n",
        "\n",
        "# answers\n",
        "embedded_answers_np = []\n",
        "for i in range(total_answers) :\n",
        "  embedded_answers_np.append(embedded_answers[i]['last_hidden_state'].detach().numpy())\n",
        "embedded_answers_np = np.array(embedded_answers_np)"
      ],
      "metadata": {
        "id": "0H5lV5mE0EFy"
      },
      "execution_count": 29,
      "outputs": []
    },
    {
      "cell_type": "markdown",
      "source": [
        "## Word2vec"
      ],
      "metadata": {
        "id": "7N9zSYeDfkQs"
      }
    },
    {
      "cell_type": "code",
      "source": [
        ""
      ],
      "metadata": {
        "id": "o5SV3iRHgAtU"
      },
      "execution_count": 29,
      "outputs": []
    },
    {
      "cell_type": "markdown",
      "source": [
        "## Glove"
      ],
      "metadata": {
        "id": "OB9sWS0s6_jv"
      }
    },
    {
      "cell_type": "code",
      "source": [
        ""
      ],
      "metadata": {
        "id": "Kl3eORDG6_jy"
      },
      "execution_count": 29,
      "outputs": []
    },
    {
      "cell_type": "markdown",
      "source": [
        "## FastText"
      ],
      "metadata": {
        "id": "Wko_CjaVf3_L"
      }
    },
    {
      "cell_type": "code",
      "source": [
        ""
      ],
      "metadata": {
        "id": "38IaqzaGf8Lj"
      },
      "execution_count": 29,
      "outputs": []
    },
    {
      "cell_type": "markdown",
      "source": [
        "## TF-IDF"
      ],
      "metadata": {
        "id": "TNVKz0O6fsME"
      }
    },
    {
      "cell_type": "code",
      "source": [
        ""
      ],
      "metadata": {
        "id": "ooAVacD-f0fq"
      },
      "execution_count": 29,
      "outputs": []
    },
    {
      "cell_type": "markdown",
      "source": [
        "# Measure the Distance"
      ],
      "metadata": {
        "id": "vhRoTKmggBq2"
      }
    },
    {
      "cell_type": "markdown",
      "source": [
        "## Define Distance Function"
      ],
      "metadata": {
        "id": "BB_YCoUBzV1p"
      }
    },
    {
      "cell_type": "code",
      "source": [
        "# euclidean distance\n",
        "def euclideanDistance(x, y):\n",
        "    dist = tf.sqrt(tf.reduce_sum(tf.square(x - y), 1))\n",
        "    return dist"
      ],
      "metadata": {
        "id": "TkGD_f9cb0HF"
      },
      "execution_count": 30,
      "outputs": []
    },
    {
      "cell_type": "code",
      "source": [
        "# euclidean mean distance\n",
        "def euclideanMeanDistance(x, y):\n",
        "    dist = tf.sqrt(tf.reduce_sum(tf.square(x - y), 1))\n",
        "    return tf.reduce_mean(dist)"
      ],
      "metadata": {
        "id": "Ok7iy0a22B_O"
      },
      "execution_count": 31,
      "outputs": []
    },
    {
      "cell_type": "markdown",
      "source": [
        "## Calculate the Distance"
      ],
      "metadata": {
        "id": "zoc6JPGfm1iV"
      }
    },
    {
      "cell_type": "code",
      "source": [
        "# euclidean mean distance\n",
        "dist_list = []\n",
        "for i in range(total_answers) :\n",
        "  dist = euclideanMeanDistance(embedded_question_np[0], embedded_answers_np[i][0])\n",
        "  dist_list.append(float(dist))"
      ],
      "metadata": {
        "id": "4UNHYEWV2WNK"
      },
      "execution_count": 114,
      "outputs": []
    },
    {
      "cell_type": "code",
      "source": [
        "# data preview\n",
        "dist_list"
      ],
      "metadata": {
        "colab": {
          "base_uri": "https://localhost:8080/"
        },
        "id": "a5mpJaq334hy",
        "outputId": "95f73096-f399-40d6-cdae-695e91228f65"
      },
      "execution_count": 115,
      "outputs": [
        {
          "output_type": "execute_result",
          "data": {
            "text/plain": [
              "[30.316831588745117,\n",
              " 30.867998123168945,\n",
              " 30.318729400634766,\n",
              " 31.135366439819336,\n",
              " 30.716949462890625,\n",
              " 28.639541625976562,\n",
              " 27.880308151245117,\n",
              " 30.669269561767578,\n",
              " 35.90969467163086,\n",
              " 31.170272827148438,\n",
              " 30.685909271240234,\n",
              " 29.189905166625977,\n",
              " 30.621097564697266,\n",
              " 31.993545532226562,\n",
              " 28.58953094482422,\n",
              " 30.343469619750977,\n",
              " 23.947242736816406,\n",
              " 28.443523406982422,\n",
              " 29.437419891357422,\n",
              " 31.859609603881836,\n",
              " 26.424983978271484,\n",
              " 31.218639373779297,\n",
              " 30.158281326293945,\n",
              " 28.1530818939209,\n",
              " 29.342365264892578,\n",
              " 29.264192581176758,\n",
              " 29.923866271972656,\n",
              " 29.955286026000977,\n",
              " 31.163419723510742,\n",
              " 24.5221004486084,\n",
              " 28.65730094909668,\n",
              " 31.037736892700195,\n",
              " 28.861438751220703,\n",
              " 28.311437606811523,\n",
              " 29.114704132080078,\n",
              " 28.480016708374023,\n",
              " 31.62978172302246,\n",
              " 26.445077896118164,\n",
              " 31.0833740234375,\n",
              " 29.802738189697266,\n",
              " 31.228572845458984,\n",
              " 29.41337776184082,\n",
              " 28.824596405029297,\n",
              " 31.777488708496094,\n",
              " 30.472646713256836,\n",
              " 31.074600219726562,\n",
              " 31.215511322021484,\n",
              " 30.57582664489746,\n",
              " 30.822813034057617,\n",
              " 27.912437438964844]"
            ]
          },
          "metadata": {},
          "execution_count": 115
        }
      ]
    },
    {
      "cell_type": "code",
      "source": [
        "# get sorted index\n",
        "id_sorted = np.argsort(dist_list)"
      ],
      "metadata": {
        "id": "g0nuQqmL4-wV"
      },
      "execution_count": 36,
      "outputs": []
    },
    {
      "cell_type": "code",
      "source": [
        "print(id_sorted)"
      ],
      "metadata": {
        "colab": {
          "base_uri": "https://localhost:8080/"
        },
        "id": "wkNjNhiF9wTi",
        "outputId": "7f7ef6cc-fd0d-44bc-e1e8-2fa562be1168"
      },
      "execution_count": 116,
      "outputs": [
        {
          "output_type": "stream",
          "name": "stdout",
          "text": [
            "[16 29 20 37  6 49 23 33 17 35 14  5 30 42 32 34 11 25 24 41 18 39 26 27\n",
            " 22  0  2 15 44 47 12  7 10  4 48  1 31 45 38  3 28  9 46 21 40 36 43 19\n",
            " 13  8]\n"
          ]
        }
      ]
    },
    {
      "cell_type": "markdown",
      "source": [
        "# Get Data to be Labeled (n% of Answers)"
      ],
      "metadata": {
        "id": "qnJ_jAu45mbe"
      }
    },
    {
      "cell_type": "markdown",
      "source": [
        "## Count the Data"
      ],
      "metadata": {
        "id": "V-_hNCOyokcj"
      }
    },
    {
      "cell_type": "code",
      "source": [
        "#set the percentage of to be labeled data\n",
        "percentage = 20"
      ],
      "metadata": {
        "id": "IlVsb55J7Ntn"
      },
      "execution_count": 117,
      "outputs": []
    },
    {
      "cell_type": "code",
      "source": [
        "#count total data to be labeled\n",
        "n_label_answers = int(percentage/100 * total_answers)\n",
        "if (n_label_answers < 3) :\n",
        "  print(\"Percentage too small!\")\n",
        "else :\n",
        "  print(\"Data to be labeled : \", n_label_answers)"
      ],
      "metadata": {
        "colab": {
          "base_uri": "https://localhost:8080/"
        },
        "id": "2-_vglK45vfm",
        "outputId": "2d66cd87-4edc-4adb-9ae2-846b16be2ea3"
      },
      "execution_count": 118,
      "outputs": [
        {
          "output_type": "stream",
          "name": "stdout",
          "text": [
            "Data to be labeled :  10\n"
          ]
        }
      ]
    },
    {
      "cell_type": "markdown",
      "source": [
        "## Choose the Data"
      ],
      "metadata": {
        "id": "3FqOiYXIoeRy"
      }
    },
    {
      "cell_type": "code",
      "source": [
        "n_each_answers = int(n_label_answers/3)\n",
        "print(\"Data for each section (top, middle, and bottom) : \", n_each_answers)"
      ],
      "metadata": {
        "colab": {
          "base_uri": "https://localhost:8080/"
        },
        "id": "42PyaCkN6t6k",
        "outputId": "2eb224aa-45ad-4209-e841-f76ea1334dc5"
      },
      "execution_count": 40,
      "outputs": [
        {
          "output_type": "stream",
          "name": "stdout",
          "text": [
            "Data for each section (top, middle, and bottom) :  3\n"
          ]
        }
      ]
    },
    {
      "cell_type": "code",
      "source": [
        "n_rest_answers = n_label_answers % 3\n",
        "print(\"Rest of the data : \", n_rest_answers)"
      ],
      "metadata": {
        "colab": {
          "base_uri": "https://localhost:8080/"
        },
        "id": "3Td5x2NA61Lo",
        "outputId": "9b25e373-a126-44d7-8658-9f0975f28144"
      },
      "execution_count": 41,
      "outputs": [
        {
          "output_type": "stream",
          "name": "stdout",
          "text": [
            "Rest of the data :  1\n"
          ]
        }
      ]
    },
    {
      "cell_type": "code",
      "source": [
        "n_extra_top = 0\n",
        "n_extra_middle = 0\n",
        "if (n_rest_answers > 0) :\n",
        "  n_extra_top+= 1\n",
        "  if (n_rest_answers > 1) :\n",
        "    n_extra_middle+= 1\n",
        "\n",
        "# set index of top data (closest data)\n",
        "top = []\n",
        "print(\"id_sorted : \", id_sorted)\n",
        "for i in range(n_each_answers + n_extra_top) :\n",
        "  top.append(id_sorted[i])\n",
        "\n",
        "# choose index of middle data\n",
        "start_idx = int((total_answers/2) - (n_each_answers/2))\n",
        "id_sorted_middle = id_sorted[start_idx:]\n",
        "print(\"id_sorted_middle : \", id_sorted_middle)\n",
        "middle = []\n",
        "for i in range(n_each_answers + n_extra_middle) :\n",
        "  middle.append(id_sorted_middle[i])\n",
        "\n",
        "# choose index of bottom data (farthest data)\n",
        "id_sorted_reverse = np.flip(id_sorted)\n",
        "print(\"id_sorted_reverse : \", id_sorted_reverse)\n",
        "bottom = []\n",
        "for i in range(n_each_answers) :\n",
        "  bottom.append(id_sorted_reverse[i])"
      ],
      "metadata": {
        "colab": {
          "base_uri": "https://localhost:8080/"
        },
        "id": "FX-gDVpW7rFI",
        "outputId": "49c06cb1-b8e9-4b7b-a291-44e9be7c6e56"
      },
      "execution_count": 119,
      "outputs": [
        {
          "output_type": "stream",
          "name": "stdout",
          "text": [
            "id_sorted :  [16 29 20 37  6 49 23 33 17 35 14  5 30 42 32 34 11 25 24 41 18 39 26 27\n",
            " 22  0  2 15 44 47 12  7 10  4 48  1 31 45 38  3 28  9 46 21 40 36 43 19\n",
            " 13  8]\n",
            "id_sorted_middle :  [27 22  0  2 15 44 47 12  7 10  4 48  1 31 45 38  3 28  9 46 21 40 36 43\n",
            " 19 13  8]\n",
            "id_sorted_reverse :  [ 8 13 19 43 36 40 21 46  9 28  3 38 45 31  1 48  4 10  7 12 47 44 15  2\n",
            "  0 22 27 26 39 18 41 24 25 11 34 32 42 30  5 14 35 17 33 23 49  6 37 20\n",
            " 29 16]\n"
          ]
        }
      ]
    },
    {
      "cell_type": "markdown",
      "source": [
        "## Display the Data"
      ],
      "metadata": {
        "id": "_zfkFZRCphO4"
      }
    },
    {
      "cell_type": "code",
      "source": [
        "print(\"Top answers : \", top)\n",
        "print(\"Answers : \")\n",
        "for i in top : print(i, answers[i])\n",
        "\n",
        "print(\"\\nMiddle answers : \", middle)\n",
        "print(\"Answers : \")\n",
        "for i in middle : print(i, answers[i])\n",
        "\n",
        "print(\"\\nBottom answers : \", bottom)\n",
        "print(\"Answers : \")\n",
        "for i in bottom : print(i, answers[i])"
      ],
      "metadata": {
        "colab": {
          "base_uri": "https://localhost:8080/"
        },
        "id": "Cxn5Zua--QDx",
        "outputId": "0632d04b-ba5e-427c-f501-0766b9f1a2d9"
      },
      "execution_count": 120,
      "outputs": [
        {
          "output_type": "stream",
          "name": "stdout",
          "text": [
            "Top answers :  [16, 29, 20, 37]\n",
            "Answers : \n",
            "16 keadaan yg tidak memadai serta kurangnya fasilitas di tempat pengungsian kegiatan jadi tidak dapat dilakukan seperti biasanya maknanya mereka tidak bebas melakukan sesuatu\n",
            "29 masalah yang dapatdidapatkan oleh pengngungsi itu adalah penggunaan bahasa, dan pencarian lapangan kerja, tempat tinggal.\n",
            "20 satu tantangan yang akan dihadapi pengungsi adalah kehilangan pekerjaan mereka yaitu pekerjaan bertani atau nelayan dan itulah salah satu pencaharian mereka selama menetap di Travina.\n",
            "37 Tantangan pengungsi iklim adalah lahan pekerjaan yang ia tempati dulu akan hilang, karena ia harus meninggalkan negaranya karena bencana lingkungan yang ada di negaranya.\n",
            "\n",
            "Middle answers :  [27, 22, 0]\n",
            "Answers : \n",
            "27 mereka akan kehilangan sebagian besar atau bahkan semua lahan pertanian mereka\n",
            "22 karena,akan ada bencana alam yang akan datang\n",
            "0 intetraksi/beradaptasi terhadap lingkungan yang baru.\n",
            "\n",
            "Bottom answers :  [8, 13, 19]\n",
            "Answers : \n",
            "8 Pada kasus-kasus seperti salah satunya yang terjadi di Travina, warga mungkin dipaksa untuk menjadi \"pengungsi iklim”. Pengungsi iklim adalah orang-orang yang terpaksa meninggalkan komunitas atau negaranya karena bencana lingkungan.\n",
            "13 beradaptasi\n",
            "19 merasa aneh\n"
          ]
        }
      ]
    },
    {
      "cell_type": "code",
      "source": [
        "print(\"INDEX, LABEL, ANSWERS\")\n",
        "for i in id_sorted: print(i, df_train.iloc[i]['LABEL'], answers[i])"
      ],
      "metadata": {
        "colab": {
          "base_uri": "https://localhost:8080/"
        },
        "id": "h8XytAj2CprA",
        "outputId": "45775860-ddfc-415d-9470-b4470294548a"
      },
      "execution_count": 44,
      "outputs": [
        {
          "output_type": "stream",
          "name": "stdout",
          "text": [
            "INDEX, LABEL, ANSWERS\n",
            "16 1 keadaan yg tidak memadai serta kurangnya fasilitas di tempat pengungsian kegiatan jadi tidak dapat dilakukan seperti biasanya maknanya mereka tidak bebas melakukan sesuatu\n",
            "29 1 masalah yang dapatdidapatkan oleh pengngungsi itu adalah penggunaan bahasa, dan pencarian lapangan kerja, tempat tinggal.\n",
            "20 1 satu tantangan yang akan dihadapi pengungsi adalah kehilangan pekerjaan mereka yaitu pekerjaan bertani atau nelayan dan itulah salah satu pencaharian mereka selama menetap di Travina.\n",
            "37 1 Tantangan pengungsi iklim adalah lahan pekerjaan yang ia tempati dulu akan hilang, karena ia harus meninggalkan negaranya karena bencana lingkungan yang ada di negaranya.\n",
            "6 0 Mereka tidak akan di hormati oleh orang layaknya mereka di hormati di dalam tempat tinggal mereka yang lama\n",
            "49 1 penguisi iklim adalah orang orang yang terpaksa meningalkan komunikasi atau negaranya karena karena beencna\n",
            "23 1 Mereka perlu adaptasi dan harus rela berpisah dengan tembat lamanya yang kemungkinan lahan tersebut akan hilang\n",
            "33 0 MEREKA AKAN MENINGGALKAN NEGARANYA, DAN MEREKA AKAN MENJADI PUENGUNGSI YANG MEMBUTUHKAN BANTUAN DARI NEGARA LAIN, MEREKA JUGA MEMBUTUHKAN NEGARA MANA YANG HARUS MENJADI PENGUNGSI\n",
            "17 0 Pengungsi iklim adalah orang-orang yang terpaksa meninggalkan komunitas atau negaranya karena bencana lingkungan.\n",
            "35 1 akan terjadi lama proses adaptasi yang dilakukan oleh para pengunsi iklim tersebut.\n",
            "14 0 Pengungsi iklim ini orang-orang yang terpaksa meninggalkan komunitas atau negaranya karena bencana lingkungan.\n",
            "5 1 akan terganggu dengan kesehatanya karena merekanperlu beradaptasi dengan lingkungan yang baru.\n",
            "30 1 mereka akan kehilangan lahan pertanian sektor pariwisata dan perikanan dan tempat tinggal mereka.\n",
            "42 1 penyesuaian lingkungan dan masalah imigrasi, seperti amerika yang menolak imigran/pendatang dari luar\n",
            "32 0 Warga di Travina akan mengalami bencana yang besar dan disebabkan oleh perubahan iklim .\n",
            "34 1 tantanganya adalah mereka harus beradapatsi lagi dengan lingkungan barunya.\n",
            "11 0 Akan kehilangan tempat tinggal yang lama atau komunitas karena bencana alam.\n",
            "25 0 orang-orang yang trpaksa meninggalkan komunitas atau negaranya karna bercanda lingkungan\n",
            "24 1 tidak terjamin dengan semua kebutuhannya, dan sulit untuk beradaptasi dengan tempat baru\n",
            "41 1 Harus mencari tempat untuk bekerja, membangun rumah dan berkenalan dengan orang asing\n",
            "18 0 fkjgrioejtklejtdfljlkgr\n",
            "39 0 tantanganya adalah akan meninggalkan tempat tinggal dan perkebunan yang dimiliki\n",
            "26 1 Mereka tidak akan mudah menyesuaikan hidup mereka di tempat baru\n",
            "27 1 mereka akan kehilangan sebagian besar atau bahkan semua lahan pertanian mereka\n",
            "22 0 karena,akan ada bencana alam yang akan datang\n",
            "0 1 intetraksi/beradaptasi terhadap lingkungan yang baru.\n",
            "2 0 hanya tuhan yang tahu tantangan nya itu apaan\n",
            "15 0 karna mereka tidak mau terkena iklim yang sangat beser\n",
            "44 1 sebagian dari mereka akan kehilangan lahan dan keluarganya.\n",
            "47 1 Mereka harus bisa beradaptasi dengan lingkungan barunya.\n",
            "12 0 mereka akan pindah ke tempat yang dulu\n",
            "7 1 mereka akan kehilangan lahan pertanian.\n",
            "10 1 karena mereka butuh tempat tinggal baru\n",
            "4 1 Tempat tinggal, ekonomi, dan pekerjaan\n",
            "48 0 kalau tidak pindah kita terkena bencana\n",
            "1 0 seperti jatuhnya meteor tsunami gempa bumi\n",
            "31 0 penderitaan panas nya cuaca iklim\n",
            "45 1 sulit beradaptasi dengan wilayah barunya\n",
            "38 1 beradaptasi dengan lingkungan yang baru\n",
            "3 1 mereka akan sulit beradaptasi\n",
            "28 1 tidak mempunyai tempat yang tetap\n",
            "9 0 mendapat musibah dan melawannya\n",
            "46 1 ia susah untuk beradaptasi\n",
            "21 0 akan terjadinya perubahan tempat\n",
            "40 0 sulit mencari lahan pertanian\n",
            "36 0 komunitas dan negara\n",
            "43 1 kehilangan segalanya\n",
            "19 0 merasa aneh\n",
            "13 1 beradaptasi\n",
            "8 0 Pada kasus-kasus seperti salah satunya yang terjadi di Travina, warga mungkin dipaksa untuk menjadi \"pengungsi iklim”. Pengungsi iklim adalah orang-orang yang terpaksa meninggalkan komunitas atau negaranya karena bencana lingkungan.\n"
          ]
        }
      ]
    },
    {
      "cell_type": "code",
      "source": [
        "# get index of all of the selected data\n",
        "idx_gabungan = top + middle + bottom\n",
        "idx_gabungan"
      ],
      "metadata": {
        "colab": {
          "base_uri": "https://localhost:8080/"
        },
        "id": "R4eHe8zpDiUF",
        "outputId": "aaa9b2a8-d299-4d16-8f67-23348691558a"
      },
      "execution_count": 45,
      "outputs": [
        {
          "output_type": "execute_result",
          "data": {
            "text/plain": [
              "[16, 29, 20, 37, 27, 22, 0, 8, 13, 19]"
            ]
          },
          "metadata": {},
          "execution_count": 45
        }
      ]
    },
    {
      "cell_type": "markdown",
      "source": [
        "## Set Score to the Selected Data"
      ],
      "metadata": {
        "id": "iPySOhUap4YO"
      }
    },
    {
      "cell_type": "code",
      "source": [
        "scoring = []\n",
        "for i in idx_gabungan :\n",
        "  print(i, answers[i])\n",
        "  #input score\n",
        "  score = input(\"Beri skor : \")\n",
        "  scoring.append(score)"
      ],
      "metadata": {
        "colab": {
          "base_uri": "https://localhost:8080/"
        },
        "id": "MsJBnvJoDn6F",
        "outputId": "7401b964-4186-43cd-fba4-8eedd0788bb2"
      },
      "execution_count": 46,
      "outputs": [
        {
          "name": "stdout",
          "output_type": "stream",
          "text": [
            "16 keadaan yg tidak memadai serta kurangnya fasilitas di tempat pengungsian kegiatan jadi tidak dapat dilakukan seperti biasanya maknanya mereka tidak bebas melakukan sesuatu\n",
            "Beri skor : 5\n",
            "29 masalah yang dapatdidapatkan oleh pengngungsi itu adalah penggunaan bahasa, dan pencarian lapangan kerja, tempat tinggal.\n",
            "Beri skor : 3\n",
            "20 satu tantangan yang akan dihadapi pengungsi adalah kehilangan pekerjaan mereka yaitu pekerjaan bertani atau nelayan dan itulah salah satu pencaharian mereka selama menetap di Travina.\n",
            "Beri skor : 4\n",
            "37 Tantangan pengungsi iklim adalah lahan pekerjaan yang ia tempati dulu akan hilang, karena ia harus meninggalkan negaranya karena bencana lingkungan yang ada di negaranya.\n",
            "Beri skor : 4\n",
            "27 mereka akan kehilangan sebagian besar atau bahkan semua lahan pertanian mereka\n",
            "Beri skor : 2\n",
            "22 karena,akan ada bencana alam yang akan datang\n",
            "Beri skor : 1\n",
            "0 intetraksi/beradaptasi terhadap lingkungan yang baru.\n",
            "Beri skor : 1\n",
            "8 Pada kasus-kasus seperti salah satunya yang terjadi di Travina, warga mungkin dipaksa untuk menjadi \"pengungsi iklim”. Pengungsi iklim adalah orang-orang yang terpaksa meninggalkan komunitas atau negaranya karena bencana lingkungan.\n",
            "Beri skor : 5\n",
            "13 beradaptasi\n",
            "Beri skor : 1\n",
            "19 merasa aneh\n",
            "Beri skor : 1\n"
          ]
        }
      ]
    },
    {
      "cell_type": "code",
      "source": [
        "print(scoring)"
      ],
      "metadata": {
        "colab": {
          "base_uri": "https://localhost:8080/"
        },
        "id": "TCRniZJOEX3G",
        "outputId": "fff3242b-fe6e-4231-86b0-3ed5a87e56cb"
      },
      "execution_count": 121,
      "outputs": [
        {
          "output_type": "stream",
          "name": "stdout",
          "text": [
            "[5 3 4 4 2 1 1 5 1 1]\n"
          ]
        }
      ]
    },
    {
      "cell_type": "markdown",
      "source": [
        "# Model Training"
      ],
      "metadata": {
        "id": "iGs4BqROFeqC"
      }
    },
    {
      "cell_type": "markdown",
      "source": [
        "## Define the Data"
      ],
      "metadata": {
        "id": "fOcLR8kgIFnQ"
      }
    },
    {
      "cell_type": "markdown",
      "source": [
        "### Get Testing Index"
      ],
      "metadata": {
        "id": "a5sRTKPntYRW"
      }
    },
    {
      "cell_type": "code",
      "source": [
        "# get index of answers for testing data\n",
        "idx_test = [item for item in id_sorted if item not in idx_gabungan]"
      ],
      "metadata": {
        "id": "r_MtjtajUZfJ"
      },
      "execution_count": 48,
      "outputs": []
    },
    {
      "cell_type": "code",
      "source": [
        "len(idx_test)"
      ],
      "metadata": {
        "colab": {
          "base_uri": "https://localhost:8080/"
        },
        "id": "mJETG58DU5c_",
        "outputId": "fc0aeca1-570d-48d8-ff37-633846f5d0ed"
      },
      "execution_count": 49,
      "outputs": [
        {
          "output_type": "execute_result",
          "data": {
            "text/plain": [
              "40"
            ]
          },
          "metadata": {},
          "execution_count": 49
        }
      ]
    },
    {
      "cell_type": "markdown",
      "source": [
        "### Training Data"
      ],
      "metadata": {
        "id": "QHMpz3Qxta4n"
      }
    },
    {
      "cell_type": "code",
      "source": [
        "# training data (answers)\n",
        "answers_train = []\n",
        "answers_train_embedded = []\n",
        "for i in idx_gabungan :\n",
        "  answers_train.append(answers[i])\n",
        "  answers_train_embedded.append(embedded_answers_np[i])\n",
        "\n",
        "# convert to numpy array\n",
        "answers_train_embedded = np.array(answers_train_embedded)"
      ],
      "metadata": {
        "id": "-aWpicPOrl0M"
      },
      "execution_count": 126,
      "outputs": []
    },
    {
      "cell_type": "code",
      "source": [
        "print(answers_train[0])"
      ],
      "metadata": {
        "colab": {
          "base_uri": "https://localhost:8080/"
        },
        "id": "g2jYingmsCja",
        "outputId": "54da1983-ae79-47ce-f15c-9f429092614d"
      },
      "execution_count": 127,
      "outputs": [
        {
          "output_type": "stream",
          "name": "stdout",
          "text": [
            "keadaan yg tidak memadai serta kurangnya fasilitas di tempat pengungsian kegiatan jadi tidak dapat dilakukan seperti biasanya maknanya mereka tidak bebas melakukan sesuatu\n"
          ]
        }
      ]
    },
    {
      "cell_type": "code",
      "source": [
        "print(answers_train_embedded[0])"
      ],
      "metadata": {
        "colab": {
          "base_uri": "https://localhost:8080/"
        },
        "id": "gi_Erb_GsEDb",
        "outputId": "6082ca6b-7320-4448-b2a3-ff46ba9b01ee"
      },
      "execution_count": 128,
      "outputs": [
        {
          "output_type": "stream",
          "name": "stdout",
          "text": [
            "[[[ 1.4981687   1.9895463   1.4366618  ... -0.4381882   0.38164082\n",
            "    0.33246037]\n",
            "  [-0.6881104   0.2772643   0.06054112 ...  0.9591753  -0.4295396\n",
            "    0.44088417]\n",
            "  [ 1.4169497   2.9107153  -0.7779296  ...  0.02065711  0.8974585\n",
            "    1.2851793 ]\n",
            "  ...\n",
            "  [-0.5025038   0.52491224  1.0914981  ...  0.32548618 -0.6988723\n",
            "   -0.4462425 ]\n",
            "  [-0.47407913  0.5378214   1.4391465  ...  0.09295828 -0.42467636\n",
            "   -0.49157196]\n",
            "  [-0.25222093  0.17337945  1.3498544  ...  0.12966591 -0.36407587\n",
            "   -0.30962542]]]\n"
          ]
        }
      ]
    },
    {
      "cell_type": "code",
      "source": [
        "#labels\n",
        "scoring_int = []\n",
        "for i in scoring :\n",
        "  scoring_int.append(int(i))\n",
        "scoring = np.array(scoring_int)"
      ],
      "metadata": {
        "id": "efGzHSmRrwVJ"
      },
      "execution_count": 124,
      "outputs": []
    },
    {
      "cell_type": "code",
      "source": [
        "print(scoring)"
      ],
      "metadata": {
        "colab": {
          "base_uri": "https://localhost:8080/"
        },
        "id": "9XjOWyYcsHSh",
        "outputId": "79e96ff8-3309-428e-9fb5-64a84c124d15"
      },
      "execution_count": 129,
      "outputs": [
        {
          "output_type": "stream",
          "name": "stdout",
          "text": [
            "[5 3 4 4 2 1 1 5 1 1]\n"
          ]
        }
      ]
    },
    {
      "cell_type": "markdown",
      "source": [
        "### Testing Data"
      ],
      "metadata": {
        "id": "mh62ULYzte7f"
      }
    },
    {
      "cell_type": "code",
      "source": [
        "# testing data (answers)\n",
        "answers_test = []\n",
        "answers_test_embedded = []\n",
        "for i in idx_test :\n",
        "  answers_test.append(answers[i])\n",
        "  answers_test_embedded.append(embedded_answers_np[i])\n",
        "answers_test_embedded = np.array(answers_test_embedded)"
      ],
      "metadata": {
        "id": "E7yeAMjQsMug"
      },
      "execution_count": 131,
      "outputs": []
    },
    {
      "cell_type": "markdown",
      "source": [
        "### Dimension Simplification"
      ],
      "metadata": {
        "id": "zAgAYPURtm00"
      }
    },
    {
      "cell_type": "code",
      "source": [
        "# simplify the dimension (drop axis = 1)\n",
        "question_embedded = np.squeeze(embedded_question_np, axis = 0)\n",
        "answers_train_embedded = np.squeeze(answers_train_embedded, axis = 1)\n",
        "answers_test_embedded = np.squeeze(answers_test_embedded, axis = 1)"
      ],
      "metadata": {
        "id": "ZVmJXFPkskRX"
      },
      "execution_count": 135,
      "outputs": []
    },
    {
      "cell_type": "code",
      "source": [
        "print(\"question_embedded : \", question_embedded.shape)\n",
        "print(\"answers_train_embedded : \", answers_train_embedded.shape)\n",
        "print(\"answers_test_embedded : \", answers_test_embedded.shape)"
      ],
      "metadata": {
        "colab": {
          "base_uri": "https://localhost:8080/"
        },
        "id": "cVfb72BDs40P",
        "outputId": "13ff0bec-40a6-437b-f4ec-f77690ac444e"
      },
      "execution_count": 139,
      "outputs": [
        {
          "output_type": "stream",
          "name": "stdout",
          "text": [
            "question_embedded :  (41, 768)\n",
            "answers_train_embedded :  (10, 41, 768)\n",
            "answers_test_embedded :  (40, 41, 768)\n"
          ]
        }
      ]
    },
    {
      "cell_type": "markdown",
      "source": [
        "##Bi-LSTM"
      ],
      "metadata": {
        "id": "o3HyMIacFf-a"
      }
    },
    {
      "cell_type": "markdown",
      "source": [
        "## Build the Architecture"
      ],
      "metadata": {
        "id": "g-5lWlGiuOzt"
      }
    },
    {
      "cell_type": "code",
      "source": [
        "from tensorflow.keras import optimizers\n",
        "from tensorflow.keras.models import Sequential\n",
        "from tensorflow.keras.layers import Input, Bidirectional, LSTM, Flatten, Dense, Dropout, Activation\n",
        "\n",
        "model = Sequential()\n",
        "model.add(Input(input_embedded[0].shape))\n",
        "model.add(Bidirectional(LSTM(32, return_sequences= True, dropout= 0.3, recurrent_dropout= 0.3)))\n",
        "model.add(Flatten())\n",
        "model.add(Dropout(0.3))\n",
        "model.add(Dense(10, activation='relu'))\n",
        "model.add(Dense(1, activation='relu'))\n",
        "model.compile(loss = 'mean_squared_error',\n",
        "              optimizer = 'rmsprop',\n",
        "              metrics = ['accuracy', 'mae'])\n",
        "model.summary()"
      ],
      "metadata": {
        "colab": {
          "base_uri": "https://localhost:8080/"
        },
        "id": "8NlmLvuQKbU3",
        "outputId": "44347609-24e2-4c9a-96ff-3eb1e672294a"
      },
      "execution_count": 142,
      "outputs": [
        {
          "output_type": "stream",
          "name": "stdout",
          "text": [
            "Model: \"sequential_1\"\n",
            "_________________________________________________________________\n",
            " Layer (type)                Output Shape              Param #   \n",
            "=================================================================\n",
            " bidirectional_1 (Bidirectio  (None, 41, 64)           205056    \n",
            " nal)                                                            \n",
            "                                                                 \n",
            " flatten_1 (Flatten)         (None, 2624)              0         \n",
            "                                                                 \n",
            " dropout_1 (Dropout)         (None, 2624)              0         \n",
            "                                                                 \n",
            " dense_2 (Dense)             (None, 10)                26250     \n",
            "                                                                 \n",
            " dense_3 (Dense)             (None, 1)                 11        \n",
            "                                                                 \n",
            "=================================================================\n",
            "Total params: 231,317\n",
            "Trainable params: 231,317\n",
            "Non-trainable params: 0\n",
            "_________________________________________________________________\n"
          ]
        }
      ]
    },
    {
      "cell_type": "markdown",
      "source": [
        "### Train the Model"
      ],
      "metadata": {
        "id": "jHo1i_W9uVQk"
      }
    },
    {
      "cell_type": "code",
      "source": [
        "history = model.fit(input_embedded, scoring,\n",
        "                    epochs = 50)"
      ],
      "metadata": {
        "colab": {
          "base_uri": "https://localhost:8080/"
        },
        "id": "af0fJjN6MNxF",
        "outputId": "a9901c4e-5ad3-4a88-fd62-528bf2429897"
      },
      "execution_count": 143,
      "outputs": [
        {
          "output_type": "stream",
          "name": "stdout",
          "text": [
            "Epoch 1/50\n",
            "1/1 [==============================] - 5s 5s/step - loss: 8.4315 - accuracy: 0.2000 - mae: 2.3673\n",
            "Epoch 2/50\n",
            "1/1 [==============================] - 0s 151ms/step - loss: 10.2942 - accuracy: 0.4000 - mae: 2.7915\n",
            "Epoch 3/50\n",
            "1/1 [==============================] - 0s 125ms/step - loss: 3.2760 - accuracy: 0.0000e+00 - mae: 1.6823\n",
            "Epoch 4/50\n",
            "1/1 [==============================] - 0s 119ms/step - loss: 0.3978 - accuracy: 0.4000 - mae: 0.3751\n",
            "Epoch 5/50\n",
            "1/1 [==============================] - 0s 119ms/step - loss: 0.1690 - accuracy: 0.4000 - mae: 0.3154\n",
            "Epoch 6/50\n",
            "1/1 [==============================] - 0s 128ms/step - loss: 0.1967 - accuracy: 0.2000 - mae: 0.3732\n",
            "Epoch 7/50\n",
            "1/1 [==============================] - 0s 121ms/step - loss: 0.1890 - accuracy: 0.4000 - mae: 0.3860\n",
            "Epoch 8/50\n",
            "1/1 [==============================] - 0s 126ms/step - loss: 0.2080 - accuracy: 0.4000 - mae: 0.3513\n",
            "Epoch 9/50\n",
            "1/1 [==============================] - 0s 136ms/step - loss: 0.1231 - accuracy: 0.4000 - mae: 0.2838\n",
            "Epoch 10/50\n",
            "1/1 [==============================] - 0s 135ms/step - loss: 0.0861 - accuracy: 0.3000 - mae: 0.2364\n",
            "Epoch 11/50\n",
            "1/1 [==============================] - 0s 122ms/step - loss: 0.2540 - accuracy: 0.4000 - mae: 0.3868\n",
            "Epoch 12/50\n",
            "1/1 [==============================] - 0s 116ms/step - loss: 0.1915 - accuracy: 0.4000 - mae: 0.3524\n",
            "Epoch 13/50\n",
            "1/1 [==============================] - 0s 121ms/step - loss: 0.2533 - accuracy: 0.3000 - mae: 0.4506\n",
            "Epoch 14/50\n",
            "1/1 [==============================] - 0s 119ms/step - loss: 0.4990 - accuracy: 0.4000 - mae: 0.5171\n",
            "Epoch 15/50\n",
            "1/1 [==============================] - 0s 130ms/step - loss: 0.6637 - accuracy: 0.4000 - mae: 0.6877\n",
            "Epoch 16/50\n",
            "1/1 [==============================] - 0s 121ms/step - loss: 0.3813 - accuracy: 0.4000 - mae: 0.5226\n",
            "Epoch 17/50\n",
            "1/1 [==============================] - 0s 122ms/step - loss: 0.3872 - accuracy: 0.3000 - mae: 0.5351\n",
            "Epoch 18/50\n",
            "1/1 [==============================] - 0s 142ms/step - loss: 0.2208 - accuracy: 0.4000 - mae: 0.3711\n",
            "Epoch 19/50\n",
            "1/1 [==============================] - 0s 123ms/step - loss: 0.0333 - accuracy: 0.4000 - mae: 0.1517\n",
            "Epoch 20/50\n",
            "1/1 [==============================] - 0s 145ms/step - loss: 0.2169 - accuracy: 0.4000 - mae: 0.4067\n",
            "Epoch 21/50\n",
            "1/1 [==============================] - 0s 127ms/step - loss: 0.0409 - accuracy: 0.4000 - mae: 0.1506\n",
            "Epoch 22/50\n",
            "1/1 [==============================] - 0s 126ms/step - loss: 0.0389 - accuracy: 0.4000 - mae: 0.1567\n",
            "Epoch 23/50\n",
            "1/1 [==============================] - 0s 127ms/step - loss: 0.1650 - accuracy: 0.4000 - mae: 0.3195\n",
            "Epoch 24/50\n",
            "1/1 [==============================] - 0s 121ms/step - loss: 0.0910 - accuracy: 0.4000 - mae: 0.2260\n",
            "Epoch 25/50\n",
            "1/1 [==============================] - 0s 138ms/step - loss: 0.1396 - accuracy: 0.4000 - mae: 0.2955\n",
            "Epoch 26/50\n",
            "1/1 [==============================] - 0s 128ms/step - loss: 0.1967 - accuracy: 0.4000 - mae: 0.3657\n",
            "Epoch 27/50\n",
            "1/1 [==============================] - 0s 126ms/step - loss: 0.2007 - accuracy: 0.4000 - mae: 0.3554\n",
            "Epoch 28/50\n",
            "1/1 [==============================] - 0s 123ms/step - loss: 0.1953 - accuracy: 0.4000 - mae: 0.3428\n",
            "Epoch 29/50\n",
            "1/1 [==============================] - 0s 122ms/step - loss: 0.0634 - accuracy: 0.4000 - mae: 0.2020\n",
            "Epoch 30/50\n",
            "1/1 [==============================] - 0s 134ms/step - loss: 0.0530 - accuracy: 0.4000 - mae: 0.1945\n",
            "Epoch 31/50\n",
            "1/1 [==============================] - 0s 125ms/step - loss: 0.1279 - accuracy: 0.4000 - mae: 0.3234\n",
            "Epoch 32/50\n",
            "1/1 [==============================] - 0s 133ms/step - loss: 0.1779 - accuracy: 0.4000 - mae: 0.2956\n",
            "Epoch 33/50\n",
            "1/1 [==============================] - 0s 143ms/step - loss: 0.3150 - accuracy: 0.4000 - mae: 0.4328\n",
            "Epoch 34/50\n",
            "1/1 [==============================] - 0s 127ms/step - loss: 0.3739 - accuracy: 0.3000 - mae: 0.5429\n",
            "Epoch 35/50\n",
            "1/1 [==============================] - 0s 121ms/step - loss: 0.6295 - accuracy: 0.4000 - mae: 0.5720\n",
            "Epoch 36/50\n",
            "1/1 [==============================] - 0s 120ms/step - loss: 0.2374 - accuracy: 0.4000 - mae: 0.3951\n",
            "Epoch 37/50\n",
            "1/1 [==============================] - 0s 131ms/step - loss: 0.1746 - accuracy: 0.4000 - mae: 0.3462\n",
            "Epoch 38/50\n",
            "1/1 [==============================] - 0s 128ms/step - loss: 0.1260 - accuracy: 0.3000 - mae: 0.3295\n",
            "Epoch 39/50\n",
            "1/1 [==============================] - 0s 165ms/step - loss: 0.1072 - accuracy: 0.4000 - mae: 0.2498\n",
            "Epoch 40/50\n",
            "1/1 [==============================] - 0s 121ms/step - loss: 0.1473 - accuracy: 0.3000 - mae: 0.3301\n",
            "Epoch 41/50\n",
            "1/1 [==============================] - 0s 135ms/step - loss: 0.0836 - accuracy: 0.4000 - mae: 0.2325\n",
            "Epoch 42/50\n",
            "1/1 [==============================] - 0s 124ms/step - loss: 0.3006 - accuracy: 0.4000 - mae: 0.4602\n",
            "Epoch 43/50\n",
            "1/1 [==============================] - 0s 119ms/step - loss: 0.2497 - accuracy: 0.4000 - mae: 0.3940\n",
            "Epoch 44/50\n",
            "1/1 [==============================] - 0s 133ms/step - loss: 0.3531 - accuracy: 0.4000 - mae: 0.3867\n",
            "Epoch 45/50\n",
            "1/1 [==============================] - 0s 174ms/step - loss: 0.2186 - accuracy: 0.4000 - mae: 0.3764\n",
            "Epoch 46/50\n",
            "1/1 [==============================] - 0s 131ms/step - loss: 0.3097 - accuracy: 0.4000 - mae: 0.5189\n",
            "Epoch 47/50\n",
            "1/1 [==============================] - 0s 138ms/step - loss: 0.5136 - accuracy: 0.3000 - mae: 0.6230\n",
            "Epoch 48/50\n",
            "1/1 [==============================] - 0s 139ms/step - loss: 0.2474 - accuracy: 0.4000 - mae: 0.4086\n",
            "Epoch 49/50\n",
            "1/1 [==============================] - 0s 128ms/step - loss: 0.3630 - accuracy: 0.4000 - mae: 0.4983\n",
            "Epoch 50/50\n",
            "1/1 [==============================] - 0s 121ms/step - loss: 0.0963 - accuracy: 0.3000 - mae: 0.2715\n"
          ]
        }
      ]
    },
    {
      "cell_type": "markdown",
      "source": [
        "### Visualization"
      ],
      "metadata": {
        "id": "veI6aUIZuYYv"
      }
    },
    {
      "cell_type": "markdown",
      "source": [
        "#### Loss"
      ],
      "metadata": {
        "id": "0bvwHskpuxUi"
      }
    },
    {
      "cell_type": "code",
      "source": [
        "plt.figure(figsize=(10, 4.5))\n",
        "sns.set_theme(style=\"whitegrid\")\n",
        "ax = sns.lineplot(x = np.arange(len(history.history['loss'])), y = history.history['loss'], palette='hls')"
      ],
      "metadata": {
        "colab": {
          "base_uri": "https://localhost:8080/",
          "height": 295
        },
        "id": "XTEPNgshS3J5",
        "outputId": "dfbd24cf-a86b-4637-83d0-f58600a8a646"
      },
      "execution_count": 144,
      "outputs": [
        {
          "output_type": "display_data",
          "data": {
            "text/plain": [
              "<Figure size 720x324 with 1 Axes>"
            ],
            "image/png": "[encoded data removed]"
          },
          "metadata": {}
        }
      ]
    },
    {
      "cell_type": "markdown",
      "source": [
        "#### Metric: Accuracy"
      ],
      "metadata": {
        "id": "KmDmMAixuuQq"
      }
    },
    {
      "cell_type": "code",
      "source": [
        "plt.figure(figsize=(10, 4.5))\n",
        "sns.set_theme(style=\"whitegrid\")\n",
        "ax = sns.lineplot(x = np.arange(len(history.history['accuracy'])), y = history.history['accuracy'], palette='hls')"
      ],
      "metadata": {
        "colab": {
          "base_uri": "https://localhost:8080/",
          "height": 295
        },
        "id": "RUmlAHR7Tz0N",
        "outputId": "df3d2701-409a-480f-ef96-43dfee709546"
      },
      "execution_count": 145,
      "outputs": [
        {
          "output_type": "display_data",
          "data": {
            "text/plain": [
              "<Figure size 720x324 with 1 Axes>"
            ],
            "image/png": "[encoded data removed]"
          },
          "metadata": {}
        }
      ]
    },
    {
      "cell_type": "markdown",
      "source": [
        "#### MAE"
      ],
      "metadata": {
        "id": "fthSQKtEuzQy"
      }
    },
    {
      "cell_type": "code",
      "source": [
        "plt.figure(figsize=(10, 4.5))\n",
        "sns.set_theme(style=\"whitegrid\")\n",
        "ax = sns.lineplot(x = np.arange(len(history.history['mae'])), y = history.history['mae'], palette='hls')"
      ],
      "metadata": {
        "colab": {
          "base_uri": "https://localhost:8080/",
          "height": 295
        },
        "id": "Yyes5UDwTNUC",
        "outputId": "56863165-a9a3-424c-9a89-4f456e1b317e"
      },
      "execution_count": 146,
      "outputs": [
        {
          "output_type": "display_data",
          "data": {
            "text/plain": [
              "<Figure size 720x324 with 1 Axes>"
            ],
            "image/png": "[encoded data removed]"
          },
          "metadata": {}
        }
      ]
    },
    {
      "cell_type": "markdown",
      "source": [
        "# Save Data"
      ],
      "metadata": {
        "id": "LNU_-pXUxrVG"
      }
    },
    {
      "cell_type": "markdown",
      "source": [
        "### Convert Data to DataFrame"
      ],
      "metadata": {
        "id": "UBc_rab7u1rj"
      }
    },
    {
      "cell_type": "code",
      "source": [
        "id_answers_final = []\n",
        "for i in idx_test :\n",
        "  id_answers_final.append(id_answers[i])"
      ],
      "metadata": {
        "id": "wI1QX1_ov4IZ"
      },
      "execution_count": 163,
      "outputs": []
    },
    {
      "cell_type": "code",
      "source": [
        "score_predict = model.predict(answers_test_embedded)\n",
        "score_predict = [float(i[0]) for i in score_predict]\n",
        "score_int = [round(i) for i in score_predict]\n",
        "# actual_labels = [df_train.iloc[i]['LABEL'] for i in idx_test]\n",
        "df_final = pd.DataFrame({'id_mahasiswa': id_answers_final, 'answers': answers_test, 'score': score_predict, 'score (rounded)': score_int})\n",
        "df_final.head()"
      ],
      "metadata": {
        "colab": {
          "base_uri": "https://localhost:8080/",
          "height": 206
        },
        "id": "rdQ1gSlEXDtT",
        "outputId": "9a06dc9a-9c67-42e5-dc65-23120e2199c9"
      },
      "execution_count": 177,
      "outputs": [
        {
          "output_type": "execute_result",
          "data": {
            "text/plain": [
              "   id_mahasiswa                                            answers     score  \\\n",
              "0             6  Mereka tidak akan di hormati oleh orang layakn...  2.677892   \n",
              "1            49  penguisi iklim adalah orang orang yang terpaks...  2.255489   \n",
              "2            23  Mereka perlu adaptasi dan harus rela berpisah ...  2.509572   \n",
              "3            33  MEREKA AKAN MENINGGALKAN NEGARANYA, DAN MEREKA...  2.782323   \n",
              "4            17  Pengungsi iklim adalah orang-orang yang terpak...  2.530999   \n",
              "\n",
              "   score (rounded)  \n",
              "0                3  \n",
              "1                2  \n",
              "2                3  \n",
              "3                3  \n",
              "4                3  "
            ],
            "text/html": [
              "\n",
              "  <div id=\"df-25e08232-5c30-4040-92cb-4b13a222c457\">\n",
              "    <div class=\"colab-df-container\">\n",
              "      <div>\n",
              "<style scoped>\n",
              "    .dataframe tbody tr th:only-of-type {\n",
              "        vertical-align: middle;\n",
              "    }\n",
              "\n",
              "    .dataframe tbody tr th {\n",
              "        vertical-align: top;\n",
              "    }\n",
              "\n",
              "    .dataframe thead th {\n",
              "        text-align: right;\n",
              "    }\n",
              "</style>\n",
              "<table border=\"1\" class=\"dataframe\">\n",
              "  <thead>\n",
              "    <tr style=\"text-align: right;\">\n",
              "      <th></th>\n",
              "      <th>id_mahasiswa</th>\n",
              "      <th>answers</th>\n",
              "      <th>score</th>\n",
              "      <th>score (rounded)</th>\n",
              "    </tr>\n",
              "  </thead>\n",
              "  <tbody>\n",
              "    <tr>\n",
              "      <th>0</th>\n",
              "      <td>6</td>\n",
              "      <td>Mereka tidak akan di hormati oleh orang layakn...</td>\n",
              "      <td>2.677892</td>\n",
              "      <td>3</td>\n",
              "    </tr>\n",
              "    <tr>\n",
              "      <th>1</th>\n",
              "      <td>49</td>\n",
              "      <td>penguisi iklim adalah orang orang yang terpaks...</td>\n",
              "      <td>2.255489</td>\n",
              "      <td>2</td>\n",
              "    </tr>\n",
              "    <tr>\n",
              "      <th>2</th>\n",
              "      <td>23</td>\n",
              "      <td>Mereka perlu adaptasi dan harus rela berpisah ...</td>\n",
              "      <td>2.509572</td>\n",
              "      <td>3</td>\n",
              "    </tr>\n",
              "    <tr>\n",
              "      <th>3</th>\n",
              "      <td>33</td>\n",
              "      <td>MEREKA AKAN MENINGGALKAN NEGARANYA, DAN MEREKA...</td>\n",
              "      <td>2.782323</td>\n",
              "      <td>3</td>\n",
              "    </tr>\n",
              "    <tr>\n",
              "      <th>4</th>\n",
              "      <td>17</td>\n",
              "      <td>Pengungsi iklim adalah orang-orang yang terpak...</td>\n",
              "      <td>2.530999</td>\n",
              "      <td>3</td>\n",
              "    </tr>\n",
              "  </tbody>\n",
              "</table>\n",
              "</div>\n",
              "      <button class=\"colab-df-convert\" onclick=\"convertToInteractive('df-25e08232-5c30-4040-92cb-4b13a222c457')\"\n",
              "              title=\"Convert this dataframe to an interactive table.\"\n",
              "              style=\"display:none;\">\n",
              "        \n",
              "  <svg xmlns=\"http://www.w3.org/2000/svg\" height=\"24px\"viewBox=\"0 0 24 24\"\n",
              "       width=\"24px\">\n",
              "    <path d=\"M0 0h24v24H0V0z\" fill=\"none\"/>\n",
              "    <path d=\"M18.56 5.44l.94 2.06.94-2.06 2.06-.94-2.06-.94-.94-2.06-.94 2.06-2.06.94zm-11 1L8.5 8.5l.94-2.06 2.06-.94-2.06-.94L8.5 2.5l-.94 2.06-2.06.94zm10 10l.94 2.06.94-2.06 2.06-.94-2.06-.94-.94-2.06-.94 2.06-2.06.94z\"/><path d=\"M17.41 7.96l-1.37-1.37c-.4-.4-.92-.59-1.43-.59-.52 0-1.04.2-1.43.59L10.3 9.45l-7.72 7.72c-.78.78-.78 2.05 0 2.83L4 21.41c.39.39.9.59 1.41.59.51 0 1.02-.2 1.41-.59l7.78-7.78 2.81-2.81c.8-.78.8-2.07 0-2.86zM5.41 20L4 18.59l7.72-7.72 1.47 1.35L5.41 20z\"/>\n",
              "  </svg>\n",
              "      </button>\n",
              "      \n",
              "  <style>\n",
              "    .colab-df-container {\n",
              "      display:flex;\n",
              "      flex-wrap:wrap;\n",
              "      gap: 12px;\n",
              "    }\n",
              "\n",
              "    .colab-df-convert {\n",
              "      background-color: #E8F0FE;\n",
              "      border: none;\n",
              "      border-radius: 50%;\n",
              "      cursor: pointer;\n",
              "      display: none;\n",
              "      fill: #1967D2;\n",
              "      height: 32px;\n",
              "      padding: 0 0 0 0;\n",
              "      width: 32px;\n",
              "    }\n",
              "\n",
              "    .colab-df-convert:hover {\n",
              "      background-color: #E2EBFA;\n",
              "      box-shadow: 0px 1px 2px rgba(60, 64, 67, 0.3), 0px 1px 3px 1px rgba(60, 64, 67, 0.15);\n",
              "      fill: #174EA6;\n",
              "    }\n",
              "\n",
              "    [theme=dark] .colab-df-convert {\n",
              "      background-color: #3B4455;\n",
              "      fill: #D2E3FC;\n",
              "    }\n",
              "\n",
              "    [theme=dark] .colab-df-convert:hover {\n",
              "      background-color: #434B5C;\n",
              "      box-shadow: 0px 1px 3px 1px rgba(0, 0, 0, 0.15);\n",
              "      filter: drop-shadow(0px 1px 2px rgba(0, 0, 0, 0.3));\n",
              "      fill: #FFFFFF;\n",
              "    }\n",
              "  </style>\n",
              "\n",
              "      <script>\n",
              "        const buttonEl =\n",
              "          document.querySelector('#df-25e08232-5c30-4040-92cb-4b13a222c457 button.colab-df-convert');\n",
              "        buttonEl.style.display =\n",
              "          google.colab.kernel.accessAllowed ? 'block' : 'none';\n",
              "\n",
              "        async function convertToInteractive(key) {\n",
              "          const element = document.querySelector('#df-25e08232-5c30-4040-92cb-4b13a222c457');\n",
              "          const dataTable =\n",
              "            await google.colab.kernel.invokeFunction('convertToInteractive',\n",
              "                                                     [key], {});\n",
              "          if (!dataTable) return;\n",
              "\n",
              "          const docLinkHtml = 'Like what you see? Visit the ' +\n",
              "            '<a target=\"_blank\" href=https://colab.research.google.com/notebooks/data_table.ipynb>data table notebook</a>'\n",
              "            + ' to learn more about interactive tables.';\n",
              "          element.innerHTML = '';\n",
              "          dataTable['output_type'] = 'display_data';\n",
              "          await google.colab.output.renderOutput(dataTable, element);\n",
              "          const docLink = document.createElement('div');\n",
              "          docLink.innerHTML = docLinkHtml;\n",
              "          element.appendChild(docLink);\n",
              "        }\n",
              "      </script>\n",
              "    </div>\n",
              "  </div>\n",
              "  "
            ]
          },
          "metadata": {},
          "execution_count": 177
        }
      ]
    },
    {
      "cell_type": "markdown",
      "source": [
        "## Save to CSV"
      ],
      "metadata": {
        "id": "q_RnIyU3xy2k"
      }
    },
    {
      "cell_type": "markdown",
      "source": [
        "### Direct Save"
      ],
      "metadata": {
        "id": "hvUkmzDi1jLM"
      }
    },
    {
      "cell_type": "code",
      "source": [
        "df_final.to_excel(\"scoring_result.xlsx\", index = False)"
      ],
      "metadata": {
        "id": "WuL2sGVJx0UU"
      },
      "execution_count": 169,
      "outputs": []
    },
    {
      "cell_type": "markdown",
      "source": [
        "### Auto Adjust Column Width"
      ],
      "metadata": {
        "id": "ccEoO2xK1nI8"
      }
    },
    {
      "cell_type": "code",
      "source": [
        "pip install xlsxwriter"
      ],
      "metadata": {
        "colab": {
          "base_uri": "https://localhost:8080/"
        },
        "id": "Qb001PwR03uW",
        "outputId": "29c72009-0456-4029-c81b-21d6ec842c24"
      },
      "execution_count": 178,
      "outputs": [
        {
          "output_type": "stream",
          "name": "stdout",
          "text": [
            "Requirement already satisfied: xlsxwriter in /usr/local/lib/python3.7/dist-packages (3.0.3)\n"
          ]
        }
      ]
    },
    {
      "cell_type": "code",
      "source": [
        "filename = 'scoring_result.xlsx'\n",
        "dfs = {'df_final': df_final}\n",
        "\n",
        "writer = pd.ExcelWriter(filename, engine='xlsxwriter')\n",
        "for sheetname, df in dfs.items():  # loop through `dict` of dataframes\n",
        "    df.to_excel(writer, sheet_name=sheetname, index = False)  # send df to writer\n",
        "    worksheet = writer.sheets[sheetname]  # pull worksheet object\n",
        "    for idx, col in enumerate(df):  # loop through all columns\n",
        "        series = df[col]\n",
        "        max_len = max((\n",
        "            series.astype(str).map(len).max(),  # len of largest item\n",
        "            len(str(series.name))  # len of column name/header\n",
        "            )) + 1  # adding a little extra space\n",
        "        worksheet.set_column(idx, idx, max_len)  # set column width\n",
        "writer.save()"
      ],
      "metadata": {
        "id": "EBYLV85u0Cep"
      },
      "execution_count": 176,
      "outputs": []
    }
  ]
}