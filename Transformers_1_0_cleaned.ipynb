{
  "nbformat": 4,
  "nbformat_minor": 0,
  "metadata": {
    "colab": {
      "name": "Transformers 1.0_cleaned.ipynb",
      "provenance": [],
      "toc_visible": true,
      "collapsed_sections": [
        "8ycrlUG1s7dI",
        "ng_sG-djFVjq",
        "cF7IKaNQpn8_",
        "gTuMP3983yQE",
        "JpWLp1PEtvfm",
        "KgS3CBrksRhg"
      ],
      "authorship_tag": "ABX9TyOKkDJgEI1pDkgGO+mvv56I",
      "include_colab_link": true
    },
    "kernelspec": {
      "name": "python3",
      "display_name": "Python 3"
    },
    "language_info": {
      "name": "python"
    }
  },
  "cells": [
    {
      "cell_type": "markdown",
      "metadata": {
        "id": "view-in-github",
        "colab_type": "text"
      },
      "source": [
        "<a href=\"https://colab.research.google.com/github/LinggarM/Transformers-1.0/blob/master/Transformers_1_0_cleaned.ipynb\" target=\"_parent\"><img src=\"https://colab.research.google.com/assets/colab-badge.svg\" alt=\"Open In Colab\"/></a>"
      ]
    },
    {
      "cell_type": "markdown",
      "source": [
        "# Import Libraries"
      ],
      "metadata": {
        "id": "UUDueZzfs0Az"
      }
    },
    {
      "cell_type": "code",
      "source": [
        "pip install Sastrawi"
      ],
      "metadata": {
        "colab": {
          "base_uri": "https://localhost:8080/"
        },
        "id": "Xzd2xA4W1KfA",
        "outputId": "8178ad52-6a45-4328-dc1f-6e56c90600ac"
      },
      "execution_count": 4,
      "outputs": [
        {
          "output_type": "stream",
          "name": "stdout",
          "text": [
            "Requirement already satisfied: Sastrawi in /usr/local/lib/python3.7/dist-packages (1.0.1)\n"
          ]
        }
      ]
    },
    {
      "cell_type": "code",
      "source": [
        "pip install tensorflow_text"
      ],
      "metadata": {
        "colab": {
          "base_uri": "https://localhost:8080/"
        },
        "id": "BTGaT4bLsxka",
        "outputId": "60fcb02b-2efe-4d57-80e9-fe4c2083cd96"
      },
      "execution_count": 5,
      "outputs": [
        {
          "output_type": "stream",
          "name": "stdout",
          "text": [
            "Requirement already satisfied: tensorflow_text in /usr/local/lib/python3.7/dist-packages (2.8.1)\n",
            "Requirement already satisfied: tensorflow-hub>=0.8.0 in /usr/local/lib/python3.7/dist-packages (from tensorflow_text) (0.12.0)\n",
            "Requirement already satisfied: tensorflow<2.9,>=2.8.0 in /usr/local/lib/python3.7/dist-packages (from tensorflow_text) (2.8.0)\n",
            "Requirement already satisfied: grpcio<2.0,>=1.24.3 in /usr/local/lib/python3.7/dist-packages (from tensorflow<2.9,>=2.8.0->tensorflow_text) (1.44.0)\n",
            "Requirement already satisfied: setuptools in /usr/local/lib/python3.7/dist-packages (from tensorflow<2.9,>=2.8.0->tensorflow_text) (57.4.0)\n",
            "Requirement already satisfied: six>=1.12.0 in /usr/local/lib/python3.7/dist-packages (from tensorflow<2.9,>=2.8.0->tensorflow_text) (1.15.0)\n",
            "Requirement already satisfied: absl-py>=0.4.0 in /usr/local/lib/python3.7/dist-packages (from tensorflow<2.9,>=2.8.0->tensorflow_text) (1.0.0)\n",
            "Requirement already satisfied: tensorboard<2.9,>=2.8 in /usr/local/lib/python3.7/dist-packages (from tensorflow<2.9,>=2.8.0->tensorflow_text) (2.8.0)\n",
            "Requirement already satisfied: keras<2.9,>=2.8.0rc0 in /usr/local/lib/python3.7/dist-packages (from tensorflow<2.9,>=2.8.0->tensorflow_text) (2.8.0)\n",
            "Requirement already satisfied: astunparse>=1.6.0 in /usr/local/lib/python3.7/dist-packages (from tensorflow<2.9,>=2.8.0->tensorflow_text) (1.6.3)\n",
            "Requirement already satisfied: google-pasta>=0.1.1 in /usr/local/lib/python3.7/dist-packages (from tensorflow<2.9,>=2.8.0->tensorflow_text) (0.2.0)\n",
            "Requirement already satisfied: wrapt>=1.11.0 in /usr/local/lib/python3.7/dist-packages (from tensorflow<2.9,>=2.8.0->tensorflow_text) (1.14.0)\n",
            "Requirement already satisfied: termcolor>=1.1.0 in /usr/local/lib/python3.7/dist-packages (from tensorflow<2.9,>=2.8.0->tensorflow_text) (1.1.0)\n",
            "Requirement already satisfied: tensorflow-io-gcs-filesystem>=0.23.1 in /usr/local/lib/python3.7/dist-packages (from tensorflow<2.9,>=2.8.0->tensorflow_text) (0.24.0)\n",
            "Requirement already satisfied: h5py>=2.9.0 in /usr/local/lib/python3.7/dist-packages (from tensorflow<2.9,>=2.8.0->tensorflow_text) (3.1.0)\n",
            "Requirement already satisfied: tf-estimator-nightly==2.8.0.dev2021122109 in /usr/local/lib/python3.7/dist-packages (from tensorflow<2.9,>=2.8.0->tensorflow_text) (2.8.0.dev2021122109)\n",
            "Requirement already satisfied: typing-extensions>=3.6.6 in /usr/local/lib/python3.7/dist-packages (from tensorflow<2.9,>=2.8.0->tensorflow_text) (3.10.0.2)\n",
            "Requirement already satisfied: flatbuffers>=1.12 in /usr/local/lib/python3.7/dist-packages (from tensorflow<2.9,>=2.8.0->tensorflow_text) (2.0)\n",
            "Requirement already satisfied: libclang>=9.0.1 in /usr/local/lib/python3.7/dist-packages (from tensorflow<2.9,>=2.8.0->tensorflow_text) (13.0.0)\n",
            "Requirement already satisfied: opt-einsum>=2.3.2 in /usr/local/lib/python3.7/dist-packages (from tensorflow<2.9,>=2.8.0->tensorflow_text) (3.3.0)\n",
            "Requirement already satisfied: gast>=0.2.1 in /usr/local/lib/python3.7/dist-packages (from tensorflow<2.9,>=2.8.0->tensorflow_text) (0.5.3)\n",
            "Requirement already satisfied: numpy>=1.20 in /usr/local/lib/python3.7/dist-packages (from tensorflow<2.9,>=2.8.0->tensorflow_text) (1.21.5)\n",
            "Requirement already satisfied: protobuf>=3.9.2 in /usr/local/lib/python3.7/dist-packages (from tensorflow<2.9,>=2.8.0->tensorflow_text) (3.17.3)\n",
            "Requirement already satisfied: keras-preprocessing>=1.1.1 in /usr/local/lib/python3.7/dist-packages (from tensorflow<2.9,>=2.8.0->tensorflow_text) (1.1.2)\n",
            "Requirement already satisfied: wheel<1.0,>=0.23.0 in /usr/local/lib/python3.7/dist-packages (from astunparse>=1.6.0->tensorflow<2.9,>=2.8.0->tensorflow_text) (0.37.1)\n",
            "Requirement already satisfied: cached-property in /usr/local/lib/python3.7/dist-packages (from h5py>=2.9.0->tensorflow<2.9,>=2.8.0->tensorflow_text) (1.5.2)\n",
            "Requirement already satisfied: requests<3,>=2.21.0 in /usr/local/lib/python3.7/dist-packages (from tensorboard<2.9,>=2.8->tensorflow<2.9,>=2.8.0->tensorflow_text) (2.23.0)\n",
            "Requirement already satisfied: tensorboard-data-server<0.7.0,>=0.6.0 in /usr/local/lib/python3.7/dist-packages (from tensorboard<2.9,>=2.8->tensorflow<2.9,>=2.8.0->tensorflow_text) (0.6.1)\n",
            "Requirement already satisfied: tensorboard-plugin-wit>=1.6.0 in /usr/local/lib/python3.7/dist-packages (from tensorboard<2.9,>=2.8->tensorflow<2.9,>=2.8.0->tensorflow_text) (1.8.1)\n",
            "Requirement already satisfied: markdown>=2.6.8 in /usr/local/lib/python3.7/dist-packages (from tensorboard<2.9,>=2.8->tensorflow<2.9,>=2.8.0->tensorflow_text) (3.3.6)\n",
            "Requirement already satisfied: werkzeug>=0.11.15 in /usr/local/lib/python3.7/dist-packages (from tensorboard<2.9,>=2.8->tensorflow<2.9,>=2.8.0->tensorflow_text) (1.0.1)\n",
            "Requirement already satisfied: google-auth<3,>=1.6.3 in /usr/local/lib/python3.7/dist-packages (from tensorboard<2.9,>=2.8->tensorflow<2.9,>=2.8.0->tensorflow_text) (1.35.0)\n",
            "Requirement already satisfied: google-auth-oauthlib<0.5,>=0.4.1 in /usr/local/lib/python3.7/dist-packages (from tensorboard<2.9,>=2.8->tensorflow<2.9,>=2.8.0->tensorflow_text) (0.4.6)\n",
            "Requirement already satisfied: rsa<5,>=3.1.4 in /usr/local/lib/python3.7/dist-packages (from google-auth<3,>=1.6.3->tensorboard<2.9,>=2.8->tensorflow<2.9,>=2.8.0->tensorflow_text) (4.8)\n",
            "Requirement already satisfied: pyasn1-modules>=0.2.1 in /usr/local/lib/python3.7/dist-packages (from google-auth<3,>=1.6.3->tensorboard<2.9,>=2.8->tensorflow<2.9,>=2.8.0->tensorflow_text) (0.2.8)\n",
            "Requirement already satisfied: cachetools<5.0,>=2.0.0 in /usr/local/lib/python3.7/dist-packages (from google-auth<3,>=1.6.3->tensorboard<2.9,>=2.8->tensorflow<2.9,>=2.8.0->tensorflow_text) (4.2.4)\n",
            "Requirement already satisfied: requests-oauthlib>=0.7.0 in /usr/local/lib/python3.7/dist-packages (from google-auth-oauthlib<0.5,>=0.4.1->tensorboard<2.9,>=2.8->tensorflow<2.9,>=2.8.0->tensorflow_text) (1.3.1)\n",
            "Requirement already satisfied: importlib-metadata>=4.4 in /usr/local/lib/python3.7/dist-packages (from markdown>=2.6.8->tensorboard<2.9,>=2.8->tensorflow<2.9,>=2.8.0->tensorflow_text) (4.11.3)\n",
            "Requirement already satisfied: zipp>=0.5 in /usr/local/lib/python3.7/dist-packages (from importlib-metadata>=4.4->markdown>=2.6.8->tensorboard<2.9,>=2.8->tensorflow<2.9,>=2.8.0->tensorflow_text) (3.7.0)\n",
            "Requirement already satisfied: pyasn1<0.5.0,>=0.4.6 in /usr/local/lib/python3.7/dist-packages (from pyasn1-modules>=0.2.1->google-auth<3,>=1.6.3->tensorboard<2.9,>=2.8->tensorflow<2.9,>=2.8.0->tensorflow_text) (0.4.8)\n",
            "Requirement already satisfied: urllib3!=1.25.0,!=1.25.1,<1.26,>=1.21.1 in /usr/local/lib/python3.7/dist-packages (from requests<3,>=2.21.0->tensorboard<2.9,>=2.8->tensorflow<2.9,>=2.8.0->tensorflow_text) (1.24.3)\n",
            "Requirement already satisfied: chardet<4,>=3.0.2 in /usr/local/lib/python3.7/dist-packages (from requests<3,>=2.21.0->tensorboard<2.9,>=2.8->tensorflow<2.9,>=2.8.0->tensorflow_text) (3.0.4)\n",
            "Requirement already satisfied: certifi>=2017.4.17 in /usr/local/lib/python3.7/dist-packages (from requests<3,>=2.21.0->tensorboard<2.9,>=2.8->tensorflow<2.9,>=2.8.0->tensorflow_text) (2021.10.8)\n",
            "Requirement already satisfied: idna<3,>=2.5 in /usr/local/lib/python3.7/dist-packages (from requests<3,>=2.21.0->tensorboard<2.9,>=2.8->tensorflow<2.9,>=2.8.0->tensorflow_text) (2.10)\n",
            "Requirement already satisfied: oauthlib>=3.0.0 in /usr/local/lib/python3.7/dist-packages (from requests-oauthlib>=0.7.0->google-auth-oauthlib<0.5,>=0.4.1->tensorboard<2.9,>=2.8->tensorflow<2.9,>=2.8.0->tensorflow_text) (3.2.0)\n"
          ]
        }
      ]
    },
    {
      "cell_type": "code",
      "source": [
        "pip install transformers"
      ],
      "metadata": {
        "id": "aX3Ao_p22DIX",
        "outputId": "27c38ecd-3cb8-43db-bc9c-d9e1c1babcab",
        "colab": {
          "base_uri": "https://localhost:8080/"
        }
      },
      "execution_count": 6,
      "outputs": [
        {
          "output_type": "stream",
          "name": "stdout",
          "text": [
            "Requirement already satisfied: transformers in /usr/local/lib/python3.7/dist-packages (4.18.0)\n",
            "Requirement already satisfied: filelock in /usr/local/lib/python3.7/dist-packages (from transformers) (3.6.0)\n",
            "Requirement already satisfied: tqdm>=4.27 in /usr/local/lib/python3.7/dist-packages (from transformers) (4.63.0)\n",
            "Requirement already satisfied: numpy>=1.17 in /usr/local/lib/python3.7/dist-packages (from transformers) (1.21.5)\n",
            "Requirement already satisfied: tokenizers!=0.11.3,<0.13,>=0.11.1 in /usr/local/lib/python3.7/dist-packages (from transformers) (0.11.6)\n",
            "Requirement already satisfied: sacremoses in /usr/local/lib/python3.7/dist-packages (from transformers) (0.0.49)\n",
            "Requirement already satisfied: pyyaml>=5.1 in /usr/local/lib/python3.7/dist-packages (from transformers) (6.0)\n",
            "Requirement already satisfied: packaging>=20.0 in /usr/local/lib/python3.7/dist-packages (from transformers) (21.3)\n",
            "Requirement already satisfied: requests in /usr/local/lib/python3.7/dist-packages (from transformers) (2.23.0)\n",
            "Requirement already satisfied: importlib-metadata in /usr/local/lib/python3.7/dist-packages (from transformers) (4.11.3)\n",
            "Requirement already satisfied: regex!=2019.12.17 in /usr/local/lib/python3.7/dist-packages (from transformers) (2019.12.20)\n",
            "Requirement already satisfied: huggingface-hub<1.0,>=0.1.0 in /usr/local/lib/python3.7/dist-packages (from transformers) (0.5.1)\n",
            "Requirement already satisfied: typing-extensions>=3.7.4.3 in /usr/local/lib/python3.7/dist-packages (from huggingface-hub<1.0,>=0.1.0->transformers) (3.10.0.2)\n",
            "Requirement already satisfied: pyparsing!=3.0.5,>=2.0.2 in /usr/local/lib/python3.7/dist-packages (from packaging>=20.0->transformers) (3.0.7)\n",
            "Requirement already satisfied: zipp>=0.5 in /usr/local/lib/python3.7/dist-packages (from importlib-metadata->transformers) (3.7.0)\n",
            "Requirement already satisfied: urllib3!=1.25.0,!=1.25.1,<1.26,>=1.21.1 in /usr/local/lib/python3.7/dist-packages (from requests->transformers) (1.24.3)\n",
            "Requirement already satisfied: certifi>=2017.4.17 in /usr/local/lib/python3.7/dist-packages (from requests->transformers) (2021.10.8)\n",
            "Requirement already satisfied: idna<3,>=2.5 in /usr/local/lib/python3.7/dist-packages (from requests->transformers) (2.10)\n",
            "Requirement already satisfied: chardet<4,>=3.0.2 in /usr/local/lib/python3.7/dist-packages (from requests->transformers) (3.0.4)\n",
            "Requirement already satisfied: six in /usr/local/lib/python3.7/dist-packages (from sacremoses->transformers) (1.15.0)\n",
            "Requirement already satisfied: joblib in /usr/local/lib/python3.7/dist-packages (from sacremoses->transformers) (1.1.0)\n",
            "Requirement already satisfied: click in /usr/local/lib/python3.7/dist-packages (from sacremoses->transformers) (7.1.2)\n"
          ]
        }
      ]
    },
    {
      "cell_type": "code",
      "source": [
        "pip install xlsxwriter"
      ],
      "metadata": {
        "colab": {
          "base_uri": "https://localhost:8080/"
        },
        "id": "xD7bMpJDSts5",
        "outputId": "96252384-c4a7-4d4f-b2ec-de4abce52168"
      },
      "execution_count": 7,
      "outputs": [
        {
          "output_type": "stream",
          "name": "stdout",
          "text": [
            "Requirement already satisfied: xlsxwriter in /usr/local/lib/python3.7/dist-packages (3.0.3)\n"
          ]
        }
      ]
    },
    {
      "cell_type": "code",
      "execution_count": 8,
      "metadata": {
        "id": "UcfgKLqysv1A"
      },
      "outputs": [],
      "source": [
        "import numpy as np\n",
        "import pandas as pd\n",
        "import re\n",
        "from Sastrawi.StopWordRemover.StopWordRemoverFactory import StopWordRemoverFactory\n",
        "from Sastrawi.Stemmer.StemmerFactory import StemmerFactory\n",
        "from tensorflow.keras.preprocessing.text import Tokenizer\n",
        "from tensorflow.keras.preprocessing.sequence import pad_sequences\n",
        "import transformers\n",
        "from gensim.models import Word2Vec\n",
        "import gensim.models\n",
        "import tensorflow_hub as hub\n",
        "import tensorflow_text\n",
        "import tensorflow as tf\n",
        "from keras import backend as K\n",
        "from tensorflow.keras import Model\n",
        "from tensorflow.keras.layers import Input, Conv1D, Bidirectional, LSTM, GRU, Flatten, Dense, Dropout, Lambda\n",
        "from keras.layers.merge import concatenate\n",
        "import matplotlib.pyplot as plt"
      ]
    },
    {
      "cell_type": "markdown",
      "source": [
        "# Import Data\n",
        "Menggunakan Ukara Dataset (https://github.com/aliakbars/ukara)\n",
        "\n",
        "**Output :**\n",
        "*   pertanyaan (string)\n",
        "*   jawaban (list)\n",
        "*   score (list)\n",
        "*   id_mahasiswa (numpy array)"
      ],
      "metadata": {
        "id": "8ycrlUG1s7dI"
      }
    },
    {
      "cell_type": "code",
      "source": [
        "from google.colab import drive\n",
        "drive.mount('/content/gdrive/')"
      ],
      "metadata": {
        "colab": {
          "base_uri": "https://localhost:8080/"
        },
        "id": "peKKIE8Xs9go",
        "outputId": "fbc2b36a-cbef-4b7d-96af-cf547591413c"
      },
      "execution_count": 26,
      "outputs": [
        {
          "output_type": "stream",
          "name": "stdout",
          "text": [
            "Drive already mounted at /content/gdrive/; to attempt to forcibly remount, call drive.mount(\"/content/gdrive/\", force_remount=True).\n"
          ]
        }
      ]
    },
    {
      "cell_type": "code",
      "source": [
        "path = \"/content/gdrive/MyDrive/Upload/Machine Learning/Projects/Transformers 1.0/Data/Dummy Data\"\n",
        "\n",
        "# Data A\n",
        "data_pertanyaan_a = f\"{path}/Data A/stimulus dan coding guidelines data A.txt\"\n",
        "data_train_a = f\"{path}/Data A/data_train_A.csv\"\n",
        "data_dev_a = f\"{path}/Data A/data_dev_A.csv\"\n",
        "\n",
        "# Data B\n",
        "data_pertanyaan_b = f\"{path}/Data B/stimulus dan coding guidelines data B.txt\"\n",
        "data_train_b = f\"{path}/Data B/data_train_B.csv\"\n",
        "data_dev_b = f\"{path}/Data B/data_dev_B.csv\""
      ],
      "metadata": {
        "id": "YMB3zCU0tgnu"
      },
      "execution_count": 27,
      "outputs": []
    },
    {
      "cell_type": "code",
      "source": [
        "# Data A\n",
        "pertanyaan_a = open(data_pertanyaan_a, \"r+\").read()\n",
        "df_train_a = pd.read_csv(data_train_a)\n",
        "df_test_a = pd.read_csv(data_dev_a)\n",
        "\n",
        "# Data B\n",
        "pertanyaan_b = open(data_pertanyaan_b, \"r+\").read()\n",
        "df_train_b = pd.read_csv(data_train_b)\n",
        "df_test_b = pd.read_csv(data_dev_b)"
      ],
      "metadata": {
        "id": "CmqKf-sTuTMM"
      },
      "execution_count": 28,
      "outputs": []
    },
    {
      "cell_type": "markdown",
      "source": [
        "## Data Preview"
      ],
      "metadata": {
        "id": "tSuuiqgywcRx"
      }
    },
    {
      "cell_type": "markdown",
      "source": [
        "### Data A"
      ],
      "metadata": {
        "id": "IKAZT8S6xGYf"
      }
    },
    {
      "cell_type": "code",
      "source": [
        "# Pertanyaan\n",
        "print(pertanyaan_a)"
      ],
      "metadata": {
        "colab": {
          "base_uri": "https://localhost:8080/"
        },
        "id": "1k21tCb7vvQ6",
        "outputId": "ab0dfc52-5ff6-4f39-b2ac-760466896ba4"
      },
      "execution_count": 29,
      "outputs": [
        {
          "output_type": "stream",
          "name": "stdout",
          "text": [
            "---------------------------------------------------------------------------------------------------------------------------------------------\n",
            "STIMULUS\n",
            "---------------------------------------------------------------------------------------------------------------------------------------------\n",
            "Pemanasan global terjadi karena peningkatan produksi karbon dioksida yang dihasilkan oleh pembakaran fosil dan konsumsi bahan bakar yang tinggi. Salah satu akibat adalah mencairnya es abadi di kutub utara dan selatan yang menimbulkan naiknya ketinggian air laut. kenaikan air laut akan terjadi terus menerus meskipun dalam hitungan centimeter akan mengakibatkan perubahan yang signifikan.\n",
            "\n",
            "Film “Waterworld”, adalah film fiksi ilmiah yang menunjukkan akibat adanya pemanasan global yang sangat besar sehingga menyebabkan bumi menjadi tertutup oleh lautan. Negara-negara dan daratan yang dulunya kering menjadi tengelamn karena terjadi kenaikan permukaan air laut. Penduduk yang dulunya bisa berkehidupan bebas menjadi terpaksa mengungsi ke daratan yang lebih tinggi atau tinggal diatas air.\n",
            "\n",
            "Pertanyaan :\n",
            "Apa yang akan menjadi tantangan bagi suatu penduduk ketika terjadi situasi daratan tidak dapat ditinggali kembali karena tengelam oleh naiknya air laut.\n",
            "---------------------------------------------------------------------------------------------------------------------------------------------\n",
            "CODING GUIDELINES\n",
            "---------------------------------------------------------------------------------------------------------------------------------------------\n",
            "Label 1: siswa memberikan jawaban yang mengindikasikan beberapa hal yang bisa dilakukan ketika seseorang berpindah lokasi karena permasalahan dalam pertanyaan. Kemudian dapat menjelaskan tantangan berupa poin mengenai komunikasi, finansial, ekonomi dan sosial dalam kehidupan yang baru karena perpindahan.  \n",
            "\n",
            "Label 0: Siswa memberikan jawaban yang salah, tidak jelas, tidak cukup atau tidak relevan.\n",
            "\n",
            "\n",
            "\n"
          ]
        }
      ]
    },
    {
      "cell_type": "code",
      "source": [
        "df_train_a.head()"
      ],
      "metadata": {
        "colab": {
          "base_uri": "https://localhost:8080/",
          "height": 0
        },
        "id": "14ehvGlxwxxI",
        "outputId": "56d75252-da6d-4ff5-c20b-9171173c9199"
      },
      "execution_count": 30,
      "outputs": [
        {
          "output_type": "execute_result",
          "data": {
            "text/plain": [
              "  RES_ID                                           RESPONSE  LABEL\n",
              "0   TRA1  intetraksi/beradaptasi terhadap lingkungan yan...      1\n",
              "1   TRA2         seperti jatuhnya meteor tsunami gempa bumi      0\n",
              "2   TRA3      hanya tuhan yang tahu tantangan nya itu apaan      0\n",
              "3   TRA4                      mereka akan sulit beradaptasi      1\n",
              "4   TRA5             Tempat tinggal, ekonomi, dan pekerjaan      1"
            ],
            "text/html": [
              "\n",
              "  <div id=\"df-6693bb0c-c858-4c5d-bbff-d3170ab0f0a1\">\n",
              "    <div class=\"colab-df-container\">\n",
              "      <div>\n",
              "<style scoped>\n",
              "    .dataframe tbody tr th:only-of-type {\n",
              "        vertical-align: middle;\n",
              "    }\n",
              "\n",
              "    .dataframe tbody tr th {\n",
              "        vertical-align: top;\n",
              "    }\n",
              "\n",
              "    .dataframe thead th {\n",
              "        text-align: right;\n",
              "    }\n",
              "</style>\n",
              "<table border=\"1\" class=\"dataframe\">\n",
              "  <thead>\n",
              "    <tr style=\"text-align: right;\">\n",
              "      <th></th>\n",
              "      <th>RES_ID</th>\n",
              "      <th>RESPONSE</th>\n",
              "      <th>LABEL</th>\n",
              "    </tr>\n",
              "  </thead>\n",
              "  <tbody>\n",
              "    <tr>\n",
              "      <th>0</th>\n",
              "      <td>TRA1</td>\n",
              "      <td>intetraksi/beradaptasi terhadap lingkungan yan...</td>\n",
              "      <td>1</td>\n",
              "    </tr>\n",
              "    <tr>\n",
              "      <th>1</th>\n",
              "      <td>TRA2</td>\n",
              "      <td>seperti jatuhnya meteor tsunami gempa bumi</td>\n",
              "      <td>0</td>\n",
              "    </tr>\n",
              "    <tr>\n",
              "      <th>2</th>\n",
              "      <td>TRA3</td>\n",
              "      <td>hanya tuhan yang tahu tantangan nya itu apaan</td>\n",
              "      <td>0</td>\n",
              "    </tr>\n",
              "    <tr>\n",
              "      <th>3</th>\n",
              "      <td>TRA4</td>\n",
              "      <td>mereka akan sulit beradaptasi</td>\n",
              "      <td>1</td>\n",
              "    </tr>\n",
              "    <tr>\n",
              "      <th>4</th>\n",
              "      <td>TRA5</td>\n",
              "      <td>Tempat tinggal, ekonomi, dan pekerjaan</td>\n",
              "      <td>1</td>\n",
              "    </tr>\n",
              "  </tbody>\n",
              "</table>\n",
              "</div>\n",
              "      <button class=\"colab-df-convert\" onclick=\"convertToInteractive('df-6693bb0c-c858-4c5d-bbff-d3170ab0f0a1')\"\n",
              "              title=\"Convert this dataframe to an interactive table.\"\n",
              "              style=\"display:none;\">\n",
              "        \n",
              "  <svg xmlns=\"http://www.w3.org/2000/svg\" height=\"24px\"viewBox=\"0 0 24 24\"\n",
              "       width=\"24px\">\n",
              "    <path d=\"M0 0h24v24H0V0z\" fill=\"none\"/>\n",
              "    <path d=\"M18.56 5.44l.94 2.06.94-2.06 2.06-.94-2.06-.94-.94-2.06-.94 2.06-2.06.94zm-11 1L8.5 8.5l.94-2.06 2.06-.94-2.06-.94L8.5 2.5l-.94 2.06-2.06.94zm10 10l.94 2.06.94-2.06 2.06-.94-2.06-.94-.94-2.06-.94 2.06-2.06.94z\"/><path d=\"M17.41 7.96l-1.37-1.37c-.4-.4-.92-.59-1.43-.59-.52 0-1.04.2-1.43.59L10.3 9.45l-7.72 7.72c-.78.78-.78 2.05 0 2.83L4 21.41c.39.39.9.59 1.41.59.51 0 1.02-.2 1.41-.59l7.78-7.78 2.81-2.81c.8-.78.8-2.07 0-2.86zM5.41 20L4 18.59l7.72-7.72 1.47 1.35L5.41 20z\"/>\n",
              "  </svg>\n",
              "      </button>\n",
              "      \n",
              "  <style>\n",
              "    .colab-df-container {\n",
              "      display:flex;\n",
              "      flex-wrap:wrap;\n",
              "      gap: 12px;\n",
              "    }\n",
              "\n",
              "    .colab-df-convert {\n",
              "      background-color: #E8F0FE;\n",
              "      border: none;\n",
              "      border-radius: 50%;\n",
              "      cursor: pointer;\n",
              "      display: none;\n",
              "      fill: #1967D2;\n",
              "      height: 32px;\n",
              "      padding: 0 0 0 0;\n",
              "      width: 32px;\n",
              "    }\n",
              "\n",
              "    .colab-df-convert:hover {\n",
              "      background-color: #E2EBFA;\n",
              "      box-shadow: 0px 1px 2px rgba(60, 64, 67, 0.3), 0px 1px 3px 1px rgba(60, 64, 67, 0.15);\n",
              "      fill: #174EA6;\n",
              "    }\n",
              "\n",
              "    [theme=dark] .colab-df-convert {\n",
              "      background-color: #3B4455;\n",
              "      fill: #D2E3FC;\n",
              "    }\n",
              "\n",
              "    [theme=dark] .colab-df-convert:hover {\n",
              "      background-color: #434B5C;\n",
              "      box-shadow: 0px 1px 3px 1px rgba(0, 0, 0, 0.15);\n",
              "      filter: drop-shadow(0px 1px 2px rgba(0, 0, 0, 0.3));\n",
              "      fill: #FFFFFF;\n",
              "    }\n",
              "  </style>\n",
              "\n",
              "      <script>\n",
              "        const buttonEl =\n",
              "          document.querySelector('#df-6693bb0c-c858-4c5d-bbff-d3170ab0f0a1 button.colab-df-convert');\n",
              "        buttonEl.style.display =\n",
              "          google.colab.kernel.accessAllowed ? 'block' : 'none';\n",
              "\n",
              "        async function convertToInteractive(key) {\n",
              "          const element = document.querySelector('#df-6693bb0c-c858-4c5d-bbff-d3170ab0f0a1');\n",
              "          const dataTable =\n",
              "            await google.colab.kernel.invokeFunction('convertToInteractive',\n",
              "                                                     [key], {});\n",
              "          if (!dataTable) return;\n",
              "\n",
              "          const docLinkHtml = 'Like what you see? Visit the ' +\n",
              "            '<a target=\"_blank\" href=https://colab.research.google.com/notebooks/data_table.ipynb>data table notebook</a>'\n",
              "            + ' to learn more about interactive tables.';\n",
              "          element.innerHTML = '';\n",
              "          dataTable['output_type'] = 'display_data';\n",
              "          await google.colab.output.renderOutput(dataTable, element);\n",
              "          const docLink = document.createElement('div');\n",
              "          docLink.innerHTML = docLinkHtml;\n",
              "          element.appendChild(docLink);\n",
              "        }\n",
              "      </script>\n",
              "    </div>\n",
              "  </div>\n",
              "  "
            ]
          },
          "metadata": {},
          "execution_count": 30
        }
      ]
    },
    {
      "cell_type": "code",
      "source": [
        "df_train_a.info()"
      ],
      "metadata": {
        "colab": {
          "base_uri": "https://localhost:8080/"
        },
        "id": "qw47dC4xwO_p",
        "outputId": "e8a2fef9-1d1b-4e5b-cb49-79cadbcc9d8b"
      },
      "execution_count": 31,
      "outputs": [
        {
          "output_type": "stream",
          "name": "stdout",
          "text": [
            "<class 'pandas.core.frame.DataFrame'>\n",
            "RangeIndex: 268 entries, 0 to 267\n",
            "Data columns (total 3 columns):\n",
            " #   Column    Non-Null Count  Dtype \n",
            "---  ------    --------------  ----- \n",
            " 0   RES_ID    268 non-null    object\n",
            " 1   RESPONSE  268 non-null    object\n",
            " 2   LABEL     268 non-null    int64 \n",
            "dtypes: int64(1), object(2)\n",
            "memory usage: 6.4+ KB\n"
          ]
        }
      ]
    },
    {
      "cell_type": "code",
      "source": [
        "df_test_a.head()"
      ],
      "metadata": {
        "colab": {
          "base_uri": "https://localhost:8080/",
          "height": 0
        },
        "outputId": "216c903a-e755-4de6-f424-74e7b0c0aaab",
        "id": "8LUzCQuRxAJ_"
      },
      "execution_count": 32,
      "outputs": [
        {
          "output_type": "execute_result",
          "data": {
            "text/plain": [
              "  RES_ID                                           RESPONSE\n",
              "0  DEVA1  karena di tempat tnggalnya tidak aman karena b...\n",
              "1  DEVA2  banyak yang menolak, susah mencari lapangan pe...\n",
              "2  DEVA3  ah berkomunikasi dengan wilyah yang mereka tem...\n",
              "3  DEVA4  tantangan yang akan mereka hadapi, seperti mer...\n",
              "4  DEVA5      Mereka akan tidak terbiasa dengan tempat baru"
            ],
            "text/html": [
              "\n",
              "  <div id=\"df-fb25f0dc-e48c-4dea-8b2d-73b6603445e0\">\n",
              "    <div class=\"colab-df-container\">\n",
              "      <div>\n",
              "<style scoped>\n",
              "    .dataframe tbody tr th:only-of-type {\n",
              "        vertical-align: middle;\n",
              "    }\n",
              "\n",
              "    .dataframe tbody tr th {\n",
              "        vertical-align: top;\n",
              "    }\n",
              "\n",
              "    .dataframe thead th {\n",
              "        text-align: right;\n",
              "    }\n",
              "</style>\n",
              "<table border=\"1\" class=\"dataframe\">\n",
              "  <thead>\n",
              "    <tr style=\"text-align: right;\">\n",
              "      <th></th>\n",
              "      <th>RES_ID</th>\n",
              "      <th>RESPONSE</th>\n",
              "    </tr>\n",
              "  </thead>\n",
              "  <tbody>\n",
              "    <tr>\n",
              "      <th>0</th>\n",
              "      <td>DEVA1</td>\n",
              "      <td>karena di tempat tnggalnya tidak aman karena b...</td>\n",
              "    </tr>\n",
              "    <tr>\n",
              "      <th>1</th>\n",
              "      <td>DEVA2</td>\n",
              "      <td>banyak yang menolak, susah mencari lapangan pe...</td>\n",
              "    </tr>\n",
              "    <tr>\n",
              "      <th>2</th>\n",
              "      <td>DEVA3</td>\n",
              "      <td>ah berkomunikasi dengan wilyah yang mereka tem...</td>\n",
              "    </tr>\n",
              "    <tr>\n",
              "      <th>3</th>\n",
              "      <td>DEVA4</td>\n",
              "      <td>tantangan yang akan mereka hadapi, seperti mer...</td>\n",
              "    </tr>\n",
              "    <tr>\n",
              "      <th>4</th>\n",
              "      <td>DEVA5</td>\n",
              "      <td>Mereka akan tidak terbiasa dengan tempat baru</td>\n",
              "    </tr>\n",
              "  </tbody>\n",
              "</table>\n",
              "</div>\n",
              "      <button class=\"colab-df-convert\" onclick=\"convertToInteractive('df-fb25f0dc-e48c-4dea-8b2d-73b6603445e0')\"\n",
              "              title=\"Convert this dataframe to an interactive table.\"\n",
              "              style=\"display:none;\">\n",
              "        \n",
              "  <svg xmlns=\"http://www.w3.org/2000/svg\" height=\"24px\"viewBox=\"0 0 24 24\"\n",
              "       width=\"24px\">\n",
              "    <path d=\"M0 0h24v24H0V0z\" fill=\"none\"/>\n",
              "    <path d=\"M18.56 5.44l.94 2.06.94-2.06 2.06-.94-2.06-.94-.94-2.06-.94 2.06-2.06.94zm-11 1L8.5 8.5l.94-2.06 2.06-.94-2.06-.94L8.5 2.5l-.94 2.06-2.06.94zm10 10l.94 2.06.94-2.06 2.06-.94-2.06-.94-.94-2.06-.94 2.06-2.06.94z\"/><path d=\"M17.41 7.96l-1.37-1.37c-.4-.4-.92-.59-1.43-.59-.52 0-1.04.2-1.43.59L10.3 9.45l-7.72 7.72c-.78.78-.78 2.05 0 2.83L4 21.41c.39.39.9.59 1.41.59.51 0 1.02-.2 1.41-.59l7.78-7.78 2.81-2.81c.8-.78.8-2.07 0-2.86zM5.41 20L4 18.59l7.72-7.72 1.47 1.35L5.41 20z\"/>\n",
              "  </svg>\n",
              "      </button>\n",
              "      \n",
              "  <style>\n",
              "    .colab-df-container {\n",
              "      display:flex;\n",
              "      flex-wrap:wrap;\n",
              "      gap: 12px;\n",
              "    }\n",
              "\n",
              "    .colab-df-convert {\n",
              "      background-color: #E8F0FE;\n",
              "      border: none;\n",
              "      border-radius: 50%;\n",
              "      cursor: pointer;\n",
              "      display: none;\n",
              "      fill: #1967D2;\n",
              "      height: 32px;\n",
              "      padding: 0 0 0 0;\n",
              "      width: 32px;\n",
              "    }\n",
              "\n",
              "    .colab-df-convert:hover {\n",
              "      background-color: #E2EBFA;\n",
              "      box-shadow: 0px 1px 2px rgba(60, 64, 67, 0.3), 0px 1px 3px 1px rgba(60, 64, 67, 0.15);\n",
              "      fill: #174EA6;\n",
              "    }\n",
              "\n",
              "    [theme=dark] .colab-df-convert {\n",
              "      background-color: #3B4455;\n",
              "      fill: #D2E3FC;\n",
              "    }\n",
              "\n",
              "    [theme=dark] .colab-df-convert:hover {\n",
              "      background-color: #434B5C;\n",
              "      box-shadow: 0px 1px 3px 1px rgba(0, 0, 0, 0.15);\n",
              "      filter: drop-shadow(0px 1px 2px rgba(0, 0, 0, 0.3));\n",
              "      fill: #FFFFFF;\n",
              "    }\n",
              "  </style>\n",
              "\n",
              "      <script>\n",
              "        const buttonEl =\n",
              "          document.querySelector('#df-fb25f0dc-e48c-4dea-8b2d-73b6603445e0 button.colab-df-convert');\n",
              "        buttonEl.style.display =\n",
              "          google.colab.kernel.accessAllowed ? 'block' : 'none';\n",
              "\n",
              "        async function convertToInteractive(key) {\n",
              "          const element = document.querySelector('#df-fb25f0dc-e48c-4dea-8b2d-73b6603445e0');\n",
              "          const dataTable =\n",
              "            await google.colab.kernel.invokeFunction('convertToInteractive',\n",
              "                                                     [key], {});\n",
              "          if (!dataTable) return;\n",
              "\n",
              "          const docLinkHtml = 'Like what you see? Visit the ' +\n",
              "            '<a target=\"_blank\" href=https://colab.research.google.com/notebooks/data_table.ipynb>data table notebook</a>'\n",
              "            + ' to learn more about interactive tables.';\n",
              "          element.innerHTML = '';\n",
              "          dataTable['output_type'] = 'display_data';\n",
              "          await google.colab.output.renderOutput(dataTable, element);\n",
              "          const docLink = document.createElement('div');\n",
              "          docLink.innerHTML = docLinkHtml;\n",
              "          element.appendChild(docLink);\n",
              "        }\n",
              "      </script>\n",
              "    </div>\n",
              "  </div>\n",
              "  "
            ]
          },
          "metadata": {},
          "execution_count": 32
        }
      ]
    },
    {
      "cell_type": "code",
      "source": [
        "df_test_a.info()"
      ],
      "metadata": {
        "colab": {
          "base_uri": "https://localhost:8080/"
        },
        "outputId": "affc3286-852e-4313-a6e5-9599182cba98",
        "id": "rmyitiycxAKA"
      },
      "execution_count": 33,
      "outputs": [
        {
          "output_type": "stream",
          "name": "stdout",
          "text": [
            "<class 'pandas.core.frame.DataFrame'>\n",
            "RangeIndex: 215 entries, 0 to 214\n",
            "Data columns (total 2 columns):\n",
            " #   Column    Non-Null Count  Dtype \n",
            "---  ------    --------------  ----- \n",
            " 0   RES_ID    215 non-null    object\n",
            " 1   RESPONSE  215 non-null    object\n",
            "dtypes: object(2)\n",
            "memory usage: 3.5+ KB\n"
          ]
        }
      ]
    },
    {
      "cell_type": "markdown",
      "source": [
        "### Data B"
      ],
      "metadata": {
        "id": "AMD7IK80xK8S"
      }
    },
    {
      "cell_type": "code",
      "source": [
        "# Pertanyaan\n",
        "print(pertanyaan_b)"
      ],
      "metadata": {
        "colab": {
          "base_uri": "https://localhost:8080/"
        },
        "outputId": "7822fe12-246e-4d40-850d-1df3aed39b0b",
        "id": "xBQtPunWxK8T"
      },
      "execution_count": 34,
      "outputs": [
        {
          "output_type": "stream",
          "name": "stdout",
          "text": [
            "---------------------------------------------------------------------------------------------------------------------------------------------\n",
            "STIMULUS\n",
            "---------------------------------------------------------------------------------------------------------------------------------------------\n",
            "Sebuah toko baju berkonsep self-service menawarkan promosi dua buah baju bertema tahun baru seharga Rp50.000,00. sebelum baju bertema tahun baru dibagikan kepada pembeli, sebuah layar akan menampilkan tampilan gambar yang menampilkan kondisi kerja di dalam sebuah pabrik konveksi/pembuatan baju. Kemudian pembeli diberi program pilihan untuk menyelesaikan pembeliannya atau menyumpangkan Rp50.000,00 untuk dijadikan donasi pembagian baju musim dingin di suatu daerah yang membutuhkan. Delapan dari sepuluh pembeli memilih untuk memberikan donasi.\n",
            "Menurut anda mengapa banyak dari pembeli yang memilih berdonasi?\n",
            "\n",
            "---------------------------------------------------------------------------------------------------------------------------------------------\n",
            "CODING GUIDELINES\n",
            "---------------------------------------------------------------------------------------------------------------------------------------------\n",
            "Label 1: Siswa memberikan jawaban yang menjelaskan alasan untuk melakukan donasi yang merujuk pada kesadaran akan kondisi kerja di industri pakaian atau bagaimana tindakan konsumen mempengaruhi orang lain ATAU siswa menjelaskan alasan untuk melakukan donasi yang berfokus pada emosi atau motivasi dari donor saja.\n",
            "\n",
            "Label 0: Siswa memberikan jawaban yang salah, tidak jelas, tidak cukup atau tidak relevan.\n",
            "\n"
          ]
        }
      ]
    },
    {
      "cell_type": "code",
      "source": [
        "df_train_b.head()"
      ],
      "metadata": {
        "colab": {
          "base_uri": "https://localhost:8080/",
          "height": 0
        },
        "outputId": "79a0bc23-6f5a-4d25-b35b-13dd15b12dff",
        "id": "Y9Pt-cX2xK8T"
      },
      "execution_count": 35,
      "outputs": [
        {
          "output_type": "execute_result",
          "data": {
            "text/plain": [
              "  RES_ID                                           RESPONSE  LABEL\n",
              "0   TRB1  Karena orang berpikir bahwa jika disumbangkan ...      1\n",
              "1   TRB2  Pakaian awet adalah alternatif terhadap Fast F...      0\n",
              "2   TRB3                  karna orang lebih suka menyumbang      1\n",
              "3   TRB4               karana harga nya terjangkau dan pas.      0\n",
              "4   TRB5                            kerena harganya mahal .      0"
            ],
            "text/html": [
              "\n",
              "  <div id=\"df-2419a9ba-1954-4117-b1c5-258f05970e1d\">\n",
              "    <div class=\"colab-df-container\">\n",
              "      <div>\n",
              "<style scoped>\n",
              "    .dataframe tbody tr th:only-of-type {\n",
              "        vertical-align: middle;\n",
              "    }\n",
              "\n",
              "    .dataframe tbody tr th {\n",
              "        vertical-align: top;\n",
              "    }\n",
              "\n",
              "    .dataframe thead th {\n",
              "        text-align: right;\n",
              "    }\n",
              "</style>\n",
              "<table border=\"1\" class=\"dataframe\">\n",
              "  <thead>\n",
              "    <tr style=\"text-align: right;\">\n",
              "      <th></th>\n",
              "      <th>RES_ID</th>\n",
              "      <th>RESPONSE</th>\n",
              "      <th>LABEL</th>\n",
              "    </tr>\n",
              "  </thead>\n",
              "  <tbody>\n",
              "    <tr>\n",
              "      <th>0</th>\n",
              "      <td>TRB1</td>\n",
              "      <td>Karena orang berpikir bahwa jika disumbangkan ...</td>\n",
              "      <td>1</td>\n",
              "    </tr>\n",
              "    <tr>\n",
              "      <th>1</th>\n",
              "      <td>TRB2</td>\n",
              "      <td>Pakaian awet adalah alternatif terhadap Fast F...</td>\n",
              "      <td>0</td>\n",
              "    </tr>\n",
              "    <tr>\n",
              "      <th>2</th>\n",
              "      <td>TRB3</td>\n",
              "      <td>karna orang lebih suka menyumbang</td>\n",
              "      <td>1</td>\n",
              "    </tr>\n",
              "    <tr>\n",
              "      <th>3</th>\n",
              "      <td>TRB4</td>\n",
              "      <td>karana harga nya terjangkau dan pas.</td>\n",
              "      <td>0</td>\n",
              "    </tr>\n",
              "    <tr>\n",
              "      <th>4</th>\n",
              "      <td>TRB5</td>\n",
              "      <td>kerena harganya mahal .</td>\n",
              "      <td>0</td>\n",
              "    </tr>\n",
              "  </tbody>\n",
              "</table>\n",
              "</div>\n",
              "      <button class=\"colab-df-convert\" onclick=\"convertToInteractive('df-2419a9ba-1954-4117-b1c5-258f05970e1d')\"\n",
              "              title=\"Convert this dataframe to an interactive table.\"\n",
              "              style=\"display:none;\">\n",
              "        \n",
              "  <svg xmlns=\"http://www.w3.org/2000/svg\" height=\"24px\"viewBox=\"0 0 24 24\"\n",
              "       width=\"24px\">\n",
              "    <path d=\"M0 0h24v24H0V0z\" fill=\"none\"/>\n",
              "    <path d=\"M18.56 5.44l.94 2.06.94-2.06 2.06-.94-2.06-.94-.94-2.06-.94 2.06-2.06.94zm-11 1L8.5 8.5l.94-2.06 2.06-.94-2.06-.94L8.5 2.5l-.94 2.06-2.06.94zm10 10l.94 2.06.94-2.06 2.06-.94-2.06-.94-.94-2.06-.94 2.06-2.06.94z\"/><path d=\"M17.41 7.96l-1.37-1.37c-.4-.4-.92-.59-1.43-.59-.52 0-1.04.2-1.43.59L10.3 9.45l-7.72 7.72c-.78.78-.78 2.05 0 2.83L4 21.41c.39.39.9.59 1.41.59.51 0 1.02-.2 1.41-.59l7.78-7.78 2.81-2.81c.8-.78.8-2.07 0-2.86zM5.41 20L4 18.59l7.72-7.72 1.47 1.35L5.41 20z\"/>\n",
              "  </svg>\n",
              "      </button>\n",
              "      \n",
              "  <style>\n",
              "    .colab-df-container {\n",
              "      display:flex;\n",
              "      flex-wrap:wrap;\n",
              "      gap: 12px;\n",
              "    }\n",
              "\n",
              "    .colab-df-convert {\n",
              "      background-color: #E8F0FE;\n",
              "      border: none;\n",
              "      border-radius: 50%;\n",
              "      cursor: pointer;\n",
              "      display: none;\n",
              "      fill: #1967D2;\n",
              "      height: 32px;\n",
              "      padding: 0 0 0 0;\n",
              "      width: 32px;\n",
              "    }\n",
              "\n",
              "    .colab-df-convert:hover {\n",
              "      background-color: #E2EBFA;\n",
              "      box-shadow: 0px 1px 2px rgba(60, 64, 67, 0.3), 0px 1px 3px 1px rgba(60, 64, 67, 0.15);\n",
              "      fill: #174EA6;\n",
              "    }\n",
              "\n",
              "    [theme=dark] .colab-df-convert {\n",
              "      background-color: #3B4455;\n",
              "      fill: #D2E3FC;\n",
              "    }\n",
              "\n",
              "    [theme=dark] .colab-df-convert:hover {\n",
              "      background-color: #434B5C;\n",
              "      box-shadow: 0px 1px 3px 1px rgba(0, 0, 0, 0.15);\n",
              "      filter: drop-shadow(0px 1px 2px rgba(0, 0, 0, 0.3));\n",
              "      fill: #FFFFFF;\n",
              "    }\n",
              "  </style>\n",
              "\n",
              "      <script>\n",
              "        const buttonEl =\n",
              "          document.querySelector('#df-2419a9ba-1954-4117-b1c5-258f05970e1d button.colab-df-convert');\n",
              "        buttonEl.style.display =\n",
              "          google.colab.kernel.accessAllowed ? 'block' : 'none';\n",
              "\n",
              "        async function convertToInteractive(key) {\n",
              "          const element = document.querySelector('#df-2419a9ba-1954-4117-b1c5-258f05970e1d');\n",
              "          const dataTable =\n",
              "            await google.colab.kernel.invokeFunction('convertToInteractive',\n",
              "                                                     [key], {});\n",
              "          if (!dataTable) return;\n",
              "\n",
              "          const docLinkHtml = 'Like what you see? Visit the ' +\n",
              "            '<a target=\"_blank\" href=https://colab.research.google.com/notebooks/data_table.ipynb>data table notebook</a>'\n",
              "            + ' to learn more about interactive tables.';\n",
              "          element.innerHTML = '';\n",
              "          dataTable['output_type'] = 'display_data';\n",
              "          await google.colab.output.renderOutput(dataTable, element);\n",
              "          const docLink = document.createElement('div');\n",
              "          docLink.innerHTML = docLinkHtml;\n",
              "          element.appendChild(docLink);\n",
              "        }\n",
              "      </script>\n",
              "    </div>\n",
              "  </div>\n",
              "  "
            ]
          },
          "metadata": {},
          "execution_count": 35
        }
      ]
    },
    {
      "cell_type": "code",
      "source": [
        "df_train_b.info()"
      ],
      "metadata": {
        "colab": {
          "base_uri": "https://localhost:8080/"
        },
        "outputId": "da3e98c0-67f2-49e0-bb0a-921c3aa3314a",
        "id": "wtEwcaNsxK8U"
      },
      "execution_count": 36,
      "outputs": [
        {
          "output_type": "stream",
          "name": "stdout",
          "text": [
            "<class 'pandas.core.frame.DataFrame'>\n",
            "RangeIndex: 305 entries, 0 to 304\n",
            "Data columns (total 3 columns):\n",
            " #   Column    Non-Null Count  Dtype \n",
            "---  ------    --------------  ----- \n",
            " 0   RES_ID    305 non-null    object\n",
            " 1   RESPONSE  305 non-null    object\n",
            " 2   LABEL     305 non-null    int64 \n",
            "dtypes: int64(1), object(2)\n",
            "memory usage: 7.3+ KB\n"
          ]
        }
      ]
    },
    {
      "cell_type": "code",
      "source": [
        "df_test_b.head()"
      ],
      "metadata": {
        "colab": {
          "base_uri": "https://localhost:8080/",
          "height": 0
        },
        "outputId": "d2ecff91-4ccb-40d5-83bf-534afac87f24",
        "id": "U22obQy7xK8V"
      },
      "execution_count": 37,
      "outputs": [
        {
          "output_type": "execute_result",
          "data": {
            "text/plain": [
              "  RES_ID                                           RESPONSE\n",
              "0  DEVB1  karena jika menyumbangkan pakaian itu pakaian ...\n",
              "1  DEVB2  memastikan bahwa ppenerima akan senang dan yg ...\n",
              "2  DEVB3  karena banyak orang yang mendukung hal tersebu...\n",
              "3  DEVB4  karena banayak orang yang ada atau bekerja di ...\n",
              "4  DEVB5  karna sebagian orang ada yang ingin beramal da..."
            ],
            "text/html": [
              "\n",
              "  <div id=\"df-459d6c26-7451-4fb9-9088-9b2911efb778\">\n",
              "    <div class=\"colab-df-container\">\n",
              "      <div>\n",
              "<style scoped>\n",
              "    .dataframe tbody tr th:only-of-type {\n",
              "        vertical-align: middle;\n",
              "    }\n",
              "\n",
              "    .dataframe tbody tr th {\n",
              "        vertical-align: top;\n",
              "    }\n",
              "\n",
              "    .dataframe thead th {\n",
              "        text-align: right;\n",
              "    }\n",
              "</style>\n",
              "<table border=\"1\" class=\"dataframe\">\n",
              "  <thead>\n",
              "    <tr style=\"text-align: right;\">\n",
              "      <th></th>\n",
              "      <th>RES_ID</th>\n",
              "      <th>RESPONSE</th>\n",
              "    </tr>\n",
              "  </thead>\n",
              "  <tbody>\n",
              "    <tr>\n",
              "      <th>0</th>\n",
              "      <td>DEVB1</td>\n",
              "      <td>karena jika menyumbangkan pakaian itu pakaian ...</td>\n",
              "    </tr>\n",
              "    <tr>\n",
              "      <th>1</th>\n",
              "      <td>DEVB2</td>\n",
              "      <td>memastikan bahwa ppenerima akan senang dan yg ...</td>\n",
              "    </tr>\n",
              "    <tr>\n",
              "      <th>2</th>\n",
              "      <td>DEVB3</td>\n",
              "      <td>karena banyak orang yang mendukung hal tersebu...</td>\n",
              "    </tr>\n",
              "    <tr>\n",
              "      <th>3</th>\n",
              "      <td>DEVB4</td>\n",
              "      <td>karena banayak orang yang ada atau bekerja di ...</td>\n",
              "    </tr>\n",
              "    <tr>\n",
              "      <th>4</th>\n",
              "      <td>DEVB5</td>\n",
              "      <td>karna sebagian orang ada yang ingin beramal da...</td>\n",
              "    </tr>\n",
              "  </tbody>\n",
              "</table>\n",
              "</div>\n",
              "      <button class=\"colab-df-convert\" onclick=\"convertToInteractive('df-459d6c26-7451-4fb9-9088-9b2911efb778')\"\n",
              "              title=\"Convert this dataframe to an interactive table.\"\n",
              "              style=\"display:none;\">\n",
              "        \n",
              "  <svg xmlns=\"http://www.w3.org/2000/svg\" height=\"24px\"viewBox=\"0 0 24 24\"\n",
              "       width=\"24px\">\n",
              "    <path d=\"M0 0h24v24H0V0z\" fill=\"none\"/>\n",
              "    <path d=\"M18.56 5.44l.94 2.06.94-2.06 2.06-.94-2.06-.94-.94-2.06-.94 2.06-2.06.94zm-11 1L8.5 8.5l.94-2.06 2.06-.94-2.06-.94L8.5 2.5l-.94 2.06-2.06.94zm10 10l.94 2.06.94-2.06 2.06-.94-2.06-.94-.94-2.06-.94 2.06-2.06.94z\"/><path d=\"M17.41 7.96l-1.37-1.37c-.4-.4-.92-.59-1.43-.59-.52 0-1.04.2-1.43.59L10.3 9.45l-7.72 7.72c-.78.78-.78 2.05 0 2.83L4 21.41c.39.39.9.59 1.41.59.51 0 1.02-.2 1.41-.59l7.78-7.78 2.81-2.81c.8-.78.8-2.07 0-2.86zM5.41 20L4 18.59l7.72-7.72 1.47 1.35L5.41 20z\"/>\n",
              "  </svg>\n",
              "      </button>\n",
              "      \n",
              "  <style>\n",
              "    .colab-df-container {\n",
              "      display:flex;\n",
              "      flex-wrap:wrap;\n",
              "      gap: 12px;\n",
              "    }\n",
              "\n",
              "    .colab-df-convert {\n",
              "      background-color: #E8F0FE;\n",
              "      border: none;\n",
              "      border-radius: 50%;\n",
              "      cursor: pointer;\n",
              "      display: none;\n",
              "      fill: #1967D2;\n",
              "      height: 32px;\n",
              "      padding: 0 0 0 0;\n",
              "      width: 32px;\n",
              "    }\n",
              "\n",
              "    .colab-df-convert:hover {\n",
              "      background-color: #E2EBFA;\n",
              "      box-shadow: 0px 1px 2px rgba(60, 64, 67, 0.3), 0px 1px 3px 1px rgba(60, 64, 67, 0.15);\n",
              "      fill: #174EA6;\n",
              "    }\n",
              "\n",
              "    [theme=dark] .colab-df-convert {\n",
              "      background-color: #3B4455;\n",
              "      fill: #D2E3FC;\n",
              "    }\n",
              "\n",
              "    [theme=dark] .colab-df-convert:hover {\n",
              "      background-color: #434B5C;\n",
              "      box-shadow: 0px 1px 3px 1px rgba(0, 0, 0, 0.15);\n",
              "      filter: drop-shadow(0px 1px 2px rgba(0, 0, 0, 0.3));\n",
              "      fill: #FFFFFF;\n",
              "    }\n",
              "  </style>\n",
              "\n",
              "      <script>\n",
              "        const buttonEl =\n",
              "          document.querySelector('#df-459d6c26-7451-4fb9-9088-9b2911efb778 button.colab-df-convert');\n",
              "        buttonEl.style.display =\n",
              "          google.colab.kernel.accessAllowed ? 'block' : 'none';\n",
              "\n",
              "        async function convertToInteractive(key) {\n",
              "          const element = document.querySelector('#df-459d6c26-7451-4fb9-9088-9b2911efb778');\n",
              "          const dataTable =\n",
              "            await google.colab.kernel.invokeFunction('convertToInteractive',\n",
              "                                                     [key], {});\n",
              "          if (!dataTable) return;\n",
              "\n",
              "          const docLinkHtml = 'Like what you see? Visit the ' +\n",
              "            '<a target=\"_blank\" href=https://colab.research.google.com/notebooks/data_table.ipynb>data table notebook</a>'\n",
              "            + ' to learn more about interactive tables.';\n",
              "          element.innerHTML = '';\n",
              "          dataTable['output_type'] = 'display_data';\n",
              "          await google.colab.output.renderOutput(dataTable, element);\n",
              "          const docLink = document.createElement('div');\n",
              "          docLink.innerHTML = docLinkHtml;\n",
              "          element.appendChild(docLink);\n",
              "        }\n",
              "      </script>\n",
              "    </div>\n",
              "  </div>\n",
              "  "
            ]
          },
          "metadata": {},
          "execution_count": 37
        }
      ]
    },
    {
      "cell_type": "code",
      "source": [
        "df_test_b.info()"
      ],
      "metadata": {
        "colab": {
          "base_uri": "https://localhost:8080/"
        },
        "outputId": "015a5850-c150-4684-ba36-b90dc520e59f",
        "id": "c9G-kyuIxK8V"
      },
      "execution_count": 38,
      "outputs": [
        {
          "output_type": "stream",
          "name": "stdout",
          "text": [
            "<class 'pandas.core.frame.DataFrame'>\n",
            "RangeIndex: 244 entries, 0 to 243\n",
            "Data columns (total 2 columns):\n",
            " #   Column    Non-Null Count  Dtype \n",
            "---  ------    --------------  ----- \n",
            " 0   RES_ID    244 non-null    object\n",
            " 1   RESPONSE  244 non-null    object\n",
            "dtypes: object(2)\n",
            "memory usage: 3.9+ KB\n"
          ]
        }
      ]
    },
    {
      "cell_type": "markdown",
      "source": [
        "## Set Data\n",
        "Inisialisasi data yang akan digunakan"
      ],
      "metadata": {
        "id": "px-MWtt9wkXT"
      }
    },
    {
      "cell_type": "code",
      "source": [
        "# Pertanyaan\n",
        "pertanyaan = \"Sebuah toko baju berkonsep self-service menawarkan promosi dua buah baju bertema tahun baru seharga Rp50.000,00. sebelum baju bertema tahun baru dibagikan kepada pembeli, sebuah layar akan menampilkan tampilan gambar yang menampilkan kondisi kerja di dalam sebuah pabrik konveksi/pembuatan baju. Kemudian pembeli diberi program pilihan untuk menyelesaikan pembeliannya atau menyumpangkan Rp50.000,00 untuk dijadikan donasi pembagian baju musim dingin di suatu daerah yang membutuhkan. Delapan dari sepuluh pembeli memilih untuk memberikan donasi. Menurut anda mengapa banyak dari pembeli yang memilih berdonasi?\""
      ],
      "metadata": {
        "id": "CwkaoKFnwmHI"
      },
      "execution_count": 39,
      "outputs": []
    },
    {
      "cell_type": "code",
      "source": [
        "# Jawaban\n",
        "jawaban = df_train_b['RESPONSE'].tolist()"
      ],
      "metadata": {
        "id": "lSXUuK3twuy5"
      },
      "execution_count": 40,
      "outputs": []
    },
    {
      "cell_type": "code",
      "source": [
        "# Score (Label)\n",
        "score = df_train_b['LABEL'].tolist()"
      ],
      "metadata": {
        "id": "dJ3mabb9yX_v"
      },
      "execution_count": 41,
      "outputs": []
    },
    {
      "cell_type": "code",
      "source": [
        "# Set ID Mahasiswa (Random)\n",
        "id_mahasiswa = np.arange(len(jawaban))"
      ],
      "metadata": {
        "id": "uc3lBkyCyCH_"
      },
      "execution_count": 42,
      "outputs": []
    },
    {
      "cell_type": "markdown",
      "source": [
        "### Preview"
      ],
      "metadata": {
        "id": "hr9CoaUvz7-_"
      }
    },
    {
      "cell_type": "code",
      "source": [
        "# Preview Pertanyaan\n",
        "pertanyaan"
      ],
      "metadata": {
        "colab": {
          "base_uri": "https://localhost:8080/",
          "height": 0
        },
        "id": "JOx73zf90MrW",
        "outputId": "8e15c955-2213-4ac5-aaa4-f00fe545e57d"
      },
      "execution_count": 43,
      "outputs": [
        {
          "output_type": "execute_result",
          "data": {
            "text/plain": [
              "'Sebuah toko baju berkonsep self-service menawarkan promosi dua buah baju bertema tahun baru seharga Rp50.000,00. sebelum baju bertema tahun baru dibagikan kepada pembeli, sebuah layar akan menampilkan tampilan gambar yang menampilkan kondisi kerja di dalam sebuah pabrik konveksi/pembuatan baju. Kemudian pembeli diberi program pilihan untuk menyelesaikan pembeliannya atau menyumpangkan Rp50.000,00 untuk dijadikan donasi pembagian baju musim dingin di suatu daerah yang membutuhkan. Delapan dari sepuluh pembeli memilih untuk memberikan donasi. Menurut anda mengapa banyak dari pembeli yang memilih berdonasi?'"
            ],
            "application/vnd.google.colaboratory.intrinsic+json": {
              "type": "string"
            }
          },
          "metadata": {},
          "execution_count": 43
        }
      ]
    },
    {
      "cell_type": "code",
      "source": [
        "# Preview Jawaban\n",
        "jawaban[:5]"
      ],
      "metadata": {
        "colab": {
          "base_uri": "https://localhost:8080/"
        },
        "id": "f4wWEvVgw9QB",
        "outputId": "5acf3e27-9275-4ecb-e29a-acf1c308c8df"
      },
      "execution_count": 44,
      "outputs": [
        {
          "output_type": "execute_result",
          "data": {
            "text/plain": [
              "['Karena orang berpikir bahwa jika disumbangkan akan membuat produksi pakaian menjadi lebih beretika',\n",
              " 'Pakaian awet adalah alternatif terhadap Fast Fashion. Pakaian awet lebih mahal biaya produksi dan harga belinya, tetapi karena pakaian itu dibuat untuk bertahan lebih lama, maka yang dibuat pun menjadi lebih sedikit. Kita sebagai konsumen harus menolak tren Fast Fashion dan membeli pakaian yang lebih awet dan dibuat sesuai etika.',\n",
              " 'karna orang lebih suka menyumbang',\n",
              " 'karana harga nya terjangkau dan pas.',\n",
              " 'kerena harganya mahal .']"
            ]
          },
          "metadata": {},
          "execution_count": 44
        }
      ]
    },
    {
      "cell_type": "code",
      "source": [
        "# Preview Score\n",
        "score[:5]"
      ],
      "metadata": {
        "colab": {
          "base_uri": "https://localhost:8080/"
        },
        "id": "3JOODlObylwM",
        "outputId": "d72b37c8-c478-4c10-b458-1d26ba718847"
      },
      "execution_count": 45,
      "outputs": [
        {
          "output_type": "execute_result",
          "data": {
            "text/plain": [
              "[1, 0, 1, 0, 0]"
            ]
          },
          "metadata": {},
          "execution_count": 45
        }
      ]
    },
    {
      "cell_type": "code",
      "source": [
        "# Preview ID Mahasiswa\n",
        "id_mahasiswa"
      ],
      "metadata": {
        "colab": {
          "base_uri": "https://localhost:8080/"
        },
        "id": "4rZTZeb40Cy1",
        "outputId": "02f220be-f5df-4979-b67c-43c907fc8bb5"
      },
      "execution_count": 46,
      "outputs": [
        {
          "output_type": "execute_result",
          "data": {
            "text/plain": [
              "array([  0,   1,   2,   3,   4,   5,   6,   7,   8,   9,  10,  11,  12,\n",
              "        13,  14,  15,  16,  17,  18,  19,  20,  21,  22,  23,  24,  25,\n",
              "        26,  27,  28,  29,  30,  31,  32,  33,  34,  35,  36,  37,  38,\n",
              "        39,  40,  41,  42,  43,  44,  45,  46,  47,  48,  49,  50,  51,\n",
              "        52,  53,  54,  55,  56,  57,  58,  59,  60,  61,  62,  63,  64,\n",
              "        65,  66,  67,  68,  69,  70,  71,  72,  73,  74,  75,  76,  77,\n",
              "        78,  79,  80,  81,  82,  83,  84,  85,  86,  87,  88,  89,  90,\n",
              "        91,  92,  93,  94,  95,  96,  97,  98,  99, 100, 101, 102, 103,\n",
              "       104, 105, 106, 107, 108, 109, 110, 111, 112, 113, 114, 115, 116,\n",
              "       117, 118, 119, 120, 121, 122, 123, 124, 125, 126, 127, 128, 129,\n",
              "       130, 131, 132, 133, 134, 135, 136, 137, 138, 139, 140, 141, 142,\n",
              "       143, 144, 145, 146, 147, 148, 149, 150, 151, 152, 153, 154, 155,\n",
              "       156, 157, 158, 159, 160, 161, 162, 163, 164, 165, 166, 167, 168,\n",
              "       169, 170, 171, 172, 173, 174, 175, 176, 177, 178, 179, 180, 181,\n",
              "       182, 183, 184, 185, 186, 187, 188, 189, 190, 191, 192, 193, 194,\n",
              "       195, 196, 197, 198, 199, 200, 201, 202, 203, 204, 205, 206, 207,\n",
              "       208, 209, 210, 211, 212, 213, 214, 215, 216, 217, 218, 219, 220,\n",
              "       221, 222, 223, 224, 225, 226, 227, 228, 229, 230, 231, 232, 233,\n",
              "       234, 235, 236, 237, 238, 239, 240, 241, 242, 243, 244, 245, 246,\n",
              "       247, 248, 249, 250, 251, 252, 253, 254, 255, 256, 257, 258, 259,\n",
              "       260, 261, 262, 263, 264, 265, 266, 267, 268, 269, 270, 271, 272,\n",
              "       273, 274, 275, 276, 277, 278, 279, 280, 281, 282, 283, 284, 285,\n",
              "       286, 287, 288, 289, 290, 291, 292, 293, 294, 295, 296, 297, 298,\n",
              "       299, 300, 301, 302, 303, 304])"
            ]
          },
          "metadata": {},
          "execution_count": 46
        }
      ]
    },
    {
      "cell_type": "markdown",
      "source": [
        "# Data Preprocessing\n",
        "Untuk Embedding selain BERT \n",
        "\n",
        "**Output :**\n",
        "*   pertanyaan_padded (numpy array) : 1, 130\n",
        "*   jawaban_padded (numpy array) : 305, 130\n",
        "\n"
      ],
      "metadata": {
        "id": "_lpmj8pgs8j_"
      }
    },
    {
      "cell_type": "markdown",
      "source": [
        "## Case Folding"
      ],
      "metadata": {
        "id": "M4bVUlED5LdL"
      }
    },
    {
      "cell_type": "code",
      "source": [
        "# Case Folding\n",
        "pertanyaan_cased = pertanyaan.lower()\n",
        "jawaban_cased = [i.lower() for i in jawaban]"
      ],
      "metadata": {
        "id": "N34vI_Bg04_D"
      },
      "execution_count": null,
      "outputs": []
    },
    {
      "cell_type": "markdown",
      "source": [
        "## Filtering"
      ],
      "metadata": {
        "id": "sFxL-IIr5bm_"
      }
    },
    {
      "cell_type": "code",
      "source": [
        "# Create Remover\n",
        "factory = StopWordRemoverFactory()\n",
        "remover = factory.create_stop_word_remover()\n",
        "\n",
        "# Stopword Removal\n",
        "pertanyaan_filtered = remover.remove(pertanyaan_cased)\n",
        "jawaban_filtered = [remover.remove(i) for i in jawaban_cased]\n",
        "\n",
        "# Filter Whitespace and Alphanumeric\n",
        "pertanyaan_filtered = re.sub(r'[^\\w\\s]','', pertanyaan_filtered)\n",
        "jawaban_filtered = [re.sub(r'[^\\w\\s]','', i) for i in jawaban_filtered]\n",
        "\n",
        "# Filter Number\n",
        "pertanyaan_filtered = re.sub(r'[\\d]','', pertanyaan_filtered)\n",
        "jawaban_filtered = [re.sub(r'[\\d]','', i) for i in jawaban_filtered]"
      ],
      "metadata": {
        "id": "Gm6ZzGX21Uk6"
      },
      "execution_count": null,
      "outputs": []
    },
    {
      "cell_type": "markdown",
      "source": [
        "## Stemming"
      ],
      "metadata": {
        "id": "S3W50EZe5nyz"
      }
    },
    {
      "cell_type": "code",
      "source": [
        "# Create Stemmer\n",
        "factory = StemmerFactory()\n",
        "stemmer = factory.create_stemmer()\n",
        "\n",
        "# Stemming\n",
        "pertanyaan_stemmed = stemmer.stem(pertanyaan_filtered)\n",
        "jawaban_stemmed = [stemmer.stem(i) for i in jawaban_filtered]"
      ],
      "metadata": {
        "id": "PUTRXPlP2fGs"
      },
      "execution_count": null,
      "outputs": []
    },
    {
      "cell_type": "markdown",
      "source": [
        "## Tokenization & Vectorization"
      ],
      "metadata": {
        "id": "1IyGq9w15rIg"
      }
    },
    {
      "cell_type": "code",
      "source": [
        "# Create Corpus\n",
        "corpus = [pertanyaan_stemmed] + jawaban_stemmed\n",
        "\n",
        "# Create Tokenizer\n",
        "tokenizer = Tokenizer()\n",
        "tokenizer.fit_on_texts(corpus)\n",
        "\n",
        "# Tokenization & Vectorization\n",
        "pertanyaan_tokenized = tokenizer.texts_to_sequences([pertanyaan_stemmed])\n",
        "jawaban_tokenized = tokenizer.texts_to_sequences(jawaban_stemmed)"
      ],
      "metadata": {
        "id": "AQKgbx90tAnf"
      },
      "execution_count": null,
      "outputs": []
    },
    {
      "cell_type": "code",
      "source": [
        "# Get Vocabulary Length\n",
        "vocab_size = len(tokenizer.word_index) + 1"
      ],
      "metadata": {
        "id": "500gptAN3-Mk"
      },
      "execution_count": null,
      "outputs": []
    },
    {
      "cell_type": "code",
      "source": [
        "# Get Max Length (For Padding)\n",
        "max_length = 0\n",
        "for i in jawaban_tokenized :\n",
        "  if len(i) > max_length :\n",
        "    max_length = len(i)"
      ],
      "metadata": {
        "id": "HeeboPM_3vLT"
      },
      "execution_count": null,
      "outputs": []
    },
    {
      "cell_type": "markdown",
      "source": [
        "## Padding"
      ],
      "metadata": {
        "id": "ZETZZ2SR7-pS"
      }
    },
    {
      "cell_type": "code",
      "source": [
        "# Padding\n",
        "pertanyaan_padded = pad_sequences(pertanyaan_tokenized, maxlen = max_length, padding = \"post\")\n",
        "jawaban_padded = pad_sequences(jawaban_tokenized, maxlen = max_length, padding = \"post\")"
      ],
      "metadata": {
        "id": "bGZnX_Ap3qU8"
      },
      "execution_count": null,
      "outputs": []
    },
    {
      "cell_type": "markdown",
      "source": [
        "# Feature Engineering (Word Embedding)\n",
        "\n",
        "**Output :**\n",
        "*   IndoBERT\n",
        "> * pertanyaan_results : TensorShape([1, 204, 768])\n",
        "> * jawaban_results : TensorShape([305, 204, 768])\n",
        "*   BERT\n",
        "> * pertanyaan_results : 1, 128, 768\n",
        "> * jawaban_results : 305, 128, 768\n",
        "*   Word2vec :\n",
        "> * pertanyaan_results : 1, 130, 400\n",
        "> * jawaban_results : 305, 130, 400\n",
        "\n"
      ],
      "metadata": {
        "id": "oaPS4LUJs_nX"
      }
    },
    {
      "cell_type": "markdown",
      "source": [
        "## IndoBERT"
      ],
      "metadata": {
        "id": "YWFK5zKD0BaD"
      }
    },
    {
      "cell_type": "code",
      "source": [
        "# Import Tokenizer & IndoBERT Model\n",
        "tokenizer = transformers.BertTokenizer.from_pretrained(\"indobenchmark/indobert-base-p1\", do_lower_case=True)\n",
        "bert_model = transformers.TFBertModel.from_pretrained(\"indobenchmark/indobert-base-p1\")"
      ],
      "metadata": {
        "colab": {
          "base_uri": "https://localhost:8080/"
        },
        "id": "oUhOOnjM1993",
        "outputId": "b4dbe6d2-2eb2-4b49-a0c3-ef0cb5ddca6b"
      },
      "execution_count": 23,
      "outputs": [
        {
          "output_type": "stream",
          "name": "stderr",
          "text": [
            "Some layers from the model checkpoint at indobenchmark/indobert-base-p1 were not used when initializing TFBertModel: ['nsp___cls', 'mlm___cls']\n",
            "- This IS expected if you are initializing TFBertModel from the checkpoint of a model trained on another task or with another architecture (e.g. initializing a BertForSequenceClassification model from a BertForPreTraining model).\n",
            "- This IS NOT expected if you are initializing TFBertModel from the checkpoint of a model that you expect to be exactly identical (initializing a BertForSequenceClassification model from a BertForSequenceClassification model).\n",
            "All the layers of TFBertModel were initialized from the model checkpoint at indobenchmark/indobert-base-p1.\n",
            "If your task is similar to the task the model of the checkpoint was trained on, you can already use TFBertModel for predictions without further training.\n"
          ]
        }
      ]
    },
    {
      "cell_type": "code",
      "source": [
        "# Create the model under a distribution strategy scope.\n",
        "strategy = tf.distribute.MirroredStrategy()\n",
        "\n",
        "with strategy.scope():\n",
        "  # Preprocessing\n",
        "  jawaban_enc = tokenizer(jawaban, padding = 'longest', return_tensors=\"tf\")\n",
        "  pertanyaan_enc = tokenizer(pertanyaan, max_length = len(jawaban_enc['input_ids'][0]), padding= 'max_length', return_tensors=\"tf\")\n",
        "\n",
        "  # Embedding\n",
        "  pertanyaan_results = bert_model(pertanyaan_enc)['last_hidden_state']\n",
        "  jawaban_results = bert_model(jawaban_enc)['last_hidden_state']"
      ],
      "metadata": {
        "colab": {
          "base_uri": "https://localhost:8080/"
        },
        "id": "XkyzcmKg3oi1",
        "outputId": "7cd97e51-849a-43e0-d882-c19579f2356b"
      },
      "execution_count": 63,
      "outputs": [
        {
          "output_type": "stream",
          "name": "stdout",
          "text": [
            "WARNING:tensorflow:There are non-GPU devices in `tf.distribute.Strategy`, not using nccl allreduce.\n",
            "INFO:tensorflow:Using MirroredStrategy with devices ('/job:localhost/replica:0/task:0/device:CPU:0',)\n"
          ]
        }
      ]
    },
    {
      "cell_type": "markdown",
      "source": [
        "## BERT"
      ],
      "metadata": {
        "id": "QZgywfbvp0Oi"
      }
    },
    {
      "cell_type": "code",
      "source": [
        "# Choose BERT model\n",
        "bert_model_name = 'bert_multi_cased_L-12_H-768_A-12' \n",
        "\n",
        "map_name_to_handle = {\n",
        "    'bert_en_uncased_L-12_H-768_A-12':\n",
        "        'https://tfhub.dev/tensorflow/bert_en_uncased_L-12_H-768_A-12/3',\n",
        "    'bert_en_cased_L-12_H-768_A-12':\n",
        "        'https://tfhub.dev/tensorflow/bert_en_cased_L-12_H-768_A-12/3',\n",
        "    'bert_multi_cased_L-12_H-768_A-12':\n",
        "        'https://tfhub.dev/tensorflow/bert_multi_cased_L-12_H-768_A-12/3',\n",
        "    'small_bert/bert_en_uncased_L-2_H-128_A-2':\n",
        "        'https://tfhub.dev/tensorflow/small_bert/bert_en_uncased_L-2_H-128_A-2/1',\n",
        "    'small_bert/bert_en_uncased_L-2_H-256_A-4':\n",
        "        'https://tfhub.dev/tensorflow/small_bert/bert_en_uncased_L-2_H-256_A-4/1',\n",
        "    'small_bert/bert_en_uncased_L-2_H-512_A-8':\n",
        "        'https://tfhub.dev/tensorflow/small_bert/bert_en_uncased_L-2_H-512_A-8/1',\n",
        "    'small_bert/bert_en_uncased_L-2_H-768_A-12':\n",
        "        'https://tfhub.dev/tensorflow/small_bert/bert_en_uncased_L-2_H-768_A-12/1',\n",
        "    'small_bert/bert_en_uncased_L-4_H-128_A-2':\n",
        "        'https://tfhub.dev/tensorflow/small_bert/bert_en_uncased_L-4_H-128_A-2/1',\n",
        "    'small_bert/bert_en_uncased_L-4_H-256_A-4':\n",
        "        'https://tfhub.dev/tensorflow/small_bert/bert_en_uncased_L-4_H-256_A-4/1',\n",
        "    'small_bert/bert_en_uncased_L-4_H-512_A-8':\n",
        "        'https://tfhub.dev/tensorflow/small_bert/bert_en_uncased_L-4_H-512_A-8/1',\n",
        "    'small_bert/bert_en_uncased_L-4_H-768_A-12':\n",
        "        'https://tfhub.dev/tensorflow/small_bert/bert_en_uncased_L-4_H-768_A-12/1',\n",
        "    'small_bert/bert_en_uncased_L-6_H-128_A-2':\n",
        "        'https://tfhub.dev/tensorflow/small_bert/bert_en_uncased_L-6_H-128_A-2/1',\n",
        "    'small_bert/bert_en_uncased_L-6_H-256_A-4':\n",
        "        'https://tfhub.dev/tensorflow/small_bert/bert_en_uncased_L-6_H-256_A-4/1',\n",
        "    'small_bert/bert_en_uncased_L-6_H-512_A-8':\n",
        "        'https://tfhub.dev/tensorflow/small_bert/bert_en_uncased_L-6_H-512_A-8/1',\n",
        "    'small_bert/bert_en_uncased_L-6_H-768_A-12':\n",
        "        'https://tfhub.dev/tensorflow/small_bert/bert_en_uncased_L-6_H-768_A-12/1',\n",
        "    'small_bert/bert_en_uncased_L-8_H-128_A-2':\n",
        "        'https://tfhub.dev/tensorflow/small_bert/bert_en_uncased_L-8_H-128_A-2/1',\n",
        "    'small_bert/bert_en_uncased_L-8_H-256_A-4':\n",
        "        'https://tfhub.dev/tensorflow/small_bert/bert_en_uncased_L-8_H-256_A-4/1',\n",
        "    'small_bert/bert_en_uncased_L-8_H-512_A-8':\n",
        "        'https://tfhub.dev/tensorflow/small_bert/bert_en_uncased_L-8_H-512_A-8/1',\n",
        "    'small_bert/bert_en_uncased_L-8_H-768_A-12':\n",
        "        'https://tfhub.dev/tensorflow/small_bert/bert_en_uncased_L-8_H-768_A-12/1',\n",
        "    'small_bert/bert_en_uncased_L-10_H-128_A-2':\n",
        "        'https://tfhub.dev/tensorflow/small_bert/bert_en_uncased_L-10_H-128_A-2/1',\n",
        "    'small_bert/bert_en_uncased_L-10_H-256_A-4':\n",
        "        'https://tfhub.dev/tensorflow/small_bert/bert_en_uncased_L-10_H-256_A-4/1',\n",
        "    'small_bert/bert_en_uncased_L-10_H-512_A-8':\n",
        "        'https://tfhub.dev/tensorflow/small_bert/bert_en_uncased_L-10_H-512_A-8/1',\n",
        "    'small_bert/bert_en_uncased_L-10_H-768_A-12':\n",
        "        'https://tfhub.dev/tensorflow/small_bert/bert_en_uncased_L-10_H-768_A-12/1',\n",
        "    'small_bert/bert_en_uncased_L-12_H-128_A-2':\n",
        "        'https://tfhub.dev/tensorflow/small_bert/bert_en_uncased_L-12_H-128_A-2/1',\n",
        "    'small_bert/bert_en_uncased_L-12_H-256_A-4':\n",
        "        'https://tfhub.dev/tensorflow/small_bert/bert_en_uncased_L-12_H-256_A-4/1',\n",
        "    'small_bert/bert_en_uncased_L-12_H-512_A-8':\n",
        "        'https://tfhub.dev/tensorflow/small_bert/bert_en_uncased_L-12_H-512_A-8/1',\n",
        "    'small_bert/bert_en_uncased_L-12_H-768_A-12':\n",
        "        'https://tfhub.dev/tensorflow/small_bert/bert_en_uncased_L-12_H-768_A-12/1',\n",
        "    'albert_en_base':\n",
        "        'https://tfhub.dev/tensorflow/albert_en_base/2',\n",
        "    'electra_small':\n",
        "        'https://tfhub.dev/google/electra_small/2',\n",
        "    'electra_base':\n",
        "        'https://tfhub.dev/google/electra_base/2',\n",
        "    'experts_pubmed':\n",
        "        'https://tfhub.dev/google/experts/bert/pubmed/2',\n",
        "    'experts_wiki_books':\n",
        "        'https://tfhub.dev/google/experts/bert/wiki_books/2',\n",
        "    'talking-heads_base':\n",
        "        'https://tfhub.dev/tensorflow/talkheads_ggelu_bert_en_base/1',\n",
        "}\n",
        "\n",
        "map_model_to_preprocess = {\n",
        "    'bert_en_uncased_L-12_H-768_A-12':\n",
        "        'https://tfhub.dev/tensorflow/bert_en_uncased_preprocess/3',\n",
        "    'bert_en_cased_L-12_H-768_A-12':\n",
        "        'https://tfhub.dev/tensorflow/bert_en_cased_preprocess/3',\n",
        "    'small_bert/bert_en_uncased_L-2_H-128_A-2':\n",
        "        'https://tfhub.dev/tensorflow/bert_en_uncased_preprocess/3',\n",
        "    'small_bert/bert_en_uncased_L-2_H-256_A-4':\n",
        "        'https://tfhub.dev/tensorflow/bert_en_uncased_preprocess/3',\n",
        "    'small_bert/bert_en_uncased_L-2_H-512_A-8':\n",
        "        'https://tfhub.dev/tensorflow/bert_en_uncased_preprocess/3',\n",
        "    'small_bert/bert_en_uncased_L-2_H-768_A-12':\n",
        "        'https://tfhub.dev/tensorflow/bert_en_uncased_preprocess/3',\n",
        "    'small_bert/bert_en_uncased_L-4_H-128_A-2':\n",
        "        'https://tfhub.dev/tensorflow/bert_en_uncased_preprocess/3',\n",
        "    'small_bert/bert_en_uncased_L-4_H-256_A-4':\n",
        "        'https://tfhub.dev/tensorflow/bert_en_uncased_preprocess/3',\n",
        "    'small_bert/bert_en_uncased_L-4_H-512_A-8':\n",
        "        'https://tfhub.dev/tensorflow/bert_en_uncased_preprocess/3',\n",
        "    'small_bert/bert_en_uncased_L-4_H-768_A-12':\n",
        "        'https://tfhub.dev/tensorflow/bert_en_uncased_preprocess/3',\n",
        "    'small_bert/bert_en_uncased_L-6_H-128_A-2':\n",
        "        'https://tfhub.dev/tensorflow/bert_en_uncased_preprocess/3',\n",
        "    'small_bert/bert_en_uncased_L-6_H-256_A-4':\n",
        "        'https://tfhub.dev/tensorflow/bert_en_uncased_preprocess/3',\n",
        "    'small_bert/bert_en_uncased_L-6_H-512_A-8':\n",
        "        'https://tfhub.dev/tensorflow/bert_en_uncased_preprocess/3',\n",
        "    'small_bert/bert_en_uncased_L-6_H-768_A-12':\n",
        "        'https://tfhub.dev/tensorflow/bert_en_uncased_preprocess/3',\n",
        "    'small_bert/bert_en_uncased_L-8_H-128_A-2':\n",
        "        'https://tfhub.dev/tensorflow/bert_en_uncased_preprocess/3',\n",
        "    'small_bert/bert_en_uncased_L-8_H-256_A-4':\n",
        "        'https://tfhub.dev/tensorflow/bert_en_uncased_preprocess/3',\n",
        "    'small_bert/bert_en_uncased_L-8_H-512_A-8':\n",
        "        'https://tfhub.dev/tensorflow/bert_en_uncased_preprocess/3',\n",
        "    'small_bert/bert_en_uncased_L-8_H-768_A-12':\n",
        "        'https://tfhub.dev/tensorflow/bert_en_uncased_preprocess/3',\n",
        "    'small_bert/bert_en_uncased_L-10_H-128_A-2':\n",
        "        'https://tfhub.dev/tensorflow/bert_en_uncased_preprocess/3',\n",
        "    'small_bert/bert_en_uncased_L-10_H-256_A-4':\n",
        "        'https://tfhub.dev/tensorflow/bert_en_uncased_preprocess/3',\n",
        "    'small_bert/bert_en_uncased_L-10_H-512_A-8':\n",
        "        'https://tfhub.dev/tensorflow/bert_en_uncased_preprocess/3',\n",
        "    'small_bert/bert_en_uncased_L-10_H-768_A-12':\n",
        "        'https://tfhub.dev/tensorflow/bert_en_uncased_preprocess/3',\n",
        "    'small_bert/bert_en_uncased_L-12_H-128_A-2':\n",
        "        'https://tfhub.dev/tensorflow/bert_en_uncased_preprocess/3',\n",
        "    'small_bert/bert_en_uncased_L-12_H-256_A-4':\n",
        "        'https://tfhub.dev/tensorflow/bert_en_uncased_preprocess/3',\n",
        "    'small_bert/bert_en_uncased_L-12_H-512_A-8':\n",
        "        'https://tfhub.dev/tensorflow/bert_en_uncased_preprocess/3',\n",
        "    'small_bert/bert_en_uncased_L-12_H-768_A-12':\n",
        "        'https://tfhub.dev/tensorflow/bert_en_uncased_preprocess/3',\n",
        "    'bert_multi_cased_L-12_H-768_A-12':\n",
        "        'https://tfhub.dev/tensorflow/bert_multi_cased_preprocess/3',\n",
        "    'albert_en_base':\n",
        "        'https://tfhub.dev/tensorflow/albert_en_preprocess/3',\n",
        "    'electra_small':\n",
        "        'https://tfhub.dev/tensorflow/bert_en_uncased_preprocess/3',\n",
        "    'electra_base':\n",
        "        'https://tfhub.dev/tensorflow/bert_en_uncased_preprocess/3',\n",
        "    'experts_pubmed':\n",
        "        'https://tfhub.dev/tensorflow/bert_en_uncased_preprocess/3',\n",
        "    'experts_wiki_books':\n",
        "        'https://tfhub.dev/tensorflow/bert_en_uncased_preprocess/3',\n",
        "    'talking-heads_base':\n",
        "        'https://tfhub.dev/tensorflow/bert_en_uncased_preprocess/3',\n",
        "}\n",
        "\n",
        "tfhub_handle_encoder = map_name_to_handle[bert_model_name]\n",
        "tfhub_handle_preprocess = map_model_to_preprocess[bert_model_name]\n",
        "\n",
        "print(f'BERT model selected           : {tfhub_handle_encoder}')\n",
        "print(f'Preprocess model auto-selected: {tfhub_handle_preprocess}')"
      ],
      "metadata": {
        "colab": {
          "base_uri": "https://localhost:8080/"
        },
        "id": "h0TvhrHWp1Oe",
        "outputId": "d539f876-ebea-43a1-8b2e-8b3abe610224"
      },
      "execution_count": null,
      "outputs": [
        {
          "output_type": "stream",
          "name": "stdout",
          "text": [
            "BERT model selected           : https://tfhub.dev/tensorflow/bert_multi_cased_L-12_H-768_A-12/3\n",
            "Preprocess model auto-selected: https://tfhub.dev/tensorflow/bert_multi_cased_preprocess/3\n"
          ]
        }
      ]
    },
    {
      "cell_type": "code",
      "source": [
        "# Set preprocess & encoding model\n",
        "bert_preprocess_model = hub.KerasLayer(tfhub_handle_preprocess)\n",
        "bert_model = hub.KerasLayer(tfhub_handle_encoder)"
      ],
      "metadata": {
        "id": "XClC6AgkrTLd"
      },
      "execution_count": null,
      "outputs": []
    },
    {
      "cell_type": "code",
      "source": [
        "# Data Preprocessing\n",
        "pertanyaan_preprocessed = bert_preprocess_model([pertanyaan])\n",
        "jawaban_preprocessed = bert_preprocess_model(jawaban)\n",
        "\n",
        "# Word Embedding\n",
        "pertanyaan_results = bert_model(pertanyaan_preprocessed)\n",
        "jawaban_results = bert_model(jawaban_preprocessed)\n",
        "\n",
        "# Final Embedding (['sequence_output'])\n",
        "pertanyaan_results = pertanyaan_results['sequence_output']\n",
        "jawaban_results = jawaban_results['sequence_output']"
      ],
      "metadata": {
        "id": "3izPczhTsEKL"
      },
      "execution_count": null,
      "outputs": []
    },
    {
      "cell_type": "markdown",
      "source": [
        "## Word2vec"
      ],
      "metadata": {
        "id": "BLeD7CQ-onAP"
      }
    },
    {
      "cell_type": "markdown",
      "source": [
        "### Self-Train Model"
      ],
      "metadata": {
        "id": "ng_sG-djFVjq"
      }
    },
    {
      "cell_type": "markdown",
      "source": [
        "#### Build Vocabulary"
      ],
      "metadata": {
        "id": "ksX8mNiVFZW5"
      }
    },
    {
      "cell_type": "code",
      "source": [
        "# Vocabulary Initialization\n",
        "vocab = []\n",
        "\n",
        "# Build Vocabulary (Jawaban)\n",
        "for i in jawaban_padded :\n",
        "  vocab_now = [tokenizer.index_word[j] for j in i if (j != 0)]\n",
        "  vocab.append(vocab_now)\n",
        "\n",
        "# Build Vocabulary (Pertanyaan)\n",
        "vocab_now = [tokenizer.index_word[j] for j in pertanyaan_padded[0] if (j != 0)]\n",
        "vocab.append(vocab_now)"
      ],
      "metadata": {
        "id": "B4uYo0U59lmJ"
      },
      "execution_count": null,
      "outputs": []
    },
    {
      "cell_type": "markdown",
      "source": [
        "#### Model Training"
      ],
      "metadata": {
        "id": "RhXGGCxhFcQq"
      }
    },
    {
      "cell_type": "code",
      "source": [
        "# Set Embedding Size\n",
        "embed_size = 300\n",
        "\n",
        "# Train Word2Vec\n",
        "word2vec_model = Word2Vec(vocab, size = embed_size, window = 3, workers = 3, sg = 1, hs = 1, min_count = 0)\n",
        "\n",
        "# Set Word Vectors\n",
        "word_vectors = word2vec_model.wv"
      ],
      "metadata": {
        "id": "TiRWHo_4-X5e"
      },
      "execution_count": null,
      "outputs": []
    },
    {
      "cell_type": "markdown",
      "source": [
        "#### Create Embedding Matrix"
      ],
      "metadata": {
        "id": "yicZJ6wcFhmY"
      }
    },
    {
      "cell_type": "code",
      "source": [
        "# Initilization with numpy zeros\n",
        "embedding_matrix = np.zeros((vocab_size, embed_size))\n",
        "\n",
        "# Assign every word vectors in tokenizer to embedding matrix\n",
        "for word, i in tokenizer.word_index.items():\n",
        "    try :\n",
        "      embedding_vector = word_vectors.get_vector(word)\n",
        "      if embedding_vector is not None:\n",
        "          embedding_matrix[i] = embedding_vector\n",
        "    except :\n",
        "      print(word, \"not in vocabulary\")"
      ],
      "metadata": {
        "id": "kFGYRjwD_FEd"
      },
      "execution_count": null,
      "outputs": []
    },
    {
      "cell_type": "markdown",
      "source": [
        "#### Encode"
      ],
      "metadata": {
        "id": "AuW7R5cLQIB3"
      }
    },
    {
      "cell_type": "code",
      "source": [
        "# Embed Pertanyaan\n",
        "pertanyaan_results = np.array([embedding_matrix[i] for i in pertanyaan_padded])\n",
        "\n",
        "# Embed Jawaban\n",
        "jawaban_results = []\n",
        "for i in jawaban_padded :\n",
        "  embed_now = [embedding_matrix[j] for j in i]\n",
        "  jawaban_results.append(embed_now)\n",
        "jawaban_results = np.array(jawaban_results)"
      ],
      "metadata": {
        "id": "ROVjMdtiQIB3"
      },
      "execution_count": null,
      "outputs": []
    },
    {
      "cell_type": "markdown",
      "source": [
        "### Pretrained Model"
      ],
      "metadata": {
        "id": "cF7IKaNQpn8_"
      }
    },
    {
      "cell_type": "code",
      "source": [
        "! pip install kaggle"
      ],
      "metadata": {
        "colab": {
          "base_uri": "https://localhost:8080/"
        },
        "id": "PpHeCd74tXMT",
        "outputId": "23e6a704-e435-4ae6-f93f-e148e13206e4"
      },
      "execution_count": null,
      "outputs": [
        {
          "output_type": "stream",
          "name": "stdout",
          "text": [
            "Requirement already satisfied: kaggle in /usr/local/lib/python3.7/dist-packages (1.5.12)\n",
            "Requirement already satisfied: certifi in /usr/local/lib/python3.7/dist-packages (from kaggle) (2021.10.8)\n",
            "Requirement already satisfied: requests in /usr/local/lib/python3.7/dist-packages (from kaggle) (2.23.0)\n",
            "Requirement already satisfied: urllib3 in /usr/local/lib/python3.7/dist-packages (from kaggle) (1.24.3)\n",
            "Requirement already satisfied: tqdm in /usr/local/lib/python3.7/dist-packages (from kaggle) (4.63.0)\n",
            "Requirement already satisfied: python-dateutil in /usr/local/lib/python3.7/dist-packages (from kaggle) (2.8.2)\n",
            "Requirement already satisfied: python-slugify in /usr/local/lib/python3.7/dist-packages (from kaggle) (6.1.1)\n",
            "Requirement already satisfied: six>=1.10 in /usr/local/lib/python3.7/dist-packages (from kaggle) (1.15.0)\n",
            "Requirement already satisfied: text-unidecode>=1.3 in /usr/local/lib/python3.7/dist-packages (from python-slugify->kaggle) (1.3)\n",
            "Requirement already satisfied: idna<3,>=2.5 in /usr/local/lib/python3.7/dist-packages (from requests->kaggle) (2.10)\n",
            "Requirement already satisfied: chardet<4,>=3.0.2 in /usr/local/lib/python3.7/dist-packages (from requests->kaggle) (3.0.4)\n"
          ]
        }
      ]
    },
    {
      "cell_type": "code",
      "source": [
        "! mkdir ~/.kaggle\n",
        "! cp kaggle.json ~/.kaggle/\n",
        "! chmod 600 ~/.kaggle/kaggle.json\n",
        "! kaggle datasets download bhimantoros/pretrained-word2vec-indonesia\n",
        "! unzip \"pretrained-word2vec-indonesia.zip\""
      ],
      "metadata": {
        "colab": {
          "base_uri": "https://localhost:8080/"
        },
        "id": "JziFbjdE9WdQ",
        "outputId": "a09d6699-52d2-4e94-f131-ab46e6c014f2"
      },
      "execution_count": null,
      "outputs": [
        {
          "output_type": "stream",
          "name": "stdout",
          "text": [
            "Downloading pretrained-word2vec-indonesia.zip to /content\n",
            "100% 2.97G/2.97G [00:35<00:00, 74.8MB/s]\n",
            "100% 2.97G/2.97G [00:35<00:00, 89.4MB/s]\n",
            "Archive:  pretrained-word2vec-indonesia.zip\n",
            "  inflating: idwiki-latest-pages-articles.xml.bz2  \n",
            "  inflating: wiki.id.case.model      \n",
            "  inflating: wiki.id.case.model.syn1neg.npy  \n",
            "  inflating: wiki.id.case.model.wv.vectors.npy  \n",
            "  inflating: wiki.id.case.txt        \n",
            "  inflating: wiki.id.case.vector     \n"
          ]
        }
      ]
    },
    {
      "cell_type": "markdown",
      "source": [
        "#### Load Pre-trained Model"
      ],
      "metadata": {
        "id": "TPmC-g0n2spS"
      }
    },
    {
      "cell_type": "code",
      "source": [
        "# Get Pre-train Word2Vec\n",
        "word2vec_model = \"wiki.id.case.vector\"\n",
        "word_vectors = gensim.models.KeyedVectors.load_word2vec_format(word2vec_model, binary=False)\n",
        "\n",
        "# Get Embedding Size\n",
        "embed_size = len(word_vectors.get_vector(word_vectors.index2word[0]))"
      ],
      "metadata": {
        "id": "Mp9WBWXm2spS"
      },
      "execution_count": null,
      "outputs": []
    },
    {
      "cell_type": "markdown",
      "source": [
        "#### Create Embedding Matrix"
      ],
      "metadata": {
        "id": "YX5tMoa02spT"
      }
    },
    {
      "cell_type": "code",
      "source": [
        "# Initilization with numpy zeros\n",
        "embedding_matrix = np.zeros((vocab_size, embed_size))\n",
        "\n",
        "# Assign every word vectors in tokenizer to embedding matrix\n",
        "for word, i in tokenizer.word_index.items():\n",
        "    try :\n",
        "      embedding_vector = word_vectors.get_vector(word)\n",
        "      if embedding_vector is not None:\n",
        "          embedding_matrix[i] = embedding_vector\n",
        "    except :\n",
        "      print(word, \"not in vocabulary\")"
      ],
      "metadata": {
        "colab": {
          "base_uri": "https://localhost:8080/"
        },
        "id": "O0Lzufwc2spT",
        "outputId": "a7e59249-cc96-4c79-bb16-29d45d8e6627"
      },
      "execution_count": null,
      "outputs": [
        {
          "output_type": "stream",
          "name": "stdout",
          "text": [
            "eksperiman not in vocabulary\n",
            "krena not in vocabulary\n",
            "pakaianpakaian not in vocabulary\n",
            "pabrikpabrik not in vocabulary\n",
            "timpal not in vocabulary\n",
            "pakian not in vocabulary\n",
            "prokduksi not in vocabulary\n",
            "selfservice not in vocabulary\n",
            "konveksipembuatan not in vocabulary\n",
            "menyumpangkan not in vocabulary\n",
            "adasedangkan not in vocabulary\n",
            "seharihari not in vocabulary\n",
            "sodaqoh not in vocabulary\n",
            "bererja not in vocabulary\n",
            "mubasir not in vocabulary\n",
            "t not in vocabulary\n",
            "sumumbangkan not in vocabulary\n",
            "begtu not in vocabulary\n",
            "prodeuksi not in vocabulary\n",
            "ksarena not in vocabulary\n",
            "smapah not in vocabulary\n",
            "pakaiansehingga not in vocabulary\n",
            "terseebut not in vocabulary\n",
            "disumbangmenyumbang not in vocabulary\n",
            "lbih not in vocabulary\n",
            "pakainan not in vocabulary\n",
            "karenaorangorang not in vocabulary\n",
            "simpat not in vocabulary\n",
            "pabrib not in vocabulary\n",
            "pakaisehingga not in vocabulary\n",
            "aripada not in vocabulary\n",
            "memilioh not in vocabulary\n",
            "menyumangkan not in vocabulary\n",
            "muas not in vocabulary\n",
            "erti not in vocabulary\n",
            "mengiklaskan not in vocabulary\n",
            "siasia not in vocabulary\n",
            "merugikanmakanya not in vocabulary\n",
            "dibaungmaka not in vocabulary\n",
            "kpda not in vocabulary\n",
            "prodouksi not in vocabulary\n",
            "subuah not in vocabulary\n",
            "konsumenkonsumen not in vocabulary\n",
            "menyumabng not in vocabulary\n",
            "karenajika not in vocabulary\n",
            "beretikamaka not in vocabulary\n",
            "pembuatannnya not in vocabulary\n",
            "berateka not in vocabulary\n",
            "karenam not in vocabulary\n",
            "iyu not in vocabulary\n",
            "agaama not in vocabulary\n",
            "lagidan not in vocabulary\n",
            "benah not in vocabulary\n",
            "diabuang not in vocabulary\n",
            "akaianpakaian not in vocabulary\n",
            "menyumbangknnya not in vocabulary\n",
            "pakean not in vocabulary\n",
            "mwngahargai not in vocabulary\n",
            "karenakasian not in vocabulary\n",
            "meemas not in vocabulary\n",
            "pejerja not in vocabulary\n",
            "kitaharu not in vocabulary\n",
            "yolong not in vocabulary\n",
            "pentinng not in vocabulary\n",
            "konsumenlayar not in vocabulary\n",
            "budayabudaya not in vocabulary\n",
            "sodakoh not in vocabulary\n",
            "memprehatinkan not in vocabulary\n",
            "jihydgsjdisadusdtgwtsfdhs not in vocabulary\n",
            "uangbarang not in vocabulary\n",
            "kankondisi not in vocabulary\n",
            "perihatin not in vocabulary\n",
            "pekerjaklarena not in vocabulary\n",
            "bisda not in vocabulary\n",
            "berjuaalan not in vocabulary\n",
            "dipakaijadi not in vocabulary\n",
            "memyumbang not in vocabulary\n",
            "menmbah not in vocabulary\n",
            "ketenmpat not in vocabulary\n",
            "sampahmelainkan not in vocabulary\n",
            "berbut not in vocabulary\n",
            "karenaa not in vocabulary\n",
            "orrang not in vocabulary\n",
            "pahal not in vocabulary\n",
            "berlipakkn not in vocabulary\n",
            "gnda not in vocabulary\n",
            "bermanfat not in vocabulary\n",
            "hidupdi not in vocabulary\n",
            "pakeaian not in vocabulary\n",
            "mending not in vocabulary\n",
            "kekurangankekurangan not in vocabulary\n",
            "bahanbahan not in vocabulary\n",
            "karenapakaianawetlebihmahal not in vocabulary\n",
            "karenamereka not in vocabulary\n",
            "dimaanfaatkan not in vocabulary\n",
            "libih not in vocabulary\n",
            "karenadari not in vocabulary\n",
            "karenasebuah not in vocabulary\n",
            "upayauntuk not in vocabulary\n"
          ]
        }
      ]
    },
    {
      "cell_type": "markdown",
      "source": [
        "#### Encode"
      ],
      "metadata": {
        "id": "tU7hbTwYP-ao"
      }
    },
    {
      "cell_type": "code",
      "source": [
        "# Embed Pertanyaan\n",
        "pertanyaan_results = np.array([embedding_matrix[i] for i in pertanyaan_padded])\n",
        "\n",
        "# Embed Jawaban\n",
        "jawaban_results = []\n",
        "for i in jawaban_padded :\n",
        "  embed_now = [embedding_matrix[j] for j in i]\n",
        "  jawaban_results.append(embed_now)\n",
        "jawaban_results = np.array(jawaban_results)"
      ],
      "metadata": {
        "id": "F4O_EIgAKtMJ"
      },
      "execution_count": null,
      "outputs": []
    },
    {
      "cell_type": "markdown",
      "source": [
        "# Measure Distance\n",
        "**Output :**\n",
        "*   idx_sorted (list) : index of sorted answers distance (ascending)\n"
      ],
      "metadata": {
        "id": "qpo0b0vrFCUn"
      }
    },
    {
      "cell_type": "markdown",
      "source": [
        "## Define function\n",
        "Cosine Similarity with Average Pooling"
      ],
      "metadata": {
        "id": "ypWocfYsvITF"
      }
    },
    {
      "cell_type": "code",
      "source": [
        "def avgPooling(x) :\n",
        "    return K.mean(K.constant(x), axis=1, keepdims=False)\n",
        "\n",
        "def cosineSimilarity(x, y) :\n",
        "    normalize_a = tf.nn.l2_normalize(x,0)        \n",
        "    normalize_b = tf.nn.l2_normalize(y,0)\n",
        "    cos_similarity = tf.reduce_sum(tf.multiply(normalize_a,normalize_b))\n",
        "    return float(cos_similarity)"
      ],
      "metadata": {
        "id": "5rhNsFA7FHtK"
      },
      "execution_count": 66,
      "outputs": []
    },
    {
      "cell_type": "markdown",
      "source": [
        "## Get Distance List"
      ],
      "metadata": {
        "id": "jjtuEQbVvLf9"
      }
    },
    {
      "cell_type": "markdown",
      "source": [
        "### BERT"
      ],
      "metadata": {
        "id": "fSUD6GaVwPTJ"
      }
    },
    {
      "cell_type": "code",
      "source": [
        "# Distance list initialization\n",
        "dist_list = []\n",
        "\n",
        "# Get vector pertanyaan\n",
        "pertanyaan_vectors = np.array(pertanyaan_results).squeeze(axis = 0)\n",
        "\n",
        "# Measure distance\n",
        "for i in jawaban_results :\n",
        "  dist = cosineSimilarity(avgPooling(pertanyaan_vectors), avgPooling(i))\n",
        "  dist_list.append(dist)"
      ],
      "metadata": {
        "id": "ufN9njdtvpTd"
      },
      "execution_count": 67,
      "outputs": []
    },
    {
      "cell_type": "markdown",
      "source": [
        "### Word2vec"
      ],
      "metadata": {
        "id": "vsddyqE8xeDa"
      }
    },
    {
      "cell_type": "code",
      "source": [
        "# Distance list initialization\n",
        "dist_list = []\n",
        "\n",
        "# Get vector pertanyaan\n",
        "pertanyaan_vectors = np.array([embedding_matrix[i] for i in pertanyaan_padded]).squeeze(axis = 0)\n",
        "\n",
        "# Measure distance\n",
        "for i in jawaban_padded :\n",
        "  jawaban_vectors = np.array([embedding_matrix[j] for j in i])\n",
        "  dist = cosineSimilarity(avgPooling(pertanyaan_vectors), avgPooling(jawaban_vectors))\n",
        "  dist_list.append(dist)"
      ],
      "metadata": {
        "id": "PO49XVVpF_HX"
      },
      "execution_count": null,
      "outputs": []
    },
    {
      "cell_type": "markdown",
      "source": [
        "## Sort Distance (Ascending)"
      ],
      "metadata": {
        "id": "HQEJjC2EvPgU"
      }
    },
    {
      "cell_type": "code",
      "source": [
        "idx_sorted = np.argsort(dist_list)"
      ],
      "metadata": {
        "id": "6ynDvhwgwdoq"
      },
      "execution_count": 68,
      "outputs": []
    },
    {
      "cell_type": "code",
      "source": [
        "# Distance Preview\n",
        "for i in idx_sorted :\n",
        "  print(dist_list[i])"
      ],
      "metadata": {
        "colab": {
          "base_uri": "https://localhost:8080/"
        },
        "id": "_cpnJ3loQX3S",
        "outputId": "87eae0d0-69d6-4126-ad60-f3b9cf3310b5"
      },
      "execution_count": 69,
      "outputs": [
        {
          "output_type": "stream",
          "name": "stdout",
          "text": [
            "-0.4342612624168396\n",
            "-0.42439907789230347\n",
            "-0.30615895986557007\n",
            "-0.2914940118789673\n",
            "-0.23997405171394348\n",
            "-0.21991091966629028\n",
            "-0.19664216041564941\n",
            "-0.1717662215232849\n",
            "-0.15955573320388794\n",
            "-0.13815759122371674\n",
            "-0.1337941735982895\n",
            "-0.12390104681253433\n",
            "-0.11469621956348419\n",
            "-0.11345846951007843\n",
            "-0.11191226541996002\n",
            "-0.07922637462615967\n",
            "-0.07685914635658264\n",
            "-0.04016534984111786\n",
            "-0.033933915197849274\n",
            "-0.03233054652810097\n",
            "-0.024198096245527267\n",
            "-0.022700315341353416\n",
            "-0.02182847075164318\n",
            "-0.019638599827885628\n",
            "-0.0034094545990228653\n",
            "-0.0008133435621857643\n",
            "-0.0008133435621857643\n",
            "0.0004333937540650368\n",
            "0.015831051394343376\n",
            "0.01777110993862152\n",
            "0.028851469978690147\n",
            "0.030818689614534378\n",
            "0.03286271169781685\n",
            "0.047718726098537445\n",
            "0.05574814975261688\n",
            "0.06868155300617218\n",
            "0.08852505683898926\n",
            "0.08870527893304825\n",
            "0.09141213446855545\n",
            "0.09512156993150711\n",
            "0.10543270409107208\n",
            "0.11077258735895157\n",
            "0.11149099469184875\n",
            "0.11210884898900986\n",
            "0.11967094987630844\n",
            "0.12444169819355011\n",
            "0.12494799494743347\n",
            "0.13014551997184753\n",
            "0.13028885424137115\n",
            "0.13098762929439545\n",
            "0.13527034223079681\n",
            "0.13750647008419037\n",
            "0.14203791320323944\n",
            "0.14207057654857635\n",
            "0.14371702075004578\n",
            "0.14482317864894867\n",
            "0.14482317864894867\n",
            "0.14482317864894867\n",
            "0.14482317864894867\n",
            "0.15150301158428192\n",
            "0.15205208957195282\n",
            "0.1614534854888916\n",
            "0.16201797127723694\n",
            "0.16300931572914124\n",
            "0.16934847831726074\n",
            "0.17295825481414795\n",
            "0.17401495575904846\n",
            "0.17440125346183777\n",
            "0.17467360198497772\n",
            "0.17467360198497772\n",
            "0.17693600058555603\n",
            "0.17741280794143677\n",
            "0.17894431948661804\n",
            "0.17953521013259888\n",
            "0.17969971895217896\n",
            "0.18027429282665253\n",
            "0.18256887793540955\n",
            "0.1843162477016449\n",
            "0.18612657487392426\n",
            "0.18719565868377686\n",
            "0.19186991453170776\n",
            "0.19223570823669434\n",
            "0.1989949643611908\n",
            "0.20517949759960175\n",
            "0.20967647433280945\n",
            "0.21011486649513245\n",
            "0.2134326994419098\n",
            "0.214859738945961\n",
            "0.21735045313835144\n",
            "0.21961364150047302\n",
            "0.2217567265033722\n",
            "0.22281576693058014\n",
            "0.2261461615562439\n",
            "0.2261713743209839\n",
            "0.23079892992973328\n",
            "0.23081129789352417\n",
            "0.23388054966926575\n",
            "0.2372688204050064\n",
            "0.2420542985200882\n",
            "0.24352750182151794\n",
            "0.24556025862693787\n",
            "0.24842923879623413\n",
            "0.24989210069179535\n",
            "0.25017839670181274\n",
            "0.2517566382884979\n",
            "0.25609859824180603\n",
            "0.2586141526699066\n",
            "0.259562611579895\n",
            "0.2634481191635132\n",
            "0.2639874517917633\n",
            "0.2650126516819\n",
            "0.26549088954925537\n",
            "0.26584675908088684\n",
            "0.2692287564277649\n",
            "0.270372211933136\n",
            "0.2716577649116516\n",
            "0.27274569869041443\n",
            "0.2727504372596741\n",
            "0.2737659513950348\n",
            "0.2737922966480255\n",
            "0.2747530937194824\n",
            "0.27519503235816956\n",
            "0.2790316045284271\n",
            "0.28114908933639526\n",
            "0.2822500467300415\n",
            "0.2844989001750946\n",
            "0.28588712215423584\n",
            "0.2860957384109497\n",
            "0.2875640094280243\n",
            "0.28814697265625\n",
            "0.29040080308914185\n",
            "0.29131096601486206\n",
            "0.29283466935157776\n",
            "0.2940489649772644\n",
            "0.2942741811275482\n",
            "0.29493486881256104\n",
            "0.2977103888988495\n",
            "0.2990613579750061\n",
            "0.2997892200946808\n",
            "0.30094054341316223\n",
            "0.3033348023891449\n",
            "0.303507000207901\n",
            "0.3039652109146118\n",
            "0.3067355155944824\n",
            "0.30682405829429626\n",
            "0.31069207191467285\n",
            "0.3116355240345001\n",
            "0.31218624114990234\n",
            "0.31333068013191223\n",
            "0.31635773181915283\n",
            "0.3168521225452423\n",
            "0.31918907165527344\n",
            "0.319995641708374\n",
            "0.3212089538574219\n",
            "0.322775661945343\n",
            "0.324348509311676\n",
            "0.3248227536678314\n",
            "0.3248510956764221\n",
            "0.3263861835002899\n",
            "0.3264389634132385\n",
            "0.3267423212528229\n",
            "0.32842808961868286\n",
            "0.3285408914089203\n",
            "0.328841894865036\n",
            "0.3298354148864746\n",
            "0.33011069893836975\n",
            "0.3302669823169708\n",
            "0.33051633834838867\n",
            "0.33199915289878845\n",
            "0.3332660496234894\n",
            "0.33409932255744934\n",
            "0.33410215377807617\n",
            "0.33450788259506226\n",
            "0.3345860540866852\n",
            "0.3349623382091522\n",
            "0.33685147762298584\n",
            "0.3375934362411499\n",
            "0.33853477239608765\n",
            "0.33856460452079773\n",
            "0.3388257324695587\n",
            "0.3391862213611603\n",
            "0.33996105194091797\n",
            "0.34013989567756653\n",
            "0.34030693769454956\n",
            "0.3414759635925293\n",
            "0.3423290550708771\n",
            "0.34268322587013245\n",
            "0.3430657386779785\n",
            "0.34384265542030334\n",
            "0.34589946269989014\n",
            "0.34671372175216675\n",
            "0.34922289848327637\n",
            "0.3495771884918213\n",
            "0.34975504875183105\n",
            "0.35008686780929565\n",
            "0.35021477937698364\n",
            "0.3510246276855469\n",
            "0.35366132855415344\n",
            "0.35437077283859253\n",
            "0.35454246401786804\n",
            "0.35525792837142944\n",
            "0.35557568073272705\n",
            "0.35767459869384766\n",
            "0.3577859699726105\n",
            "0.357937216758728\n",
            "0.35889625549316406\n",
            "0.3593902587890625\n",
            "0.3597322404384613\n",
            "0.3619402348995209\n",
            "0.36243006587028503\n",
            "0.3631930649280548\n",
            "0.363435834646225\n",
            "0.36696797609329224\n",
            "0.366985023021698\n",
            "0.3670538663864136\n",
            "0.3670962452888489\n",
            "0.367146372795105\n",
            "0.3676716685295105\n",
            "0.36838996410369873\n",
            "0.3686577379703522\n",
            "0.36869820952415466\n",
            "0.3698488473892212\n",
            "0.37117040157318115\n",
            "0.3719066083431244\n",
            "0.37261462211608887\n",
            "0.37428897619247437\n",
            "0.3760989308357239\n",
            "0.37619748711586\n",
            "0.3779800534248352\n",
            "0.37800872325897217\n",
            "0.3784765303134918\n",
            "0.37862062454223633\n",
            "0.3786359429359436\n",
            "0.3790191411972046\n",
            "0.3792855441570282\n",
            "0.3796689808368683\n",
            "0.3798936605453491\n",
            "0.3805863559246063\n",
            "0.38118138909339905\n",
            "0.3836698532104492\n",
            "0.38458752632141113\n",
            "0.3852822780609131\n",
            "0.3863605856895447\n",
            "0.3870776891708374\n",
            "0.3897070288658142\n",
            "0.38984414935112\n",
            "0.3901755213737488\n",
            "0.39313626289367676\n",
            "0.3940763473510742\n",
            "0.3946005403995514\n",
            "0.3965352177619934\n",
            "0.397102415561676\n",
            "0.3980323374271393\n",
            "0.39831849932670593\n",
            "0.3983786106109619\n",
            "0.3985787332057953\n",
            "0.3990430533885956\n",
            "0.3993644118309021\n",
            "0.39971837401390076\n",
            "0.3999820649623871\n",
            "0.4008818566799164\n",
            "0.4010801613330841\n",
            "0.4026651382446289\n",
            "0.40345367789268494\n",
            "0.40383684635162354\n",
            "0.40603572130203247\n",
            "0.40643244981765747\n",
            "0.40700432658195496\n",
            "0.40711450576782227\n",
            "0.4072597026824951\n",
            "0.40951916575431824\n",
            "0.40955132246017456\n",
            "0.4111787676811218\n",
            "0.41186773777008057\n",
            "0.4138964116573334\n",
            "0.41403257846832275\n",
            "0.4160681962966919\n",
            "0.416899710893631\n",
            "0.4171750843524933\n",
            "0.4184303879737854\n",
            "0.41882631182670593\n",
            "0.42185789346694946\n",
            "0.4278087615966797\n",
            "0.43015018105506897\n",
            "0.4345172047615051\n",
            "0.44326597452163696\n",
            "0.44461315870285034\n",
            "0.44533488154411316\n",
            "0.44878578186035156\n",
            "0.4535049498081207\n",
            "0.45636099576950073\n",
            "0.4636104106903076\n",
            "0.4701586067676544\n",
            "0.47687795758247375\n",
            "0.4785042405128479\n",
            "0.4979155361652374\n",
            "0.5040095448493958\n",
            "0.5277813673019409\n",
            "0.5280980467796326\n",
            "0.536376953125\n",
            "0.5451392531394958\n",
            "0.5569751262664795\n",
            "0.6146512031555176\n",
            "0.6341752409934998\n",
            "0.6476355195045471\n"
          ]
        }
      ]
    },
    {
      "cell_type": "code",
      "source": [
        "# Answers Preview (Sorted)\n",
        "for i in idx_sorted :\n",
        "  print(jawaban[i])"
      ],
      "metadata": {
        "colab": {
          "base_uri": "https://localhost:8080/"
        },
        "id": "CqQWoYrMHyA0",
        "outputId": "b4061977-01a8-434d-cc85-8a13b4837ccd"
      },
      "execution_count": null,
      "outputs": [
        {
          "output_type": "stream",
          "name": "stdout",
          "text": [
            "karenakasian\n",
            "karena bnyak yang membutuh kan\n",
            "karena dia kasihan\n",
            "mereka memiliki rasa kepedulian terhadap sesama.\n",
            "krena menyun bang itu berpahala\n",
            "Karena melihat kondisi para pegawai\n",
            "krena mungkin kekecilan /kebesaran\n",
            "karena,mereka ingin ada produk pakaian yang lebih beretika.\n",
            "karena tidak terpakai\n",
            "karena mendapatkan pahala\n",
            "karna berbagi itu indah\n",
            "KARENA PRIHATIN MELIHAT KEADAAN PARA PEKERJA PABRIK\n",
            "karena banyak yang membutuhkan\n",
            "karna menyumbang adalah bekal untuk menuju surga\n",
            "sebab untuk membantu produktivitas suatu pabrik\n",
            "karena pakaian itu beretika\n",
            "karena lebih bermanfaat.\n",
            "karena lebih mudah\n",
            "memilih\n",
            "karena'pakaianawetlebihmahal.\n",
            "jihydgsjdisadusdtgwtsfdhs\n",
            "dikarenakan\n",
            "karena dengan menyumbang produsen akan mengondisikan kerja disebuah pabrik\n",
            "meemas tikan bahwA pejerja mendapatkan upah layak\n",
            "karena, pakaiannya akan menjadi lebih beretika\n",
            "karena pakain tersebut tidak layak untuk dipakai\n",
            "karena kalau dibuang dapat merugikan,makanya sebagian besar orang menyumbangkannya.\n",
            "karna untuk sedekah\n",
            "karena menurut mereka tempat pembuatanya atau cara kerja mereka kurang baik.\n",
            "karena orang orang masih peduli terhadap sesama\n",
            "karena jika mereka menyumbangkan dengan barang akan berguna kedepanya\n",
            "produksi pakaian menjadi lebih beretika.\n",
            "kerena harganya mahal .\n",
            "Karna itu merupakan infestasi\n",
            "karana menyumbang bisa membuat orang lain senang dan memdapatkan pahala\n",
            "karena biar tercukupinya dana untuk pembuatan pakaian yang beretika.\n",
            "pakaian awet adalah alternatif terhadap fast fashion\n",
            "Karena Dengan menyumbang kita bisda mendapat amal sekaligus Mengurangi sampah\n",
            "karena lebih baik untuk semuanya\n",
            "Karena perihatin dengan kondisi pekerja.\n",
            "karena dia ingin pakaian mereka beretika\n",
            "karena dengan menyumbang para konsumen dapat membantu para pekerja\n",
            "karena dia akan membuat produksi pakaian yang beretika maka dia akan menyumbangknnya\n",
            "Karena daripada dibuang dan menjadi sampah, lebih baik disumbangkan.\n",
            "mereka kasihan dengan kondisi pabrik pakaian\n",
            "agar pakaian bisa dibuat sesuai etika\n",
            "Karena menurut mereka pakaian tersebut tidak beretika.\n",
            "karena dengan menyumbang dapat membantu orang yang membutuhkan\n",
            "karena,orang-orang tersebut bersimpati tentang kondisi kerja di sebuah pabrik pakaian.\n",
            "untuk mengurangi penggunan air\n",
            "karana harga nya terjangkau dan pas.\n",
            "Karena itulah salah satu dari amal\n",
            "karena mereka lebih memilih pakaian yang beretika\n",
            "karena mereka telah melihat bagaimana kondisi kerja di sebuah pabrik\n",
            "karena mungkin menurut mereka, sesuai dengan harga dan kaus yang ia terima\n",
            "karna dengan menyumbang nya kita bisa mendapatkan kembali barang yang lebih\n",
            "mereka memilih untuk menyumbang karena mereka ingin memakai pakaian yang ber etika\n",
            "karna menyumbang itu adalah hal positif dan mendapatkan amal ibadah\n",
            "karena kalo menyumbang akan dapat pahala\n",
            "Karena Untuk Membantu masyarakat yang membutuhkan\n",
            "karena orang yang diluar sana banyak membutuhkan sumbangan\n",
            "karena jika banyak yang tidak terpakai akan mubasir\n",
            "karena orang menghargai upaya pekerja untuk membuat pakaian tersebut\n",
            "karena jauh lebih bermanfaat bagi orang-orang yg membutuhkannya\n",
            "karena ada istilah lebih baik memberi aripada menerima\n",
            "karena yang harus di produksi setiap tahun\n",
            "karena terlalu banyaknya pakaian yang sudah di beli\n",
            "karena,dari pada membeli kaus putih seharga 2 Euro\n",
            "karena menyumbang itu lebih bermanfaat dari pada di buang\n",
            "karena kondisi kerja pabrik pakaian yang memprehatinkan\n",
            "karena mengurangi produksi pembuatan pakaian.\n",
            "karna orang-orang berprihatin terhadap pabrik-pabrik yang kekurangan dana\n",
            "karena upaya untuk membuat produksi pakaian menjadi lebih beretika\n",
            "upaya untuk membuat produksi pakaian menjadi lebih beretika\n",
            "sebagai upaya untuk membuat produksi pakaian menjadi lebih beretika\n",
            "Sebagai upaya untuk membuat produksi pakaian menjadi lebih beretika.\n",
            "upaya untuk membuat produksi pakaian menjadi lebih beretika.\n",
            "sebagai upaya untuk membuat produksi pakaian menjadi lebih beretika.\n",
            "sebagai upaya untuk membuat produksi pakaian menjadi lebih beretika.\n",
            "agar upaya untuk membuat produksi pakaian menjadi lebih beretika.\n",
            "Sebagai upaya untuk membuat produksi pakaian menjadi lebih beretika.\n",
            "karena menolak harga yg terlalu tinggi\n",
            "karena menyumbang itu lebih bagus.\n",
            "karan menyumbang perbuatan baik dan menambah pahala bagi kita juga.\n",
            "KARNA MENYUMBANG KITA BISA MENGAMALKAN KARNA DAPET PAHALA\n",
            "karena dia tidak mau bererja\n",
            "agar orang yg memerlukan juga bisa mempunyai baju seperti kita\n",
            "KARNA MEREKA SANGAT MENYUKAI KAUS PUTIH TERSEBUT\n",
            "agar pekerja mendapatkan upah yg layak\n",
            "karena dengan menyumbang kita akan mendapat pahala dan lebih bermanfaat\n",
            "karena akan bermanfaat bagi yg membutuhkan\n",
            "karena sayang untuk di buang\n",
            "karena masyarakat akan lebih memilih untuk membeli pakaian yang beretika\n",
            "karna gambarnya tidak cocok dengan warna kaus baju\n",
            "karena konsumen tidak tega melihat pekerja yang bekerja keras dengan gaji rendah\n",
            "Karena kasihan dengan kondisi para pekerja.\n",
            "karena kondisi kerja pabrik iyu bagus\n",
            "dikarenakan kondisi pabrik pembuat pakaian yang mengejutkan\n",
            "karena dari pada pakaian di buang lebih baik di sumbangkan\n",
            "karena menyumbang bagian dari amal\n",
            "karena kondisi di sebuah pabrik yg mengejutkan.\n",
            "karena menyumbang lebih bermanfaat untuk para perkerja di pabrik pakaian .\n",
            "karna orang lebih suka menyumbang\n",
            "karna kondisi pekerja sangat memungkinkan,\n",
            "karena t sebagai upaya untuk membuat produksi pakaian menjadi lebih beretika.\n",
            "karena menyumbang mendapatkan amal ibadah\n",
            "karena biar laris kalo berjuaalan dan untuk beramal ibadah\n",
            "karena akan lebih baik lagi dari sebelumnya.\n",
            "Karena 2 euro sama dengan harga sebuah kaus putih\n",
            "karena menyumbang itu lebih baik\n",
            "karena uangnya pun lebih bermanfat untuk membeli kebutuhan hidup.di bandingkan menyumbang pakeaian.\n",
            "untuk membuat toko tersebut lebih bagus lagi dan lebih complete\n",
            "karena untuk membantu sebagian konsumen\n",
            "karena yang tak terpakai lebih beretika\n",
            "karena dengan menyumbang untuk membuat produksi pakaian menjadi lebih beretika\n",
            "tampilan kondisi kerja pada pabrik\n",
            "karena menyumbang lebih baik daripada menerima\n",
            "karena lebih baik tangan diatas daripada tangan dibawah\n",
            "karena lebih bermanfaat, dari pada diabuang dan tidak ada yang menggunakan\n",
            "karna dapat membantu orang\n",
            "karna kasihan terhadap kondisi para pekerja\n",
            "karena memiliki pakaian yang melebihi atau sudah tidak layak dipakai pribadi\n",
            "karena mengetahui kondisi kerja di sebuah pabrik pakaian\n",
            "karena menyumbang itu bagus dan mendapatkan pahala\n",
            "karena, menunjukan tentang kondisi kerja di sebuah pabrik pakaian.\n",
            "karena lebih baik menyumbang daripada membeli\n",
            "karna itu lebih bermanfaat untuk orang lain daripada harus terbuang sia-sia\n",
            "Agar pakaian yang kita pakai semua beretika dan nyaman dipakai\n",
            "untuk membantu orang yang membutuhkan\n",
            "karena mereka mendukung akan perubahan produksi pakaian menjadi lebih beretika.\n",
            "karena munkin kebanyakan orang mwngahargai apa yang di lakukan perusahan\n",
            "KARENA MENYUMBANG ADALAH HAL YANG SANGAT BAIK\n",
            "karena lebih baik menyumbang dari pada beli\n",
            "karna untuk membeli pakaian\n",
            "menurut saya menyumbang akan menjadi hal yang baik jika itu untuk hal kebaikan juga\n",
            "karena untuk produksi pakaian untuk menjadi lebih beretika.\n",
            "Karena jika mereka memilih melanjutkan pembelian maka akan menyebabkan pemborosan uang.\n",
            "karena dengan cara menyumbang pakaian kita menjadi lebih beretika\n",
            "karena jika konsumen tersebut membelinya akan menambah sampah lingkungan\n",
            "karena kondisi di sebuah pabrik pakaian yang sangat mengejutkan\n",
            "Karena banyak orang yang tidak suka\n",
            "karena menyumbang merupakan kegiatan amal yang dapat bermanfaat bagi banyak orang\n",
            "karena menyumbang dapat membantu pakir miskin yang sangat membutuhkan dan mendapat pahala\n",
            "itu dapat barang dari konsumen itu dapat terjual juga.\n",
            "karena yang disumbangkan adalah pakaian yang sudah tak terpakai\n",
            "karena menyumbang itu sama saja menolong orang lain yang sedang kesusahan\n",
            "2 euro tersebut sbg upaya untuk prokduksi pakaian menjadi beretika\n",
            "lebih baik menyumbang\n",
            "karena kondisi kerja disebuah pabrik pakaian tidak layak\n",
            "karena melihat gambar tentang kondisi kerja subuah pabrik pakaian\n",
            "karena sebagai upaya untuk membuat produksi pakaian menjadi lebih beretika\n",
            "karena kondisi kerja dari sebuah pabrik sangat tidak menjamin untuk melakukan produktifitas\n",
            "karena mereka melihat kondisi kerja di sebuah pabrik pakaian\n",
            "Mengurangi sampah lingkungan dan polusi;\n",
            "karena mengurangi sampah lingkungan dan polusi\n",
            "Mengurangi sampah lingkungan dan polusi\n",
            "karena lebih baik disumbangkan daripada dibuang dan menjadi limbah dan sampah\n",
            "Karena menyuban lebih baik daripada berlebihan untuk mebeli pakaian yang terlalu banyak .\n",
            "karena menyumbang itu sama denga sodaqoh juga itu bagi yg mampu dan hatinya ikhlas\n",
            "karena untuk sodakoh dan membantu\n",
            "karna dengan menyumbang konsumen bisa membeli barang baru atau di belanjakannya\n",
            "menyebab kankondisi kerja\n",
            "karena pakaian itu bisa dipakai dan pakaian nya pun beretika\n",
            "karena pembeli ingin menyejahterakan para pekerja dan melindungi lingkungan dari polusi\n",
            "karna sudah bosan dipakai dan lebih baik dipakai dengan orang lain\n",
            "karena konsumen melihat kondisi kerja pabrib yang kurang layak\n",
            "karena mereka ingin upaya untuk membuat produksi pakaian menjadi lebih beretika\n",
            "karena mereka ingin upaya untuk membuat produksi pakaian menjadi lebih beretika\n",
            "karna sebagai upaya untuk membuat produksi pakaian menjadi lebih beretika\n",
            "karna sebagai upaya untuk membuat produksi pakaian menjadi lebih beretika\n",
            "karena konsumen ingin berupaya untuk membuat produksi menjad lebih beretika\n",
            "karena untuk upaya membuat produksi pakaian menjadi lebih beretika.\n",
            "karena kalau disimpan pakaiannya akan kekecilan dan masih banyak yang membutuhkannya.\n",
            "Karena membuat produksi pakaian menjadi lebih beretika.\n",
            "karna menyambung lebih gampang dari memputus\n",
            "karena di sumbangkan mendapat pahala di bandingkan di buang\n",
            "karena menyumbangkan 2 Euro tersebut sebagai upayauntuk membuat produksi\n",
            "karna lebih baik menyumbang daripada yang disumbang,menyumbang kita dapat pahala atau rizki dari allah\n",
            "karna menyumbang suatu hal yang sangat bagus dan membarikan amal\n",
            "karena dari pada dibuang lebih baik disumbangkan ke masyarakat yang tidak mampu [miskin]\n",
            "karena masyarakat lebih suka berbagi satu sama lain dan saling peduli satu sama lain\n",
            "supaya bisa mengurangi pakaian yang berakhir ditempat pembuangan sampah.\n",
            "karena kasian terhadap pekerjaklarena kerjanya begitu letih akan tetapi upahnya sedikit.\n",
            "Menyumbang merupakan perbuatan baik, lebih baik memberi dari pada menerima\n",
            "UNTUK MEMBERIKAN SEDEKAH YANG DIBERIKAN OLEH TUHAN YANG MAHA ESA\n",
            "karena menyumbang adalah hal yang baik untuk masyarakat yang miskin atau tidak mampu\n",
            "karena menyumbang sama saja seprti beramal dan bisa juga membantu saudara kita yang kesusahan\n",
            "karena itu akan membantu para masyarakat yang kekurangan pakaian dan lebih bermanfaat daripada membuangnya secara cuma cuma\n",
            "membuat produksi pakaian menjadi lbih beretika\n",
            "Bisa menmbah pahala bisa jadi banyak manfaat bisa menyenangkan hati. DAN TIDAK MENYUSAHKAN TUKANG SAMPAH\n",
            "karena pakaian tersebut sudah tidak layak untuk dipakai da tidak beretika dengan baik\n",
            "karena kalau pakaian yang sudah tidak dipakai terus disumbangkan akan mengurangi penumpukan sampah pakaian\n",
            "Rasa empati akan kondisi produksi tempat tersebut.\n",
            "tren Fast Fashion dan membeli pakaian yang lebih awet dan dibuat sesuai etika.\n",
            "karena mereka melihat kondisi kerja dipabrik pakaian tersebut tidak layak\n",
            "karna kaus yang di tawarkan oleh produsen belum banyak diminati oleh pembeli\n",
            "tentang kondisi kerja di sebuah pabrik pakaian sebagai upaya untuk membuat produksi pakain menjadi beretika\n",
            "mungkin karna kondisi pabrik yang kurang mendukung atau kondisi perkerja yang kasihan\n",
            "karana dengan menyumbang kita bisa membuat produksi pakain menjadi lebih beretika\n",
            "agar pabrik pakaian semakin baik dan dapat memproduksi pakaian yang baik pula untuk mereka.\n",
            "gar pakaian yang sudah tidak terpakai tidak hanya dibuang, tetapi masih bisa dimaanfaatkan untuk dipakai orang lain\n",
            "Dikarenakan sembilan dari sepuluh konsumen tersebut menyadari akan betapa buruknya akibat dari pakaian yang tidak memenuhi etika.\n",
            "fashion adalah produksi pakaian untuk memenuhi tren fashion cepat berubah\n",
            "karena ia adalah sebagai upaya untuk membuat prokduksi pakaian menjadi lebih beretika\n",
            "Karena kita juga makhluk sosial harus tolong menolong jadi kita pantas menyumbang kepada orang yang ada dibawah kita\n",
            "Karena dengan menyumbangkan uang akan menurangi pakaian fast fashion dan meningkatkan pakaian beretika.\n",
            "Kareana kekurangan-kekurangan pabrik yang mengejutkan untuk bahan-bahan pakaian yang akan melanjutkan pembelian.\n",
            "Karena untuk pakaian yang tidak dipakai bisa disumbangkan bagi yang membutuhkan karena lebih beretika.\n",
            "Karena orang berpikir bahwa jika disumbangkan akan membuat produksi pakaian menjadi lebih beretika\n",
            "karena menurut mereka jika mereka bisa menyumbangkan 2 euro tersebut mereka berharap kondisi parik tersebut bisa diperbaiki\n",
            "agar para pekerja tersebut atau pabrik tersebut bisa membuat pakaian yang lebih beretika dalam jumlah yang banyak\n",
            "Karna menyumbang adalah salah satu upaya untuk membuat produksi pakaian menjadi lebih beretika\n",
            "karena dapat bermanfaat bagi sesama dan sesuai dengan etika pakaian sehingga dapat mengurangi smapah lingkungan dan polusi\n",
            "agar dapat membantu menjadi lebih mudah, dan membuat barang produksi lebih diminati\n",
            "karena sumbangan tersebut dapat membuat produksi pakaian tersebut lebih berkualitas dan pembuatannya lebih beretika.\n",
            "ksarena dengan menyumbang, kita dapat membantu pabrik yang telah dalam masalah tersebut, agar dapat beroperasi dengan baik lagi\n",
            "karena dengan cara menyumbang itu bisa membuat produksi pakaian menjadi lebih beretika\n",
            "Karena lebih yakin dalam menyumbangkan uangnya setelah melihat gambar yang ditampilkan perusahaan tersebut\n",
            "karena konsumen berpikir lebih baik menyumbang kan ny dari pada harus menjual ny.\n",
            "karena lebih baik menyumbang dari pada di sumbang jika kita menyumbang belum tentu rejeki datang menimpal perusaahan tersebut.\n",
            "menurut saya, kebanyakkan orang menyumbang karena orang-orang itu ingin memproduksi pakaian yang baru.\n",
            "Karna mereka melihat gambar yang mengejutkan tentang kondisi kerja di sebuah pabrik pakaian.\n",
            "Karena,sebuah mesin penjual di Berlin menawarkan kaus putih seharga 2 Euro (atau sekitar Rp30.000).\n",
            "karena akan sayang kalo di buang begitu saja . lebih baik di kasih kepada orang yang membutuhkan\n",
            "karena dengan menyumbangkannya dapat membantu untuk upaya produksi pakaian menjadi lebih beretika\n",
            "karena barang yang tidak layak di pakai seharusnya di sumbangkan untuk diamalkan kepada orang yang lebih membutuhkan\n",
            "karena konsumen lebih memilih membuat prodeuksi pakaian lebih beretika daripada harus melanjutkan pembelian\n",
            "KARENA MENYUMBANG ITU HARUS DI LAKUKAN KARENA WAJIB DAN AKAN MENDAPATKAN YANG LEBIH UNTUK ORANG YANG MENYUMBANG\n",
            "karena agar pabrik membuat atau memproduksi pakaian menjadi lebih beretika dan memastikan bahwa pekerja mendapatkan upah yg layak\n",
            "karna penyumbangan itu baik untuk membuat prodouksi pakaian menjadi lebih beretika\n",
            "jika kita menyumbang kita akan dapet pahala dan kita akan membantu orang yang sangat membutuhkan sejumlah sumbangan yang kita berikan.\n",
            "Karena kebanyakan orang merasa prihatin dengan pekerja pekerja pada perusahaan pabrik pakaian\n",
            "karena mungkin mereka hanya peduli pada orang yang lebih membutuhkan dan karena mungkin sebagian orang tidak mampu\n",
            "karena masyarakat menginginkan pakaian yang beretika dan menginginkan upah dan tempat kerja yang layak\n",
            "karena pakaian yang tidak dipakai lagi lebih baik disumbangkan dari pada dibuang di tempat sampah.\n",
            "akaian-pakaian ini biasanya murah dan tidak bertahan lama karena konsumen biasanya cepat menggantinya dengan mode terbaru. Fas\n",
            "Agar pakaiannya bisa berguna bagi orang yang membutuhkan daripada harus dibuang lebih baik disumbangkan\n",
            "karenaa sebagian orrang islam ingin berbagi amal untuk mendapatkan pahala denggan menyumbang itu allah akn mengati dengaan pahal yang berlipakkn gnda\n",
            "karena jika ikhlas menyumangkan sedikit uang kita untuk anak yatim atau ke panti asuhan kita akan mendapatkan pahala yang setimpal.\n",
            "karena dengan menyumbangkan uang sebanyak 2 Euro tersebut konsumen akan mendapatkan pakaian yang lebih beretika\n",
            "karna perbuatan menyumbang untuk orang yang tidak mampu itu sangat mulia dan banyak mendapatkan pahala\n",
            "karena menyumabng adalah perbuatan yang terpuji dan dapat membantu kita untuk mendapat pakaian yang beretika karena semua bahan untuk memproduksi terpenuhi dari hasil kita menyumbang\n",
            "karena pakaian-pakaian ini biasanya murah dan tidak bertahan lama karena konsumen biasanya cepat menggantinya dengan mode terbaru.\n",
            "karena mungkin mereka sadar bahwa banyak orang yang penghasilan nya sedikit dan kerja banting tulang hanya untuk makan sehari-hari.\n",
            "karena sebelum sebuah kaos diberikan kepada konsumen, layar menampilkan gambar yang mengejutkan tentang kondisi kerja di sebuah pabrik pakaian.\n",
            "menurut saya, kebanyakan orang memilih menyumbangkan bajunya dikarenakan baju itu sudah tidak muat lagi, merasa tidak nyaman lagi\n",
            "untuk meningkatkan kualitas barang yang memuaskan untuk konsumen da menjadikan produksi pakaian menjadi lebih beretika\n",
            "karena harga pakaian termasuk kategori murah dan mereka mengetahui kondisi kerja di sebuah pabrik terseebut\n",
            "karna mereka prihatin dengan para pekerja yang bekerja di sebuah pabrik pakaian ,karna pabrik pakaian tersebut sudah ingin bangkrut\n",
            "karena supaya pabrik kaus tersebut menjadi lebih bagus dan membuat produksi pakaian menjadi lebih beretika.\n",
            "kenapa kita harus menyum bang karena kita sebagai manusia kitaharu saling yolong menolong dan untuk kebaikan juga sangat pentinng bagi manusia\n",
            "karena untuk membantu proses perbaikan sebuah pabrik agar terlihat lebih layak dan produksi pakaian menjadi lebih beretika\n",
            "karena kondisi kerja tersebut menampilkan bahwa pekerja tidak mendapatkan upah yg layak dan kondisi kerja yg baik\n",
            "karena di luar sana masih banyak yang membutuhkan, sehingga tidak sepenuhnya sumbangan tersebut digunakan untuk pakaian saja. tapi juga untuk yg lain\n",
            "karena mereka melihat tentang kondisi kerja di sebuah pabrik pakaian,sehingga mereka berpikir dengan menyumbang mereka dapat memperbaiki keadaan tersebut\n",
            "karena melihat kondisi kerja yang buruk di sebuah pabrik para konsumen lebih memilih menyumbang daripada membelinya dengan harga 2 Euro.\n",
            "karna meraka libih memilih pakaian yg beretika. tentang kondisi kerja disebuah pabrik pakaian\n",
            "karena menampilkan gambar yang mengejutkan tentang kondisi kerja di sebuah pabrik pakaian membuat pembeli merasa kasian dan berniat untuk menyumbang\n",
            "Karenam sebelum sebuah kaus diberikan kepada konsumen, layar menampilkan gambar yang mengejutkan tentang kondisi kerja di sebuah pabrik pakaian.\n",
            "karena kalo sumumbangkan lebih berguna ketika dibuang begtu saja maka dari itu orang memilih lebh banyak disumbangkan\n",
            "? karena,jika mereka menyumbangkan 2 euro untuk membuat produksi pakaian menjadi lebih beretika,maka pembuatannnya makin banyak sehingga biayanya yang mahal akan menjadi murah\n",
            "karena mereka menyumbangkan semua pakaiannya beralasan karena pakaian itu sudah tak suka lagi di pakai,sehingga mereka menyumbangkannya\n",
            "karena sebelum kaus diberikan kepada konsumen,layar menampilkan gambar yang mengejutkan tentang kondisi kerja di sebuah pabrik pakaian.\n",
            "? karena kegiatan menyumbang lebih utama dan termasuk hal yang diwajibkan untuk orang ada,sedangkan membeli pakaian tidak terlalu perlu asal kita sudah mempunyai pakaian yang cukup\n",
            "karena baju lama bisa digunakan kembali tidak harus dibuang ke tempat sampah kita bisa memberikan kepada orang yang tidak mampu\n",
            "Karena mereka berfikir jika uang/barang yang mereka disumbangkan akan menambah rezeki mereka bukan malah berkurang dan mereka pun akan mendapat pahala dari apa yang mereka lakukan.\n",
            "karena pekerjaan nya tidak beretika dan lebih milih menyumbang untuk membuat produksi pakaian menjadi lebih beretika\n",
            "karena dengan menyumbang maka akan membuat produksi pakaian beretika dan kondisi kerja pabrik menjadi lebih baik daripada sebelumnya\n",
            "Karena apabila pakainan tersebut di buang akan menjadi limbah oleh sebab itu apabila mempunyai pakaian yang sudah tidak di pakai lagi lebih baik di sumbangkan\n",
            "mungkin pakaian itu tidak bagus untuk di pakai lagi.dan mungkin saja pakaian itu tidak muat di pakai oleh orang tersebut,\n",
            "karena kondisi kerja yang dialami para pekerja sangat lah tidak layak, jadi sebagian orang berpikir lebih baik untuk menyumbangkan uang tersebut\n",
            "kebanyakan orang memilih untuk menyumbang supaya pabrik pakaian tersebut memperbaiki kondisi kerja produksi pakaian yang lebih beretika\n",
            "Karena dengan menyumbang akan membantu proses produksi yang lebih bagus lagi maka akan banyak konsumen nantinya yang akan membeli produk tersebut\n",
            "karena menyumbang merupakan suatu bentuk mengamal, menyumbang dalam ajaran agaama yaitu memberi kepada orang yang membutuhkan . itu merupakan suatu tindakan yang terpuji\n",
            "Karena pakaian yang dibeli merupakan fast fashion yang tidak dapat bertahan lama sehingga kebanyakan orang memilioh untuk menyumbangkan pakaian seharga 2 euro tersebut\n",
            "karena mereka melihat tampilan gambar tentang kondisi kerja di sebuah pabrik pakaian yang mungkin menentang prinsip produksi pakaian yang beretika\n",
            "karena Setelahnya, konsumen diberi pilihan apakah akan melanjutkan pembelian atau menyumbangkan 2 Euro tersebut sebagai upaya untuk membuat produksi pakaian menjadi lebih beretika.\n",
            "Karena mereka merasa kasihan kepada kondisi di pabriknya yang mungkin tidak bersih atau mungkin mesinnya tidak lengkap dan merasa kasihan kepada pegawainya yang mendapatkan gaji kurang dari yang ditetapkan.\n",
            "karena lebih banyak konsumen yang menyumbang akan menjadi hemat dengan masalah keuangan dan akan membuat produksi pakaian menjadi lebih beretika.\n",
            "pakian awet adalah alternatif terhadap fast fashion. pakian awet lebih mahal biaya produk dan harga belinya, tetapi karena pakaian itu di buat untuk bertahan dengan lama\n",
            "karna lebih murah jika menyumbang ,mengapa lebih murah karna 2 euro tersebut sebagai upaya untuk membuat produksi pakaian menjadi lebih beretika\n",
            "karena mungkin menurut mereka lebih jika disumbang untuk membuat produksi pakaian menjadi lebih beretika daripada membeli dipabrik pakaian yang tidak berprinsip pakaian beretika\n",
            "karena konsumen melihat dari kondisi kerja di sebuah pabrik pakaian tersebut kurang beretika sehingga mereka menyumbangkan 2 Euro untuk membuat produksi pakaian yang lebih beretika.\n",
            "Menurut saya, para konsumen yang mengerti kondisi kerja yang tidak layak, mereka akan merasa iba dan lebih mengiklaskan 2 Euro tersebut dibanding membeli kaosnya. Sehingga para pekerja bisa mempunyai kondisi kerja dan penghasilan yang baik.\n",
            "karena jika mereka menyumbakan masih banyak yang bisa menggunakan orang di luar sana. dan jika dibuang sangat tidak bagus krena mungkin pakean tersebut masih layak pakai tapi mereka membuangnya.\n",
            "karena mereka mengetahui akan kelebihan dari pakaian yang beretika seperti ; Memastikan bahwa pekerja mendapatkan upah layak dan kondisi kerja yang baik Mengurangi sampah lingkungan dan polusi dan Mengurangi penggunaan air.\n",
            "karna harga yang ditawarkan tidak sebanding dengan kualitas kaus yang diberikan sehingga banyak konsumen yang berfikir lebih baik untuk disumbangkan saja dari pada membeli sebuah kaus dengan harga 2 Euro\n",
            "karena mereka atau konsumen yang membeli melihat langsung tentang kondisi kerja disebuah pabrik pakaian dan ternyata hasilnya mengejutkan dikarenakan konsumen melihat pabrik membuat pakaian yang kurang berateka\n",
            "kerena mereka ingin membantu perusahaan itu untuk membuat produksi pakaian menjadi lebih beretika dan membantu karyawan nya mendapat upah layak dan kondisi kerja yang baik;\n",
            "karena menurut konsumen menyumbang adalah salah satu cara yang baik agar kita tidak memboros dengan cara membuangnya ketenmpat sampah,melainkan kita bisa berbut kebaikan dengan cara menyumbangkannya kepada orang yang tidak mampu\n",
            "karena konsumen-konsumen tersebut sudah tahu dan sadar bagaimana buruknya kondisi kerja di salah satu pabrik pakaian. maka dari itu, 9 dari 10 konsumen memilih untuk menyumbangkan kaus 2 euro tersebut untuk meningkatkan kondisi kerja di pabrik-pabrik pakaian.\n",
            "karena konsumen ingin merubah produsen yang membuat fast fashion ini menjadi lebih baik melihat pabriknya yang terlihat sangat buruk, lagipula hanya dengan memberikan 2 euro saja bukanlah uang yang banyak dan orang pasti tak apa merelakannya.\n",
            "Alia sedang mengerjakan sebuah laporan tentang isu etika terkait produksi dan konsumsi pakaian. Dalam penelitiannya, dia menemukan informasi di blog tentang “Fast Fashion” (Fashion Jangka Pendek): Fast Fashion adalah produksi pakaian untuk memenuhi tren fashion yang cepat berubah. Pakaian-pakaian ini biasanya murah dan tidak bertahan lama karena konsumen biasanya cepat menggantinya dengan mode terbaru. Fast Fashion artinya semakin banyak pakaian yang harus diproduksi setiap tahun dan pakaian-pakaian tersebut harus murah. Produksi ini sering menyebabkan kondisi kerja yang tidak baik dan dampak negatif yang lebih besar terhadap lingkungan. Pakaian awet adalah alternatif terhadap Fast Fashion. Pakaian awet lebih mahal biaya produksi dan harga belinya, tetapi karena pakaian itu dibuat untuk bertahan lebih lama, maka yang dibuat pun menjadi lebih sedikit. Kita sebagai konsumen harus menolak tren Fast Fashion dan membeli pakaian yang lebih awet dan dibuat sesuai etika. Alia juga menemukan bahwa produksi pakaian yang beretika harus mengikuti tiga prinsip penting: Prinsip Produksi Pakaian yang Beretika Memastikan bahwa pekerja mendapatkan upah layak dan kondisi kerja yang baik; Mengurangi sampah lingkungan dan polusi; Mengurangi penggunaan air.\n",
            "menurut saya, kebayakan orang memilih untuk menyumbang karena mungkin saja setelah melihat kondisi kerja di pabrik tersebut, masyarakat menaruh harapan kelak perusahaan tersebut dapat memproduksi pakaian menjadi lebih beretika,\n",
            "karena jika membeli pakaian lagi akan memenuhi pakaian lemari dan yg sudah tdk layak akan dibaung,maka kebanyakan orng memilih untuk disumbangkan kpda orng lain dan sumbangan baju tersebut layak untuk diapakai yg kurang mampu\n",
            "Mereka melihat kondisi pekerja di pabrik pakaian yang mengesankan dan kurang baik. Sehingga mereka lebih memilih untuk menyumbangkan uangnya untuk membuat produksi pakaian lebih beretika dibanding dengan membelinya yang akan malah membuat tanda setuju atau apresiasi dengan kondisi pekerja saat ini.\n",
            "9/10 orang memilih menyumbang karena kondisi pakaian yang ingin mereka pakai bukan seperti yang diinginkan mereka setelah melihat layar tersebut, bisa jadi banyaknya bahan kimia yang digunakan dalam pembuatan pakaian yang akan mengganggu konsumen dalam pemakaiannya seperti gangguan kesehatan dan pakaian yang tidak tahan lama.\n",
            "Menurut saya, kebanyakan orang memilih untuk menyumbang agar pabrik bisa dibenahi dengan menggunakan uang sumbangan mereka. Selain itu mereka ingin memperbaiki kondisi kerja pabrik pakaian yang sangatlah buruk dan sangat tidak sesuai dengan prinsip produksi pakaian yang beretika nomor 1 yaitu 'Memastikan bahwa pekerja mendapatkan upah layak dan kondisi kerja yang baik'.\n",
            "Pakaian awet adalah alternatif terhadap Fast Fashion. Pakaian awet lebih mahal biaya produksi dan harga belinya, tetapi karena pakaian itu dibuat untuk bertahan lebih lama, maka yang dibuat pun menjadi lebih sedikit. Kita sebagai konsumen harus menolak tren Fast Fashion dan membeli pakaian yang lebih awet dan dibuat sesuai etika.\n",
            "Karena orang luar sudah banyak yang lihat bagaimana cara pembuatan baju tersebut yang bisa dibilang sangat tidak efektif sehingga tidak layak untuk dipakai dan orang lain tersebut merasa kasihan dan karena itu ia tidak tega melihat mereka makanya ia menyumbangkan uangnya untuk mereka yang pantas menerimanya\n",
            "karena saat melihat tentang kondisi kerja di sebuah pabrik pakaian tersebut mungkin terdapat gambar pekerja yang sedang bekerja dengan tidak layak atau gambar pekerja yang memakai pakaian yang tidak layak untuk dipakai.Jadi konsumen memilih memyumbang baju tersebut karena merasa kasihan atau khawatir melihat kondisi kerja di pabrik pakaian .tersebut.\n",
            "Sebagai bagian dari eksperiman, sebuah mesin penjual di Berlin menawarkan kaus putih seharga 2 Euro (atau sekitar Rp30.000). Sebelum  Sebagai bagian dari eksperiman, sebuah mesin penjual di Berlin menawarkan kaus putih seharga 2 Euro (atau sekitar Rp30.000). Sebelum sebuah kaus diberikan kepada konsumen, layar menampilkan gambar yang mengejutkan tentang kondisi kerja di sebuah pabrik pakaian.\n",
            "Sebagai bagian dari eksperiman, sebuah mesin penjual di Berlin menawarkan kaus putih seharga 2 Euro (atau sekitar Rp30.000). Sebelum sebuah kaus diberikan kepada konsumen, layar menampilkan gambar yang mengejutkan tentang kondisi kerja di sebuah pabrik pakaian. Karena, pada negara-negara lain mungkin Fashion nya masih kurang beretika yang menyebabkan negara-negara yang sudah bagus memiliki Fashion, akan terganggu dan akan menyebabkan budaya-budaya luar masuk kepada negara yang sudah memiliki Fashion yang berkelas.\n",
            "Sebagai bagian dari eksperiman, sebuah mesin penjual di Berlin menawarkan kaus putih seharga 2 Euro (atau sekitar Rp30.000). Sebelum sebuah kaus diberikan kepada konsumen, layar menampilkan gambar yang mengejutkan tentang kondisi kerja di sebuah pabrik pakaian.  karena pakaian itu dibuat untuk bertahan lebih lama, maka yang dibuat pun menjadi lebih sedikit. Kita sebagai konsumen harus menolak tren Fast Fashion dan membeli pakaian yang lebih awet dan dibuat sesuai etik\n",
            "Sebagai bagian dari eksperiman, sebuah mesin penjual di Berlin menawarkan kaus putih seharga 2 Euro (atau sekitar Rp30.000). Sebelum sebuah kaus diberikan kepada konsumen, layar menampilkan gambar yang mengejutkan tentang kondisi kerja di sebuah pabrik pakaian. Setelahnya, konsumen diberi pilihan apakah akan melanjutkan pembelian atau menyumbangkan 2 Euro tersebut sebagai upaya untuk membuat produksi pakaian menjadi lebih beretika. Sembilan dari sepuluh konsumen memilih untuk menyumbang. Menurutmu, mengapa kebanyakan orang memilih untuk menyumbang? karna dari pada tidak terpakai dan menjadi sampah mendingan dikasih kepada orang yang membutuhkan dengan cara disumbangkan\n"
          ]
        }
      ]
    },
    {
      "cell_type": "markdown",
      "source": [
        "# Choose Data to be Labeled\n",
        "**Output :**\n",
        "*   idx_labeled (list)\n",
        "\n"
      ],
      "metadata": {
        "id": "YpDqVIj5xrLA"
      }
    },
    {
      "cell_type": "markdown",
      "source": [
        "## Set n Data"
      ],
      "metadata": {
        "id": "I_CxZAEi0UAj"
      }
    },
    {
      "cell_type": "code",
      "source": [
        "# Set Percentage\n",
        "percentage = 20\n",
        "\n",
        "# n labeled\n",
        "n_labeled = int(percentage/100 * len(jawaban))\n",
        "\n",
        "# Auto set to 3\n",
        "if (n_labeled < 3) :\n",
        "  n_labeled = 3\n",
        "\n",
        "# Set the amount of data for each section\n",
        "n_each = int(n_labeled / 3)\n",
        "\n",
        "# If there is excess data\n",
        "exc = n_labeled % 3\n",
        "extra_top = 0\n",
        "extra_bottom = 0\n",
        "if (exc) > 0 :\n",
        "  extra_top += 1\n",
        "  if exc == 2 :\n",
        "    extra_bottom += 1"
      ],
      "metadata": {
        "id": "e906ITy3xuS4"
      },
      "execution_count": 70,
      "outputs": []
    },
    {
      "cell_type": "markdown",
      "source": [
        "## Get Data Index"
      ],
      "metadata": {
        "id": "rALbRjSW0ZLK"
      }
    },
    {
      "cell_type": "code",
      "source": [
        "# Top\n",
        "idx_top = [idx_sorted[i] for i in range(n_each + extra_top)]\n",
        "\n",
        "# Middle\n",
        "start_idx = int((len(jawaban)/2) - (n_each/2))\n",
        "idx_middle = [idx_sorted[start_idx + i] for i in range(n_each)]\n",
        "\n",
        "# Bottom\n",
        "idx_bottom = [np.flip(idx_sorted)[i] for i in range(n_each + extra_bottom)]\n",
        "\n",
        "# Combine\n",
        "idx_labeled = idx_top + idx_middle + idx_bottom"
      ],
      "metadata": {
        "id": "dMKiE62-zCLM"
      },
      "execution_count": 73,
      "outputs": []
    },
    {
      "cell_type": "markdown",
      "source": [
        "# Define Data\n",
        "For Training & Testing"
      ],
      "metadata": {
        "id": "gTuMP3983yQE"
      }
    },
    {
      "cell_type": "code",
      "source": [
        "# Training Data\n",
        "pertanyaan_train = np.array([pertanyaan_vectors for i in range(len(idx_labeled))])\n",
        "x_train = np.array([jawaban_results[i] for i in idx_labeled])\n",
        "y_train = np.array([score[i] for i in idx_labeled])\n",
        "\n",
        "# Get Index of Testing Data\n",
        "idx_test = [i for i in idx_sorted if i not in idx_labeled]\n",
        "\n",
        "# Testing Data\n",
        "pertanyaan_test = np.array([pertanyaan_vectors for i in range(len(idx_test))])\n",
        "x_test = np.array([jawaban_results[i] for i in idx_test])\n",
        "y_test = np.array([score[i] for i in idx_test])"
      ],
      "metadata": {
        "id": "B7W_bj1o3zxz"
      },
      "execution_count": 74,
      "outputs": []
    },
    {
      "cell_type": "code",
      "source": [
        "print(\"Shape of Train Data :\")\n",
        "print(pertanyaan_train.shape)\n",
        "print(x_train.shape)\n",
        "print(y_train.shape)\n",
        "\n",
        "print(\"\\nShape of Test Data :\")\n",
        "print(pertanyaan_test.shape)\n",
        "print(x_test.shape)\n",
        "print(y_test.shape)"
      ],
      "metadata": {
        "colab": {
          "base_uri": "https://localhost:8080/"
        },
        "id": "jCS_IDopLHIP",
        "outputId": "e54ab735-550f-4a47-bc21-c050ba0da725"
      },
      "execution_count": 75,
      "outputs": [
        {
          "output_type": "stream",
          "name": "stdout",
          "text": [
            "Shape of Train Data :\n",
            "(61, 204, 768)\n",
            "(61, 204, 768)\n",
            "(61,)\n",
            "\n",
            "Shape of Test Data :\n",
            "(244, 204, 768)\n",
            "(244, 204, 768)\n",
            "(244,)\n"
          ]
        }
      ]
    },
    {
      "cell_type": "markdown",
      "source": [
        "# Model Building"
      ],
      "metadata": {
        "id": "mToCqQWctt3P"
      }
    },
    {
      "cell_type": "markdown",
      "source": [
        "## Define Cosine Similarity Layer"
      ],
      "metadata": {
        "id": "pcBHaFNMEZyA"
      }
    },
    {
      "cell_type": "code",
      "source": [
        "def cosine_distance(vests):\n",
        "    x, y = vests\n",
        "    x = K.l2_normalize(x, axis=-1)\n",
        "    y = K.l2_normalize(y, axis=-1)\n",
        "    return -K.mean(x * y, axis=-1, keepdims=True)\n",
        "\n",
        "def cos_dist_output_shape(shapes):\n",
        "    shape1, shape2 = shapes\n",
        "    return (shape1[0], 1)"
      ],
      "metadata": {
        "id": "mbqpVdW5EZHO"
      },
      "execution_count": 76,
      "outputs": []
    },
    {
      "cell_type": "markdown",
      "source": [
        "# CNN-LSTM"
      ],
      "metadata": {
        "id": "J3umH3gje4ZK"
      }
    },
    {
      "cell_type": "markdown",
      "source": [
        "## Architecture Building"
      ],
      "metadata": {
        "id": "JpWLp1PEtvfm"
      }
    },
    {
      "cell_type": "code",
      "source": [
        "def getCNNLSTMModel(\n",
        "    filters = 64, \n",
        "    kernel_size = 3, \n",
        "    lstm_units = 128, \n",
        "    lstm_dropout = 0.4, \n",
        "    lstm_recurrent_dropout = 0.4, \n",
        "    dropout = 0.4) :\n",
        "  \n",
        "  left_input = Input(pertanyaan_train[0].shape)\n",
        "  right_input = Input(x_train[0].shape)\n",
        "  \n",
        "  conv_layer = Conv1D(filters = filters, kernel_size = kernel_size, padding='same', strides = 1)\n",
        "  lstm_layer = LSTM(units = lstm_units, dropout = lstm_dropout, recurrent_dropout = lstm_recurrent_dropout, return_sequences=False)\n",
        "  dropout_layer = Dropout(dropout)\n",
        "\n",
        "  question_encoding = dropout_layer(lstm_layer(conv_layer(left_input)))\n",
        "  answer_encoding = dropout_layer(lstm_layer(conv_layer(right_input)))\n",
        "\n",
        "  # output_model = Lambda(cosine_distance, output_shape = cos_dist_output_shape)([question_encoding, answer_encoding])\n",
        "  output_model = concatenate([question_encoding, answer_encoding])\n",
        "  output_model = Dense(1)(output_model)\n",
        "\n",
        "  model = Model(inputs = [left_input, right_input], outputs = [output_model])\n",
        "\n",
        "  model.compile(loss = 'mse',\n",
        "                optimizer = 'adam',\n",
        "                metrics = ['mae', 'mse'])\n",
        "  model.summary()\n",
        "\n",
        "  return model"
      ],
      "metadata": {
        "id": "vEQlIZ25t6_9"
      },
      "execution_count": 77,
      "outputs": []
    },
    {
      "cell_type": "code",
      "source": [
        "cnn_lstm_model = getCNNLSTMModel()\n",
        "tf.keras.utils.plot_model(cnn_lstm_model, to_file='cnn_lstm_model.png')"
      ],
      "metadata": {
        "id": "w-GD06zvt7WG",
        "colab": {
          "base_uri": "https://localhost:8080/",
          "height": 0
        },
        "outputId": "a968b2e6-b28d-4faf-e4e3-5242e40fc7c7"
      },
      "execution_count": 78,
      "outputs": [
        {
          "output_type": "stream",
          "name": "stdout",
          "text": [
            "Model: \"model\"\n",
            "__________________________________________________________________________________________________\n",
            " Layer (type)                   Output Shape         Param #     Connected to                     \n",
            "==================================================================================================\n",
            " input_1 (InputLayer)           [(None, 204, 768)]   0           []                               \n",
            "                                                                                                  \n",
            " input_2 (InputLayer)           [(None, 204, 768)]   0           []                               \n",
            "                                                                                                  \n",
            " conv1d (Conv1D)                (None, 204, 64)      147520      ['input_1[0][0]',                \n",
            "                                                                  'input_2[0][0]']                \n",
            "                                                                                                  \n",
            " lstm (LSTM)                    (None, 128)          98816       ['conv1d[0][0]',                 \n",
            "                                                                  'conv1d[1][0]']                 \n",
            "                                                                                                  \n",
            " dropout_111 (Dropout)          (None, 128)          0           ['lstm[0][0]',                   \n",
            "                                                                  'lstm[1][0]']                   \n",
            "                                                                                                  \n",
            " concatenate (Concatenate)      (None, 256)          0           ['dropout_111[0][0]',            \n",
            "                                                                  'dropout_111[1][0]']            \n",
            "                                                                                                  \n",
            " dense (Dense)                  (None, 1)            257         ['concatenate[0][0]']            \n",
            "                                                                                                  \n",
            "==================================================================================================\n",
            "Total params: 246,593\n",
            "Trainable params: 246,593\n",
            "Non-trainable params: 0\n",
            "__________________________________________________________________________________________________\n"
          ]
        },
        {
          "output_type": "execute_result",
          "data": {
            "text/plain": [
              "<IPython.core.display.Image object>"
            ],
            "image/png": "[encoded data removed]"
          },
          "metadata": {},
          "execution_count": 78
        }
      ]
    },
    {
      "cell_type": "markdown",
      "source": [
        "## Model Training"
      ],
      "metadata": {
        "id": "wSq5kEEctx1N"
      }
    },
    {
      "cell_type": "code",
      "source": [
        "history = cnn_lstm_model.fit([pertanyaan_train, x_train],\n",
        "                    y_train,\n",
        "                    validation_data = [[pertanyaan_test, x_test], y_test],\n",
        "                    epochs = 100)"
      ],
      "metadata": {
        "colab": {
          "base_uri": "https://localhost:8080/"
        },
        "id": "n0gs9FOW_iog",
        "outputId": "d52315bb-3462-4769-ac62-b30a161f4df9"
      },
      "execution_count": 79,
      "outputs": [
        {
          "output_type": "stream",
          "name": "stdout",
          "text": [
            "Epoch 1/100\n",
            "2/2 [==============================] - 10s 3s/step - loss: 2.5375 - mae: 1.3794 - mse: 2.5375 - val_loss: 0.3697 - val_mae: 0.4765 - val_mse: 0.3697\n",
            "Epoch 2/100\n",
            "2/2 [==============================] - 4s 2s/step - loss: 0.7215 - mae: 0.7010 - mse: 0.7215 - val_loss: 0.7621 - val_mae: 0.7208 - val_mse: 0.7621\n",
            "Epoch 3/100\n",
            "2/2 [==============================] - 4s 2s/step - loss: 0.4940 - mae: 0.5790 - mse: 0.4940 - val_loss: 0.2414 - val_mae: 0.4558 - val_mse: 0.2414\n",
            "Epoch 4/100\n",
            "2/2 [==============================] - 4s 3s/step - loss: 0.2850 - mae: 0.4448 - mse: 0.2850 - val_loss: 0.4647 - val_mae: 0.5288 - val_mse: 0.4647\n",
            "Epoch 5/100\n",
            "2/2 [==============================] - 4s 3s/step - loss: 0.3654 - mae: 0.4971 - mse: 0.3654 - val_loss: 0.4417 - val_mae: 0.5108 - val_mse: 0.4417\n",
            "Epoch 6/100\n",
            "2/2 [==============================] - 4s 3s/step - loss: 0.4138 - mae: 0.5210 - mse: 0.4138 - val_loss: 0.2472 - val_mae: 0.4361 - val_mse: 0.2472\n",
            "Epoch 7/100\n",
            "2/2 [==============================] - 4s 3s/step - loss: 0.3320 - mae: 0.4718 - mse: 0.3320 - val_loss: 0.2771 - val_mae: 0.4791 - val_mse: 0.2771\n",
            "Epoch 8/100\n",
            "2/2 [==============================] - 4s 3s/step - loss: 0.2924 - mae: 0.4285 - mse: 0.2924 - val_loss: 0.2761 - val_mae: 0.4749 - val_mse: 0.2761\n",
            "Epoch 9/100\n",
            "2/2 [==============================] - 4s 3s/step - loss: 0.3183 - mae: 0.4595 - mse: 0.3183 - val_loss: 0.2303 - val_mae: 0.4300 - val_mse: 0.2303\n",
            "Epoch 10/100\n",
            "2/2 [==============================] - 4s 2s/step - loss: 0.2270 - mae: 0.3611 - mse: 0.2270 - val_loss: 0.2856 - val_mae: 0.4225 - val_mse: 0.2856\n",
            "Epoch 11/100\n",
            "2/2 [==============================] - 4s 2s/step - loss: 0.2496 - mae: 0.4123 - mse: 0.2496 - val_loss: 0.3429 - val_mae: 0.4515 - val_mse: 0.3429\n",
            "Epoch 12/100\n",
            "2/2 [==============================] - 4s 3s/step - loss: 0.3410 - mae: 0.4656 - mse: 0.3410 - val_loss: 0.2982 - val_mae: 0.4274 - val_mse: 0.2982\n",
            "Epoch 13/100\n",
            "2/2 [==============================] - 4s 3s/step - loss: 0.2671 - mae: 0.4055 - mse: 0.2671 - val_loss: 0.2423 - val_mae: 0.4218 - val_mse: 0.2423\n",
            "Epoch 14/100\n",
            "2/2 [==============================] - 4s 3s/step - loss: 0.2679 - mae: 0.4184 - mse: 0.2679 - val_loss: 0.2503 - val_mae: 0.4405 - val_mse: 0.2503\n",
            "Epoch 15/100\n",
            "2/2 [==============================] - 4s 3s/step - loss: 0.2078 - mae: 0.3449 - mse: 0.2078 - val_loss: 0.2536 - val_mae: 0.4389 - val_mse: 0.2536\n",
            "Epoch 16/100\n",
            "2/2 [==============================] - 4s 2s/step - loss: 0.2338 - mae: 0.3876 - mse: 0.2338 - val_loss: 0.2468 - val_mae: 0.4270 - val_mse: 0.2468\n",
            "Epoch 17/100\n",
            "2/2 [==============================] - 4s 3s/step - loss: 0.2514 - mae: 0.4129 - mse: 0.2514 - val_loss: 0.2441 - val_mae: 0.4138 - val_mse: 0.2441\n",
            "Epoch 18/100\n",
            "2/2 [==============================] - 4s 2s/step - loss: 0.1821 - mae: 0.3476 - mse: 0.1821 - val_loss: 0.2517 - val_mae: 0.4083 - val_mse: 0.2517\n",
            "Epoch 19/100\n",
            "2/2 [==============================] - 4s 2s/step - loss: 0.2400 - mae: 0.3884 - mse: 0.2400 - val_loss: 0.2598 - val_mae: 0.4056 - val_mse: 0.2598\n",
            "Epoch 20/100\n",
            "2/2 [==============================] - 4s 2s/step - loss: 0.1965 - mae: 0.3562 - mse: 0.1965 - val_loss: 0.2555 - val_mae: 0.4058 - val_mse: 0.2555\n",
            "Epoch 21/100\n",
            "2/2 [==============================] - 4s 3s/step - loss: 0.2460 - mae: 0.4061 - mse: 0.2460 - val_loss: 0.2518 - val_mae: 0.4097 - val_mse: 0.2518\n",
            "Epoch 22/100\n",
            "2/2 [==============================] - 4s 2s/step - loss: 0.1593 - mae: 0.3280 - mse: 0.1593 - val_loss: 0.2558 - val_mae: 0.4224 - val_mse: 0.2558\n",
            "Epoch 23/100\n",
            "2/2 [==============================] - 4s 3s/step - loss: 0.2048 - mae: 0.3450 - mse: 0.2048 - val_loss: 0.2745 - val_mae: 0.4400 - val_mse: 0.2745\n",
            "Epoch 24/100\n",
            "2/2 [==============================] - 4s 3s/step - loss: 0.1330 - mae: 0.3051 - mse: 0.1330 - val_loss: 0.2784 - val_mae: 0.4431 - val_mse: 0.2784\n",
            "Epoch 25/100\n",
            "2/2 [==============================] - 4s 2s/step - loss: 0.1554 - mae: 0.3169 - mse: 0.1554 - val_loss: 0.2722 - val_mae: 0.4371 - val_mse: 0.2722\n",
            "Epoch 26/100\n",
            "2/2 [==============================] - 4s 3s/step - loss: 0.1328 - mae: 0.2970 - mse: 0.1328 - val_loss: 0.2607 - val_mae: 0.4235 - val_mse: 0.2607\n",
            "Epoch 27/100\n",
            "2/2 [==============================] - 4s 2s/step - loss: 0.1416 - mae: 0.2986 - mse: 0.1416 - val_loss: 0.2611 - val_mae: 0.4082 - val_mse: 0.2611\n",
            "Epoch 28/100\n",
            "2/2 [==============================] - 4s 2s/step - loss: 0.1278 - mae: 0.2788 - mse: 0.1278 - val_loss: 0.2888 - val_mae: 0.4183 - val_mse: 0.2888\n",
            "Epoch 29/100\n",
            "2/2 [==============================] - 4s 3s/step - loss: 0.1467 - mae: 0.3247 - mse: 0.1467 - val_loss: 0.2829 - val_mae: 0.4172 - val_mse: 0.2829\n",
            "Epoch 30/100\n",
            "2/2 [==============================] - 4s 3s/step - loss: 0.2187 - mae: 0.3895 - mse: 0.2187 - val_loss: 0.2554 - val_mae: 0.4115 - val_mse: 0.2554\n",
            "Epoch 31/100\n",
            "2/2 [==============================] - 4s 2s/step - loss: 0.1629 - mae: 0.3306 - mse: 0.1629 - val_loss: 0.2671 - val_mae: 0.4423 - val_mse: 0.2671\n",
            "Epoch 32/100\n",
            "2/2 [==============================] - 4s 3s/step - loss: 0.1128 - mae: 0.2808 - mse: 0.1128 - val_loss: 0.2996 - val_mae: 0.4676 - val_mse: 0.2996\n",
            "Epoch 33/100\n",
            "2/2 [==============================] - 4s 2s/step - loss: 0.1587 - mae: 0.3328 - mse: 0.1587 - val_loss: 0.2799 - val_mae: 0.4538 - val_mse: 0.2799\n",
            "Epoch 34/100\n",
            "2/2 [==============================] - 4s 3s/step - loss: 0.1196 - mae: 0.2767 - mse: 0.1196 - val_loss: 0.2508 - val_mae: 0.4272 - val_mse: 0.2508\n",
            "Epoch 35/100\n",
            "2/2 [==============================] - 4s 2s/step - loss: 0.1781 - mae: 0.3341 - mse: 0.1781 - val_loss: 0.2466 - val_mae: 0.4093 - val_mse: 0.2466\n",
            "Epoch 36/100\n",
            "2/2 [==============================] - 4s 2s/step - loss: 0.1296 - mae: 0.2689 - mse: 0.1296 - val_loss: 0.2573 - val_mae: 0.4071 - val_mse: 0.2573\n",
            "Epoch 37/100\n",
            "2/2 [==============================] - 4s 3s/step - loss: 0.1650 - mae: 0.3131 - mse: 0.1650 - val_loss: 0.2494 - val_mae: 0.4032 - val_mse: 0.2494\n",
            "Epoch 38/100\n",
            "2/2 [==============================] - 4s 3s/step - loss: 0.1137 - mae: 0.2632 - mse: 0.1137 - val_loss: 0.2466 - val_mae: 0.4137 - val_mse: 0.2466\n",
            "Epoch 39/100\n",
            "2/2 [==============================] - 4s 3s/step - loss: 0.1252 - mae: 0.2743 - mse: 0.1252 - val_loss: 0.2498 - val_mae: 0.4194 - val_mse: 0.2498\n",
            "Epoch 40/100\n",
            "2/2 [==============================] - 4s 3s/step - loss: 0.1015 - mae: 0.2465 - mse: 0.1015 - val_loss: 0.2485 - val_mae: 0.4194 - val_mse: 0.2485\n",
            "Epoch 41/100\n",
            "2/2 [==============================] - 4s 3s/step - loss: 0.0994 - mae: 0.2586 - mse: 0.0994 - val_loss: 0.2446 - val_mae: 0.4143 - val_mse: 0.2446\n",
            "Epoch 42/100\n",
            "2/2 [==============================] - 4s 2s/step - loss: 0.0905 - mae: 0.2350 - mse: 0.0905 - val_loss: 0.2416 - val_mae: 0.4090 - val_mse: 0.2416\n",
            "Epoch 43/100\n",
            "2/2 [==============================] - 4s 3s/step - loss: 0.1137 - mae: 0.2714 - mse: 0.1137 - val_loss: 0.2479 - val_mae: 0.4166 - val_mse: 0.2479\n",
            "Epoch 44/100\n",
            "2/2 [==============================] - 4s 3s/step - loss: 0.0964 - mae: 0.2481 - mse: 0.0964 - val_loss: 0.2556 - val_mae: 0.4242 - val_mse: 0.2556\n",
            "Epoch 45/100\n",
            "2/2 [==============================] - 4s 2s/step - loss: 0.1144 - mae: 0.2728 - mse: 0.1144 - val_loss: 0.2547 - val_mae: 0.4204 - val_mse: 0.2547\n",
            "Epoch 46/100\n",
            "2/2 [==============================] - 4s 3s/step - loss: 0.0852 - mae: 0.2346 - mse: 0.0852 - val_loss: 0.2506 - val_mae: 0.4110 - val_mse: 0.2506\n",
            "Epoch 47/100\n",
            "2/2 [==============================] - 4s 2s/step - loss: 0.0937 - mae: 0.2438 - mse: 0.0937 - val_loss: 0.2508 - val_mae: 0.4086 - val_mse: 0.2508\n",
            "Epoch 48/100\n",
            "2/2 [==============================] - 4s 2s/step - loss: 0.0793 - mae: 0.2228 - mse: 0.0793 - val_loss: 0.2515 - val_mae: 0.4092 - val_mse: 0.2515\n",
            "Epoch 49/100\n",
            "2/2 [==============================] - 4s 3s/step - loss: 0.0791 - mae: 0.2233 - mse: 0.0791 - val_loss: 0.2550 - val_mae: 0.4144 - val_mse: 0.2550\n",
            "Epoch 50/100\n",
            "2/2 [==============================] - 4s 2s/step - loss: 0.0959 - mae: 0.2523 - mse: 0.0959 - val_loss: 0.2601 - val_mae: 0.4214 - val_mse: 0.2601\n",
            "Epoch 51/100\n",
            "2/2 [==============================] - 4s 2s/step - loss: 0.0912 - mae: 0.2607 - mse: 0.0912 - val_loss: 0.2713 - val_mae: 0.4357 - val_mse: 0.2713\n",
            "Epoch 52/100\n",
            "2/2 [==============================] - 4s 2s/step - loss: 0.0618 - mae: 0.1911 - mse: 0.0618 - val_loss: 0.2768 - val_mae: 0.4419 - val_mse: 0.2768\n",
            "Epoch 53/100\n",
            "2/2 [==============================] - 4s 2s/step - loss: 0.0943 - mae: 0.2226 - mse: 0.0943 - val_loss: 0.2726 - val_mae: 0.4399 - val_mse: 0.2726\n",
            "Epoch 54/100\n",
            "2/2 [==============================] - 4s 3s/step - loss: 0.0795 - mae: 0.2353 - mse: 0.0795 - val_loss: 0.2548 - val_mae: 0.4263 - val_mse: 0.2548\n",
            "Epoch 55/100\n",
            "2/2 [==============================] - 4s 3s/step - loss: 0.0754 - mae: 0.2214 - mse: 0.0754 - val_loss: 0.2432 - val_mae: 0.4102 - val_mse: 0.2432\n",
            "Epoch 56/100\n",
            "2/2 [==============================] - 4s 3s/step - loss: 0.0810 - mae: 0.2202 - mse: 0.0810 - val_loss: 0.2449 - val_mae: 0.4068 - val_mse: 0.2449\n",
            "Epoch 57/100\n",
            "2/2 [==============================] - 4s 2s/step - loss: 0.0754 - mae: 0.2097 - mse: 0.0754 - val_loss: 0.2462 - val_mae: 0.4054 - val_mse: 0.2462\n",
            "Epoch 58/100\n",
            "2/2 [==============================] - 4s 3s/step - loss: 0.0729 - mae: 0.2121 - mse: 0.0729 - val_loss: 0.2471 - val_mae: 0.4059 - val_mse: 0.2471\n",
            "Epoch 59/100\n",
            "2/2 [==============================] - 4s 3s/step - loss: 0.0893 - mae: 0.2423 - mse: 0.0893 - val_loss: 0.2517 - val_mae: 0.4123 - val_mse: 0.2517\n",
            "Epoch 60/100\n",
            "2/2 [==============================] - 4s 3s/step - loss: 0.0572 - mae: 0.1904 - mse: 0.0572 - val_loss: 0.2627 - val_mae: 0.4220 - val_mse: 0.2627\n",
            "Epoch 61/100\n",
            "2/2 [==============================] - 4s 3s/step - loss: 0.0508 - mae: 0.1880 - mse: 0.0508 - val_loss: 0.2624 - val_mae: 0.4195 - val_mse: 0.2624\n",
            "Epoch 62/100\n",
            "2/2 [==============================] - 4s 3s/step - loss: 0.0720 - mae: 0.2130 - mse: 0.0720 - val_loss: 0.2545 - val_mae: 0.4042 - val_mse: 0.2545\n",
            "Epoch 63/100\n",
            "2/2 [==============================] - 4s 3s/step - loss: 0.0494 - mae: 0.1737 - mse: 0.0494 - val_loss: 0.2546 - val_mae: 0.3963 - val_mse: 0.2546\n",
            "Epoch 64/100\n",
            "2/2 [==============================] - 4s 3s/step - loss: 0.0630 - mae: 0.1901 - mse: 0.0630 - val_loss: 0.2601 - val_mae: 0.3957 - val_mse: 0.2601\n",
            "Epoch 65/100\n",
            "2/2 [==============================] - 4s 3s/step - loss: 0.0728 - mae: 0.2020 - mse: 0.0728 - val_loss: 0.2605 - val_mae: 0.3970 - val_mse: 0.2605\n",
            "Epoch 66/100\n",
            "2/2 [==============================] - 4s 3s/step - loss: 0.0572 - mae: 0.1742 - mse: 0.0572 - val_loss: 0.2547 - val_mae: 0.4022 - val_mse: 0.2547\n",
            "Epoch 67/100\n",
            "2/2 [==============================] - 4s 3s/step - loss: 0.0643 - mae: 0.1930 - mse: 0.0643 - val_loss: 0.2593 - val_mae: 0.4207 - val_mse: 0.2593\n",
            "Epoch 68/100\n",
            "2/2 [==============================] - 4s 3s/step - loss: 0.0694 - mae: 0.2017 - mse: 0.0694 - val_loss: 0.2701 - val_mae: 0.4354 - val_mse: 0.2701\n",
            "Epoch 69/100\n",
            "2/2 [==============================] - 4s 3s/step - loss: 0.0799 - mae: 0.2112 - mse: 0.0799 - val_loss: 0.2706 - val_mae: 0.4361 - val_mse: 0.2706\n",
            "Epoch 70/100\n",
            "2/2 [==============================] - 4s 2s/step - loss: 0.0712 - mae: 0.1962 - mse: 0.0712 - val_loss: 0.2663 - val_mae: 0.4307 - val_mse: 0.2663\n",
            "Epoch 71/100\n",
            "2/2 [==============================] - 4s 3s/step - loss: 0.0511 - mae: 0.1786 - mse: 0.0511 - val_loss: 0.2655 - val_mae: 0.4276 - val_mse: 0.2655\n",
            "Epoch 72/100\n",
            "2/2 [==============================] - 4s 2s/step - loss: 0.0623 - mae: 0.1989 - mse: 0.0623 - val_loss: 0.2741 - val_mae: 0.4338 - val_mse: 0.2741\n",
            "Epoch 73/100\n",
            "2/2 [==============================] - 4s 3s/step - loss: 0.0510 - mae: 0.1845 - mse: 0.0510 - val_loss: 0.2895 - val_mae: 0.4459 - val_mse: 0.2895\n",
            "Epoch 74/100\n",
            "2/2 [==============================] - 4s 2s/step - loss: 0.0833 - mae: 0.2290 - mse: 0.0833 - val_loss: 0.2884 - val_mae: 0.4441 - val_mse: 0.2884\n",
            "Epoch 75/100\n",
            "2/2 [==============================] - 5s 4s/step - loss: 0.0438 - mae: 0.1637 - mse: 0.0438 - val_loss: 0.2818 - val_mae: 0.4380 - val_mse: 0.2818\n",
            "Epoch 76/100\n",
            "2/2 [==============================] - 4s 3s/step - loss: 0.0595 - mae: 0.1903 - mse: 0.0595 - val_loss: 0.2711 - val_mae: 0.4307 - val_mse: 0.2711\n",
            "Epoch 77/100\n",
            "2/2 [==============================] - 4s 2s/step - loss: 0.0563 - mae: 0.1851 - mse: 0.0563 - val_loss: 0.2611 - val_mae: 0.4264 - val_mse: 0.2611\n",
            "Epoch 78/100\n",
            "2/2 [==============================] - 4s 3s/step - loss: 0.0553 - mae: 0.1832 - mse: 0.0553 - val_loss: 0.2575 - val_mae: 0.4244 - val_mse: 0.2575\n",
            "Epoch 79/100\n",
            "2/2 [==============================] - 4s 3s/step - loss: 0.0484 - mae: 0.1788 - mse: 0.0484 - val_loss: 0.2564 - val_mae: 0.4237 - val_mse: 0.2564\n",
            "Epoch 80/100\n",
            "2/2 [==============================] - 4s 3s/step - loss: 0.0325 - mae: 0.1420 - mse: 0.0325 - val_loss: 0.2609 - val_mae: 0.4277 - val_mse: 0.2609\n",
            "Epoch 81/100\n",
            "2/2 [==============================] - 4s 3s/step - loss: 0.0625 - mae: 0.1909 - mse: 0.0625 - val_loss: 0.2688 - val_mae: 0.4342 - val_mse: 0.2688\n",
            "Epoch 82/100\n",
            "2/2 [==============================] - 4s 3s/step - loss: 0.0543 - mae: 0.1927 - mse: 0.0543 - val_loss: 0.2606 - val_mae: 0.4279 - val_mse: 0.2606\n",
            "Epoch 83/100\n",
            "2/2 [==============================] - 4s 3s/step - loss: 0.0485 - mae: 0.1774 - mse: 0.0485 - val_loss: 0.2534 - val_mae: 0.4200 - val_mse: 0.2534\n",
            "Epoch 84/100\n",
            "2/2 [==============================] - 4s 3s/step - loss: 0.0501 - mae: 0.1709 - mse: 0.0501 - val_loss: 0.2515 - val_mae: 0.4149 - val_mse: 0.2515\n",
            "Epoch 85/100\n",
            "2/2 [==============================] - 4s 3s/step - loss: 0.0308 - mae: 0.1404 - mse: 0.0308 - val_loss: 0.2558 - val_mae: 0.4161 - val_mse: 0.2558\n",
            "Epoch 86/100\n",
            "2/2 [==============================] - 4s 3s/step - loss: 0.0396 - mae: 0.1597 - mse: 0.0396 - val_loss: 0.2658 - val_mae: 0.4232 - val_mse: 0.2658\n",
            "Epoch 87/100\n",
            "2/2 [==============================] - 4s 3s/step - loss: 0.0505 - mae: 0.1819 - mse: 0.0505 - val_loss: 0.2818 - val_mae: 0.4370 - val_mse: 0.2818\n",
            "Epoch 88/100\n",
            "2/2 [==============================] - 4s 3s/step - loss: 0.0505 - mae: 0.1740 - mse: 0.0505 - val_loss: 0.2896 - val_mae: 0.4439 - val_mse: 0.2896\n",
            "Epoch 89/100\n",
            "2/2 [==============================] - 4s 3s/step - loss: 0.0602 - mae: 0.1807 - mse: 0.0602 - val_loss: 0.2743 - val_mae: 0.4307 - val_mse: 0.2743\n",
            "Epoch 90/100\n",
            "2/2 [==============================] - 4s 2s/step - loss: 0.0466 - mae: 0.1709 - mse: 0.0466 - val_loss: 0.2607 - val_mae: 0.4151 - val_mse: 0.2607\n",
            "Epoch 91/100\n",
            "2/2 [==============================] - 4s 3s/step - loss: 0.0406 - mae: 0.1492 - mse: 0.0406 - val_loss: 0.2537 - val_mae: 0.4051 - val_mse: 0.2537\n",
            "Epoch 92/100\n",
            "2/2 [==============================] - 4s 2s/step - loss: 0.0375 - mae: 0.1497 - mse: 0.0375 - val_loss: 0.2506 - val_mae: 0.4022 - val_mse: 0.2506\n",
            "Epoch 93/100\n",
            "2/2 [==============================] - 4s 3s/step - loss: 0.0478 - mae: 0.1615 - mse: 0.0478 - val_loss: 0.2598 - val_mae: 0.4156 - val_mse: 0.2598\n",
            "Epoch 94/100\n",
            "2/2 [==============================] - 4s 3s/step - loss: 0.0327 - mae: 0.1462 - mse: 0.0327 - val_loss: 0.2767 - val_mae: 0.4320 - val_mse: 0.2767\n",
            "Epoch 95/100\n",
            "2/2 [==============================] - 4s 3s/step - loss: 0.0440 - mae: 0.1626 - mse: 0.0440 - val_loss: 0.2783 - val_mae: 0.4332 - val_mse: 0.2783\n",
            "Epoch 96/100\n",
            "2/2 [==============================] - 4s 2s/step - loss: 0.0362 - mae: 0.1491 - mse: 0.0362 - val_loss: 0.2703 - val_mae: 0.4276 - val_mse: 0.2703\n",
            "Epoch 97/100\n",
            "2/2 [==============================] - 4s 2s/step - loss: 0.0384 - mae: 0.1490 - mse: 0.0384 - val_loss: 0.2672 - val_mae: 0.4256 - val_mse: 0.2672\n",
            "Epoch 98/100\n",
            "2/2 [==============================] - 4s 2s/step - loss: 0.0443 - mae: 0.1550 - mse: 0.0443 - val_loss: 0.2690 - val_mae: 0.4260 - val_mse: 0.2690\n",
            "Epoch 99/100\n",
            "2/2 [==============================] - 4s 3s/step - loss: 0.0370 - mae: 0.1594 - mse: 0.0370 - val_loss: 0.2709 - val_mae: 0.4251 - val_mse: 0.2709\n",
            "Epoch 100/100\n",
            "2/2 [==============================] - 4s 3s/step - loss: 0.0471 - mae: 0.1677 - mse: 0.0471 - val_loss: 0.2688 - val_mae: 0.4226 - val_mse: 0.2688\n"
          ]
        }
      ]
    },
    {
      "cell_type": "markdown",
      "source": [
        "## Bayesian Optimization"
      ],
      "metadata": {
        "id": "KgS3CBrksRhg"
      }
    },
    {
      "cell_type": "code",
      "source": [
        "# Set Hyperparameters\n",
        "filters = [64, 128, 256]\n",
        "kernel_size = [3, 5, 10]\n",
        "lstm_units = [64, 128, 256]\n",
        "lstm_dropout = [0.2, 0.3, 0.4, 0.5]\n",
        "lstm_recurrent_dropout = [0.2, 0.3, 0.4, 0.5]\n",
        "dropout = [0.2, 0.3, 0.4, 0.5]\n",
        "epochs = [25, 50, 75, 100]\n",
        "\n",
        "# Train The Model\n",
        "cnn_lstm_model = getCNNLSTMModel(\n",
        "    filters = 128, \n",
        "    kernel_size = 3, \n",
        "    lstm_units = 128, \n",
        "    lstm_dropout = 0.4, \n",
        "    lstm_recurrent_dropout = 0.4, \n",
        "    dropout = 0.4)\n",
        "history = cnn_lstm_model.fit([pertanyaan_train, x_train],\n",
        "                    y_train,\n",
        "                    validation_data = [[pertanyaan_test, x_test], y_test],\n",
        "                    epochs = epochs)"
      ],
      "metadata": {
        "colab": {
          "base_uri": "https://localhost:8080/"
        },
        "id": "u8kZ7TznfMbZ",
        "outputId": "63c3ac2c-e617-40c0-9530-3d111cee2543"
      },
      "execution_count": null,
      "outputs": [
        {
          "output_type": "stream",
          "name": "stdout",
          "text": [
            "Model: \"model_5\"\n",
            "__________________________________________________________________________________________________\n",
            " Layer (type)                   Output Shape         Param #     Connected to                     \n",
            "==================================================================================================\n",
            " input_11 (InputLayer)          [(None, 128, 768)]   0           []                               \n",
            "                                                                                                  \n",
            " input_12 (InputLayer)          [(None, 128, 768)]   0           []                               \n",
            "                                                                                                  \n",
            " conv1d_5 (Conv1D)              (None, 128, 128)     491648      ['input_11[0][0]',               \n",
            "                                                                  'input_12[0][0]']               \n",
            "                                                                                                  \n",
            " lstm_5 (LSTM)                  (None, 128)          131584      ['conv1d_5[0][0]',               \n",
            "                                                                  'conv1d_5[1][0]']               \n",
            "                                                                                                  \n",
            " dropout_5 (Dropout)            (None, 128)          0           ['lstm_5[0][0]',                 \n",
            "                                                                  'lstm_5[1][0]']                 \n",
            "                                                                                                  \n",
            " concatenate_4 (Concatenate)    (None, 256)          0           ['dropout_5[0][0]',              \n",
            "                                                                  'dropout_5[1][0]']              \n",
            "                                                                                                  \n",
            " dense_4 (Dense)                (None, 1)            257         ['concatenate_4[0][0]']          \n",
            "                                                                                                  \n",
            "==================================================================================================\n",
            "Total params: 623,489\n",
            "Trainable params: 623,489\n",
            "Non-trainable params: 0\n",
            "__________________________________________________________________________________________________\n"
          ]
        }
      ]
    },
    {
      "cell_type": "markdown",
      "source": [
        "## Result Visualization"
      ],
      "metadata": {
        "id": "3TDuPdW4t1Ik"
      }
    },
    {
      "cell_type": "markdown",
      "source": [
        "### Training"
      ],
      "metadata": {
        "id": "yjWeEQy9DVF-"
      }
    },
    {
      "cell_type": "code",
      "source": [
        "plt.figure(figsize=(12, 5))\n",
        "plt.plot(history.history['loss'])\n",
        "plt.plot(history.history['mae'])\n",
        "plt.legend(['loss (mse)', 'mae'])\n",
        "plt.title('Training loss (MSE) & MAE')\n",
        "plt.xlabel('Epochs')\n",
        "plt.ylabel('Loss')"
      ],
      "metadata": {
        "id": "Ofbn0ujbt781",
        "colab": {
          "base_uri": "https://localhost:8080/",
          "height": 367
        },
        "outputId": "ed93fb52-4262-4034-b895-f4e2aa9da80b"
      },
      "execution_count": 80,
      "outputs": [
        {
          "output_type": "execute_result",
          "data": {
            "text/plain": [
              "Text(0, 0.5, 'Loss')"
            ]
          },
          "metadata": {},
          "execution_count": 80
        },
        {
          "output_type": "display_data",
          "data": {
            "text/plain": [
              "<Figure size 864x360 with 1 Axes>"
            ],
            "image/png": "[encoded data removed]"
          },
          "metadata": {
            "needs_background": "light"
          }
        }
      ]
    },
    {
      "cell_type": "markdown",
      "source": [
        "### Testing"
      ],
      "metadata": {
        "id": "PylEO44uDXO-"
      }
    },
    {
      "cell_type": "code",
      "source": [
        "plt.figure(figsize=(12, 5))\n",
        "plt.plot(history.history['val_loss'])\n",
        "plt.plot(history.history['val_mae'])\n",
        "plt.legend(['val_loss (mse)', 'val_mae'])\n",
        "plt.title('Validation loss (MSE) & MAE')\n",
        "plt.xlabel('Epochs')\n",
        "plt.ylabel('Loss')"
      ],
      "metadata": {
        "colab": {
          "base_uri": "https://localhost:8080/",
          "height": 367
        },
        "id": "UXybDdb0Cdj_",
        "outputId": "0156470f-ae94-4c28-ff5b-955943a70a87"
      },
      "execution_count": 81,
      "outputs": [
        {
          "output_type": "execute_result",
          "data": {
            "text/plain": [
              "Text(0, 0.5, 'Loss')"
            ]
          },
          "metadata": {},
          "execution_count": 81
        },
        {
          "output_type": "display_data",
          "data": {
            "text/plain": [
              "<Figure size 864x360 with 1 Axes>"
            ],
            "image/png": "[encoded data removed]"
          },
          "metadata": {
            "needs_background": "light"
          }
        }
      ]
    },
    {
      "cell_type": "markdown",
      "source": [
        "## Evaluation"
      ],
      "metadata": {
        "id": "xbl-KJ_Gt3ck"
      }
    },
    {
      "cell_type": "code",
      "source": [
        "# MSE & MAE\n",
        "loss, mae, mse = cnn_lstm_model.evaluate([pertanyaan_test, x_test], y_test)\n",
        "print(\"Loss (MSE): \", loss)\n",
        "print(\"MAE: \", mae)"
      ],
      "metadata": {
        "id": "JYWknYcAt8p0",
        "colab": {
          "base_uri": "https://localhost:8080/"
        },
        "outputId": "e87963cb-ba13-4411-a3c1-54ef57cb4e56"
      },
      "execution_count": 82,
      "outputs": [
        {
          "output_type": "stream",
          "name": "stdout",
          "text": [
            "8/8 [==============================] - 1s 173ms/step - loss: 0.2688 - mae: 0.4226 - mse: 0.2688\n",
            "Loss (MSE):  0.26877743005752563\n",
            "MAE:  0.42259272933006287\n"
          ]
        }
      ]
    },
    {
      "cell_type": "code",
      "source": [
        "# Accuracy All Data\n",
        "n_true = 0\n",
        "for i in range(len(df_final)) :\n",
        "  if (df_train_b['LABEL'][i] == df_final['score'][i]) :\n",
        "    n_true += 1\n",
        "accuracy = n_true / len(df_final)\n",
        "print(\"Accuracy: \", accuracy)"
      ],
      "metadata": {
        "colab": {
          "base_uri": "https://localhost:8080/"
        },
        "id": "0FiCI8ZgUkB-",
        "outputId": "02410530-bc8f-4aaa-eb0a-b7621c224c14"
      },
      "execution_count": 86,
      "outputs": [
        {
          "output_type": "stream",
          "name": "stdout",
          "text": [
            "Accuracy:  0.7016393442622951\n"
          ]
        }
      ]
    },
    {
      "cell_type": "code",
      "source": [
        "# Accuracy Test Data\n",
        "n_true = 0\n",
        "for i, data in enumerate(idx_test) :\n",
        "  if (df_train_b['LABEL'][data] == pred_int[i]) :\n",
        "    n_true += 1\n",
        "accuracy = n_true / len(idx_test)\n",
        "print(\"Accuracy: \", accuracy)"
      ],
      "metadata": {
        "colab": {
          "base_uri": "https://localhost:8080/"
        },
        "id": "Z6LVn3Jzchcl",
        "outputId": "df2fc5bc-6bb2-4d98-b205-4ad3df235f1f"
      },
      "execution_count": 87,
      "outputs": [
        {
          "output_type": "stream",
          "name": "stdout",
          "text": [
            "Accuracy:  0.6270491803278688\n"
          ]
        }
      ]
    },
    {
      "cell_type": "markdown",
      "source": [
        "# Predict & Export to CSV"
      ],
      "metadata": {
        "id": "nkI5mMFqFMdl"
      }
    },
    {
      "cell_type": "markdown",
      "source": [
        "## Predict"
      ],
      "metadata": {
        "id": "fD5LWrGnTBc9"
      }
    },
    {
      "cell_type": "code",
      "source": [
        "# Define Model\n",
        "model = cnn_lstm_model\n",
        "\n",
        "# Get Predicted Score\n",
        "pred = [float(i) for i in model.predict([pertanyaan_test, x_test])]\n",
        "pred_int = [round(i) for i in pred]\n",
        "\n",
        "pred_train = list(y_train)\n",
        "pred_int_train = [round(i) for i in y_train]\n",
        "\n",
        "pred_new = pred_train + pred\n",
        "pred_int_new = pred_int_train + pred_int\n",
        "\n",
        "# Get id_mahasiswa\n",
        "id_mahasiswa_train = [id_mahasiswa[i] for i in idx_labeled]\n",
        "id_mahasiswa_test = [id_mahasiswa[i] for i in idx_test]\n",
        "id_mahasiswa_new = id_mahasiswa_train + id_mahasiswa_test\n",
        "\n",
        "# Get jawaban\n",
        "jawaban_train = [jawaban[i] for i in idx_labeled]\n",
        "jawaban_test = [jawaban[i] for i in idx_test]\n",
        "jawaban_new = jawaban_train + jawaban_test\n",
        "\n",
        "# Create Dataframe\n",
        "df_final = pd.DataFrame({\n",
        "    'id_mahasiswa': id_mahasiswa_new,\n",
        "    'jawaban': jawaban_new,\n",
        "    'score': pred_int_new,\n",
        "    'score (float)': pred_new\n",
        "}).sort_values('id_mahasiswa').reset_index(drop=True)"
      ],
      "metadata": {
        "id": "514H1Qy7FPq9"
      },
      "execution_count": 84,
      "outputs": []
    },
    {
      "cell_type": "code",
      "source": [
        "df_final"
      ],
      "metadata": {
        "colab": {
          "base_uri": "https://localhost:8080/",
          "height": 424
        },
        "id": "rEZty019QQkt",
        "outputId": "1419e94c-f2a0-48d9-cde0-e4cb848445df"
      },
      "execution_count": 85,
      "outputs": [
        {
          "output_type": "execute_result",
          "data": {
            "text/plain": [
              "     id_mahasiswa                                            jawaban  score  \\\n",
              "0               0  Karena orang berpikir bahwa jika disumbangkan ...      1   \n",
              "1               1  Pakaian awet adalah alternatif terhadap Fast F...      0   \n",
              "2               2                  karna orang lebih suka menyumbang      0   \n",
              "3               3               karana harga nya terjangkau dan pas.      0   \n",
              "4               4                            kerena harganya mahal .      0   \n",
              "..            ...                                                ...    ...   \n",
              "300           300  Karena,sebuah mesin penjual di Berlin menawark...      0   \n",
              "301           301  Mereka melihat kondisi pekerja di pabrik pakai...      1   \n",
              "302           302  karena yang disumbangkan adalah pakaian yang s...      0   \n",
              "303           303  karena lebih baik tangan diatas daripada tanga...      0   \n",
              "304           304  karena menyumbangkan 2 Euro tersebut sebagai u...      1   \n",
              "\n",
              "     score (float)  \n",
              "0         0.759063  \n",
              "1         0.000000  \n",
              "2         0.226507  \n",
              "3        -0.138829  \n",
              "4        -0.059972  \n",
              "..             ...  \n",
              "300       0.000000  \n",
              "301       1.000000  \n",
              "302       0.108441  \n",
              "303      -0.180110  \n",
              "304       0.930627  \n",
              "\n",
              "[305 rows x 4 columns]"
            ],
            "text/html": [
              "\n",
              "  <div id=\"df-e7764651-0c5e-4abb-81d5-b95e1967db9f\">\n",
              "    <div class=\"colab-df-container\">\n",
              "      <div>\n",
              "<style scoped>\n",
              "    .dataframe tbody tr th:only-of-type {\n",
              "        vertical-align: middle;\n",
              "    }\n",
              "\n",
              "    .dataframe tbody tr th {\n",
              "        vertical-align: top;\n",
              "    }\n",
              "\n",
              "    .dataframe thead th {\n",
              "        text-align: right;\n",
              "    }\n",
              "</style>\n",
              "<table border=\"1\" class=\"dataframe\">\n",
              "  <thead>\n",
              "    <tr style=\"text-align: right;\">\n",
              "      <th></th>\n",
              "      <th>id_mahasiswa</th>\n",
              "      <th>jawaban</th>\n",
              "      <th>score</th>\n",
              "      <th>score (float)</th>\n",
              "    </tr>\n",
              "  </thead>\n",
              "  <tbody>\n",
              "    <tr>\n",
              "      <th>0</th>\n",
              "      <td>0</td>\n",
              "      <td>Karena orang berpikir bahwa jika disumbangkan ...</td>\n",
              "      <td>1</td>\n",
              "      <td>0.759063</td>\n",
              "    </tr>\n",
              "    <tr>\n",
              "      <th>1</th>\n",
              "      <td>1</td>\n",
              "      <td>Pakaian awet adalah alternatif terhadap Fast F...</td>\n",
              "      <td>0</td>\n",
              "      <td>0.000000</td>\n",
              "    </tr>\n",
              "    <tr>\n",
              "      <th>2</th>\n",
              "      <td>2</td>\n",
              "      <td>karna orang lebih suka menyumbang</td>\n",
              "      <td>0</td>\n",
              "      <td>0.226507</td>\n",
              "    </tr>\n",
              "    <tr>\n",
              "      <th>3</th>\n",
              "      <td>3</td>\n",
              "      <td>karana harga nya terjangkau dan pas.</td>\n",
              "      <td>0</td>\n",
              "      <td>-0.138829</td>\n",
              "    </tr>\n",
              "    <tr>\n",
              "      <th>4</th>\n",
              "      <td>4</td>\n",
              "      <td>kerena harganya mahal .</td>\n",
              "      <td>0</td>\n",
              "      <td>-0.059972</td>\n",
              "    </tr>\n",
              "    <tr>\n",
              "      <th>...</th>\n",
              "      <td>...</td>\n",
              "      <td>...</td>\n",
              "      <td>...</td>\n",
              "      <td>...</td>\n",
              "    </tr>\n",
              "    <tr>\n",
              "      <th>300</th>\n",
              "      <td>300</td>\n",
              "      <td>Karena,sebuah mesin penjual di Berlin menawark...</td>\n",
              "      <td>0</td>\n",
              "      <td>0.000000</td>\n",
              "    </tr>\n",
              "    <tr>\n",
              "      <th>301</th>\n",
              "      <td>301</td>\n",
              "      <td>Mereka melihat kondisi pekerja di pabrik pakai...</td>\n",
              "      <td>1</td>\n",
              "      <td>1.000000</td>\n",
              "    </tr>\n",
              "    <tr>\n",
              "      <th>302</th>\n",
              "      <td>302</td>\n",
              "      <td>karena yang disumbangkan adalah pakaian yang s...</td>\n",
              "      <td>0</td>\n",
              "      <td>0.108441</td>\n",
              "    </tr>\n",
              "    <tr>\n",
              "      <th>303</th>\n",
              "      <td>303</td>\n",
              "      <td>karena lebih baik tangan diatas daripada tanga...</td>\n",
              "      <td>0</td>\n",
              "      <td>-0.180110</td>\n",
              "    </tr>\n",
              "    <tr>\n",
              "      <th>304</th>\n",
              "      <td>304</td>\n",
              "      <td>karena menyumbangkan 2 Euro tersebut sebagai u...</td>\n",
              "      <td>1</td>\n",
              "      <td>0.930627</td>\n",
              "    </tr>\n",
              "  </tbody>\n",
              "</table>\n",
              "<p>305 rows × 4 columns</p>\n",
              "</div>\n",
              "      <button class=\"colab-df-convert\" onclick=\"convertToInteractive('df-e7764651-0c5e-4abb-81d5-b95e1967db9f')\"\n",
              "              title=\"Convert this dataframe to an interactive table.\"\n",
              "              style=\"display:none;\">\n",
              "        \n",
              "  <svg xmlns=\"http://www.w3.org/2000/svg\" height=\"24px\"viewBox=\"0 0 24 24\"\n",
              "       width=\"24px\">\n",
              "    <path d=\"M0 0h24v24H0V0z\" fill=\"none\"/>\n",
              "    <path d=\"M18.56 5.44l.94 2.06.94-2.06 2.06-.94-2.06-.94-.94-2.06-.94 2.06-2.06.94zm-11 1L8.5 8.5l.94-2.06 2.06-.94-2.06-.94L8.5 2.5l-.94 2.06-2.06.94zm10 10l.94 2.06.94-2.06 2.06-.94-2.06-.94-.94-2.06-.94 2.06-2.06.94z\"/><path d=\"M17.41 7.96l-1.37-1.37c-.4-.4-.92-.59-1.43-.59-.52 0-1.04.2-1.43.59L10.3 9.45l-7.72 7.72c-.78.78-.78 2.05 0 2.83L4 21.41c.39.39.9.59 1.41.59.51 0 1.02-.2 1.41-.59l7.78-7.78 2.81-2.81c.8-.78.8-2.07 0-2.86zM5.41 20L4 18.59l7.72-7.72 1.47 1.35L5.41 20z\"/>\n",
              "  </svg>\n",
              "      </button>\n",
              "      \n",
              "  <style>\n",
              "    .colab-df-container {\n",
              "      display:flex;\n",
              "      flex-wrap:wrap;\n",
              "      gap: 12px;\n",
              "    }\n",
              "\n",
              "    .colab-df-convert {\n",
              "      background-color: #E8F0FE;\n",
              "      border: none;\n",
              "      border-radius: 50%;\n",
              "      cursor: pointer;\n",
              "      display: none;\n",
              "      fill: #1967D2;\n",
              "      height: 32px;\n",
              "      padding: 0 0 0 0;\n",
              "      width: 32px;\n",
              "    }\n",
              "\n",
              "    .colab-df-convert:hover {\n",
              "      background-color: #E2EBFA;\n",
              "      box-shadow: 0px 1px 2px rgba(60, 64, 67, 0.3), 0px 1px 3px 1px rgba(60, 64, 67, 0.15);\n",
              "      fill: #174EA6;\n",
              "    }\n",
              "\n",
              "    [theme=dark] .colab-df-convert {\n",
              "      background-color: #3B4455;\n",
              "      fill: #D2E3FC;\n",
              "    }\n",
              "\n",
              "    [theme=dark] .colab-df-convert:hover {\n",
              "      background-color: #434B5C;\n",
              "      box-shadow: 0px 1px 3px 1px rgba(0, 0, 0, 0.15);\n",
              "      filter: drop-shadow(0px 1px 2px rgba(0, 0, 0, 0.3));\n",
              "      fill: #FFFFFF;\n",
              "    }\n",
              "  </style>\n",
              "\n",
              "      <script>\n",
              "        const buttonEl =\n",
              "          document.querySelector('#df-e7764651-0c5e-4abb-81d5-b95e1967db9f button.colab-df-convert');\n",
              "        buttonEl.style.display =\n",
              "          google.colab.kernel.accessAllowed ? 'block' : 'none';\n",
              "\n",
              "        async function convertToInteractive(key) {\n",
              "          const element = document.querySelector('#df-e7764651-0c5e-4abb-81d5-b95e1967db9f');\n",
              "          const dataTable =\n",
              "            await google.colab.kernel.invokeFunction('convertToInteractive',\n",
              "                                                     [key], {});\n",
              "          if (!dataTable) return;\n",
              "\n",
              "          const docLinkHtml = 'Like what you see? Visit the ' +\n",
              "            '<a target=\"_blank\" href=https://colab.research.google.com/notebooks/data_table.ipynb>data table notebook</a>'\n",
              "            + ' to learn more about interactive tables.';\n",
              "          element.innerHTML = '';\n",
              "          dataTable['output_type'] = 'display_data';\n",
              "          await google.colab.output.renderOutput(dataTable, element);\n",
              "          const docLink = document.createElement('div');\n",
              "          docLink.innerHTML = docLinkHtml;\n",
              "          element.appendChild(docLink);\n",
              "        }\n",
              "      </script>\n",
              "    </div>\n",
              "  </div>\n",
              "  "
            ]
          },
          "metadata": {},
          "execution_count": 85
        }
      ]
    },
    {
      "cell_type": "markdown",
      "source": [
        "## Export to CSV"
      ],
      "metadata": {
        "id": "JsxN4bG7S9wV"
      }
    },
    {
      "cell_type": "code",
      "source": [
        "# Direct Export\n",
        "df_final.to_excel(\"scoring_result.xlsx\", index = False)"
      ],
      "metadata": {
        "id": "lzv2-V5YSnba"
      },
      "execution_count": null,
      "outputs": []
    },
    {
      "cell_type": "code",
      "source": [
        "# Export with Columns Width Adjustment\n",
        "filename = 'scoring_result.xlsx'\n",
        "dfs = {'df_final': df_final}\n",
        "\n",
        "writer = pd.ExcelWriter(filename, engine='xlsxwriter')\n",
        "for sheetname, df in dfs.items():  # loop through `dict` of dataframes\n",
        "    df.to_excel(writer, sheet_name=sheetname, index = False)  # send df to writer\n",
        "    worksheet = writer.sheets[sheetname]  # pull worksheet object\n",
        "    for idx, col in enumerate(df):  # loop through all columns\n",
        "        series = df[col]\n",
        "        max_len = max((\n",
        "            series.astype(str).map(len).max(),  # len of largest item\n",
        "            len(str(series.name))  # len of column name/header\n",
        "            )) + 1  # adding a little extra space\n",
        "        worksheet.set_column(idx, idx, max_len)  # set column width\n",
        "writer.save()"
      ],
      "metadata": {
        "id": "czMitYNNSygo"
      },
      "execution_count": null,
      "outputs": []
    }
  ]
}