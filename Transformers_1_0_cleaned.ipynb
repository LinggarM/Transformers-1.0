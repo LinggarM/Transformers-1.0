{
  "nbformat": 4,
  "nbformat_minor": 0,
  "metadata": {
    "colab": {
      "name": "Transformers 1.0_cleaned.ipynb",
      "provenance": [],
      "toc_visible": true,
      "collapsed_sections": [
        "8ycrlUG1s7dI",
        "_lpmj8pgs8j_",
        "ng_sG-djFVjq",
        "cF7IKaNQpn8_"
      ],
      "authorship_tag": "ABX9TyPa73yuz9x5+rxdZhZP1afe",
      "include_colab_link": true
    },
    "kernelspec": {
      "name": "python3",
      "display_name": "Python 3"
    },
    "language_info": {
      "name": "python"
    }
  },
  "cells": [
    {
      "cell_type": "markdown",
      "metadata": {
        "id": "view-in-github",
        "colab_type": "text"
      },
      "source": [
        "<a href=\"https://colab.research.google.com/github/LinggarM/Transformers-1.0/blob/master/Transformers_1_0_cleaned.ipynb\" target=\"_parent\"><img src=\"https://colab.research.google.com/assets/colab-badge.svg\" alt=\"Open In Colab\"/></a>"
      ]
    },
    {
      "cell_type": "markdown",
      "source": [
        "# Import Libraries"
      ],
      "metadata": {
        "id": "UUDueZzfs0Az"
      }
    },
    {
      "cell_type": "code",
      "source": [
        "pip install Sastrawi"
      ],
      "metadata": {
        "colab": {
          "base_uri": "https://localhost:8080/"
        },
        "id": "Xzd2xA4W1KfA",
        "outputId": "e323cef2-8b81-4519-900f-6c68e13d9dfb"
      },
      "execution_count": 2,
      "outputs": [
        {
          "output_type": "stream",
          "name": "stdout",
          "text": [
            "Requirement already satisfied: Sastrawi in /usr/local/lib/python3.7/dist-packages (1.0.1)\n"
          ]
        }
      ]
    },
    {
      "cell_type": "code",
      "source": [
        "pip install tensorflow_text"
      ],
      "metadata": {
        "colab": {
          "base_uri": "https://localhost:8080/"
        },
        "id": "BTGaT4bLsxka",
        "outputId": "e8a86379-c94b-44d6-fa26-c3480ce94626"
      },
      "execution_count": 3,
      "outputs": [
        {
          "output_type": "stream",
          "name": "stdout",
          "text": [
            "Requirement already satisfied: tensorflow_text in /usr/local/lib/python3.7/dist-packages (2.8.1)\n",
            "Requirement already satisfied: tensorflow-hub>=0.8.0 in /usr/local/lib/python3.7/dist-packages (from tensorflow_text) (0.12.0)\n",
            "Requirement already satisfied: tensorflow<2.9,>=2.8.0 in /usr/local/lib/python3.7/dist-packages (from tensorflow_text) (2.8.0)\n",
            "Requirement already satisfied: numpy>=1.20 in /usr/local/lib/python3.7/dist-packages (from tensorflow<2.9,>=2.8.0->tensorflow_text) (1.21.5)\n",
            "Requirement already satisfied: google-pasta>=0.1.1 in /usr/local/lib/python3.7/dist-packages (from tensorflow<2.9,>=2.8.0->tensorflow_text) (0.2.0)\n",
            "Requirement already satisfied: absl-py>=0.4.0 in /usr/local/lib/python3.7/dist-packages (from tensorflow<2.9,>=2.8.0->tensorflow_text) (1.0.0)\n",
            "Requirement already satisfied: tensorflow-io-gcs-filesystem>=0.23.1 in /usr/local/lib/python3.7/dist-packages (from tensorflow<2.9,>=2.8.0->tensorflow_text) (0.24.0)\n",
            "Requirement already satisfied: grpcio<2.0,>=1.24.3 in /usr/local/lib/python3.7/dist-packages (from tensorflow<2.9,>=2.8.0->tensorflow_text) (1.44.0)\n",
            "Requirement already satisfied: six>=1.12.0 in /usr/local/lib/python3.7/dist-packages (from tensorflow<2.9,>=2.8.0->tensorflow_text) (1.15.0)\n",
            "Requirement already satisfied: termcolor>=1.1.0 in /usr/local/lib/python3.7/dist-packages (from tensorflow<2.9,>=2.8.0->tensorflow_text) (1.1.0)\n",
            "Requirement already satisfied: keras<2.9,>=2.8.0rc0 in /usr/local/lib/python3.7/dist-packages (from tensorflow<2.9,>=2.8.0->tensorflow_text) (2.8.0)\n",
            "Requirement already satisfied: setuptools in /usr/local/lib/python3.7/dist-packages (from tensorflow<2.9,>=2.8.0->tensorflow_text) (57.4.0)\n",
            "Requirement already satisfied: keras-preprocessing>=1.1.1 in /usr/local/lib/python3.7/dist-packages (from tensorflow<2.9,>=2.8.0->tensorflow_text) (1.1.2)\n",
            "Requirement already satisfied: flatbuffers>=1.12 in /usr/local/lib/python3.7/dist-packages (from tensorflow<2.9,>=2.8.0->tensorflow_text) (2.0)\n",
            "Requirement already satisfied: opt-einsum>=2.3.2 in /usr/local/lib/python3.7/dist-packages (from tensorflow<2.9,>=2.8.0->tensorflow_text) (3.3.0)\n",
            "Requirement already satisfied: protobuf>=3.9.2 in /usr/local/lib/python3.7/dist-packages (from tensorflow<2.9,>=2.8.0->tensorflow_text) (3.17.3)\n",
            "Requirement already satisfied: astunparse>=1.6.0 in /usr/local/lib/python3.7/dist-packages (from tensorflow<2.9,>=2.8.0->tensorflow_text) (1.6.3)\n",
            "Requirement already satisfied: wrapt>=1.11.0 in /usr/local/lib/python3.7/dist-packages (from tensorflow<2.9,>=2.8.0->tensorflow_text) (1.14.0)\n",
            "Requirement already satisfied: libclang>=9.0.1 in /usr/local/lib/python3.7/dist-packages (from tensorflow<2.9,>=2.8.0->tensorflow_text) (13.0.0)\n",
            "Requirement already satisfied: tensorboard<2.9,>=2.8 in /usr/local/lib/python3.7/dist-packages (from tensorflow<2.9,>=2.8.0->tensorflow_text) (2.8.0)\n",
            "Requirement already satisfied: gast>=0.2.1 in /usr/local/lib/python3.7/dist-packages (from tensorflow<2.9,>=2.8.0->tensorflow_text) (0.5.3)\n",
            "Requirement already satisfied: h5py>=2.9.0 in /usr/local/lib/python3.7/dist-packages (from tensorflow<2.9,>=2.8.0->tensorflow_text) (3.1.0)\n",
            "Requirement already satisfied: typing-extensions>=3.6.6 in /usr/local/lib/python3.7/dist-packages (from tensorflow<2.9,>=2.8.0->tensorflow_text) (3.10.0.2)\n",
            "Requirement already satisfied: tf-estimator-nightly==2.8.0.dev2021122109 in /usr/local/lib/python3.7/dist-packages (from tensorflow<2.9,>=2.8.0->tensorflow_text) (2.8.0.dev2021122109)\n",
            "Requirement already satisfied: wheel<1.0,>=0.23.0 in /usr/local/lib/python3.7/dist-packages (from astunparse>=1.6.0->tensorflow<2.9,>=2.8.0->tensorflow_text) (0.37.1)\n",
            "Requirement already satisfied: cached-property in /usr/local/lib/python3.7/dist-packages (from h5py>=2.9.0->tensorflow<2.9,>=2.8.0->tensorflow_text) (1.5.2)\n",
            "Requirement already satisfied: tensorboard-data-server<0.7.0,>=0.6.0 in /usr/local/lib/python3.7/dist-packages (from tensorboard<2.9,>=2.8->tensorflow<2.9,>=2.8.0->tensorflow_text) (0.6.1)\n",
            "Requirement already satisfied: google-auth<3,>=1.6.3 in /usr/local/lib/python3.7/dist-packages (from tensorboard<2.9,>=2.8->tensorflow<2.9,>=2.8.0->tensorflow_text) (1.35.0)\n",
            "Requirement already satisfied: werkzeug>=0.11.15 in /usr/local/lib/python3.7/dist-packages (from tensorboard<2.9,>=2.8->tensorflow<2.9,>=2.8.0->tensorflow_text) (1.0.1)\n",
            "Requirement already satisfied: google-auth-oauthlib<0.5,>=0.4.1 in /usr/local/lib/python3.7/dist-packages (from tensorboard<2.9,>=2.8->tensorflow<2.9,>=2.8.0->tensorflow_text) (0.4.6)\n",
            "Requirement already satisfied: tensorboard-plugin-wit>=1.6.0 in /usr/local/lib/python3.7/dist-packages (from tensorboard<2.9,>=2.8->tensorflow<2.9,>=2.8.0->tensorflow_text) (1.8.1)\n",
            "Requirement already satisfied: markdown>=2.6.8 in /usr/local/lib/python3.7/dist-packages (from tensorboard<2.9,>=2.8->tensorflow<2.9,>=2.8.0->tensorflow_text) (3.3.6)\n",
            "Requirement already satisfied: requests<3,>=2.21.0 in /usr/local/lib/python3.7/dist-packages (from tensorboard<2.9,>=2.8->tensorflow<2.9,>=2.8.0->tensorflow_text) (2.23.0)\n",
            "Requirement already satisfied: pyasn1-modules>=0.2.1 in /usr/local/lib/python3.7/dist-packages (from google-auth<3,>=1.6.3->tensorboard<2.9,>=2.8->tensorflow<2.9,>=2.8.0->tensorflow_text) (0.2.8)\n",
            "Requirement already satisfied: cachetools<5.0,>=2.0.0 in /usr/local/lib/python3.7/dist-packages (from google-auth<3,>=1.6.3->tensorboard<2.9,>=2.8->tensorflow<2.9,>=2.8.0->tensorflow_text) (4.2.4)\n",
            "Requirement already satisfied: rsa<5,>=3.1.4 in /usr/local/lib/python3.7/dist-packages (from google-auth<3,>=1.6.3->tensorboard<2.9,>=2.8->tensorflow<2.9,>=2.8.0->tensorflow_text) (4.8)\n",
            "Requirement already satisfied: requests-oauthlib>=0.7.0 in /usr/local/lib/python3.7/dist-packages (from google-auth-oauthlib<0.5,>=0.4.1->tensorboard<2.9,>=2.8->tensorflow<2.9,>=2.8.0->tensorflow_text) (1.3.1)\n",
            "Requirement already satisfied: importlib-metadata>=4.4 in /usr/local/lib/python3.7/dist-packages (from markdown>=2.6.8->tensorboard<2.9,>=2.8->tensorflow<2.9,>=2.8.0->tensorflow_text) (4.11.3)\n",
            "Requirement already satisfied: zipp>=0.5 in /usr/local/lib/python3.7/dist-packages (from importlib-metadata>=4.4->markdown>=2.6.8->tensorboard<2.9,>=2.8->tensorflow<2.9,>=2.8.0->tensorflow_text) (3.7.0)\n",
            "Requirement already satisfied: pyasn1<0.5.0,>=0.4.6 in /usr/local/lib/python3.7/dist-packages (from pyasn1-modules>=0.2.1->google-auth<3,>=1.6.3->tensorboard<2.9,>=2.8->tensorflow<2.9,>=2.8.0->tensorflow_text) (0.4.8)\n",
            "Requirement already satisfied: certifi>=2017.4.17 in /usr/local/lib/python3.7/dist-packages (from requests<3,>=2.21.0->tensorboard<2.9,>=2.8->tensorflow<2.9,>=2.8.0->tensorflow_text) (2021.10.8)\n",
            "Requirement already satisfied: idna<3,>=2.5 in /usr/local/lib/python3.7/dist-packages (from requests<3,>=2.21.0->tensorboard<2.9,>=2.8->tensorflow<2.9,>=2.8.0->tensorflow_text) (2.10)\n",
            "Requirement already satisfied: chardet<4,>=3.0.2 in /usr/local/lib/python3.7/dist-packages (from requests<3,>=2.21.0->tensorboard<2.9,>=2.8->tensorflow<2.9,>=2.8.0->tensorflow_text) (3.0.4)\n",
            "Requirement already satisfied: urllib3!=1.25.0,!=1.25.1,<1.26,>=1.21.1 in /usr/local/lib/python3.7/dist-packages (from requests<3,>=2.21.0->tensorboard<2.9,>=2.8->tensorflow<2.9,>=2.8.0->tensorflow_text) (1.24.3)\n",
            "Requirement already satisfied: oauthlib>=3.0.0 in /usr/local/lib/python3.7/dist-packages (from requests-oauthlib>=0.7.0->google-auth-oauthlib<0.5,>=0.4.1->tensorboard<2.9,>=2.8->tensorflow<2.9,>=2.8.0->tensorflow_text) (3.2.0)\n"
          ]
        }
      ]
    },
    {
      "cell_type": "code",
      "source": [
        "pip install xlsxwriter"
      ],
      "metadata": {
        "colab": {
          "base_uri": "https://localhost:8080/"
        },
        "id": "xD7bMpJDSts5",
        "outputId": "01e04fe2-d0fe-4284-d54e-be9adc2a3073"
      },
      "execution_count": 4,
      "outputs": [
        {
          "output_type": "stream",
          "name": "stdout",
          "text": [
            "Requirement already satisfied: xlsxwriter in /usr/local/lib/python3.7/dist-packages (3.0.3)\n"
          ]
        }
      ]
    },
    {
      "cell_type": "code",
      "execution_count": 5,
      "metadata": {
        "id": "UcfgKLqysv1A"
      },
      "outputs": [],
      "source": [
        "import numpy as np\n",
        "import pandas as pd\n",
        "import re\n",
        "from Sastrawi.StopWordRemover.StopWordRemoverFactory import StopWordRemoverFactory\n",
        "from Sastrawi.Stemmer.StemmerFactory import StemmerFactory\n",
        "from tensorflow.keras.preprocessing.text import Tokenizer\n",
        "from tensorflow.keras.preprocessing.sequence import pad_sequences\n",
        "from gensim.models import Word2Vec\n",
        "import gensim.models\n",
        "import tensorflow_hub as hub\n",
        "import tensorflow_text\n",
        "import tensorflow as tf\n",
        "from keras import backend as K\n",
        "from tensorflow.keras import Model\n",
        "from tensorflow.keras.layers import Input, Conv1D, Bidirectional, LSTM, GRU, Flatten, Dense, Dropout, Lambda\n",
        "from keras.layers.merge import concatenate\n",
        "import matplotlib.pyplot as plt"
      ]
    },
    {
      "cell_type": "markdown",
      "source": [
        "# Import Data\n",
        "Menggunakan Ukara Dataset (https://github.com/aliakbars/ukara)\n",
        "\n",
        "**Output :**\n",
        "*   pertanyaan (string)\n",
        "*   jawaban (list)\n",
        "*   score (list)\n",
        "*   id_mahasiswa (numpy array)"
      ],
      "metadata": {
        "id": "8ycrlUG1s7dI"
      }
    },
    {
      "cell_type": "code",
      "source": [
        "from google.colab import drive\n",
        "drive.mount('/content/gdrive/')"
      ],
      "metadata": {
        "colab": {
          "base_uri": "https://localhost:8080/"
        },
        "id": "peKKIE8Xs9go",
        "outputId": "d9b451c0-3bf4-4f20-f5c2-236ae54134c4"
      },
      "execution_count": 6,
      "outputs": [
        {
          "output_type": "stream",
          "name": "stdout",
          "text": [
            "Drive already mounted at /content/gdrive/; to attempt to forcibly remount, call drive.mount(\"/content/gdrive/\", force_remount=True).\n"
          ]
        }
      ]
    },
    {
      "cell_type": "code",
      "source": [
        "path = \"/content/gdrive/MyDrive/Upload/Machine Learning/Projects/Transformers 1.0/Data/Dummy Data\"\n",
        "\n",
        "# Data A\n",
        "data_pertanyaan_a = f\"{path}/Data A/stimulus dan coding guidelines data A.txt\"\n",
        "data_train_a = f\"{path}/Data A/data_train_A.csv\"\n",
        "data_dev_a = f\"{path}/Data A/data_dev_A.csv\"\n",
        "\n",
        "# Data B\n",
        "data_pertanyaan_b = f\"{path}/Data B/stimulus dan coding guidelines data B.txt\"\n",
        "data_train_b = f\"{path}/Data B/data_train_B.csv\"\n",
        "data_dev_b = f\"{path}/Data B/data_dev_B.csv\""
      ],
      "metadata": {
        "id": "YMB3zCU0tgnu"
      },
      "execution_count": 7,
      "outputs": []
    },
    {
      "cell_type": "code",
      "source": [
        "# Data A\n",
        "pertanyaan_a = open(data_pertanyaan_a, \"r+\").read()\n",
        "df_train_a = pd.read_csv(data_train_a)\n",
        "df_test_a = pd.read_csv(data_dev_a)\n",
        "\n",
        "# Data B\n",
        "pertanyaan_b = open(data_pertanyaan_b, \"r+\").read()\n",
        "df_train_b = pd.read_csv(data_train_b)\n",
        "df_test_b = pd.read_csv(data_dev_b)"
      ],
      "metadata": {
        "id": "CmqKf-sTuTMM"
      },
      "execution_count": 8,
      "outputs": []
    },
    {
      "cell_type": "markdown",
      "source": [
        "## Data Preview"
      ],
      "metadata": {
        "id": "tSuuiqgywcRx"
      }
    },
    {
      "cell_type": "markdown",
      "source": [
        "### Data A"
      ],
      "metadata": {
        "id": "IKAZT8S6xGYf"
      }
    },
    {
      "cell_type": "code",
      "source": [
        "# Pertanyaan\n",
        "print(pertanyaan_a)"
      ],
      "metadata": {
        "colab": {
          "base_uri": "https://localhost:8080/"
        },
        "id": "1k21tCb7vvQ6",
        "outputId": "367fb5e8-c1c5-441a-ab3c-8a0c69fb486a"
      },
      "execution_count": 9,
      "outputs": [
        {
          "output_type": "stream",
          "name": "stdout",
          "text": [
            "---------------------------------------------------------------------------------------------------------------------------------------------\n",
            "STIMULUS\n",
            "---------------------------------------------------------------------------------------------------------------------------------------------\n",
            "Pemanasan global terjadi karena peningkatan produksi karbon dioksida yang dihasilkan oleh pembakaran fosil dan konsumsi bahan bakar yang tinggi. Salah satu akibat adalah mencairnya es abadi di kutub utara dan selatan yang menimbulkan naiknya ketinggian air laut. kenaikan air laut akan terjadi terus menerus meskipun dalam hitungan centimeter akan mengakibatkan perubahan yang signifikan.\n",
            "\n",
            "Film “Waterworld”, adalah film fiksi ilmiah yang menunjukkan akibat adanya pemanasan global yang sangat besar sehingga menyebabkan bumi menjadi tertutup oleh lautan. Negara-negara dan daratan yang dulunya kering menjadi tengelamn karena terjadi kenaikan permukaan air laut. Penduduk yang dulunya bisa berkehidupan bebas menjadi terpaksa mengungsi ke daratan yang lebih tinggi atau tinggal diatas air.\n",
            "\n",
            "Pertanyaan :\n",
            "Apa yang akan menjadi tantangan bagi suatu penduduk ketika terjadi situasi daratan tidak dapat ditinggali kembali karena tengelam oleh naiknya air laut.\n",
            "---------------------------------------------------------------------------------------------------------------------------------------------\n",
            "CODING GUIDELINES\n",
            "---------------------------------------------------------------------------------------------------------------------------------------------\n",
            "Label 1: siswa memberikan jawaban yang mengindikasikan beberapa hal yang bisa dilakukan ketika seseorang berpindah lokasi karena permasalahan dalam pertanyaan. Kemudian dapat menjelaskan tantangan berupa poin mengenai komunikasi, finansial, ekonomi dan sosial dalam kehidupan yang baru karena perpindahan.  \n",
            "\n",
            "Label 0: Siswa memberikan jawaban yang salah, tidak jelas, tidak cukup atau tidak relevan.\n",
            "\n",
            "\n",
            "\n"
          ]
        }
      ]
    },
    {
      "cell_type": "code",
      "source": [
        "df_train_a.head()"
      ],
      "metadata": {
        "colab": {
          "base_uri": "https://localhost:8080/",
          "height": 206
        },
        "id": "14ehvGlxwxxI",
        "outputId": "e7630979-f3a3-4152-986e-e489c76a9d17"
      },
      "execution_count": 10,
      "outputs": [
        {
          "output_type": "execute_result",
          "data": {
            "text/plain": [
              "  RES_ID                                           RESPONSE  LABEL\n",
              "0   TRA1  intetraksi/beradaptasi terhadap lingkungan yan...      1\n",
              "1   TRA2         seperti jatuhnya meteor tsunami gempa bumi      0\n",
              "2   TRA3      hanya tuhan yang tahu tantangan nya itu apaan      0\n",
              "3   TRA4                      mereka akan sulit beradaptasi      1\n",
              "4   TRA5             Tempat tinggal, ekonomi, dan pekerjaan      1"
            ],
            "text/html": [
              "\n",
              "  <div id=\"df-6846642b-7369-429f-9a2c-d98be73c14e3\">\n",
              "    <div class=\"colab-df-container\">\n",
              "      <div>\n",
              "<style scoped>\n",
              "    .dataframe tbody tr th:only-of-type {\n",
              "        vertical-align: middle;\n",
              "    }\n",
              "\n",
              "    .dataframe tbody tr th {\n",
              "        vertical-align: top;\n",
              "    }\n",
              "\n",
              "    .dataframe thead th {\n",
              "        text-align: right;\n",
              "    }\n",
              "</style>\n",
              "<table border=\"1\" class=\"dataframe\">\n",
              "  <thead>\n",
              "    <tr style=\"text-align: right;\">\n",
              "      <th></th>\n",
              "      <th>RES_ID</th>\n",
              "      <th>RESPONSE</th>\n",
              "      <th>LABEL</th>\n",
              "    </tr>\n",
              "  </thead>\n",
              "  <tbody>\n",
              "    <tr>\n",
              "      <th>0</th>\n",
              "      <td>TRA1</td>\n",
              "      <td>intetraksi/beradaptasi terhadap lingkungan yan...</td>\n",
              "      <td>1</td>\n",
              "    </tr>\n",
              "    <tr>\n",
              "      <th>1</th>\n",
              "      <td>TRA2</td>\n",
              "      <td>seperti jatuhnya meteor tsunami gempa bumi</td>\n",
              "      <td>0</td>\n",
              "    </tr>\n",
              "    <tr>\n",
              "      <th>2</th>\n",
              "      <td>TRA3</td>\n",
              "      <td>hanya tuhan yang tahu tantangan nya itu apaan</td>\n",
              "      <td>0</td>\n",
              "    </tr>\n",
              "    <tr>\n",
              "      <th>3</th>\n",
              "      <td>TRA4</td>\n",
              "      <td>mereka akan sulit beradaptasi</td>\n",
              "      <td>1</td>\n",
              "    </tr>\n",
              "    <tr>\n",
              "      <th>4</th>\n",
              "      <td>TRA5</td>\n",
              "      <td>Tempat tinggal, ekonomi, dan pekerjaan</td>\n",
              "      <td>1</td>\n",
              "    </tr>\n",
              "  </tbody>\n",
              "</table>\n",
              "</div>\n",
              "      <button class=\"colab-df-convert\" onclick=\"convertToInteractive('df-6846642b-7369-429f-9a2c-d98be73c14e3')\"\n",
              "              title=\"Convert this dataframe to an interactive table.\"\n",
              "              style=\"display:none;\">\n",
              "        \n",
              "  <svg xmlns=\"http://www.w3.org/2000/svg\" height=\"24px\"viewBox=\"0 0 24 24\"\n",
              "       width=\"24px\">\n",
              "    <path d=\"M0 0h24v24H0V0z\" fill=\"none\"/>\n",
              "    <path d=\"M18.56 5.44l.94 2.06.94-2.06 2.06-.94-2.06-.94-.94-2.06-.94 2.06-2.06.94zm-11 1L8.5 8.5l.94-2.06 2.06-.94-2.06-.94L8.5 2.5l-.94 2.06-2.06.94zm10 10l.94 2.06.94-2.06 2.06-.94-2.06-.94-.94-2.06-.94 2.06-2.06.94z\"/><path d=\"M17.41 7.96l-1.37-1.37c-.4-.4-.92-.59-1.43-.59-.52 0-1.04.2-1.43.59L10.3 9.45l-7.72 7.72c-.78.78-.78 2.05 0 2.83L4 21.41c.39.39.9.59 1.41.59.51 0 1.02-.2 1.41-.59l7.78-7.78 2.81-2.81c.8-.78.8-2.07 0-2.86zM5.41 20L4 18.59l7.72-7.72 1.47 1.35L5.41 20z\"/>\n",
              "  </svg>\n",
              "      </button>\n",
              "      \n",
              "  <style>\n",
              "    .colab-df-container {\n",
              "      display:flex;\n",
              "      flex-wrap:wrap;\n",
              "      gap: 12px;\n",
              "    }\n",
              "\n",
              "    .colab-df-convert {\n",
              "      background-color: #E8F0FE;\n",
              "      border: none;\n",
              "      border-radius: 50%;\n",
              "      cursor: pointer;\n",
              "      display: none;\n",
              "      fill: #1967D2;\n",
              "      height: 32px;\n",
              "      padding: 0 0 0 0;\n",
              "      width: 32px;\n",
              "    }\n",
              "\n",
              "    .colab-df-convert:hover {\n",
              "      background-color: #E2EBFA;\n",
              "      box-shadow: 0px 1px 2px rgba(60, 64, 67, 0.3), 0px 1px 3px 1px rgba(60, 64, 67, 0.15);\n",
              "      fill: #174EA6;\n",
              "    }\n",
              "\n",
              "    [theme=dark] .colab-df-convert {\n",
              "      background-color: #3B4455;\n",
              "      fill: #D2E3FC;\n",
              "    }\n",
              "\n",
              "    [theme=dark] .colab-df-convert:hover {\n",
              "      background-color: #434B5C;\n",
              "      box-shadow: 0px 1px 3px 1px rgba(0, 0, 0, 0.15);\n",
              "      filter: drop-shadow(0px 1px 2px rgba(0, 0, 0, 0.3));\n",
              "      fill: #FFFFFF;\n",
              "    }\n",
              "  </style>\n",
              "\n",
              "      <script>\n",
              "        const buttonEl =\n",
              "          document.querySelector('#df-6846642b-7369-429f-9a2c-d98be73c14e3 button.colab-df-convert');\n",
              "        buttonEl.style.display =\n",
              "          google.colab.kernel.accessAllowed ? 'block' : 'none';\n",
              "\n",
              "        async function convertToInteractive(key) {\n",
              "          const element = document.querySelector('#df-6846642b-7369-429f-9a2c-d98be73c14e3');\n",
              "          const dataTable =\n",
              "            await google.colab.kernel.invokeFunction('convertToInteractive',\n",
              "                                                     [key], {});\n",
              "          if (!dataTable) return;\n",
              "\n",
              "          const docLinkHtml = 'Like what you see? Visit the ' +\n",
              "            '<a target=\"_blank\" href=https://colab.research.google.com/notebooks/data_table.ipynb>data table notebook</a>'\n",
              "            + ' to learn more about interactive tables.';\n",
              "          element.innerHTML = '';\n",
              "          dataTable['output_type'] = 'display_data';\n",
              "          await google.colab.output.renderOutput(dataTable, element);\n",
              "          const docLink = document.createElement('div');\n",
              "          docLink.innerHTML = docLinkHtml;\n",
              "          element.appendChild(docLink);\n",
              "        }\n",
              "      </script>\n",
              "    </div>\n",
              "  </div>\n",
              "  "
            ]
          },
          "metadata": {},
          "execution_count": 10
        }
      ]
    },
    {
      "cell_type": "code",
      "source": [
        "df_train_a.info()"
      ],
      "metadata": {
        "colab": {
          "base_uri": "https://localhost:8080/"
        },
        "id": "qw47dC4xwO_p",
        "outputId": "584ced11-49c9-4f52-888c-55d002fffd21"
      },
      "execution_count": 11,
      "outputs": [
        {
          "output_type": "stream",
          "name": "stdout",
          "text": [
            "<class 'pandas.core.frame.DataFrame'>\n",
            "RangeIndex: 268 entries, 0 to 267\n",
            "Data columns (total 3 columns):\n",
            " #   Column    Non-Null Count  Dtype \n",
            "---  ------    --------------  ----- \n",
            " 0   RES_ID    268 non-null    object\n",
            " 1   RESPONSE  268 non-null    object\n",
            " 2   LABEL     268 non-null    int64 \n",
            "dtypes: int64(1), object(2)\n",
            "memory usage: 6.4+ KB\n"
          ]
        }
      ]
    },
    {
      "cell_type": "code",
      "source": [
        "df_test_a.head()"
      ],
      "metadata": {
        "colab": {
          "base_uri": "https://localhost:8080/",
          "height": 206
        },
        "outputId": "da487e35-5568-45b3-8b4c-59e3b51a3724",
        "id": "8LUzCQuRxAJ_"
      },
      "execution_count": 12,
      "outputs": [
        {
          "output_type": "execute_result",
          "data": {
            "text/plain": [
              "  RES_ID                                           RESPONSE\n",
              "0  DEVA1  karena di tempat tnggalnya tidak aman karena b...\n",
              "1  DEVA2  banyak yang menolak, susah mencari lapangan pe...\n",
              "2  DEVA3  ah berkomunikasi dengan wilyah yang mereka tem...\n",
              "3  DEVA4  tantangan yang akan mereka hadapi, seperti mer...\n",
              "4  DEVA5      Mereka akan tidak terbiasa dengan tempat baru"
            ],
            "text/html": [
              "\n",
              "  <div id=\"df-e5cb0f8c-229f-4cc7-bc7a-10de94fffdd6\">\n",
              "    <div class=\"colab-df-container\">\n",
              "      <div>\n",
              "<style scoped>\n",
              "    .dataframe tbody tr th:only-of-type {\n",
              "        vertical-align: middle;\n",
              "    }\n",
              "\n",
              "    .dataframe tbody tr th {\n",
              "        vertical-align: top;\n",
              "    }\n",
              "\n",
              "    .dataframe thead th {\n",
              "        text-align: right;\n",
              "    }\n",
              "</style>\n",
              "<table border=\"1\" class=\"dataframe\">\n",
              "  <thead>\n",
              "    <tr style=\"text-align: right;\">\n",
              "      <th></th>\n",
              "      <th>RES_ID</th>\n",
              "      <th>RESPONSE</th>\n",
              "    </tr>\n",
              "  </thead>\n",
              "  <tbody>\n",
              "    <tr>\n",
              "      <th>0</th>\n",
              "      <td>DEVA1</td>\n",
              "      <td>karena di tempat tnggalnya tidak aman karena b...</td>\n",
              "    </tr>\n",
              "    <tr>\n",
              "      <th>1</th>\n",
              "      <td>DEVA2</td>\n",
              "      <td>banyak yang menolak, susah mencari lapangan pe...</td>\n",
              "    </tr>\n",
              "    <tr>\n",
              "      <th>2</th>\n",
              "      <td>DEVA3</td>\n",
              "      <td>ah berkomunikasi dengan wilyah yang mereka tem...</td>\n",
              "    </tr>\n",
              "    <tr>\n",
              "      <th>3</th>\n",
              "      <td>DEVA4</td>\n",
              "      <td>tantangan yang akan mereka hadapi, seperti mer...</td>\n",
              "    </tr>\n",
              "    <tr>\n",
              "      <th>4</th>\n",
              "      <td>DEVA5</td>\n",
              "      <td>Mereka akan tidak terbiasa dengan tempat baru</td>\n",
              "    </tr>\n",
              "  </tbody>\n",
              "</table>\n",
              "</div>\n",
              "      <button class=\"colab-df-convert\" onclick=\"convertToInteractive('df-e5cb0f8c-229f-4cc7-bc7a-10de94fffdd6')\"\n",
              "              title=\"Convert this dataframe to an interactive table.\"\n",
              "              style=\"display:none;\">\n",
              "        \n",
              "  <svg xmlns=\"http://www.w3.org/2000/svg\" height=\"24px\"viewBox=\"0 0 24 24\"\n",
              "       width=\"24px\">\n",
              "    <path d=\"M0 0h24v24H0V0z\" fill=\"none\"/>\n",
              "    <path d=\"M18.56 5.44l.94 2.06.94-2.06 2.06-.94-2.06-.94-.94-2.06-.94 2.06-2.06.94zm-11 1L8.5 8.5l.94-2.06 2.06-.94-2.06-.94L8.5 2.5l-.94 2.06-2.06.94zm10 10l.94 2.06.94-2.06 2.06-.94-2.06-.94-.94-2.06-.94 2.06-2.06.94z\"/><path d=\"M17.41 7.96l-1.37-1.37c-.4-.4-.92-.59-1.43-.59-.52 0-1.04.2-1.43.59L10.3 9.45l-7.72 7.72c-.78.78-.78 2.05 0 2.83L4 21.41c.39.39.9.59 1.41.59.51 0 1.02-.2 1.41-.59l7.78-7.78 2.81-2.81c.8-.78.8-2.07 0-2.86zM5.41 20L4 18.59l7.72-7.72 1.47 1.35L5.41 20z\"/>\n",
              "  </svg>\n",
              "      </button>\n",
              "      \n",
              "  <style>\n",
              "    .colab-df-container {\n",
              "      display:flex;\n",
              "      flex-wrap:wrap;\n",
              "      gap: 12px;\n",
              "    }\n",
              "\n",
              "    .colab-df-convert {\n",
              "      background-color: #E8F0FE;\n",
              "      border: none;\n",
              "      border-radius: 50%;\n",
              "      cursor: pointer;\n",
              "      display: none;\n",
              "      fill: #1967D2;\n",
              "      height: 32px;\n",
              "      padding: 0 0 0 0;\n",
              "      width: 32px;\n",
              "    }\n",
              "\n",
              "    .colab-df-convert:hover {\n",
              "      background-color: #E2EBFA;\n",
              "      box-shadow: 0px 1px 2px rgba(60, 64, 67, 0.3), 0px 1px 3px 1px rgba(60, 64, 67, 0.15);\n",
              "      fill: #174EA6;\n",
              "    }\n",
              "\n",
              "    [theme=dark] .colab-df-convert {\n",
              "      background-color: #3B4455;\n",
              "      fill: #D2E3FC;\n",
              "    }\n",
              "\n",
              "    [theme=dark] .colab-df-convert:hover {\n",
              "      background-color: #434B5C;\n",
              "      box-shadow: 0px 1px 3px 1px rgba(0, 0, 0, 0.15);\n",
              "      filter: drop-shadow(0px 1px 2px rgba(0, 0, 0, 0.3));\n",
              "      fill: #FFFFFF;\n",
              "    }\n",
              "  </style>\n",
              "\n",
              "      <script>\n",
              "        const buttonEl =\n",
              "          document.querySelector('#df-e5cb0f8c-229f-4cc7-bc7a-10de94fffdd6 button.colab-df-convert');\n",
              "        buttonEl.style.display =\n",
              "          google.colab.kernel.accessAllowed ? 'block' : 'none';\n",
              "\n",
              "        async function convertToInteractive(key) {\n",
              "          const element = document.querySelector('#df-e5cb0f8c-229f-4cc7-bc7a-10de94fffdd6');\n",
              "          const dataTable =\n",
              "            await google.colab.kernel.invokeFunction('convertToInteractive',\n",
              "                                                     [key], {});\n",
              "          if (!dataTable) return;\n",
              "\n",
              "          const docLinkHtml = 'Like what you see? Visit the ' +\n",
              "            '<a target=\"_blank\" href=https://colab.research.google.com/notebooks/data_table.ipynb>data table notebook</a>'\n",
              "            + ' to learn more about interactive tables.';\n",
              "          element.innerHTML = '';\n",
              "          dataTable['output_type'] = 'display_data';\n",
              "          await google.colab.output.renderOutput(dataTable, element);\n",
              "          const docLink = document.createElement('div');\n",
              "          docLink.innerHTML = docLinkHtml;\n",
              "          element.appendChild(docLink);\n",
              "        }\n",
              "      </script>\n",
              "    </div>\n",
              "  </div>\n",
              "  "
            ]
          },
          "metadata": {},
          "execution_count": 12
        }
      ]
    },
    {
      "cell_type": "code",
      "source": [
        "df_test_a.info()"
      ],
      "metadata": {
        "colab": {
          "base_uri": "https://localhost:8080/"
        },
        "outputId": "b0aa4db6-aa87-4dbe-d45d-6e234d32790d",
        "id": "rmyitiycxAKA"
      },
      "execution_count": 13,
      "outputs": [
        {
          "output_type": "stream",
          "name": "stdout",
          "text": [
            "<class 'pandas.core.frame.DataFrame'>\n",
            "RangeIndex: 215 entries, 0 to 214\n",
            "Data columns (total 2 columns):\n",
            " #   Column    Non-Null Count  Dtype \n",
            "---  ------    --------------  ----- \n",
            " 0   RES_ID    215 non-null    object\n",
            " 1   RESPONSE  215 non-null    object\n",
            "dtypes: object(2)\n",
            "memory usage: 3.5+ KB\n"
          ]
        }
      ]
    },
    {
      "cell_type": "markdown",
      "source": [
        "### Data B"
      ],
      "metadata": {
        "id": "AMD7IK80xK8S"
      }
    },
    {
      "cell_type": "code",
      "source": [
        "# Pertanyaan\n",
        "print(pertanyaan_b)"
      ],
      "metadata": {
        "colab": {
          "base_uri": "https://localhost:8080/"
        },
        "outputId": "6bf47ce2-3c63-461a-e1ea-96fa6525a8ea",
        "id": "xBQtPunWxK8T"
      },
      "execution_count": 14,
      "outputs": [
        {
          "output_type": "stream",
          "name": "stdout",
          "text": [
            "---------------------------------------------------------------------------------------------------------------------------------------------\n",
            "STIMULUS\n",
            "---------------------------------------------------------------------------------------------------------------------------------------------\n",
            "Sebuah toko baju berkonsep self-service menawarkan promosi dua buah baju bertema tahun baru seharga Rp50.000,00. sebelum baju bertema tahun baru dibagikan kepada pembeli, sebuah layar akan menampilkan tampilan gambar yang menampilkan kondisi kerja di dalam sebuah pabrik konveksi/pembuatan baju. Kemudian pembeli diberi program pilihan untuk menyelesaikan pembeliannya atau menyumpangkan Rp50.000,00 untuk dijadikan donasi pembagian baju musim dingin di suatu daerah yang membutuhkan. Delapan dari sepuluh pembeli memilih untuk memberikan donasi.\n",
            "Menurut anda mengapa banyak dari pembeli yang memilih berdonasi?\n",
            "\n",
            "---------------------------------------------------------------------------------------------------------------------------------------------\n",
            "CODING GUIDELINES\n",
            "---------------------------------------------------------------------------------------------------------------------------------------------\n",
            "Label 1: Siswa memberikan jawaban yang menjelaskan alasan untuk melakukan donasi yang merujuk pada kesadaran akan kondisi kerja di industri pakaian atau bagaimana tindakan konsumen mempengaruhi orang lain ATAU siswa menjelaskan alasan untuk melakukan donasi yang berfokus pada emosi atau motivasi dari donor saja.\n",
            "\n",
            "Label 0: Siswa memberikan jawaban yang salah, tidak jelas, tidak cukup atau tidak relevan.\n",
            "\n"
          ]
        }
      ]
    },
    {
      "cell_type": "code",
      "source": [
        "df_train_b.head()"
      ],
      "metadata": {
        "colab": {
          "base_uri": "https://localhost:8080/",
          "height": 206
        },
        "outputId": "145abe57-55f1-4e16-eb32-e672eb34f9b6",
        "id": "Y9Pt-cX2xK8T"
      },
      "execution_count": 15,
      "outputs": [
        {
          "output_type": "execute_result",
          "data": {
            "text/plain": [
              "  RES_ID                                           RESPONSE  LABEL\n",
              "0   TRB1  Karena orang berpikir bahwa jika disumbangkan ...      1\n",
              "1   TRB2  Pakaian awet adalah alternatif terhadap Fast F...      0\n",
              "2   TRB3                  karna orang lebih suka menyumbang      1\n",
              "3   TRB4               karana harga nya terjangkau dan pas.      0\n",
              "4   TRB5                            kerena harganya mahal .      0"
            ],
            "text/html": [
              "\n",
              "  <div id=\"df-2a67fd58-8c45-4e5e-855a-c5de12cf166d\">\n",
              "    <div class=\"colab-df-container\">\n",
              "      <div>\n",
              "<style scoped>\n",
              "    .dataframe tbody tr th:only-of-type {\n",
              "        vertical-align: middle;\n",
              "    }\n",
              "\n",
              "    .dataframe tbody tr th {\n",
              "        vertical-align: top;\n",
              "    }\n",
              "\n",
              "    .dataframe thead th {\n",
              "        text-align: right;\n",
              "    }\n",
              "</style>\n",
              "<table border=\"1\" class=\"dataframe\">\n",
              "  <thead>\n",
              "    <tr style=\"text-align: right;\">\n",
              "      <th></th>\n",
              "      <th>RES_ID</th>\n",
              "      <th>RESPONSE</th>\n",
              "      <th>LABEL</th>\n",
              "    </tr>\n",
              "  </thead>\n",
              "  <tbody>\n",
              "    <tr>\n",
              "      <th>0</th>\n",
              "      <td>TRB1</td>\n",
              "      <td>Karena orang berpikir bahwa jika disumbangkan ...</td>\n",
              "      <td>1</td>\n",
              "    </tr>\n",
              "    <tr>\n",
              "      <th>1</th>\n",
              "      <td>TRB2</td>\n",
              "      <td>Pakaian awet adalah alternatif terhadap Fast F...</td>\n",
              "      <td>0</td>\n",
              "    </tr>\n",
              "    <tr>\n",
              "      <th>2</th>\n",
              "      <td>TRB3</td>\n",
              "      <td>karna orang lebih suka menyumbang</td>\n",
              "      <td>1</td>\n",
              "    </tr>\n",
              "    <tr>\n",
              "      <th>3</th>\n",
              "      <td>TRB4</td>\n",
              "      <td>karana harga nya terjangkau dan pas.</td>\n",
              "      <td>0</td>\n",
              "    </tr>\n",
              "    <tr>\n",
              "      <th>4</th>\n",
              "      <td>TRB5</td>\n",
              "      <td>kerena harganya mahal .</td>\n",
              "      <td>0</td>\n",
              "    </tr>\n",
              "  </tbody>\n",
              "</table>\n",
              "</div>\n",
              "      <button class=\"colab-df-convert\" onclick=\"convertToInteractive('df-2a67fd58-8c45-4e5e-855a-c5de12cf166d')\"\n",
              "              title=\"Convert this dataframe to an interactive table.\"\n",
              "              style=\"display:none;\">\n",
              "        \n",
              "  <svg xmlns=\"http://www.w3.org/2000/svg\" height=\"24px\"viewBox=\"0 0 24 24\"\n",
              "       width=\"24px\">\n",
              "    <path d=\"M0 0h24v24H0V0z\" fill=\"none\"/>\n",
              "    <path d=\"M18.56 5.44l.94 2.06.94-2.06 2.06-.94-2.06-.94-.94-2.06-.94 2.06-2.06.94zm-11 1L8.5 8.5l.94-2.06 2.06-.94-2.06-.94L8.5 2.5l-.94 2.06-2.06.94zm10 10l.94 2.06.94-2.06 2.06-.94-2.06-.94-.94-2.06-.94 2.06-2.06.94z\"/><path d=\"M17.41 7.96l-1.37-1.37c-.4-.4-.92-.59-1.43-.59-.52 0-1.04.2-1.43.59L10.3 9.45l-7.72 7.72c-.78.78-.78 2.05 0 2.83L4 21.41c.39.39.9.59 1.41.59.51 0 1.02-.2 1.41-.59l7.78-7.78 2.81-2.81c.8-.78.8-2.07 0-2.86zM5.41 20L4 18.59l7.72-7.72 1.47 1.35L5.41 20z\"/>\n",
              "  </svg>\n",
              "      </button>\n",
              "      \n",
              "  <style>\n",
              "    .colab-df-container {\n",
              "      display:flex;\n",
              "      flex-wrap:wrap;\n",
              "      gap: 12px;\n",
              "    }\n",
              "\n",
              "    .colab-df-convert {\n",
              "      background-color: #E8F0FE;\n",
              "      border: none;\n",
              "      border-radius: 50%;\n",
              "      cursor: pointer;\n",
              "      display: none;\n",
              "      fill: #1967D2;\n",
              "      height: 32px;\n",
              "      padding: 0 0 0 0;\n",
              "      width: 32px;\n",
              "    }\n",
              "\n",
              "    .colab-df-convert:hover {\n",
              "      background-color: #E2EBFA;\n",
              "      box-shadow: 0px 1px 2px rgba(60, 64, 67, 0.3), 0px 1px 3px 1px rgba(60, 64, 67, 0.15);\n",
              "      fill: #174EA6;\n",
              "    }\n",
              "\n",
              "    [theme=dark] .colab-df-convert {\n",
              "      background-color: #3B4455;\n",
              "      fill: #D2E3FC;\n",
              "    }\n",
              "\n",
              "    [theme=dark] .colab-df-convert:hover {\n",
              "      background-color: #434B5C;\n",
              "      box-shadow: 0px 1px 3px 1px rgba(0, 0, 0, 0.15);\n",
              "      filter: drop-shadow(0px 1px 2px rgba(0, 0, 0, 0.3));\n",
              "      fill: #FFFFFF;\n",
              "    }\n",
              "  </style>\n",
              "\n",
              "      <script>\n",
              "        const buttonEl =\n",
              "          document.querySelector('#df-2a67fd58-8c45-4e5e-855a-c5de12cf166d button.colab-df-convert');\n",
              "        buttonEl.style.display =\n",
              "          google.colab.kernel.accessAllowed ? 'block' : 'none';\n",
              "\n",
              "        async function convertToInteractive(key) {\n",
              "          const element = document.querySelector('#df-2a67fd58-8c45-4e5e-855a-c5de12cf166d');\n",
              "          const dataTable =\n",
              "            await google.colab.kernel.invokeFunction('convertToInteractive',\n",
              "                                                     [key], {});\n",
              "          if (!dataTable) return;\n",
              "\n",
              "          const docLinkHtml = 'Like what you see? Visit the ' +\n",
              "            '<a target=\"_blank\" href=https://colab.research.google.com/notebooks/data_table.ipynb>data table notebook</a>'\n",
              "            + ' to learn more about interactive tables.';\n",
              "          element.innerHTML = '';\n",
              "          dataTable['output_type'] = 'display_data';\n",
              "          await google.colab.output.renderOutput(dataTable, element);\n",
              "          const docLink = document.createElement('div');\n",
              "          docLink.innerHTML = docLinkHtml;\n",
              "          element.appendChild(docLink);\n",
              "        }\n",
              "      </script>\n",
              "    </div>\n",
              "  </div>\n",
              "  "
            ]
          },
          "metadata": {},
          "execution_count": 15
        }
      ]
    },
    {
      "cell_type": "code",
      "source": [
        "df_train_b.info()"
      ],
      "metadata": {
        "colab": {
          "base_uri": "https://localhost:8080/"
        },
        "outputId": "9b0e6705-0678-4805-b1d4-23e54540bc3f",
        "id": "wtEwcaNsxK8U"
      },
      "execution_count": 16,
      "outputs": [
        {
          "output_type": "stream",
          "name": "stdout",
          "text": [
            "<class 'pandas.core.frame.DataFrame'>\n",
            "RangeIndex: 305 entries, 0 to 304\n",
            "Data columns (total 3 columns):\n",
            " #   Column    Non-Null Count  Dtype \n",
            "---  ------    --------------  ----- \n",
            " 0   RES_ID    305 non-null    object\n",
            " 1   RESPONSE  305 non-null    object\n",
            " 2   LABEL     305 non-null    int64 \n",
            "dtypes: int64(1), object(2)\n",
            "memory usage: 7.3+ KB\n"
          ]
        }
      ]
    },
    {
      "cell_type": "code",
      "source": [
        "df_test_b.head()"
      ],
      "metadata": {
        "colab": {
          "base_uri": "https://localhost:8080/",
          "height": 206
        },
        "outputId": "72f3b46b-5dd0-4a51-bbb2-5a816ff82188",
        "id": "U22obQy7xK8V"
      },
      "execution_count": 17,
      "outputs": [
        {
          "output_type": "execute_result",
          "data": {
            "text/plain": [
              "  RES_ID                                           RESPONSE\n",
              "0  DEVB1  karena jika menyumbangkan pakaian itu pakaian ...\n",
              "1  DEVB2  memastikan bahwa ppenerima akan senang dan yg ...\n",
              "2  DEVB3  karena banyak orang yang mendukung hal tersebu...\n",
              "3  DEVB4  karena banayak orang yang ada atau bekerja di ...\n",
              "4  DEVB5  karna sebagian orang ada yang ingin beramal da..."
            ],
            "text/html": [
              "\n",
              "  <div id=\"df-9b27d7f7-e1ea-4f19-a017-84c08f888eab\">\n",
              "    <div class=\"colab-df-container\">\n",
              "      <div>\n",
              "<style scoped>\n",
              "    .dataframe tbody tr th:only-of-type {\n",
              "        vertical-align: middle;\n",
              "    }\n",
              "\n",
              "    .dataframe tbody tr th {\n",
              "        vertical-align: top;\n",
              "    }\n",
              "\n",
              "    .dataframe thead th {\n",
              "        text-align: right;\n",
              "    }\n",
              "</style>\n",
              "<table border=\"1\" class=\"dataframe\">\n",
              "  <thead>\n",
              "    <tr style=\"text-align: right;\">\n",
              "      <th></th>\n",
              "      <th>RES_ID</th>\n",
              "      <th>RESPONSE</th>\n",
              "    </tr>\n",
              "  </thead>\n",
              "  <tbody>\n",
              "    <tr>\n",
              "      <th>0</th>\n",
              "      <td>DEVB1</td>\n",
              "      <td>karena jika menyumbangkan pakaian itu pakaian ...</td>\n",
              "    </tr>\n",
              "    <tr>\n",
              "      <th>1</th>\n",
              "      <td>DEVB2</td>\n",
              "      <td>memastikan bahwa ppenerima akan senang dan yg ...</td>\n",
              "    </tr>\n",
              "    <tr>\n",
              "      <th>2</th>\n",
              "      <td>DEVB3</td>\n",
              "      <td>karena banyak orang yang mendukung hal tersebu...</td>\n",
              "    </tr>\n",
              "    <tr>\n",
              "      <th>3</th>\n",
              "      <td>DEVB4</td>\n",
              "      <td>karena banayak orang yang ada atau bekerja di ...</td>\n",
              "    </tr>\n",
              "    <tr>\n",
              "      <th>4</th>\n",
              "      <td>DEVB5</td>\n",
              "      <td>karna sebagian orang ada yang ingin beramal da...</td>\n",
              "    </tr>\n",
              "  </tbody>\n",
              "</table>\n",
              "</div>\n",
              "      <button class=\"colab-df-convert\" onclick=\"convertToInteractive('df-9b27d7f7-e1ea-4f19-a017-84c08f888eab')\"\n",
              "              title=\"Convert this dataframe to an interactive table.\"\n",
              "              style=\"display:none;\">\n",
              "        \n",
              "  <svg xmlns=\"http://www.w3.org/2000/svg\" height=\"24px\"viewBox=\"0 0 24 24\"\n",
              "       width=\"24px\">\n",
              "    <path d=\"M0 0h24v24H0V0z\" fill=\"none\"/>\n",
              "    <path d=\"M18.56 5.44l.94 2.06.94-2.06 2.06-.94-2.06-.94-.94-2.06-.94 2.06-2.06.94zm-11 1L8.5 8.5l.94-2.06 2.06-.94-2.06-.94L8.5 2.5l-.94 2.06-2.06.94zm10 10l.94 2.06.94-2.06 2.06-.94-2.06-.94-.94-2.06-.94 2.06-2.06.94z\"/><path d=\"M17.41 7.96l-1.37-1.37c-.4-.4-.92-.59-1.43-.59-.52 0-1.04.2-1.43.59L10.3 9.45l-7.72 7.72c-.78.78-.78 2.05 0 2.83L4 21.41c.39.39.9.59 1.41.59.51 0 1.02-.2 1.41-.59l7.78-7.78 2.81-2.81c.8-.78.8-2.07 0-2.86zM5.41 20L4 18.59l7.72-7.72 1.47 1.35L5.41 20z\"/>\n",
              "  </svg>\n",
              "      </button>\n",
              "      \n",
              "  <style>\n",
              "    .colab-df-container {\n",
              "      display:flex;\n",
              "      flex-wrap:wrap;\n",
              "      gap: 12px;\n",
              "    }\n",
              "\n",
              "    .colab-df-convert {\n",
              "      background-color: #E8F0FE;\n",
              "      border: none;\n",
              "      border-radius: 50%;\n",
              "      cursor: pointer;\n",
              "      display: none;\n",
              "      fill: #1967D2;\n",
              "      height: 32px;\n",
              "      padding: 0 0 0 0;\n",
              "      width: 32px;\n",
              "    }\n",
              "\n",
              "    .colab-df-convert:hover {\n",
              "      background-color: #E2EBFA;\n",
              "      box-shadow: 0px 1px 2px rgba(60, 64, 67, 0.3), 0px 1px 3px 1px rgba(60, 64, 67, 0.15);\n",
              "      fill: #174EA6;\n",
              "    }\n",
              "\n",
              "    [theme=dark] .colab-df-convert {\n",
              "      background-color: #3B4455;\n",
              "      fill: #D2E3FC;\n",
              "    }\n",
              "\n",
              "    [theme=dark] .colab-df-convert:hover {\n",
              "      background-color: #434B5C;\n",
              "      box-shadow: 0px 1px 3px 1px rgba(0, 0, 0, 0.15);\n",
              "      filter: drop-shadow(0px 1px 2px rgba(0, 0, 0, 0.3));\n",
              "      fill: #FFFFFF;\n",
              "    }\n",
              "  </style>\n",
              "\n",
              "      <script>\n",
              "        const buttonEl =\n",
              "          document.querySelector('#df-9b27d7f7-e1ea-4f19-a017-84c08f888eab button.colab-df-convert');\n",
              "        buttonEl.style.display =\n",
              "          google.colab.kernel.accessAllowed ? 'block' : 'none';\n",
              "\n",
              "        async function convertToInteractive(key) {\n",
              "          const element = document.querySelector('#df-9b27d7f7-e1ea-4f19-a017-84c08f888eab');\n",
              "          const dataTable =\n",
              "            await google.colab.kernel.invokeFunction('convertToInteractive',\n",
              "                                                     [key], {});\n",
              "          if (!dataTable) return;\n",
              "\n",
              "          const docLinkHtml = 'Like what you see? Visit the ' +\n",
              "            '<a target=\"_blank\" href=https://colab.research.google.com/notebooks/data_table.ipynb>data table notebook</a>'\n",
              "            + ' to learn more about interactive tables.';\n",
              "          element.innerHTML = '';\n",
              "          dataTable['output_type'] = 'display_data';\n",
              "          await google.colab.output.renderOutput(dataTable, element);\n",
              "          const docLink = document.createElement('div');\n",
              "          docLink.innerHTML = docLinkHtml;\n",
              "          element.appendChild(docLink);\n",
              "        }\n",
              "      </script>\n",
              "    </div>\n",
              "  </div>\n",
              "  "
            ]
          },
          "metadata": {},
          "execution_count": 17
        }
      ]
    },
    {
      "cell_type": "code",
      "source": [
        "df_test_b.info()"
      ],
      "metadata": {
        "colab": {
          "base_uri": "https://localhost:8080/"
        },
        "outputId": "51914f2b-de03-4ba8-b5ab-2073f40c760a",
        "id": "c9G-kyuIxK8V"
      },
      "execution_count": 18,
      "outputs": [
        {
          "output_type": "stream",
          "name": "stdout",
          "text": [
            "<class 'pandas.core.frame.DataFrame'>\n",
            "RangeIndex: 244 entries, 0 to 243\n",
            "Data columns (total 2 columns):\n",
            " #   Column    Non-Null Count  Dtype \n",
            "---  ------    --------------  ----- \n",
            " 0   RES_ID    244 non-null    object\n",
            " 1   RESPONSE  244 non-null    object\n",
            "dtypes: object(2)\n",
            "memory usage: 3.9+ KB\n"
          ]
        }
      ]
    },
    {
      "cell_type": "markdown",
      "source": [
        "## Set Data\n",
        "Inisialisasi data yang akan digunakan"
      ],
      "metadata": {
        "id": "px-MWtt9wkXT"
      }
    },
    {
      "cell_type": "code",
      "source": [
        "# Pertanyaan\n",
        "pertanyaan = \"Sebuah toko baju berkonsep self-service menawarkan promosi dua buah baju bertema tahun baru seharga Rp50.000,00. sebelum baju bertema tahun baru dibagikan kepada pembeli, sebuah layar akan menampilkan tampilan gambar yang menampilkan kondisi kerja di dalam sebuah pabrik konveksi/pembuatan baju. Kemudian pembeli diberi program pilihan untuk menyelesaikan pembeliannya atau menyumpangkan Rp50.000,00 untuk dijadikan donasi pembagian baju musim dingin di suatu daerah yang membutuhkan. Delapan dari sepuluh pembeli memilih untuk memberikan donasi. Menurut anda mengapa banyak dari pembeli yang memilih berdonasi?\""
      ],
      "metadata": {
        "id": "CwkaoKFnwmHI"
      },
      "execution_count": 19,
      "outputs": []
    },
    {
      "cell_type": "code",
      "source": [
        "# Jawaban\n",
        "jawaban = df_train_b['RESPONSE'].tolist()"
      ],
      "metadata": {
        "id": "lSXUuK3twuy5"
      },
      "execution_count": 20,
      "outputs": []
    },
    {
      "cell_type": "code",
      "source": [
        "# Score (Label)\n",
        "score = df_train_b['LABEL'].tolist()"
      ],
      "metadata": {
        "id": "dJ3mabb9yX_v"
      },
      "execution_count": 21,
      "outputs": []
    },
    {
      "cell_type": "code",
      "source": [
        "# Set ID Mahasiswa (Random)\n",
        "id_mahasiswa = np.arange(len(jawaban))"
      ],
      "metadata": {
        "id": "uc3lBkyCyCH_"
      },
      "execution_count": 22,
      "outputs": []
    },
    {
      "cell_type": "markdown",
      "source": [
        "### Preview"
      ],
      "metadata": {
        "id": "hr9CoaUvz7-_"
      }
    },
    {
      "cell_type": "code",
      "source": [
        "# Preview Pertanyaan\n",
        "pertanyaan"
      ],
      "metadata": {
        "colab": {
          "base_uri": "https://localhost:8080/",
          "height": 105
        },
        "id": "JOx73zf90MrW",
        "outputId": "c2d349ce-692f-4ce8-d19a-3b23bdef420e"
      },
      "execution_count": 23,
      "outputs": [
        {
          "output_type": "execute_result",
          "data": {
            "text/plain": [
              "'Sebuah toko baju berkonsep self-service menawarkan promosi dua buah baju bertema tahun baru seharga Rp50.000,00. sebelum baju bertema tahun baru dibagikan kepada pembeli, sebuah layar akan menampilkan tampilan gambar yang menampilkan kondisi kerja di dalam sebuah pabrik konveksi/pembuatan baju. Kemudian pembeli diberi program pilihan untuk menyelesaikan pembeliannya atau menyumpangkan Rp50.000,00 untuk dijadikan donasi pembagian baju musim dingin di suatu daerah yang membutuhkan. Delapan dari sepuluh pembeli memilih untuk memberikan donasi. Menurut anda mengapa banyak dari pembeli yang memilih berdonasi?'"
            ],
            "application/vnd.google.colaboratory.intrinsic+json": {
              "type": "string"
            }
          },
          "metadata": {},
          "execution_count": 23
        }
      ]
    },
    {
      "cell_type": "code",
      "source": [
        "# Preview Jawaban\n",
        "jawaban[:5]"
      ],
      "metadata": {
        "colab": {
          "base_uri": "https://localhost:8080/"
        },
        "id": "f4wWEvVgw9QB",
        "outputId": "ad2d4a96-4de5-4833-da06-2bcd0126835c"
      },
      "execution_count": 24,
      "outputs": [
        {
          "output_type": "execute_result",
          "data": {
            "text/plain": [
              "['Karena orang berpikir bahwa jika disumbangkan akan membuat produksi pakaian menjadi lebih beretika',\n",
              " 'Pakaian awet adalah alternatif terhadap Fast Fashion. Pakaian awet lebih mahal biaya produksi dan harga belinya, tetapi karena pakaian itu dibuat untuk bertahan lebih lama, maka yang dibuat pun menjadi lebih sedikit. Kita sebagai konsumen harus menolak tren Fast Fashion dan membeli pakaian yang lebih awet dan dibuat sesuai etika.',\n",
              " 'karna orang lebih suka menyumbang',\n",
              " 'karana harga nya terjangkau dan pas.',\n",
              " 'kerena harganya mahal .']"
            ]
          },
          "metadata": {},
          "execution_count": 24
        }
      ]
    },
    {
      "cell_type": "code",
      "source": [
        "# Preview Score\n",
        "score[:5]"
      ],
      "metadata": {
        "colab": {
          "base_uri": "https://localhost:8080/"
        },
        "id": "3JOODlObylwM",
        "outputId": "7992ff82-df25-4015-93fb-4cf9a907fc9b"
      },
      "execution_count": 25,
      "outputs": [
        {
          "output_type": "execute_result",
          "data": {
            "text/plain": [
              "[1, 0, 1, 0, 0]"
            ]
          },
          "metadata": {},
          "execution_count": 25
        }
      ]
    },
    {
      "cell_type": "code",
      "source": [
        "# Preview ID Mahasiswa\n",
        "id_mahasiswa"
      ],
      "metadata": {
        "colab": {
          "base_uri": "https://localhost:8080/"
        },
        "id": "4rZTZeb40Cy1",
        "outputId": "cca02675-8516-4aa3-bb23-e27223b2784d"
      },
      "execution_count": 26,
      "outputs": [
        {
          "output_type": "execute_result",
          "data": {
            "text/plain": [
              "array([  0,   1,   2,   3,   4,   5,   6,   7,   8,   9,  10,  11,  12,\n",
              "        13,  14,  15,  16,  17,  18,  19,  20,  21,  22,  23,  24,  25,\n",
              "        26,  27,  28,  29,  30,  31,  32,  33,  34,  35,  36,  37,  38,\n",
              "        39,  40,  41,  42,  43,  44,  45,  46,  47,  48,  49,  50,  51,\n",
              "        52,  53,  54,  55,  56,  57,  58,  59,  60,  61,  62,  63,  64,\n",
              "        65,  66,  67,  68,  69,  70,  71,  72,  73,  74,  75,  76,  77,\n",
              "        78,  79,  80,  81,  82,  83,  84,  85,  86,  87,  88,  89,  90,\n",
              "        91,  92,  93,  94,  95,  96,  97,  98,  99, 100, 101, 102, 103,\n",
              "       104, 105, 106, 107, 108, 109, 110, 111, 112, 113, 114, 115, 116,\n",
              "       117, 118, 119, 120, 121, 122, 123, 124, 125, 126, 127, 128, 129,\n",
              "       130, 131, 132, 133, 134, 135, 136, 137, 138, 139, 140, 141, 142,\n",
              "       143, 144, 145, 146, 147, 148, 149, 150, 151, 152, 153, 154, 155,\n",
              "       156, 157, 158, 159, 160, 161, 162, 163, 164, 165, 166, 167, 168,\n",
              "       169, 170, 171, 172, 173, 174, 175, 176, 177, 178, 179, 180, 181,\n",
              "       182, 183, 184, 185, 186, 187, 188, 189, 190, 191, 192, 193, 194,\n",
              "       195, 196, 197, 198, 199, 200, 201, 202, 203, 204, 205, 206, 207,\n",
              "       208, 209, 210, 211, 212, 213, 214, 215, 216, 217, 218, 219, 220,\n",
              "       221, 222, 223, 224, 225, 226, 227, 228, 229, 230, 231, 232, 233,\n",
              "       234, 235, 236, 237, 238, 239, 240, 241, 242, 243, 244, 245, 246,\n",
              "       247, 248, 249, 250, 251, 252, 253, 254, 255, 256, 257, 258, 259,\n",
              "       260, 261, 262, 263, 264, 265, 266, 267, 268, 269, 270, 271, 272,\n",
              "       273, 274, 275, 276, 277, 278, 279, 280, 281, 282, 283, 284, 285,\n",
              "       286, 287, 288, 289, 290, 291, 292, 293, 294, 295, 296, 297, 298,\n",
              "       299, 300, 301, 302, 303, 304])"
            ]
          },
          "metadata": {},
          "execution_count": 26
        }
      ]
    },
    {
      "cell_type": "markdown",
      "source": [
        "# Data Preprocessing\n",
        "Untuk Embedding selain BERT \n",
        "\n",
        "**Output :**\n",
        "*   pertanyaan_padded (numpy array) : 1, 130\n",
        "*   jawaban_padded (numpy array) : 305, 130\n",
        "\n"
      ],
      "metadata": {
        "id": "_lpmj8pgs8j_"
      }
    },
    {
      "cell_type": "markdown",
      "source": [
        "## Case Folding"
      ],
      "metadata": {
        "id": "M4bVUlED5LdL"
      }
    },
    {
      "cell_type": "code",
      "source": [
        "# Case Folding\n",
        "pertanyaan_cased = pertanyaan.lower()\n",
        "jawaban_cased = [i.lower() for i in jawaban]"
      ],
      "metadata": {
        "id": "N34vI_Bg04_D"
      },
      "execution_count": 27,
      "outputs": []
    },
    {
      "cell_type": "markdown",
      "source": [
        "## Filtering"
      ],
      "metadata": {
        "id": "sFxL-IIr5bm_"
      }
    },
    {
      "cell_type": "code",
      "source": [
        "# Create Remover\n",
        "factory = StopWordRemoverFactory()\n",
        "remover = factory.create_stop_word_remover()\n",
        "\n",
        "# Stopword Removal\n",
        "pertanyaan_filtered = remover.remove(pertanyaan_cased)\n",
        "jawaban_filtered = [remover.remove(i) for i in jawaban_cased]\n",
        "\n",
        "# Filter Whitespace and Alphanumeric\n",
        "pertanyaan_filtered = re.sub(r'[^\\w\\s]','', pertanyaan_filtered)\n",
        "jawaban_filtered = [re.sub(r'[^\\w\\s]','', i) for i in jawaban_filtered]\n",
        "\n",
        "# Filter Number\n",
        "pertanyaan_filtered = re.sub(r'[\\d]','', pertanyaan_filtered)\n",
        "jawaban_filtered = [re.sub(r'[\\d]','', i) for i in jawaban_filtered]"
      ],
      "metadata": {
        "id": "Gm6ZzGX21Uk6"
      },
      "execution_count": 28,
      "outputs": []
    },
    {
      "cell_type": "markdown",
      "source": [
        "## Stemming"
      ],
      "metadata": {
        "id": "S3W50EZe5nyz"
      }
    },
    {
      "cell_type": "code",
      "source": [
        "# Create Stemmer\n",
        "factory = StemmerFactory()\n",
        "stemmer = factory.create_stemmer()\n",
        "\n",
        "# Stemming\n",
        "pertanyaan_stemmed = stemmer.stem(pertanyaan_filtered)\n",
        "jawaban_stemmed = [stemmer.stem(i) for i in jawaban_filtered]"
      ],
      "metadata": {
        "id": "PUTRXPlP2fGs"
      },
      "execution_count": 29,
      "outputs": []
    },
    {
      "cell_type": "markdown",
      "source": [
        "## Tokenization & Vectorization"
      ],
      "metadata": {
        "id": "1IyGq9w15rIg"
      }
    },
    {
      "cell_type": "code",
      "source": [
        "# Create Corpus\n",
        "corpus = [pertanyaan_stemmed] + jawaban_stemmed\n",
        "\n",
        "# Create Tokenizer\n",
        "tokenizer = Tokenizer()\n",
        "tokenizer.fit_on_texts(corpus)\n",
        "\n",
        "# Tokenization & Vectorization\n",
        "pertanyaan_tokenized = tokenizer.texts_to_sequences([pertanyaan_stemmed])\n",
        "jawaban_tokenized = tokenizer.texts_to_sequences(jawaban_stemmed)"
      ],
      "metadata": {
        "id": "AQKgbx90tAnf"
      },
      "execution_count": 30,
      "outputs": []
    },
    {
      "cell_type": "code",
      "source": [
        "# Get Vocabulary Length\n",
        "vocab_size = len(tokenizer.word_index) + 1"
      ],
      "metadata": {
        "id": "500gptAN3-Mk"
      },
      "execution_count": 31,
      "outputs": []
    },
    {
      "cell_type": "code",
      "source": [
        "# Get Max Length (For Padding)\n",
        "max_length = 0\n",
        "for i in jawaban_tokenized :\n",
        "  if len(i) > max_length :\n",
        "    max_length = len(i)"
      ],
      "metadata": {
        "id": "HeeboPM_3vLT"
      },
      "execution_count": 32,
      "outputs": []
    },
    {
      "cell_type": "markdown",
      "source": [
        "## Padding"
      ],
      "metadata": {
        "id": "ZETZZ2SR7-pS"
      }
    },
    {
      "cell_type": "code",
      "source": [
        "# Padding\n",
        "pertanyaan_padded = pad_sequences(pertanyaan_tokenized, maxlen = max_length, padding = \"post\")\n",
        "jawaban_padded = pad_sequences(jawaban_tokenized, maxlen = max_length, padding = \"post\")"
      ],
      "metadata": {
        "id": "bGZnX_Ap3qU8"
      },
      "execution_count": 33,
      "outputs": []
    },
    {
      "cell_type": "markdown",
      "source": [
        "# Feature Engineering (Word Embedding)\n",
        "\n",
        "**Output :**\n",
        "*   BERT\n",
        "> * pertanyaan_results : 1, 128, 768\n",
        "> * jawaban_results : 305, 128, 768\n",
        "*   Word2vec :\n",
        "> * pertanyaan_results : 1, 130, 400\n",
        "> * jawaban_results : 305, 130, 400\n",
        "\n"
      ],
      "metadata": {
        "id": "oaPS4LUJs_nX"
      }
    },
    {
      "cell_type": "markdown",
      "source": [
        "## BERT"
      ],
      "metadata": {
        "id": "QZgywfbvp0Oi"
      }
    },
    {
      "cell_type": "code",
      "source": [
        "# Choose BERT model\n",
        "bert_model_name = 'bert_multi_cased_L-12_H-768_A-12' \n",
        "\n",
        "map_name_to_handle = {\n",
        "    'bert_en_uncased_L-12_H-768_A-12':\n",
        "        'https://tfhub.dev/tensorflow/bert_en_uncased_L-12_H-768_A-12/3',\n",
        "    'bert_en_cased_L-12_H-768_A-12':\n",
        "        'https://tfhub.dev/tensorflow/bert_en_cased_L-12_H-768_A-12/3',\n",
        "    'bert_multi_cased_L-12_H-768_A-12':\n",
        "        'https://tfhub.dev/tensorflow/bert_multi_cased_L-12_H-768_A-12/3',\n",
        "    'small_bert/bert_en_uncased_L-2_H-128_A-2':\n",
        "        'https://tfhub.dev/tensorflow/small_bert/bert_en_uncased_L-2_H-128_A-2/1',\n",
        "    'small_bert/bert_en_uncased_L-2_H-256_A-4':\n",
        "        'https://tfhub.dev/tensorflow/small_bert/bert_en_uncased_L-2_H-256_A-4/1',\n",
        "    'small_bert/bert_en_uncased_L-2_H-512_A-8':\n",
        "        'https://tfhub.dev/tensorflow/small_bert/bert_en_uncased_L-2_H-512_A-8/1',\n",
        "    'small_bert/bert_en_uncased_L-2_H-768_A-12':\n",
        "        'https://tfhub.dev/tensorflow/small_bert/bert_en_uncased_L-2_H-768_A-12/1',\n",
        "    'small_bert/bert_en_uncased_L-4_H-128_A-2':\n",
        "        'https://tfhub.dev/tensorflow/small_bert/bert_en_uncased_L-4_H-128_A-2/1',\n",
        "    'small_bert/bert_en_uncased_L-4_H-256_A-4':\n",
        "        'https://tfhub.dev/tensorflow/small_bert/bert_en_uncased_L-4_H-256_A-4/1',\n",
        "    'small_bert/bert_en_uncased_L-4_H-512_A-8':\n",
        "        'https://tfhub.dev/tensorflow/small_bert/bert_en_uncased_L-4_H-512_A-8/1',\n",
        "    'small_bert/bert_en_uncased_L-4_H-768_A-12':\n",
        "        'https://tfhub.dev/tensorflow/small_bert/bert_en_uncased_L-4_H-768_A-12/1',\n",
        "    'small_bert/bert_en_uncased_L-6_H-128_A-2':\n",
        "        'https://tfhub.dev/tensorflow/small_bert/bert_en_uncased_L-6_H-128_A-2/1',\n",
        "    'small_bert/bert_en_uncased_L-6_H-256_A-4':\n",
        "        'https://tfhub.dev/tensorflow/small_bert/bert_en_uncased_L-6_H-256_A-4/1',\n",
        "    'small_bert/bert_en_uncased_L-6_H-512_A-8':\n",
        "        'https://tfhub.dev/tensorflow/small_bert/bert_en_uncased_L-6_H-512_A-8/1',\n",
        "    'small_bert/bert_en_uncased_L-6_H-768_A-12':\n",
        "        'https://tfhub.dev/tensorflow/small_bert/bert_en_uncased_L-6_H-768_A-12/1',\n",
        "    'small_bert/bert_en_uncased_L-8_H-128_A-2':\n",
        "        'https://tfhub.dev/tensorflow/small_bert/bert_en_uncased_L-8_H-128_A-2/1',\n",
        "    'small_bert/bert_en_uncased_L-8_H-256_A-4':\n",
        "        'https://tfhub.dev/tensorflow/small_bert/bert_en_uncased_L-8_H-256_A-4/1',\n",
        "    'small_bert/bert_en_uncased_L-8_H-512_A-8':\n",
        "        'https://tfhub.dev/tensorflow/small_bert/bert_en_uncased_L-8_H-512_A-8/1',\n",
        "    'small_bert/bert_en_uncased_L-8_H-768_A-12':\n",
        "        'https://tfhub.dev/tensorflow/small_bert/bert_en_uncased_L-8_H-768_A-12/1',\n",
        "    'small_bert/bert_en_uncased_L-10_H-128_A-2':\n",
        "        'https://tfhub.dev/tensorflow/small_bert/bert_en_uncased_L-10_H-128_A-2/1',\n",
        "    'small_bert/bert_en_uncased_L-10_H-256_A-4':\n",
        "        'https://tfhub.dev/tensorflow/small_bert/bert_en_uncased_L-10_H-256_A-4/1',\n",
        "    'small_bert/bert_en_uncased_L-10_H-512_A-8':\n",
        "        'https://tfhub.dev/tensorflow/small_bert/bert_en_uncased_L-10_H-512_A-8/1',\n",
        "    'small_bert/bert_en_uncased_L-10_H-768_A-12':\n",
        "        'https://tfhub.dev/tensorflow/small_bert/bert_en_uncased_L-10_H-768_A-12/1',\n",
        "    'small_bert/bert_en_uncased_L-12_H-128_A-2':\n",
        "        'https://tfhub.dev/tensorflow/small_bert/bert_en_uncased_L-12_H-128_A-2/1',\n",
        "    'small_bert/bert_en_uncased_L-12_H-256_A-4':\n",
        "        'https://tfhub.dev/tensorflow/small_bert/bert_en_uncased_L-12_H-256_A-4/1',\n",
        "    'small_bert/bert_en_uncased_L-12_H-512_A-8':\n",
        "        'https://tfhub.dev/tensorflow/small_bert/bert_en_uncased_L-12_H-512_A-8/1',\n",
        "    'small_bert/bert_en_uncased_L-12_H-768_A-12':\n",
        "        'https://tfhub.dev/tensorflow/small_bert/bert_en_uncased_L-12_H-768_A-12/1',\n",
        "    'albert_en_base':\n",
        "        'https://tfhub.dev/tensorflow/albert_en_base/2',\n",
        "    'electra_small':\n",
        "        'https://tfhub.dev/google/electra_small/2',\n",
        "    'electra_base':\n",
        "        'https://tfhub.dev/google/electra_base/2',\n",
        "    'experts_pubmed':\n",
        "        'https://tfhub.dev/google/experts/bert/pubmed/2',\n",
        "    'experts_wiki_books':\n",
        "        'https://tfhub.dev/google/experts/bert/wiki_books/2',\n",
        "    'talking-heads_base':\n",
        "        'https://tfhub.dev/tensorflow/talkheads_ggelu_bert_en_base/1',\n",
        "}\n",
        "\n",
        "map_model_to_preprocess = {\n",
        "    'bert_en_uncased_L-12_H-768_A-12':\n",
        "        'https://tfhub.dev/tensorflow/bert_en_uncased_preprocess/3',\n",
        "    'bert_en_cased_L-12_H-768_A-12':\n",
        "        'https://tfhub.dev/tensorflow/bert_en_cased_preprocess/3',\n",
        "    'small_bert/bert_en_uncased_L-2_H-128_A-2':\n",
        "        'https://tfhub.dev/tensorflow/bert_en_uncased_preprocess/3',\n",
        "    'small_bert/bert_en_uncased_L-2_H-256_A-4':\n",
        "        'https://tfhub.dev/tensorflow/bert_en_uncased_preprocess/3',\n",
        "    'small_bert/bert_en_uncased_L-2_H-512_A-8':\n",
        "        'https://tfhub.dev/tensorflow/bert_en_uncased_preprocess/3',\n",
        "    'small_bert/bert_en_uncased_L-2_H-768_A-12':\n",
        "        'https://tfhub.dev/tensorflow/bert_en_uncased_preprocess/3',\n",
        "    'small_bert/bert_en_uncased_L-4_H-128_A-2':\n",
        "        'https://tfhub.dev/tensorflow/bert_en_uncased_preprocess/3',\n",
        "    'small_bert/bert_en_uncased_L-4_H-256_A-4':\n",
        "        'https://tfhub.dev/tensorflow/bert_en_uncased_preprocess/3',\n",
        "    'small_bert/bert_en_uncased_L-4_H-512_A-8':\n",
        "        'https://tfhub.dev/tensorflow/bert_en_uncased_preprocess/3',\n",
        "    'small_bert/bert_en_uncased_L-4_H-768_A-12':\n",
        "        'https://tfhub.dev/tensorflow/bert_en_uncased_preprocess/3',\n",
        "    'small_bert/bert_en_uncased_L-6_H-128_A-2':\n",
        "        'https://tfhub.dev/tensorflow/bert_en_uncased_preprocess/3',\n",
        "    'small_bert/bert_en_uncased_L-6_H-256_A-4':\n",
        "        'https://tfhub.dev/tensorflow/bert_en_uncased_preprocess/3',\n",
        "    'small_bert/bert_en_uncased_L-6_H-512_A-8':\n",
        "        'https://tfhub.dev/tensorflow/bert_en_uncased_preprocess/3',\n",
        "    'small_bert/bert_en_uncased_L-6_H-768_A-12':\n",
        "        'https://tfhub.dev/tensorflow/bert_en_uncased_preprocess/3',\n",
        "    'small_bert/bert_en_uncased_L-8_H-128_A-2':\n",
        "        'https://tfhub.dev/tensorflow/bert_en_uncased_preprocess/3',\n",
        "    'small_bert/bert_en_uncased_L-8_H-256_A-4':\n",
        "        'https://tfhub.dev/tensorflow/bert_en_uncased_preprocess/3',\n",
        "    'small_bert/bert_en_uncased_L-8_H-512_A-8':\n",
        "        'https://tfhub.dev/tensorflow/bert_en_uncased_preprocess/3',\n",
        "    'small_bert/bert_en_uncased_L-8_H-768_A-12':\n",
        "        'https://tfhub.dev/tensorflow/bert_en_uncased_preprocess/3',\n",
        "    'small_bert/bert_en_uncased_L-10_H-128_A-2':\n",
        "        'https://tfhub.dev/tensorflow/bert_en_uncased_preprocess/3',\n",
        "    'small_bert/bert_en_uncased_L-10_H-256_A-4':\n",
        "        'https://tfhub.dev/tensorflow/bert_en_uncased_preprocess/3',\n",
        "    'small_bert/bert_en_uncased_L-10_H-512_A-8':\n",
        "        'https://tfhub.dev/tensorflow/bert_en_uncased_preprocess/3',\n",
        "    'small_bert/bert_en_uncased_L-10_H-768_A-12':\n",
        "        'https://tfhub.dev/tensorflow/bert_en_uncased_preprocess/3',\n",
        "    'small_bert/bert_en_uncased_L-12_H-128_A-2':\n",
        "        'https://tfhub.dev/tensorflow/bert_en_uncased_preprocess/3',\n",
        "    'small_bert/bert_en_uncased_L-12_H-256_A-4':\n",
        "        'https://tfhub.dev/tensorflow/bert_en_uncased_preprocess/3',\n",
        "    'small_bert/bert_en_uncased_L-12_H-512_A-8':\n",
        "        'https://tfhub.dev/tensorflow/bert_en_uncased_preprocess/3',\n",
        "    'small_bert/bert_en_uncased_L-12_H-768_A-12':\n",
        "        'https://tfhub.dev/tensorflow/bert_en_uncased_preprocess/3',\n",
        "    'bert_multi_cased_L-12_H-768_A-12':\n",
        "        'https://tfhub.dev/tensorflow/bert_multi_cased_preprocess/3',\n",
        "    'albert_en_base':\n",
        "        'https://tfhub.dev/tensorflow/albert_en_preprocess/3',\n",
        "    'electra_small':\n",
        "        'https://tfhub.dev/tensorflow/bert_en_uncased_preprocess/3',\n",
        "    'electra_base':\n",
        "        'https://tfhub.dev/tensorflow/bert_en_uncased_preprocess/3',\n",
        "    'experts_pubmed':\n",
        "        'https://tfhub.dev/tensorflow/bert_en_uncased_preprocess/3',\n",
        "    'experts_wiki_books':\n",
        "        'https://tfhub.dev/tensorflow/bert_en_uncased_preprocess/3',\n",
        "    'talking-heads_base':\n",
        "        'https://tfhub.dev/tensorflow/bert_en_uncased_preprocess/3',\n",
        "}\n",
        "\n",
        "tfhub_handle_encoder = map_name_to_handle[bert_model_name]\n",
        "tfhub_handle_preprocess = map_model_to_preprocess[bert_model_name]\n",
        "\n",
        "print(f'BERT model selected           : {tfhub_handle_encoder}')\n",
        "print(f'Preprocess model auto-selected: {tfhub_handle_preprocess}')"
      ],
      "metadata": {
        "colab": {
          "base_uri": "https://localhost:8080/"
        },
        "id": "h0TvhrHWp1Oe",
        "outputId": "d539f876-ebea-43a1-8b2e-8b3abe610224"
      },
      "execution_count": 56,
      "outputs": [
        {
          "output_type": "stream",
          "name": "stdout",
          "text": [
            "BERT model selected           : https://tfhub.dev/tensorflow/bert_multi_cased_L-12_H-768_A-12/3\n",
            "Preprocess model auto-selected: https://tfhub.dev/tensorflow/bert_multi_cased_preprocess/3\n"
          ]
        }
      ]
    },
    {
      "cell_type": "code",
      "source": [
        "# Set preprocess & encoding model\n",
        "bert_preprocess_model = hub.KerasLayer(tfhub_handle_preprocess)\n",
        "bert_model = hub.KerasLayer(tfhub_handle_encoder)"
      ],
      "metadata": {
        "id": "XClC6AgkrTLd"
      },
      "execution_count": 57,
      "outputs": []
    },
    {
      "cell_type": "code",
      "source": [
        "# Data Preprocessing\n",
        "pertanyaan_preprocessed = bert_preprocess_model([pertanyaan])\n",
        "jawaban_preprocessed = bert_preprocess_model(jawaban)\n",
        "\n",
        "# Word Embedding\n",
        "pertanyaan_results = bert_model(pertanyaan_preprocessed)\n",
        "jawaban_results = bert_model(jawaban_preprocessed)\n",
        "\n",
        "# Final Embedding (['sequence_output'])\n",
        "pertanyaan_results = pertanyaan_results['sequence_output']\n",
        "jawaban_results = jawaban_results['sequence_output']"
      ],
      "metadata": {
        "id": "3izPczhTsEKL"
      },
      "execution_count": 58,
      "outputs": []
    },
    {
      "cell_type": "markdown",
      "source": [
        "## Word2vec"
      ],
      "metadata": {
        "id": "BLeD7CQ-onAP"
      }
    },
    {
      "cell_type": "markdown",
      "source": [
        "### Self-Train Model"
      ],
      "metadata": {
        "id": "ng_sG-djFVjq"
      }
    },
    {
      "cell_type": "markdown",
      "source": [
        "#### Build Vocabulary"
      ],
      "metadata": {
        "id": "ksX8mNiVFZW5"
      }
    },
    {
      "cell_type": "code",
      "source": [
        "# Vocabulary Initialization\n",
        "vocab = []\n",
        "\n",
        "# Build Vocabulary (Jawaban)\n",
        "for i in jawaban_padded :\n",
        "  vocab_now = [tokenizer.index_word[j] for j in i if (j != 0)]\n",
        "  vocab.append(vocab_now)\n",
        "\n",
        "# Build Vocabulary (Pertanyaan)\n",
        "vocab_now = [tokenizer.index_word[j] for j in pertanyaan_padded[0] if (j != 0)]\n",
        "vocab.append(vocab_now)"
      ],
      "metadata": {
        "id": "B4uYo0U59lmJ"
      },
      "execution_count": 51,
      "outputs": []
    },
    {
      "cell_type": "markdown",
      "source": [
        "#### Model Training"
      ],
      "metadata": {
        "id": "RhXGGCxhFcQq"
      }
    },
    {
      "cell_type": "code",
      "source": [
        "# Set Embedding Size\n",
        "embed_size = 300\n",
        "\n",
        "# Train Word2Vec\n",
        "word2vec_model = Word2Vec(vocab, size = embed_size, window = 3, workers = 3, sg = 1, hs = 1, min_count = 0)\n",
        "\n",
        "# Set Word Vectors\n",
        "word_vectors = word2vec_model.wv"
      ],
      "metadata": {
        "id": "TiRWHo_4-X5e"
      },
      "execution_count": 52,
      "outputs": []
    },
    {
      "cell_type": "markdown",
      "source": [
        "#### Create Embedding Matrix"
      ],
      "metadata": {
        "id": "yicZJ6wcFhmY"
      }
    },
    {
      "cell_type": "code",
      "source": [
        "# Initilization with numpy zeros\n",
        "embedding_matrix = np.zeros((vocab_size, embed_size))\n",
        "\n",
        "# Assign every word vectors in tokenizer to embedding matrix\n",
        "for word, i in tokenizer.word_index.items():\n",
        "    try :\n",
        "      embedding_vector = word_vectors.get_vector(word)\n",
        "      if embedding_vector is not None:\n",
        "          embedding_matrix[i] = embedding_vector\n",
        "    except :\n",
        "      print(word, \"not in vocabulary\")"
      ],
      "metadata": {
        "id": "kFGYRjwD_FEd"
      },
      "execution_count": 53,
      "outputs": []
    },
    {
      "cell_type": "markdown",
      "source": [
        "#### Encode"
      ],
      "metadata": {
        "id": "AuW7R5cLQIB3"
      }
    },
    {
      "cell_type": "code",
      "source": [
        "# Embed Pertanyaan\n",
        "pertanyaan_results = np.array([embedding_matrix[i] for i in pertanyaan_padded])\n",
        "\n",
        "# Embed Jawaban\n",
        "jawaban_results = []\n",
        "for i in jawaban_padded :\n",
        "  embed_now = [embedding_matrix[j] for j in i]\n",
        "  jawaban_results.append(embed_now)\n",
        "jawaban_results = np.array(jawaban_results)"
      ],
      "metadata": {
        "id": "ROVjMdtiQIB3"
      },
      "execution_count": 54,
      "outputs": []
    },
    {
      "cell_type": "markdown",
      "source": [
        "### Pretrained Model"
      ],
      "metadata": {
        "id": "cF7IKaNQpn8_"
      }
    },
    {
      "cell_type": "code",
      "source": [
        "! pip install kaggle"
      ],
      "metadata": {
        "colab": {
          "base_uri": "https://localhost:8080/"
        },
        "id": "PpHeCd74tXMT",
        "outputId": "23e6a704-e435-4ae6-f93f-e148e13206e4"
      },
      "execution_count": 37,
      "outputs": [
        {
          "output_type": "stream",
          "name": "stdout",
          "text": [
            "Requirement already satisfied: kaggle in /usr/local/lib/python3.7/dist-packages (1.5.12)\n",
            "Requirement already satisfied: certifi in /usr/local/lib/python3.7/dist-packages (from kaggle) (2021.10.8)\n",
            "Requirement already satisfied: requests in /usr/local/lib/python3.7/dist-packages (from kaggle) (2.23.0)\n",
            "Requirement already satisfied: urllib3 in /usr/local/lib/python3.7/dist-packages (from kaggle) (1.24.3)\n",
            "Requirement already satisfied: tqdm in /usr/local/lib/python3.7/dist-packages (from kaggle) (4.63.0)\n",
            "Requirement already satisfied: python-dateutil in /usr/local/lib/python3.7/dist-packages (from kaggle) (2.8.2)\n",
            "Requirement already satisfied: python-slugify in /usr/local/lib/python3.7/dist-packages (from kaggle) (6.1.1)\n",
            "Requirement already satisfied: six>=1.10 in /usr/local/lib/python3.7/dist-packages (from kaggle) (1.15.0)\n",
            "Requirement already satisfied: text-unidecode>=1.3 in /usr/local/lib/python3.7/dist-packages (from python-slugify->kaggle) (1.3)\n",
            "Requirement already satisfied: idna<3,>=2.5 in /usr/local/lib/python3.7/dist-packages (from requests->kaggle) (2.10)\n",
            "Requirement already satisfied: chardet<4,>=3.0.2 in /usr/local/lib/python3.7/dist-packages (from requests->kaggle) (3.0.4)\n"
          ]
        }
      ]
    },
    {
      "cell_type": "code",
      "source": [
        "! mkdir ~/.kaggle\n",
        "! cp kaggle.json ~/.kaggle/\n",
        "! chmod 600 ~/.kaggle/kaggle.json\n",
        "! kaggle datasets download bhimantoros/pretrained-word2vec-indonesia\n",
        "! unzip \"pretrained-word2vec-indonesia.zip\""
      ],
      "metadata": {
        "colab": {
          "base_uri": "https://localhost:8080/"
        },
        "id": "JziFbjdE9WdQ",
        "outputId": "a09d6699-52d2-4e94-f131-ab46e6c014f2"
      },
      "execution_count": 35,
      "outputs": [
        {
          "output_type": "stream",
          "name": "stdout",
          "text": [
            "Downloading pretrained-word2vec-indonesia.zip to /content\n",
            "100% 2.97G/2.97G [00:35<00:00, 74.8MB/s]\n",
            "100% 2.97G/2.97G [00:35<00:00, 89.4MB/s]\n",
            "Archive:  pretrained-word2vec-indonesia.zip\n",
            "  inflating: idwiki-latest-pages-articles.xml.bz2  \n",
            "  inflating: wiki.id.case.model      \n",
            "  inflating: wiki.id.case.model.syn1neg.npy  \n",
            "  inflating: wiki.id.case.model.wv.vectors.npy  \n",
            "  inflating: wiki.id.case.txt        \n",
            "  inflating: wiki.id.case.vector     \n"
          ]
        }
      ]
    },
    {
      "cell_type": "markdown",
      "source": [
        "#### Load Pre-trained Model"
      ],
      "metadata": {
        "id": "TPmC-g0n2spS"
      }
    },
    {
      "cell_type": "code",
      "source": [
        "# Get Pre-train Word2Vec\n",
        "word2vec_model = \"wiki.id.case.vector\"\n",
        "word_vectors = gensim.models.KeyedVectors.load_word2vec_format(word2vec_model, binary=False)\n",
        "\n",
        "# Get Embedding Size\n",
        "embed_size = len(word_vectors.get_vector(word_vectors.index2word[0]))"
      ],
      "metadata": {
        "id": "Mp9WBWXm2spS"
      },
      "execution_count": 38,
      "outputs": []
    },
    {
      "cell_type": "markdown",
      "source": [
        "#### Create Embedding Matrix"
      ],
      "metadata": {
        "id": "YX5tMoa02spT"
      }
    },
    {
      "cell_type": "code",
      "source": [
        "# Initilization with numpy zeros\n",
        "embedding_matrix = np.zeros((vocab_size, embed_size))\n",
        "\n",
        "# Assign every word vectors in tokenizer to embedding matrix\n",
        "for word, i in tokenizer.word_index.items():\n",
        "    try :\n",
        "      embedding_vector = word_vectors.get_vector(word)\n",
        "      if embedding_vector is not None:\n",
        "          embedding_matrix[i] = embedding_vector\n",
        "    except :\n",
        "      print(word, \"not in vocabulary\")"
      ],
      "metadata": {
        "colab": {
          "base_uri": "https://localhost:8080/"
        },
        "id": "O0Lzufwc2spT",
        "outputId": "a7e59249-cc96-4c79-bb16-29d45d8e6627"
      },
      "execution_count": 39,
      "outputs": [
        {
          "output_type": "stream",
          "name": "stdout",
          "text": [
            "eksperiman not in vocabulary\n",
            "krena not in vocabulary\n",
            "pakaianpakaian not in vocabulary\n",
            "pabrikpabrik not in vocabulary\n",
            "timpal not in vocabulary\n",
            "pakian not in vocabulary\n",
            "prokduksi not in vocabulary\n",
            "selfservice not in vocabulary\n",
            "konveksipembuatan not in vocabulary\n",
            "menyumpangkan not in vocabulary\n",
            "adasedangkan not in vocabulary\n",
            "seharihari not in vocabulary\n",
            "sodaqoh not in vocabulary\n",
            "bererja not in vocabulary\n",
            "mubasir not in vocabulary\n",
            "t not in vocabulary\n",
            "sumumbangkan not in vocabulary\n",
            "begtu not in vocabulary\n",
            "prodeuksi not in vocabulary\n",
            "ksarena not in vocabulary\n",
            "smapah not in vocabulary\n",
            "pakaiansehingga not in vocabulary\n",
            "terseebut not in vocabulary\n",
            "disumbangmenyumbang not in vocabulary\n",
            "lbih not in vocabulary\n",
            "pakainan not in vocabulary\n",
            "karenaorangorang not in vocabulary\n",
            "simpat not in vocabulary\n",
            "pabrib not in vocabulary\n",
            "pakaisehingga not in vocabulary\n",
            "aripada not in vocabulary\n",
            "memilioh not in vocabulary\n",
            "menyumangkan not in vocabulary\n",
            "muas not in vocabulary\n",
            "erti not in vocabulary\n",
            "mengiklaskan not in vocabulary\n",
            "siasia not in vocabulary\n",
            "merugikanmakanya not in vocabulary\n",
            "dibaungmaka not in vocabulary\n",
            "kpda not in vocabulary\n",
            "prodouksi not in vocabulary\n",
            "subuah not in vocabulary\n",
            "konsumenkonsumen not in vocabulary\n",
            "menyumabng not in vocabulary\n",
            "karenajika not in vocabulary\n",
            "beretikamaka not in vocabulary\n",
            "pembuatannnya not in vocabulary\n",
            "berateka not in vocabulary\n",
            "karenam not in vocabulary\n",
            "iyu not in vocabulary\n",
            "agaama not in vocabulary\n",
            "lagidan not in vocabulary\n",
            "benah not in vocabulary\n",
            "diabuang not in vocabulary\n",
            "akaianpakaian not in vocabulary\n",
            "menyumbangknnya not in vocabulary\n",
            "pakean not in vocabulary\n",
            "mwngahargai not in vocabulary\n",
            "karenakasian not in vocabulary\n",
            "meemas not in vocabulary\n",
            "pejerja not in vocabulary\n",
            "kitaharu not in vocabulary\n",
            "yolong not in vocabulary\n",
            "pentinng not in vocabulary\n",
            "konsumenlayar not in vocabulary\n",
            "budayabudaya not in vocabulary\n",
            "sodakoh not in vocabulary\n",
            "memprehatinkan not in vocabulary\n",
            "jihydgsjdisadusdtgwtsfdhs not in vocabulary\n",
            "uangbarang not in vocabulary\n",
            "kankondisi not in vocabulary\n",
            "perihatin not in vocabulary\n",
            "pekerjaklarena not in vocabulary\n",
            "bisda not in vocabulary\n",
            "berjuaalan not in vocabulary\n",
            "dipakaijadi not in vocabulary\n",
            "memyumbang not in vocabulary\n",
            "menmbah not in vocabulary\n",
            "ketenmpat not in vocabulary\n",
            "sampahmelainkan not in vocabulary\n",
            "berbut not in vocabulary\n",
            "karenaa not in vocabulary\n",
            "orrang not in vocabulary\n",
            "pahal not in vocabulary\n",
            "berlipakkn not in vocabulary\n",
            "gnda not in vocabulary\n",
            "bermanfat not in vocabulary\n",
            "hidupdi not in vocabulary\n",
            "pakeaian not in vocabulary\n",
            "mending not in vocabulary\n",
            "kekurangankekurangan not in vocabulary\n",
            "bahanbahan not in vocabulary\n",
            "karenapakaianawetlebihmahal not in vocabulary\n",
            "karenamereka not in vocabulary\n",
            "dimaanfaatkan not in vocabulary\n",
            "libih not in vocabulary\n",
            "karenadari not in vocabulary\n",
            "karenasebuah not in vocabulary\n",
            "upayauntuk not in vocabulary\n"
          ]
        }
      ]
    },
    {
      "cell_type": "markdown",
      "source": [
        "#### Encode"
      ],
      "metadata": {
        "id": "tU7hbTwYP-ao"
      }
    },
    {
      "cell_type": "code",
      "source": [
        "# Embed Pertanyaan\n",
        "pertanyaan_results = np.array([embedding_matrix[i] for i in pertanyaan_padded])\n",
        "\n",
        "# Embed Jawaban\n",
        "jawaban_results = []\n",
        "for i in jawaban_padded :\n",
        "  embed_now = [embedding_matrix[j] for j in i]\n",
        "  jawaban_results.append(embed_now)\n",
        "jawaban_results = np.array(jawaban_results)"
      ],
      "metadata": {
        "id": "F4O_EIgAKtMJ"
      },
      "execution_count": 48,
      "outputs": []
    },
    {
      "cell_type": "markdown",
      "source": [
        "# Measure Distance\n",
        "**Output :**\n",
        "*   idx_sorted (list) : index of sorted answers distance (ascending)\n"
      ],
      "metadata": {
        "id": "qpo0b0vrFCUn"
      }
    },
    {
      "cell_type": "markdown",
      "source": [
        "## Define function\n",
        "Cosine Similarity with Average Pooling"
      ],
      "metadata": {
        "id": "ypWocfYsvITF"
      }
    },
    {
      "cell_type": "code",
      "source": [
        "def avgPooling(x) :\n",
        "    return K.mean(K.constant(x), axis=1, keepdims=False)\n",
        "\n",
        "def cosineSimilarity(x, y) :\n",
        "    normalize_a = tf.nn.l2_normalize(x,0)        \n",
        "    normalize_b = tf.nn.l2_normalize(y,0)\n",
        "    cos_similarity = tf.reduce_sum(tf.multiply(normalize_a,normalize_b))\n",
        "    return float(cos_similarity)"
      ],
      "metadata": {
        "id": "5rhNsFA7FHtK"
      },
      "execution_count": 55,
      "outputs": []
    },
    {
      "cell_type": "markdown",
      "source": [
        "## Get Distance List"
      ],
      "metadata": {
        "id": "jjtuEQbVvLf9"
      }
    },
    {
      "cell_type": "markdown",
      "source": [
        "### BERT"
      ],
      "metadata": {
        "id": "fSUD6GaVwPTJ"
      }
    },
    {
      "cell_type": "code",
      "source": [
        "# Distance list initialization\n",
        "dist_list = []\n",
        "\n",
        "# Get vector pertanyaan\n",
        "pertanyaan_vectors = np.array(pertanyaan_results).squeeze(axis = 0)\n",
        "\n",
        "# Measure distance\n",
        "for i in jawaban_results :\n",
        "  dist = cosineSimilarity(avgPooling(pertanyaan_vectors), avgPooling(i))\n",
        "  dist_list.append(dist)"
      ],
      "metadata": {
        "id": "ufN9njdtvpTd"
      },
      "execution_count": 230,
      "outputs": []
    },
    {
      "cell_type": "markdown",
      "source": [
        "### Word2vec"
      ],
      "metadata": {
        "id": "vsddyqE8xeDa"
      }
    },
    {
      "cell_type": "code",
      "source": [
        "# Distance list initialization\n",
        "dist_list = []\n",
        "\n",
        "# Get vector pertanyaan\n",
        "pertanyaan_vectors = np.array([embedding_matrix[i] for i in pertanyaan_padded]).squeeze(axis = 0)\n",
        "\n",
        "# Measure distance\n",
        "for i in jawaban_padded :\n",
        "  jawaban_vectors = np.array([embedding_matrix[j] for j in i])\n",
        "  dist = cosineSimilarity(avgPooling(pertanyaan_vectors), avgPooling(jawaban_vectors))\n",
        "  dist_list.append(dist)"
      ],
      "metadata": {
        "id": "PO49XVVpF_HX"
      },
      "execution_count": 56,
      "outputs": []
    },
    {
      "cell_type": "markdown",
      "source": [
        "## Sort Distance (Ascending)"
      ],
      "metadata": {
        "id": "HQEJjC2EvPgU"
      }
    },
    {
      "cell_type": "code",
      "source": [
        "idx_sorted = np.argsort(dist_list)"
      ],
      "metadata": {
        "id": "6ynDvhwgwdoq"
      },
      "execution_count": 57,
      "outputs": []
    },
    {
      "cell_type": "code",
      "source": [
        "# Distance Preview\n",
        "for i in idx_sorted :\n",
        "  print(dist_list[i])"
      ],
      "metadata": {
        "colab": {
          "base_uri": "https://localhost:8080/"
        },
        "id": "_cpnJ3loQX3S",
        "outputId": "7ea7678c-d348-4800-a413-292ea217dc96"
      },
      "execution_count": 61,
      "outputs": [
        {
          "output_type": "stream",
          "name": "stdout",
          "text": [
            "-0.14937585592269897\n",
            "0.08028112351894379\n",
            "0.08869005739688873\n",
            "0.11119497567415237\n",
            "0.11557082831859589\n",
            "0.1188586950302124\n",
            "0.1272728443145752\n",
            "0.1277555227279663\n",
            "0.12847013771533966\n",
            "0.13193324208259583\n",
            "0.13306432962417603\n",
            "0.13443341851234436\n",
            "0.1349148154258728\n",
            "0.13678213953971863\n",
            "0.138418510556221\n",
            "0.1440078616142273\n",
            "0.1486850529909134\n",
            "0.14884497225284576\n",
            "0.14937584102153778\n",
            "0.14937584102153778\n",
            "0.14937585592269897\n",
            "0.14937585592269897\n",
            "0.1506294310092926\n",
            "0.15172968804836273\n",
            "0.15278251469135284\n",
            "0.15288615226745605\n",
            "0.15318456292152405\n",
            "0.15323197841644287\n",
            "0.1538056880235672\n",
            "0.15604233741760254\n",
            "0.15726064145565033\n",
            "0.15750430524349213\n",
            "0.15874001383781433\n",
            "0.16125422716140747\n",
            "0.16228538751602173\n",
            "0.16475115716457367\n",
            "0.16577664017677307\n",
            "0.1668911874294281\n",
            "0.16793279349803925\n",
            "0.16860736906528473\n",
            "0.17080749571323395\n",
            "0.17095234990119934\n",
            "0.17129677534103394\n",
            "0.17200791835784912\n",
            "0.172520250082016\n",
            "0.1762220412492752\n",
            "0.17788511514663696\n",
            "0.1779588907957077\n",
            "0.17899064719676971\n",
            "0.17912015318870544\n",
            "0.17960922420024872\n",
            "0.1856701672077179\n",
            "0.18677107989788055\n",
            "0.18805064260959625\n",
            "0.18834425508975983\n",
            "0.18849816918373108\n",
            "0.18869973719120026\n",
            "0.1893513798713684\n",
            "0.18943928182125092\n",
            "0.1896619200706482\n",
            "0.19163089990615845\n",
            "0.19204480946063995\n",
            "0.19213540852069855\n",
            "0.19267264008522034\n",
            "0.19328834116458893\n",
            "0.19346053898334503\n",
            "0.1934961974620819\n",
            "0.19601987302303314\n",
            "0.1970287412405014\n",
            "0.19747841358184814\n",
            "0.19826693832874298\n",
            "0.19860903918743134\n",
            "0.199519544839859\n",
            "0.199519544839859\n",
            "0.199519544839859\n",
            "0.199519544839859\n",
            "0.199519544839859\n",
            "0.199519544839859\n",
            "0.199519544839859\n",
            "0.199519544839859\n",
            "0.199519544839859\n",
            "0.20042484998703003\n",
            "0.20144382119178772\n",
            "0.2019115835428238\n",
            "0.2025473564863205\n",
            "0.2038934826850891\n",
            "0.20487499237060547\n",
            "0.2050958275794983\n",
            "0.20531846582889557\n",
            "0.20549234747886658\n",
            "0.20573414862155914\n",
            "0.2063378393650055\n",
            "0.20647934079170227\n",
            "0.2066863477230072\n",
            "0.20803409814834595\n",
            "0.20844949781894684\n",
            "0.20931005477905273\n",
            "0.2106872946023941\n",
            "0.21114933490753174\n",
            "0.2125607579946518\n",
            "0.21363697946071625\n",
            "0.215691477060318\n",
            "0.21634609997272491\n",
            "0.21750354766845703\n",
            "0.21787965297698975\n",
            "0.21789701282978058\n",
            "0.2179761677980423\n",
            "0.21838688850402832\n",
            "0.21919354796409607\n",
            "0.21928195655345917\n",
            "0.21996106207370758\n",
            "0.22002029418945312\n",
            "0.22011926770210266\n",
            "0.22156330943107605\n",
            "0.22163045406341553\n",
            "0.2219488024711609\n",
            "0.22215639054775238\n",
            "0.22265870869159698\n",
            "0.2233491837978363\n",
            "0.22428320348262787\n",
            "0.224782332777977\n",
            "0.22599147260189056\n",
            "0.22728151082992554\n",
            "0.22892943024635315\n",
            "0.22958950698375702\n",
            "0.22970803081989288\n",
            "0.23008489608764648\n",
            "0.2303258776664734\n",
            "0.23085364699363708\n",
            "0.23171530663967133\n",
            "0.23227618634700775\n",
            "0.2330036461353302\n",
            "0.2339371293783188\n",
            "0.23416994512081146\n",
            "0.23506036400794983\n",
            "0.235202357172966\n",
            "0.23531118035316467\n",
            "0.23588256537914276\n",
            "0.23596607148647308\n",
            "0.23719671368598938\n",
            "0.23726247251033783\n",
            "0.23727068305015564\n",
            "0.24029017984867096\n",
            "0.2403241991996765\n",
            "0.24071764945983887\n",
            "0.24090155959129333\n",
            "0.24143633246421814\n",
            "0.24150718748569489\n",
            "0.24256804585456848\n",
            "0.242611825466156\n",
            "0.24289637804031372\n",
            "0.24334976077079773\n",
            "0.2439105212688446\n",
            "0.24422146379947662\n",
            "0.24422146379947662\n",
            "0.24422146379947662\n",
            "0.24515090882778168\n",
            "0.2518443167209625\n",
            "0.2531639337539673\n",
            "0.2539501190185547\n",
            "0.2557615339756012\n",
            "0.2562430202960968\n",
            "0.2568538188934326\n",
            "0.2575725317001343\n",
            "0.25810328125953674\n",
            "0.2583819627761841\n",
            "0.2589586079120636\n",
            "0.2589586079120636\n",
            "0.25927630066871643\n",
            "0.25927630066871643\n",
            "0.2595295011997223\n",
            "0.2602861523628235\n",
            "0.26035958528518677\n",
            "0.2604036331176758\n",
            "0.2624497413635254\n",
            "0.2638881206512451\n",
            "0.2649557590484619\n",
            "0.26591044664382935\n",
            "0.26819777488708496\n",
            "0.2685556411743164\n",
            "0.26906177401542664\n",
            "0.27163106203079224\n",
            "0.27312028408050537\n",
            "0.27354079484939575\n",
            "0.27383702993392944\n",
            "0.2755463123321533\n",
            "0.2785758972167969\n",
            "0.27955085039138794\n",
            "0.28018897771835327\n",
            "0.2817041873931885\n",
            "0.2819174826145172\n",
            "0.2844781279563904\n",
            "0.2861519455909729\n",
            "0.2876434922218323\n",
            "0.2887048125267029\n",
            "0.2903028726577759\n",
            "0.2917109727859497\n",
            "0.29858410358428955\n",
            "0.29965847730636597\n",
            "0.2998299300670624\n",
            "0.30244195461273193\n",
            "0.3049015402793884\n",
            "0.3054673671722412\n",
            "0.3077380359172821\n",
            "0.30817535519599915\n",
            "0.3104196786880493\n",
            "0.31072932481765747\n",
            "0.31266865134239197\n",
            "0.31437480449676514\n",
            "0.3158394396305084\n",
            "0.3175071179866791\n",
            "0.3179415464401245\n",
            "0.32007038593292236\n",
            "0.3201102018356323\n",
            "0.32118624448776245\n",
            "0.32135236263275146\n",
            "0.322928249835968\n",
            "0.3246726095676422\n",
            "0.32541754841804504\n",
            "0.3271464407444\n",
            "0.3272742033004761\n",
            "0.32796770334243774\n",
            "0.3282163143157959\n",
            "0.32944703102111816\n",
            "0.3310874104499817\n",
            "0.3318762183189392\n",
            "0.3329054117202759\n",
            "0.3368822932243347\n",
            "0.3368959426879883\n",
            "0.33914369344711304\n",
            "0.34109729528427124\n",
            "0.34266000986099243\n",
            "0.343352735042572\n",
            "0.3436336815357208\n",
            "0.3436514735221863\n",
            "0.345133900642395\n",
            "0.3472374975681305\n",
            "0.34896722435951233\n",
            "0.3497845530509949\n",
            "0.352422297000885\n",
            "0.35355207324028015\n",
            "0.3564361333847046\n",
            "0.3617895841598511\n",
            "0.3618166446685791\n",
            "0.3642721474170685\n",
            "0.36893385648727417\n",
            "0.3691932260990143\n",
            "0.37010622024536133\n",
            "0.3720618188381195\n",
            "0.3720950484275818\n",
            "0.37256643176078796\n",
            "0.37395936250686646\n",
            "0.37516841292381287\n",
            "0.37533050775527954\n",
            "0.37598350644111633\n",
            "0.37626612186431885\n",
            "0.3784303069114685\n",
            "0.3790368437767029\n",
            "0.3792990744113922\n",
            "0.3805583417415619\n",
            "0.38230985403060913\n",
            "0.3886767625808716\n",
            "0.4006897211074829\n",
            "0.4022616744041443\n",
            "0.4027096629142761\n",
            "0.4040265679359436\n",
            "0.40625256299972534\n",
            "0.40720275044441223\n",
            "0.40743985772132874\n",
            "0.40815216302871704\n",
            "0.4138137400150299\n",
            "0.419278085231781\n",
            "0.4226056933403015\n",
            "0.4271495044231415\n",
            "0.4285058081150055\n",
            "0.43719881772994995\n",
            "0.4376920163631439\n",
            "0.43890050053596497\n",
            "0.4423679709434509\n",
            "0.4448242485523224\n",
            "0.44586655497550964\n",
            "0.46247267723083496\n",
            "0.4915504455566406\n",
            "0.49277520179748535\n",
            "0.49368345737457275\n",
            "0.5020627975463867\n",
            "0.5201308131217957\n",
            "0.520983099937439\n",
            "0.5213174819946289\n",
            "0.5250701308250427\n",
            "0.5358546376228333\n",
            "0.551677942276001\n",
            "0.5530573129653931\n",
            "0.5597451329231262\n",
            "0.5831328630447388\n",
            "0.6246100664138794\n",
            "0.6486973762512207\n",
            "0.6736037731170654\n",
            "0.6867737174034119\n",
            "0.6938912868499756\n",
            "0.7130720615386963\n",
            "0.7246003150939941\n",
            "0.7703469395637512\n",
            "0.8028126955032349\n",
            "0.8434047698974609\n"
          ]
        }
      ]
    },
    {
      "cell_type": "code",
      "source": [
        "# Answers Preview (Sorted)\n",
        "for i in idx_sorted :\n",
        "  print(jawaban[i])"
      ],
      "metadata": {
        "colab": {
          "base_uri": "https://localhost:8080/"
        },
        "id": "CqQWoYrMHyA0",
        "outputId": "b4061977-01a8-434d-cc85-8a13b4837ccd"
      },
      "execution_count": 62,
      "outputs": [
        {
          "output_type": "stream",
          "name": "stdout",
          "text": [
            "karenakasian\n",
            "karena bnyak yang membutuh kan\n",
            "karena dia kasihan\n",
            "mereka memiliki rasa kepedulian terhadap sesama.\n",
            "krena menyun bang itu berpahala\n",
            "Karena melihat kondisi para pegawai\n",
            "krena mungkin kekecilan /kebesaran\n",
            "karena,mereka ingin ada produk pakaian yang lebih beretika.\n",
            "karena tidak terpakai\n",
            "karena mendapatkan pahala\n",
            "karna berbagi itu indah\n",
            "KARENA PRIHATIN MELIHAT KEADAAN PARA PEKERJA PABRIK\n",
            "karena banyak yang membutuhkan\n",
            "karna menyumbang adalah bekal untuk menuju surga\n",
            "sebab untuk membantu produktivitas suatu pabrik\n",
            "karena pakaian itu beretika\n",
            "karena lebih bermanfaat.\n",
            "karena lebih mudah\n",
            "memilih\n",
            "karena'pakaianawetlebihmahal.\n",
            "jihydgsjdisadusdtgwtsfdhs\n",
            "dikarenakan\n",
            "karena dengan menyumbang produsen akan mengondisikan kerja disebuah pabrik\n",
            "meemas tikan bahwA pejerja mendapatkan upah layak\n",
            "karena, pakaiannya akan menjadi lebih beretika\n",
            "karena pakain tersebut tidak layak untuk dipakai\n",
            "karena kalau dibuang dapat merugikan,makanya sebagian besar orang menyumbangkannya.\n",
            "karna untuk sedekah\n",
            "karena menurut mereka tempat pembuatanya atau cara kerja mereka kurang baik.\n",
            "karena orang orang masih peduli terhadap sesama\n",
            "karena jika mereka menyumbangkan dengan barang akan berguna kedepanya\n",
            "produksi pakaian menjadi lebih beretika.\n",
            "kerena harganya mahal .\n",
            "Karna itu merupakan infestasi\n",
            "karana menyumbang bisa membuat orang lain senang dan memdapatkan pahala\n",
            "karena biar tercukupinya dana untuk pembuatan pakaian yang beretika.\n",
            "pakaian awet adalah alternatif terhadap fast fashion\n",
            "Karena Dengan menyumbang kita bisda mendapat amal sekaligus Mengurangi sampah\n",
            "karena lebih baik untuk semuanya\n",
            "Karena perihatin dengan kondisi pekerja.\n",
            "karena dia ingin pakaian mereka beretika\n",
            "karena dengan menyumbang para konsumen dapat membantu para pekerja\n",
            "karena dia akan membuat produksi pakaian yang beretika maka dia akan menyumbangknnya\n",
            "Karena daripada dibuang dan menjadi sampah, lebih baik disumbangkan.\n",
            "mereka kasihan dengan kondisi pabrik pakaian\n",
            "agar pakaian bisa dibuat sesuai etika\n",
            "Karena menurut mereka pakaian tersebut tidak beretika.\n",
            "karena dengan menyumbang dapat membantu orang yang membutuhkan\n",
            "karena,orang-orang tersebut bersimpati tentang kondisi kerja di sebuah pabrik pakaian.\n",
            "untuk mengurangi penggunan air\n",
            "karana harga nya terjangkau dan pas.\n",
            "Karena itulah salah satu dari amal\n",
            "karena mereka lebih memilih pakaian yang beretika\n",
            "karena mereka telah melihat bagaimana kondisi kerja di sebuah pabrik\n",
            "karena mungkin menurut mereka, sesuai dengan harga dan kaus yang ia terima\n",
            "karna dengan menyumbang nya kita bisa mendapatkan kembali barang yang lebih\n",
            "mereka memilih untuk menyumbang karena mereka ingin memakai pakaian yang ber etika\n",
            "karna menyumbang itu adalah hal positif dan mendapatkan amal ibadah\n",
            "karena kalo menyumbang akan dapat pahala\n",
            "Karena Untuk Membantu masyarakat yang membutuhkan\n",
            "karena orang yang diluar sana banyak membutuhkan sumbangan\n",
            "karena jika banyak yang tidak terpakai akan mubasir\n",
            "karena orang menghargai upaya pekerja untuk membuat pakaian tersebut\n",
            "karena jauh lebih bermanfaat bagi orang-orang yg membutuhkannya\n",
            "karena ada istilah lebih baik memberi aripada menerima\n",
            "karena yang harus di produksi setiap tahun\n",
            "karena terlalu banyaknya pakaian yang sudah di beli\n",
            "karena,dari pada membeli kaus putih seharga 2 Euro\n",
            "karena menyumbang itu lebih bermanfaat dari pada di buang\n",
            "karena kondisi kerja pabrik pakaian yang memprehatinkan\n",
            "karena mengurangi produksi pembuatan pakaian.\n",
            "karna orang-orang berprihatin terhadap pabrik-pabrik yang kekurangan dana\n",
            "karena upaya untuk membuat produksi pakaian menjadi lebih beretika\n",
            "upaya untuk membuat produksi pakaian menjadi lebih beretika\n",
            "sebagai upaya untuk membuat produksi pakaian menjadi lebih beretika\n",
            "Sebagai upaya untuk membuat produksi pakaian menjadi lebih beretika.\n",
            "upaya untuk membuat produksi pakaian menjadi lebih beretika.\n",
            "sebagai upaya untuk membuat produksi pakaian menjadi lebih beretika.\n",
            "sebagai upaya untuk membuat produksi pakaian menjadi lebih beretika.\n",
            "agar upaya untuk membuat produksi pakaian menjadi lebih beretika.\n",
            "Sebagai upaya untuk membuat produksi pakaian menjadi lebih beretika.\n",
            "karena menolak harga yg terlalu tinggi\n",
            "karena menyumbang itu lebih bagus.\n",
            "karan menyumbang perbuatan baik dan menambah pahala bagi kita juga.\n",
            "KARNA MENYUMBANG KITA BISA MENGAMALKAN KARNA DAPET PAHALA\n",
            "karena dia tidak mau bererja\n",
            "agar orang yg memerlukan juga bisa mempunyai baju seperti kita\n",
            "KARNA MEREKA SANGAT MENYUKAI KAUS PUTIH TERSEBUT\n",
            "agar pekerja mendapatkan upah yg layak\n",
            "karena dengan menyumbang kita akan mendapat pahala dan lebih bermanfaat\n",
            "karena akan bermanfaat bagi yg membutuhkan\n",
            "karena sayang untuk di buang\n",
            "karena masyarakat akan lebih memilih untuk membeli pakaian yang beretika\n",
            "karna gambarnya tidak cocok dengan warna kaus baju\n",
            "karena konsumen tidak tega melihat pekerja yang bekerja keras dengan gaji rendah\n",
            "Karena kasihan dengan kondisi para pekerja.\n",
            "karena kondisi kerja pabrik iyu bagus\n",
            "dikarenakan kondisi pabrik pembuat pakaian yang mengejutkan\n",
            "karena dari pada pakaian di buang lebih baik di sumbangkan\n",
            "karena menyumbang bagian dari amal\n",
            "karena kondisi di sebuah pabrik yg mengejutkan.\n",
            "karena menyumbang lebih bermanfaat untuk para perkerja di pabrik pakaian .\n",
            "karna orang lebih suka menyumbang\n",
            "karna kondisi pekerja sangat memungkinkan,\n",
            "karena t sebagai upaya untuk membuat produksi pakaian menjadi lebih beretika.\n",
            "karena menyumbang mendapatkan amal ibadah\n",
            "karena biar laris kalo berjuaalan dan untuk beramal ibadah\n",
            "karena akan lebih baik lagi dari sebelumnya.\n",
            "Karena 2 euro sama dengan harga sebuah kaus putih\n",
            "karena menyumbang itu lebih baik\n",
            "karena uangnya pun lebih bermanfat untuk membeli kebutuhan hidup.di bandingkan menyumbang pakeaian.\n",
            "untuk membuat toko tersebut lebih bagus lagi dan lebih complete\n",
            "karena untuk membantu sebagian konsumen\n",
            "karena yang tak terpakai lebih beretika\n",
            "karena dengan menyumbang untuk membuat produksi pakaian menjadi lebih beretika\n",
            "tampilan kondisi kerja pada pabrik\n",
            "karena menyumbang lebih baik daripada menerima\n",
            "karena lebih baik tangan diatas daripada tangan dibawah\n",
            "karena lebih bermanfaat, dari pada diabuang dan tidak ada yang menggunakan\n",
            "karna dapat membantu orang\n",
            "karna kasihan terhadap kondisi para pekerja\n",
            "karena memiliki pakaian yang melebihi atau sudah tidak layak dipakai pribadi\n",
            "karena mengetahui kondisi kerja di sebuah pabrik pakaian\n",
            "karena menyumbang itu bagus dan mendapatkan pahala\n",
            "karena, menunjukan tentang kondisi kerja di sebuah pabrik pakaian.\n",
            "karena lebih baik menyumbang daripada membeli\n",
            "karna itu lebih bermanfaat untuk orang lain daripada harus terbuang sia-sia\n",
            "Agar pakaian yang kita pakai semua beretika dan nyaman dipakai\n",
            "untuk membantu orang yang membutuhkan\n",
            "karena mereka mendukung akan perubahan produksi pakaian menjadi lebih beretika.\n",
            "karena munkin kebanyakan orang mwngahargai apa yang di lakukan perusahan\n",
            "KARENA MENYUMBANG ADALAH HAL YANG SANGAT BAIK\n",
            "karena lebih baik menyumbang dari pada beli\n",
            "karna untuk membeli pakaian\n",
            "menurut saya menyumbang akan menjadi hal yang baik jika itu untuk hal kebaikan juga\n",
            "karena untuk produksi pakaian untuk menjadi lebih beretika.\n",
            "Karena jika mereka memilih melanjutkan pembelian maka akan menyebabkan pemborosan uang.\n",
            "karena dengan cara menyumbang pakaian kita menjadi lebih beretika\n",
            "karena jika konsumen tersebut membelinya akan menambah sampah lingkungan\n",
            "karena kondisi di sebuah pabrik pakaian yang sangat mengejutkan\n",
            "Karena banyak orang yang tidak suka\n",
            "karena menyumbang merupakan kegiatan amal yang dapat bermanfaat bagi banyak orang\n",
            "karena menyumbang dapat membantu pakir miskin yang sangat membutuhkan dan mendapat pahala\n",
            "itu dapat barang dari konsumen itu dapat terjual juga.\n",
            "karena yang disumbangkan adalah pakaian yang sudah tak terpakai\n",
            "karena menyumbang itu sama saja menolong orang lain yang sedang kesusahan\n",
            "2 euro tersebut sbg upaya untuk prokduksi pakaian menjadi beretika\n",
            "lebih baik menyumbang\n",
            "karena kondisi kerja disebuah pabrik pakaian tidak layak\n",
            "karena melihat gambar tentang kondisi kerja subuah pabrik pakaian\n",
            "karena sebagai upaya untuk membuat produksi pakaian menjadi lebih beretika\n",
            "karena kondisi kerja dari sebuah pabrik sangat tidak menjamin untuk melakukan produktifitas\n",
            "karena mereka melihat kondisi kerja di sebuah pabrik pakaian\n",
            "Mengurangi sampah lingkungan dan polusi;\n",
            "karena mengurangi sampah lingkungan dan polusi\n",
            "Mengurangi sampah lingkungan dan polusi\n",
            "karena lebih baik disumbangkan daripada dibuang dan menjadi limbah dan sampah\n",
            "Karena menyuban lebih baik daripada berlebihan untuk mebeli pakaian yang terlalu banyak .\n",
            "karena menyumbang itu sama denga sodaqoh juga itu bagi yg mampu dan hatinya ikhlas\n",
            "karena untuk sodakoh dan membantu\n",
            "karna dengan menyumbang konsumen bisa membeli barang baru atau di belanjakannya\n",
            "menyebab kankondisi kerja\n",
            "karena pakaian itu bisa dipakai dan pakaian nya pun beretika\n",
            "karena pembeli ingin menyejahterakan para pekerja dan melindungi lingkungan dari polusi\n",
            "karna sudah bosan dipakai dan lebih baik dipakai dengan orang lain\n",
            "karena konsumen melihat kondisi kerja pabrib yang kurang layak\n",
            "karena mereka ingin upaya untuk membuat produksi pakaian menjadi lebih beretika\n",
            "karena mereka ingin upaya untuk membuat produksi pakaian menjadi lebih beretika\n",
            "karna sebagai upaya untuk membuat produksi pakaian menjadi lebih beretika\n",
            "karna sebagai upaya untuk membuat produksi pakaian menjadi lebih beretika\n",
            "karena konsumen ingin berupaya untuk membuat produksi menjad lebih beretika\n",
            "karena untuk upaya membuat produksi pakaian menjadi lebih beretika.\n",
            "karena kalau disimpan pakaiannya akan kekecilan dan masih banyak yang membutuhkannya.\n",
            "Karena membuat produksi pakaian menjadi lebih beretika.\n",
            "karna menyambung lebih gampang dari memputus\n",
            "karena di sumbangkan mendapat pahala di bandingkan di buang\n",
            "karena menyumbangkan 2 Euro tersebut sebagai upayauntuk membuat produksi\n",
            "karna lebih baik menyumbang daripada yang disumbang,menyumbang kita dapat pahala atau rizki dari allah\n",
            "karna menyumbang suatu hal yang sangat bagus dan membarikan amal\n",
            "karena dari pada dibuang lebih baik disumbangkan ke masyarakat yang tidak mampu [miskin]\n",
            "karena masyarakat lebih suka berbagi satu sama lain dan saling peduli satu sama lain\n",
            "supaya bisa mengurangi pakaian yang berakhir ditempat pembuangan sampah.\n",
            "karena kasian terhadap pekerjaklarena kerjanya begitu letih akan tetapi upahnya sedikit.\n",
            "Menyumbang merupakan perbuatan baik, lebih baik memberi dari pada menerima\n",
            "UNTUK MEMBERIKAN SEDEKAH YANG DIBERIKAN OLEH TUHAN YANG MAHA ESA\n",
            "karena menyumbang adalah hal yang baik untuk masyarakat yang miskin atau tidak mampu\n",
            "karena menyumbang sama saja seprti beramal dan bisa juga membantu saudara kita yang kesusahan\n",
            "karena itu akan membantu para masyarakat yang kekurangan pakaian dan lebih bermanfaat daripada membuangnya secara cuma cuma\n",
            "membuat produksi pakaian menjadi lbih beretika\n",
            "Bisa menmbah pahala bisa jadi banyak manfaat bisa menyenangkan hati. DAN TIDAK MENYUSAHKAN TUKANG SAMPAH\n",
            "karena pakaian tersebut sudah tidak layak untuk dipakai da tidak beretika dengan baik\n",
            "karena kalau pakaian yang sudah tidak dipakai terus disumbangkan akan mengurangi penumpukan sampah pakaian\n",
            "Rasa empati akan kondisi produksi tempat tersebut.\n",
            "tren Fast Fashion dan membeli pakaian yang lebih awet dan dibuat sesuai etika.\n",
            "karena mereka melihat kondisi kerja dipabrik pakaian tersebut tidak layak\n",
            "karna kaus yang di tawarkan oleh produsen belum banyak diminati oleh pembeli\n",
            "tentang kondisi kerja di sebuah pabrik pakaian sebagai upaya untuk membuat produksi pakain menjadi beretika\n",
            "mungkin karna kondisi pabrik yang kurang mendukung atau kondisi perkerja yang kasihan\n",
            "karana dengan menyumbang kita bisa membuat produksi pakain menjadi lebih beretika\n",
            "agar pabrik pakaian semakin baik dan dapat memproduksi pakaian yang baik pula untuk mereka.\n",
            "gar pakaian yang sudah tidak terpakai tidak hanya dibuang, tetapi masih bisa dimaanfaatkan untuk dipakai orang lain\n",
            "Dikarenakan sembilan dari sepuluh konsumen tersebut menyadari akan betapa buruknya akibat dari pakaian yang tidak memenuhi etika.\n",
            "fashion adalah produksi pakaian untuk memenuhi tren fashion cepat berubah\n",
            "karena ia adalah sebagai upaya untuk membuat prokduksi pakaian menjadi lebih beretika\n",
            "Karena kita juga makhluk sosial harus tolong menolong jadi kita pantas menyumbang kepada orang yang ada dibawah kita\n",
            "Karena dengan menyumbangkan uang akan menurangi pakaian fast fashion dan meningkatkan pakaian beretika.\n",
            "Kareana kekurangan-kekurangan pabrik yang mengejutkan untuk bahan-bahan pakaian yang akan melanjutkan pembelian.\n",
            "Karena untuk pakaian yang tidak dipakai bisa disumbangkan bagi yang membutuhkan karena lebih beretika.\n",
            "Karena orang berpikir bahwa jika disumbangkan akan membuat produksi pakaian menjadi lebih beretika\n",
            "karena menurut mereka jika mereka bisa menyumbangkan 2 euro tersebut mereka berharap kondisi parik tersebut bisa diperbaiki\n",
            "agar para pekerja tersebut atau pabrik tersebut bisa membuat pakaian yang lebih beretika dalam jumlah yang banyak\n",
            "Karna menyumbang adalah salah satu upaya untuk membuat produksi pakaian menjadi lebih beretika\n",
            "karena dapat bermanfaat bagi sesama dan sesuai dengan etika pakaian sehingga dapat mengurangi smapah lingkungan dan polusi\n",
            "agar dapat membantu menjadi lebih mudah, dan membuat barang produksi lebih diminati\n",
            "karena sumbangan tersebut dapat membuat produksi pakaian tersebut lebih berkualitas dan pembuatannya lebih beretika.\n",
            "ksarena dengan menyumbang, kita dapat membantu pabrik yang telah dalam masalah tersebut, agar dapat beroperasi dengan baik lagi\n",
            "karena dengan cara menyumbang itu bisa membuat produksi pakaian menjadi lebih beretika\n",
            "Karena lebih yakin dalam menyumbangkan uangnya setelah melihat gambar yang ditampilkan perusahaan tersebut\n",
            "karena konsumen berpikir lebih baik menyumbang kan ny dari pada harus menjual ny.\n",
            "karena lebih baik menyumbang dari pada di sumbang jika kita menyumbang belum tentu rejeki datang menimpal perusaahan tersebut.\n",
            "menurut saya, kebanyakkan orang menyumbang karena orang-orang itu ingin memproduksi pakaian yang baru.\n",
            "Karna mereka melihat gambar yang mengejutkan tentang kondisi kerja di sebuah pabrik pakaian.\n",
            "Karena,sebuah mesin penjual di Berlin menawarkan kaus putih seharga 2 Euro (atau sekitar Rp30.000).\n",
            "karena akan sayang kalo di buang begitu saja . lebih baik di kasih kepada orang yang membutuhkan\n",
            "karena dengan menyumbangkannya dapat membantu untuk upaya produksi pakaian menjadi lebih beretika\n",
            "karena barang yang tidak layak di pakai seharusnya di sumbangkan untuk diamalkan kepada orang yang lebih membutuhkan\n",
            "karena konsumen lebih memilih membuat prodeuksi pakaian lebih beretika daripada harus melanjutkan pembelian\n",
            "KARENA MENYUMBANG ITU HARUS DI LAKUKAN KARENA WAJIB DAN AKAN MENDAPATKAN YANG LEBIH UNTUK ORANG YANG MENYUMBANG\n",
            "karena agar pabrik membuat atau memproduksi pakaian menjadi lebih beretika dan memastikan bahwa pekerja mendapatkan upah yg layak\n",
            "karna penyumbangan itu baik untuk membuat prodouksi pakaian menjadi lebih beretika\n",
            "jika kita menyumbang kita akan dapet pahala dan kita akan membantu orang yang sangat membutuhkan sejumlah sumbangan yang kita berikan.\n",
            "Karena kebanyakan orang merasa prihatin dengan pekerja pekerja pada perusahaan pabrik pakaian\n",
            "karena mungkin mereka hanya peduli pada orang yang lebih membutuhkan dan karena mungkin sebagian orang tidak mampu\n",
            "karena masyarakat menginginkan pakaian yang beretika dan menginginkan upah dan tempat kerja yang layak\n",
            "karena pakaian yang tidak dipakai lagi lebih baik disumbangkan dari pada dibuang di tempat sampah.\n",
            "akaian-pakaian ini biasanya murah dan tidak bertahan lama karena konsumen biasanya cepat menggantinya dengan mode terbaru. Fas\n",
            "Agar pakaiannya bisa berguna bagi orang yang membutuhkan daripada harus dibuang lebih baik disumbangkan\n",
            "karenaa sebagian orrang islam ingin berbagi amal untuk mendapatkan pahala denggan menyumbang itu allah akn mengati dengaan pahal yang berlipakkn gnda\n",
            "karena jika ikhlas menyumangkan sedikit uang kita untuk anak yatim atau ke panti asuhan kita akan mendapatkan pahala yang setimpal.\n",
            "karena dengan menyumbangkan uang sebanyak 2 Euro tersebut konsumen akan mendapatkan pakaian yang lebih beretika\n",
            "karna perbuatan menyumbang untuk orang yang tidak mampu itu sangat mulia dan banyak mendapatkan pahala\n",
            "karena menyumabng adalah perbuatan yang terpuji dan dapat membantu kita untuk mendapat pakaian yang beretika karena semua bahan untuk memproduksi terpenuhi dari hasil kita menyumbang\n",
            "karena pakaian-pakaian ini biasanya murah dan tidak bertahan lama karena konsumen biasanya cepat menggantinya dengan mode terbaru.\n",
            "karena mungkin mereka sadar bahwa banyak orang yang penghasilan nya sedikit dan kerja banting tulang hanya untuk makan sehari-hari.\n",
            "karena sebelum sebuah kaos diberikan kepada konsumen, layar menampilkan gambar yang mengejutkan tentang kondisi kerja di sebuah pabrik pakaian.\n",
            "menurut saya, kebanyakan orang memilih menyumbangkan bajunya dikarenakan baju itu sudah tidak muat lagi, merasa tidak nyaman lagi\n",
            "untuk meningkatkan kualitas barang yang memuaskan untuk konsumen da menjadikan produksi pakaian menjadi lebih beretika\n",
            "karena harga pakaian termasuk kategori murah dan mereka mengetahui kondisi kerja di sebuah pabrik terseebut\n",
            "karna mereka prihatin dengan para pekerja yang bekerja di sebuah pabrik pakaian ,karna pabrik pakaian tersebut sudah ingin bangkrut\n",
            "karena supaya pabrik kaus tersebut menjadi lebih bagus dan membuat produksi pakaian menjadi lebih beretika.\n",
            "kenapa kita harus menyum bang karena kita sebagai manusia kitaharu saling yolong menolong dan untuk kebaikan juga sangat pentinng bagi manusia\n",
            "karena untuk membantu proses perbaikan sebuah pabrik agar terlihat lebih layak dan produksi pakaian menjadi lebih beretika\n",
            "karena kondisi kerja tersebut menampilkan bahwa pekerja tidak mendapatkan upah yg layak dan kondisi kerja yg baik\n",
            "karena di luar sana masih banyak yang membutuhkan, sehingga tidak sepenuhnya sumbangan tersebut digunakan untuk pakaian saja. tapi juga untuk yg lain\n",
            "karena mereka melihat tentang kondisi kerja di sebuah pabrik pakaian,sehingga mereka berpikir dengan menyumbang mereka dapat memperbaiki keadaan tersebut\n",
            "karena melihat kondisi kerja yang buruk di sebuah pabrik para konsumen lebih memilih menyumbang daripada membelinya dengan harga 2 Euro.\n",
            "karna meraka libih memilih pakaian yg beretika. tentang kondisi kerja disebuah pabrik pakaian\n",
            "karena menampilkan gambar yang mengejutkan tentang kondisi kerja di sebuah pabrik pakaian membuat pembeli merasa kasian dan berniat untuk menyumbang\n",
            "Karenam sebelum sebuah kaus diberikan kepada konsumen, layar menampilkan gambar yang mengejutkan tentang kondisi kerja di sebuah pabrik pakaian.\n",
            "karena kalo sumumbangkan lebih berguna ketika dibuang begtu saja maka dari itu orang memilih lebh banyak disumbangkan\n",
            "? karena,jika mereka menyumbangkan 2 euro untuk membuat produksi pakaian menjadi lebih beretika,maka pembuatannnya makin banyak sehingga biayanya yang mahal akan menjadi murah\n",
            "karena mereka menyumbangkan semua pakaiannya beralasan karena pakaian itu sudah tak suka lagi di pakai,sehingga mereka menyumbangkannya\n",
            "karena sebelum kaus diberikan kepada konsumen,layar menampilkan gambar yang mengejutkan tentang kondisi kerja di sebuah pabrik pakaian.\n",
            "? karena kegiatan menyumbang lebih utama dan termasuk hal yang diwajibkan untuk orang ada,sedangkan membeli pakaian tidak terlalu perlu asal kita sudah mempunyai pakaian yang cukup\n",
            "karena baju lama bisa digunakan kembali tidak harus dibuang ke tempat sampah kita bisa memberikan kepada orang yang tidak mampu\n",
            "Karena mereka berfikir jika uang/barang yang mereka disumbangkan akan menambah rezeki mereka bukan malah berkurang dan mereka pun akan mendapat pahala dari apa yang mereka lakukan.\n",
            "karena pekerjaan nya tidak beretika dan lebih milih menyumbang untuk membuat produksi pakaian menjadi lebih beretika\n",
            "karena dengan menyumbang maka akan membuat produksi pakaian beretika dan kondisi kerja pabrik menjadi lebih baik daripada sebelumnya\n",
            "Karena apabila pakainan tersebut di buang akan menjadi limbah oleh sebab itu apabila mempunyai pakaian yang sudah tidak di pakai lagi lebih baik di sumbangkan\n",
            "mungkin pakaian itu tidak bagus untuk di pakai lagi.dan mungkin saja pakaian itu tidak muat di pakai oleh orang tersebut,\n",
            "karena kondisi kerja yang dialami para pekerja sangat lah tidak layak, jadi sebagian orang berpikir lebih baik untuk menyumbangkan uang tersebut\n",
            "kebanyakan orang memilih untuk menyumbang supaya pabrik pakaian tersebut memperbaiki kondisi kerja produksi pakaian yang lebih beretika\n",
            "Karena dengan menyumbang akan membantu proses produksi yang lebih bagus lagi maka akan banyak konsumen nantinya yang akan membeli produk tersebut\n",
            "karena menyumbang merupakan suatu bentuk mengamal, menyumbang dalam ajaran agaama yaitu memberi kepada orang yang membutuhkan . itu merupakan suatu tindakan yang terpuji\n",
            "Karena pakaian yang dibeli merupakan fast fashion yang tidak dapat bertahan lama sehingga kebanyakan orang memilioh untuk menyumbangkan pakaian seharga 2 euro tersebut\n",
            "karena mereka melihat tampilan gambar tentang kondisi kerja di sebuah pabrik pakaian yang mungkin menentang prinsip produksi pakaian yang beretika\n",
            "karena Setelahnya, konsumen diberi pilihan apakah akan melanjutkan pembelian atau menyumbangkan 2 Euro tersebut sebagai upaya untuk membuat produksi pakaian menjadi lebih beretika.\n",
            "Karena mereka merasa kasihan kepada kondisi di pabriknya yang mungkin tidak bersih atau mungkin mesinnya tidak lengkap dan merasa kasihan kepada pegawainya yang mendapatkan gaji kurang dari yang ditetapkan.\n",
            "karena lebih banyak konsumen yang menyumbang akan menjadi hemat dengan masalah keuangan dan akan membuat produksi pakaian menjadi lebih beretika.\n",
            "pakian awet adalah alternatif terhadap fast fashion. pakian awet lebih mahal biaya produk dan harga belinya, tetapi karena pakaian itu di buat untuk bertahan dengan lama\n",
            "karna lebih murah jika menyumbang ,mengapa lebih murah karna 2 euro tersebut sebagai upaya untuk membuat produksi pakaian menjadi lebih beretika\n",
            "karena mungkin menurut mereka lebih jika disumbang untuk membuat produksi pakaian menjadi lebih beretika daripada membeli dipabrik pakaian yang tidak berprinsip pakaian beretika\n",
            "karena konsumen melihat dari kondisi kerja di sebuah pabrik pakaian tersebut kurang beretika sehingga mereka menyumbangkan 2 Euro untuk membuat produksi pakaian yang lebih beretika.\n",
            "Menurut saya, para konsumen yang mengerti kondisi kerja yang tidak layak, mereka akan merasa iba dan lebih mengiklaskan 2 Euro tersebut dibanding membeli kaosnya. Sehingga para pekerja bisa mempunyai kondisi kerja dan penghasilan yang baik.\n",
            "karena jika mereka menyumbakan masih banyak yang bisa menggunakan orang di luar sana. dan jika dibuang sangat tidak bagus krena mungkin pakean tersebut masih layak pakai tapi mereka membuangnya.\n",
            "karena mereka mengetahui akan kelebihan dari pakaian yang beretika seperti ; Memastikan bahwa pekerja mendapatkan upah layak dan kondisi kerja yang baik Mengurangi sampah lingkungan dan polusi dan Mengurangi penggunaan air.\n",
            "karna harga yang ditawarkan tidak sebanding dengan kualitas kaus yang diberikan sehingga banyak konsumen yang berfikir lebih baik untuk disumbangkan saja dari pada membeli sebuah kaus dengan harga 2 Euro\n",
            "karena mereka atau konsumen yang membeli melihat langsung tentang kondisi kerja disebuah pabrik pakaian dan ternyata hasilnya mengejutkan dikarenakan konsumen melihat pabrik membuat pakaian yang kurang berateka\n",
            "kerena mereka ingin membantu perusahaan itu untuk membuat produksi pakaian menjadi lebih beretika dan membantu karyawan nya mendapat upah layak dan kondisi kerja yang baik;\n",
            "karena menurut konsumen menyumbang adalah salah satu cara yang baik agar kita tidak memboros dengan cara membuangnya ketenmpat sampah,melainkan kita bisa berbut kebaikan dengan cara menyumbangkannya kepada orang yang tidak mampu\n",
            "karena konsumen-konsumen tersebut sudah tahu dan sadar bagaimana buruknya kondisi kerja di salah satu pabrik pakaian. maka dari itu, 9 dari 10 konsumen memilih untuk menyumbangkan kaus 2 euro tersebut untuk meningkatkan kondisi kerja di pabrik-pabrik pakaian.\n",
            "karena konsumen ingin merubah produsen yang membuat fast fashion ini menjadi lebih baik melihat pabriknya yang terlihat sangat buruk, lagipula hanya dengan memberikan 2 euro saja bukanlah uang yang banyak dan orang pasti tak apa merelakannya.\n",
            "Alia sedang mengerjakan sebuah laporan tentang isu etika terkait produksi dan konsumsi pakaian. Dalam penelitiannya, dia menemukan informasi di blog tentang “Fast Fashion” (Fashion Jangka Pendek): Fast Fashion adalah produksi pakaian untuk memenuhi tren fashion yang cepat berubah. Pakaian-pakaian ini biasanya murah dan tidak bertahan lama karena konsumen biasanya cepat menggantinya dengan mode terbaru. Fast Fashion artinya semakin banyak pakaian yang harus diproduksi setiap tahun dan pakaian-pakaian tersebut harus murah. Produksi ini sering menyebabkan kondisi kerja yang tidak baik dan dampak negatif yang lebih besar terhadap lingkungan. Pakaian awet adalah alternatif terhadap Fast Fashion. Pakaian awet lebih mahal biaya produksi dan harga belinya, tetapi karena pakaian itu dibuat untuk bertahan lebih lama, maka yang dibuat pun menjadi lebih sedikit. Kita sebagai konsumen harus menolak tren Fast Fashion dan membeli pakaian yang lebih awet dan dibuat sesuai etika. Alia juga menemukan bahwa produksi pakaian yang beretika harus mengikuti tiga prinsip penting: Prinsip Produksi Pakaian yang Beretika Memastikan bahwa pekerja mendapatkan upah layak dan kondisi kerja yang baik; Mengurangi sampah lingkungan dan polusi; Mengurangi penggunaan air.\n",
            "menurut saya, kebayakan orang memilih untuk menyumbang karena mungkin saja setelah melihat kondisi kerja di pabrik tersebut, masyarakat menaruh harapan kelak perusahaan tersebut dapat memproduksi pakaian menjadi lebih beretika,\n",
            "karena jika membeli pakaian lagi akan memenuhi pakaian lemari dan yg sudah tdk layak akan dibaung,maka kebanyakan orng memilih untuk disumbangkan kpda orng lain dan sumbangan baju tersebut layak untuk diapakai yg kurang mampu\n",
            "Mereka melihat kondisi pekerja di pabrik pakaian yang mengesankan dan kurang baik. Sehingga mereka lebih memilih untuk menyumbangkan uangnya untuk membuat produksi pakaian lebih beretika dibanding dengan membelinya yang akan malah membuat tanda setuju atau apresiasi dengan kondisi pekerja saat ini.\n",
            "9/10 orang memilih menyumbang karena kondisi pakaian yang ingin mereka pakai bukan seperti yang diinginkan mereka setelah melihat layar tersebut, bisa jadi banyaknya bahan kimia yang digunakan dalam pembuatan pakaian yang akan mengganggu konsumen dalam pemakaiannya seperti gangguan kesehatan dan pakaian yang tidak tahan lama.\n",
            "Menurut saya, kebanyakan orang memilih untuk menyumbang agar pabrik bisa dibenahi dengan menggunakan uang sumbangan mereka. Selain itu mereka ingin memperbaiki kondisi kerja pabrik pakaian yang sangatlah buruk dan sangat tidak sesuai dengan prinsip produksi pakaian yang beretika nomor 1 yaitu 'Memastikan bahwa pekerja mendapatkan upah layak dan kondisi kerja yang baik'.\n",
            "Pakaian awet adalah alternatif terhadap Fast Fashion. Pakaian awet lebih mahal biaya produksi dan harga belinya, tetapi karena pakaian itu dibuat untuk bertahan lebih lama, maka yang dibuat pun menjadi lebih sedikit. Kita sebagai konsumen harus menolak tren Fast Fashion dan membeli pakaian yang lebih awet dan dibuat sesuai etika.\n",
            "Karena orang luar sudah banyak yang lihat bagaimana cara pembuatan baju tersebut yang bisa dibilang sangat tidak efektif sehingga tidak layak untuk dipakai dan orang lain tersebut merasa kasihan dan karena itu ia tidak tega melihat mereka makanya ia menyumbangkan uangnya untuk mereka yang pantas menerimanya\n",
            "karena saat melihat tentang kondisi kerja di sebuah pabrik pakaian tersebut mungkin terdapat gambar pekerja yang sedang bekerja dengan tidak layak atau gambar pekerja yang memakai pakaian yang tidak layak untuk dipakai.Jadi konsumen memilih memyumbang baju tersebut karena merasa kasihan atau khawatir melihat kondisi kerja di pabrik pakaian .tersebut.\n",
            "Sebagai bagian dari eksperiman, sebuah mesin penjual di Berlin menawarkan kaus putih seharga 2 Euro (atau sekitar Rp30.000). Sebelum  Sebagai bagian dari eksperiman, sebuah mesin penjual di Berlin menawarkan kaus putih seharga 2 Euro (atau sekitar Rp30.000). Sebelum sebuah kaus diberikan kepada konsumen, layar menampilkan gambar yang mengejutkan tentang kondisi kerja di sebuah pabrik pakaian.\n",
            "Sebagai bagian dari eksperiman, sebuah mesin penjual di Berlin menawarkan kaus putih seharga 2 Euro (atau sekitar Rp30.000). Sebelum sebuah kaus diberikan kepada konsumen, layar menampilkan gambar yang mengejutkan tentang kondisi kerja di sebuah pabrik pakaian. Karena, pada negara-negara lain mungkin Fashion nya masih kurang beretika yang menyebabkan negara-negara yang sudah bagus memiliki Fashion, akan terganggu dan akan menyebabkan budaya-budaya luar masuk kepada negara yang sudah memiliki Fashion yang berkelas.\n",
            "Sebagai bagian dari eksperiman, sebuah mesin penjual di Berlin menawarkan kaus putih seharga 2 Euro (atau sekitar Rp30.000). Sebelum sebuah kaus diberikan kepada konsumen, layar menampilkan gambar yang mengejutkan tentang kondisi kerja di sebuah pabrik pakaian.  karena pakaian itu dibuat untuk bertahan lebih lama, maka yang dibuat pun menjadi lebih sedikit. Kita sebagai konsumen harus menolak tren Fast Fashion dan membeli pakaian yang lebih awet dan dibuat sesuai etik\n",
            "Sebagai bagian dari eksperiman, sebuah mesin penjual di Berlin menawarkan kaus putih seharga 2 Euro (atau sekitar Rp30.000). Sebelum sebuah kaus diberikan kepada konsumen, layar menampilkan gambar yang mengejutkan tentang kondisi kerja di sebuah pabrik pakaian. Setelahnya, konsumen diberi pilihan apakah akan melanjutkan pembelian atau menyumbangkan 2 Euro tersebut sebagai upaya untuk membuat produksi pakaian menjadi lebih beretika. Sembilan dari sepuluh konsumen memilih untuk menyumbang. Menurutmu, mengapa kebanyakan orang memilih untuk menyumbang? karna dari pada tidak terpakai dan menjadi sampah mendingan dikasih kepada orang yang membutuhkan dengan cara disumbangkan\n"
          ]
        }
      ]
    },
    {
      "cell_type": "markdown",
      "source": [
        "# Choose Data to be Labeled\n",
        "**Output :**\n",
        "*   idx_labeled (list)\n",
        "\n"
      ],
      "metadata": {
        "id": "YpDqVIj5xrLA"
      }
    },
    {
      "cell_type": "markdown",
      "source": [
        "## Set n Data"
      ],
      "metadata": {
        "id": "I_CxZAEi0UAj"
      }
    },
    {
      "cell_type": "code",
      "source": [
        "# Set Percentage\n",
        "percentage = 20\n",
        "\n",
        "# n labeled\n",
        "n_labeled = int(percentage/100 * len(jawaban))\n",
        "\n",
        "# Auto set to 3\n",
        "if (n_labeled < 3) :\n",
        "  n_labeled = 3\n",
        "\n",
        "# Set the amount of data for each section\n",
        "n_each = int(n_labeled / 3)\n",
        "\n",
        "# If there is excess data\n",
        "exc = n_labeled % 3\n",
        "extra_top = 0\n",
        "extra_bottom = 0\n",
        "if (exc) > 0 :\n",
        "  extra_top += 1\n",
        "  if exc == 2 :\n",
        "    extra_bottom += 1"
      ],
      "metadata": {
        "id": "e906ITy3xuS4"
      },
      "execution_count": 233,
      "outputs": []
    },
    {
      "cell_type": "markdown",
      "source": [
        "## Get Data Index"
      ],
      "metadata": {
        "id": "rALbRjSW0ZLK"
      }
    },
    {
      "cell_type": "code",
      "source": [
        "# Top\n",
        "idx_top = [idx_sorted[i] for i in range(n_each + extra_top)]\n",
        "\n",
        "# Middle\n",
        "start_idx = int((len(jawaban)/2) - (n_each/2))\n",
        "idx_middle = [idx_sorted[start_idx + i] for i in range(n_each)]\n",
        "\n",
        "# Bottom\n",
        "idx_bottom = [np.flip(idx_sorted)[i] for i in range(n_each + extra_bottom)]\n",
        "\n",
        "# Combine\n",
        "idx_labeled = idx_top + idx_middle + idx_bottom"
      ],
      "metadata": {
        "id": "dMKiE62-zCLM"
      },
      "execution_count": 235,
      "outputs": []
    },
    {
      "cell_type": "markdown",
      "source": [
        "# Define Data\n",
        "For Training & Testing"
      ],
      "metadata": {
        "id": "gTuMP3983yQE"
      }
    },
    {
      "cell_type": "code",
      "source": [
        "# Training Data\n",
        "pertanyaan_train = np.array([pertanyaan_vectors for i in range(len(idx_labeled))])\n",
        "x_train = np.array([jawaban_results[i] for i in idx_labeled])\n",
        "y_train = np.array([score[i] for i in idx_labeled])\n",
        "\n",
        "# Get Index of Testing Data\n",
        "idx_test = [i for i in idx_sorted if i not in idx_labeled]\n",
        "\n",
        "# Testing Data\n",
        "pertanyaan_test = np.array([pertanyaan_vectors for i in range(len(idx_test))])\n",
        "x_test = np.array([jawaban_results[i] for i in idx_test])\n",
        "y_test = np.array([score[i] for i in idx_test])"
      ],
      "metadata": {
        "id": "B7W_bj1o3zxz"
      },
      "execution_count": 236,
      "outputs": []
    },
    {
      "cell_type": "code",
      "source": [
        "print(\"Shape of Train Data :\")\n",
        "print(pertanyaan_train.shape)\n",
        "print(x_train.shape)\n",
        "print(y_train.shape)\n",
        "\n",
        "print(\"\\nShape of Test Data :\")\n",
        "print(pertanyaan_test.shape)\n",
        "print(x_test.shape)\n",
        "print(y_test.shape)"
      ],
      "metadata": {
        "colab": {
          "base_uri": "https://localhost:8080/"
        },
        "id": "jCS_IDopLHIP",
        "outputId": "ad5af1e2-94bc-4d1c-ad25-cb6e6fe68bc7"
      },
      "execution_count": 242,
      "outputs": [
        {
          "output_type": "stream",
          "name": "stdout",
          "text": [
            "Shape of Train Data :\n",
            "(61, 128, 768)\n",
            "(61, 128, 768)\n",
            "(61,)\n",
            "\n",
            "Shape of Test Data :\n",
            "(244, 128, 768)\n",
            "(244, 128, 768)\n",
            "(244,)\n"
          ]
        }
      ]
    },
    {
      "cell_type": "markdown",
      "source": [
        "# Model Building"
      ],
      "metadata": {
        "id": "mToCqQWctt3P"
      }
    },
    {
      "cell_type": "markdown",
      "source": [
        "## Define Cosine Similarity Layer"
      ],
      "metadata": {
        "id": "pcBHaFNMEZyA"
      }
    },
    {
      "cell_type": "code",
      "source": [
        "def cosine_distance(vests):\n",
        "    x, y = vests\n",
        "    x = K.l2_normalize(x, axis=-1)\n",
        "    y = K.l2_normalize(y, axis=-1)\n",
        "    return -K.mean(x * y, axis=-1, keepdims=True)\n",
        "\n",
        "def cos_dist_output_shape(shapes):\n",
        "    shape1, shape2 = shapes\n",
        "    return (shape1[0], 1)"
      ],
      "metadata": {
        "id": "mbqpVdW5EZHO"
      },
      "execution_count": 243,
      "outputs": []
    },
    {
      "cell_type": "markdown",
      "source": [
        "# CNN-LSTM"
      ],
      "metadata": {
        "id": "J3umH3gje4ZK"
      }
    },
    {
      "cell_type": "markdown",
      "source": [
        "## Architecture Building"
      ],
      "metadata": {
        "id": "JpWLp1PEtvfm"
      }
    },
    {
      "cell_type": "code",
      "source": [
        "def getCNNLSTMModel(\n",
        "    filters = 64, \n",
        "    kernel_size = 3, \n",
        "    lstm_units = 128, \n",
        "    lstm_dropout = 0.4, \n",
        "    lstm_recurrent_dropout = 0.4, \n",
        "    dropout = 0.4) :\n",
        "  \n",
        "  left_input = Input(pertanyaan_train[0].shape)\n",
        "  right_input = Input(x_train[0].shape)\n",
        "  \n",
        "  conv_layer = Conv1D(filters = filters, kernel_size = kernel_size, padding='same', strides = 1)\n",
        "  lstm_layer = LSTM(units = lstm_units, dropout = lstm_dropout, recurrent_dropout = lstm_recurrent_dropout, return_sequences=False)\n",
        "  dropout_layer = Dropout(dropout)\n",
        "\n",
        "  question_encoding = dropout_layer(lstm_layer(conv_layer(left_input)))\n",
        "  answer_encoding = dropout_layer(lstm_layer(conv_layer(right_input)))\n",
        "\n",
        "  # output_model = Lambda(cosine_distance, output_shape = cos_dist_output_shape)([question_encoding, answer_encoding])\n",
        "  output_model = concatenate([question_encoding, answer_encoding])\n",
        "  output_model = Dense(1)(output_model)\n",
        "\n",
        "  model = Model(inputs = [left_input, right_input], outputs = [output_model])\n",
        "\n",
        "  model.compile(loss = 'mse',\n",
        "                optimizer = 'adam',\n",
        "                metrics = ['mae', 'mse'])\n",
        "  model.summary()\n",
        "\n",
        "  return model"
      ],
      "metadata": {
        "id": "vEQlIZ25t6_9"
      },
      "execution_count": 244,
      "outputs": []
    },
    {
      "cell_type": "code",
      "source": [
        "cnn_lstm_model = getCNNLSTMModel()\n",
        "tf.keras.utils.plot_model(cnn_lstm_model, to_file='cnn_lstm_model.png')"
      ],
      "metadata": {
        "id": "w-GD06zvt7WG",
        "colab": {
          "base_uri": "https://localhost:8080/",
          "height": 1000
        },
        "outputId": "401cd92d-20bb-43fe-eb03-aa6ef0767c20"
      },
      "execution_count": 245,
      "outputs": [
        {
          "output_type": "stream",
          "name": "stdout",
          "text": [
            "Model: \"model_3\"\n",
            "__________________________________________________________________________________________________\n",
            " Layer (type)                   Output Shape         Param #     Connected to                     \n",
            "==================================================================================================\n",
            " input_7 (InputLayer)           [(None, 128, 768)]   0           []                               \n",
            "                                                                                                  \n",
            " input_8 (InputLayer)           [(None, 128, 768)]   0           []                               \n",
            "                                                                                                  \n",
            " conv1d_3 (Conv1D)              (None, 128, 64)      147520      ['input_7[0][0]',                \n",
            "                                                                  'input_8[0][0]']                \n",
            "                                                                                                  \n",
            " lstm_3 (LSTM)                  (None, 128)          98816       ['conv1d_3[0][0]',               \n",
            "                                                                  'conv1d_3[1][0]']               \n",
            "                                                                                                  \n",
            " dropout_3 (Dropout)            (None, 128)          0           ['lstm_3[0][0]',                 \n",
            "                                                                  'lstm_3[1][0]']                 \n",
            "                                                                                                  \n",
            " concatenate_2 (Concatenate)    (None, 256)          0           ['dropout_3[0][0]',              \n",
            "                                                                  'dropout_3[1][0]']              \n",
            "                                                                                                  \n",
            " dense_2 (Dense)                (None, 1)            257         ['concatenate_2[0][0]']          \n",
            "                                                                                                  \n",
            "==================================================================================================\n",
            "Total params: 246,593\n",
            "Trainable params: 246,593\n",
            "Non-trainable params: 0\n",
            "__________________________________________________________________________________________________\n"
          ]
        },
        {
          "output_type": "execute_result",
          "data": {
            "text/plain": [
              "<IPython.core.display.Image object>"
            ],
            "image/png": "[encoded data removed]"
          },
          "metadata": {},
          "execution_count": 245
        }
      ]
    },
    {
      "cell_type": "markdown",
      "source": [
        "## Model Training"
      ],
      "metadata": {
        "id": "wSq5kEEctx1N"
      }
    },
    {
      "cell_type": "code",
      "source": [
        "history = cnn_lstm_model.fit([pertanyaan_train, x_train],\n",
        "                    y_train,\n",
        "                    validation_data = [[pertanyaan_test, x_test], y_test],\n",
        "                    epochs = 100)"
      ],
      "metadata": {
        "colab": {
          "base_uri": "https://localhost:8080/"
        },
        "id": "n0gs9FOW_iog",
        "outputId": "c505394b-64a6-4500-893c-fb378fcfde49"
      },
      "execution_count": 246,
      "outputs": [
        {
          "output_type": "stream",
          "name": "stdout",
          "text": [
            "Epoch 1/100\n",
            "2/2 [==============================] - 13s 4s/step - loss: 1.3672 - mae: 0.9561 - mse: 1.3672 - val_loss: 0.4475 - val_mae: 0.4775 - val_mse: 0.4475\n",
            "Epoch 2/100\n",
            "2/2 [==============================] - 2s 2s/step - loss: 0.5252 - mae: 0.6039 - mse: 0.5252 - val_loss: 0.7692 - val_mae: 0.7248 - val_mse: 0.7692\n",
            "Epoch 3/100\n",
            "2/2 [==============================] - 2s 2s/step - loss: 0.6006 - mae: 0.6292 - mse: 0.6006 - val_loss: 0.2518 - val_mae: 0.4607 - val_mse: 0.2518\n",
            "Epoch 4/100\n",
            "2/2 [==============================] - 2s 2s/step - loss: 0.3147 - mae: 0.4649 - mse: 0.3147 - val_loss: 0.5698 - val_mae: 0.5810 - val_mse: 0.5698\n",
            "Epoch 5/100\n",
            "2/2 [==============================] - 2s 2s/step - loss: 0.4800 - mae: 0.5790 - mse: 0.4800 - val_loss: 0.2468 - val_mae: 0.4525 - val_mse: 0.2468\n",
            "Epoch 6/100\n",
            "2/2 [==============================] - 2s 2s/step - loss: 0.2394 - mae: 0.4200 - mse: 0.2394 - val_loss: 0.3678 - val_mae: 0.5158 - val_mse: 0.3678\n",
            "Epoch 7/100\n",
            "2/2 [==============================] - 2s 2s/step - loss: 0.2831 - mae: 0.4144 - mse: 0.2831 - val_loss: 0.3320 - val_mae: 0.5024 - val_mse: 0.3320\n",
            "Epoch 8/100\n",
            "2/2 [==============================] - 2s 2s/step - loss: 0.2851 - mae: 0.4189 - mse: 0.2851 - val_loss: 0.2405 - val_mae: 0.4386 - val_mse: 0.2405\n",
            "Epoch 9/100\n",
            "2/2 [==============================] - 2s 2s/step - loss: 0.2331 - mae: 0.3940 - mse: 0.2331 - val_loss: 0.3750 - val_mae: 0.4437 - val_mse: 0.3750\n",
            "Epoch 10/100\n",
            "2/2 [==============================] - 2s 2s/step - loss: 0.3258 - mae: 0.4645 - mse: 0.3258 - val_loss: 0.2536 - val_mae: 0.4222 - val_mse: 0.2536\n",
            "Epoch 11/100\n",
            "2/2 [==============================] - 2s 2s/step - loss: 0.2192 - mae: 0.4019 - mse: 0.2192 - val_loss: 0.2268 - val_mae: 0.4505 - val_mse: 0.2268\n",
            "Epoch 12/100\n",
            "2/2 [==============================] - 2s 2s/step - loss: 0.2507 - mae: 0.3813 - mse: 0.2507 - val_loss: 0.2441 - val_mae: 0.4517 - val_mse: 0.2441\n",
            "Epoch 13/100\n",
            "2/2 [==============================] - 2s 2s/step - loss: 0.1737 - mae: 0.3292 - mse: 0.1737 - val_loss: 0.2091 - val_mae: 0.4184 - val_mse: 0.2091\n",
            "Epoch 14/100\n",
            "2/2 [==============================] - 2s 2s/step - loss: 0.1818 - mae: 0.3405 - mse: 0.1818 - val_loss: 0.3123 - val_mae: 0.4181 - val_mse: 0.3123\n",
            "Epoch 15/100\n",
            "2/2 [==============================] - 2s 2s/step - loss: 0.1742 - mae: 0.3366 - mse: 0.1742 - val_loss: 0.3495 - val_mae: 0.4401 - val_mse: 0.3495\n",
            "Epoch 16/100\n",
            "2/2 [==============================] - 2s 2s/step - loss: 0.2258 - mae: 0.3915 - mse: 0.2258 - val_loss: 0.2420 - val_mae: 0.3944 - val_mse: 0.2420\n",
            "Epoch 17/100\n",
            "2/2 [==============================] - 2s 2s/step - loss: 0.1630 - mae: 0.3390 - mse: 0.1630 - val_loss: 0.2216 - val_mae: 0.4189 - val_mse: 0.2216\n",
            "Epoch 18/100\n",
            "2/2 [==============================] - 2s 2s/step - loss: 0.1382 - mae: 0.3069 - mse: 0.1382 - val_loss: 0.2320 - val_mae: 0.4253 - val_mse: 0.2320\n",
            "Epoch 19/100\n",
            "2/2 [==============================] - 2s 2s/step - loss: 0.1485 - mae: 0.3115 - mse: 0.1485 - val_loss: 0.2216 - val_mae: 0.4001 - val_mse: 0.2216\n",
            "Epoch 20/100\n",
            "2/2 [==============================] - 2s 2s/step - loss: 0.1077 - mae: 0.2517 - mse: 0.1077 - val_loss: 0.2608 - val_mae: 0.4043 - val_mse: 0.2608\n",
            "Epoch 21/100\n",
            "2/2 [==============================] - 3s 3s/step - loss: 0.1300 - mae: 0.2870 - mse: 0.1300 - val_loss: 0.2817 - val_mae: 0.4155 - val_mse: 0.2817\n",
            "Epoch 22/100\n",
            "2/2 [==============================] - 2s 2s/step - loss: 0.1372 - mae: 0.2891 - mse: 0.1372 - val_loss: 0.2457 - val_mae: 0.4045 - val_mse: 0.2457\n",
            "Epoch 23/100\n",
            "2/2 [==============================] - 2s 2s/step - loss: 0.0936 - mae: 0.2405 - mse: 0.0936 - val_loss: 0.2382 - val_mae: 0.4110 - val_mse: 0.2382\n",
            "Epoch 24/100\n",
            "2/2 [==============================] - 2s 2s/step - loss: 0.1181 - mae: 0.2633 - mse: 0.1181 - val_loss: 0.2400 - val_mae: 0.4097 - val_mse: 0.2400\n",
            "Epoch 25/100\n",
            "2/2 [==============================] - 2s 2s/step - loss: 0.1001 - mae: 0.2543 - mse: 0.1001 - val_loss: 0.2635 - val_mae: 0.4101 - val_mse: 0.2635\n",
            "Epoch 26/100\n",
            "2/2 [==============================] - 2s 2s/step - loss: 0.1012 - mae: 0.2440 - mse: 0.1012 - val_loss: 0.3129 - val_mae: 0.4361 - val_mse: 0.3129\n",
            "Epoch 27/100\n",
            "2/2 [==============================] - 2s 2s/step - loss: 0.0784 - mae: 0.2254 - mse: 0.0784 - val_loss: 0.2925 - val_mae: 0.4243 - val_mse: 0.2925\n",
            "Epoch 28/100\n",
            "2/2 [==============================] - 2s 2s/step - loss: 0.0867 - mae: 0.2389 - mse: 0.0867 - val_loss: 0.2429 - val_mae: 0.4111 - val_mse: 0.2429\n",
            "Epoch 29/100\n",
            "2/2 [==============================] - 2s 2s/step - loss: 0.0505 - mae: 0.1747 - mse: 0.0505 - val_loss: 0.2487 - val_mae: 0.4253 - val_mse: 0.2487\n",
            "Epoch 30/100\n",
            "2/2 [==============================] - 2s 2s/step - loss: 0.0950 - mae: 0.2618 - mse: 0.0950 - val_loss: 0.2436 - val_mae: 0.4103 - val_mse: 0.2436\n",
            "Epoch 31/100\n",
            "2/2 [==============================] - 2s 2s/step - loss: 0.0693 - mae: 0.2043 - mse: 0.0693 - val_loss: 0.2699 - val_mae: 0.4158 - val_mse: 0.2699\n",
            "Epoch 32/100\n",
            "2/2 [==============================] - 2s 2s/step - loss: 0.0458 - mae: 0.1649 - mse: 0.0458 - val_loss: 0.2768 - val_mae: 0.4187 - val_mse: 0.2768\n",
            "Epoch 33/100\n",
            "2/2 [==============================] - 2s 2s/step - loss: 0.0569 - mae: 0.1902 - mse: 0.0569 - val_loss: 0.2702 - val_mae: 0.4167 - val_mse: 0.2702\n",
            "Epoch 34/100\n",
            "2/2 [==============================] - 2s 2s/step - loss: 0.0648 - mae: 0.2082 - mse: 0.0648 - val_loss: 0.2564 - val_mae: 0.4132 - val_mse: 0.2564\n",
            "Epoch 35/100\n",
            "2/2 [==============================] - 2s 2s/step - loss: 0.0480 - mae: 0.1782 - mse: 0.0480 - val_loss: 0.2463 - val_mae: 0.4150 - val_mse: 0.2463\n",
            "Epoch 36/100\n",
            "2/2 [==============================] - 2s 2s/step - loss: 0.0616 - mae: 0.1958 - mse: 0.0616 - val_loss: 0.2482 - val_mae: 0.4143 - val_mse: 0.2482\n",
            "Epoch 37/100\n",
            "2/2 [==============================] - 2s 2s/step - loss: 0.0410 - mae: 0.1589 - mse: 0.0410 - val_loss: 0.2715 - val_mae: 0.4185 - val_mse: 0.2715\n",
            "Epoch 38/100\n",
            "2/2 [==============================] - 3s 3s/step - loss: 0.0438 - mae: 0.1745 - mse: 0.0438 - val_loss: 0.3076 - val_mae: 0.4372 - val_mse: 0.3076\n",
            "Epoch 39/100\n",
            "2/2 [==============================] - 4s 2s/step - loss: 0.0668 - mae: 0.2134 - mse: 0.0668 - val_loss: 0.2767 - val_mae: 0.4205 - val_mse: 0.2767\n",
            "Epoch 40/100\n",
            "2/2 [==============================] - 2s 2s/step - loss: 0.0523 - mae: 0.1872 - mse: 0.0523 - val_loss: 0.2567 - val_mae: 0.4149 - val_mse: 0.2567\n",
            "Epoch 41/100\n",
            "2/2 [==============================] - 2s 2s/step - loss: 0.0635 - mae: 0.2120 - mse: 0.0635 - val_loss: 0.2521 - val_mae: 0.4167 - val_mse: 0.2521\n",
            "Epoch 42/100\n",
            "2/2 [==============================] - 2s 2s/step - loss: 0.0527 - mae: 0.1770 - mse: 0.0527 - val_loss: 0.2593 - val_mae: 0.4136 - val_mse: 0.2593\n",
            "Epoch 43/100\n",
            "2/2 [==============================] - 2s 2s/step - loss: 0.0541 - mae: 0.1897 - mse: 0.0541 - val_loss: 0.2720 - val_mae: 0.4169 - val_mse: 0.2720\n",
            "Epoch 44/100\n",
            "2/2 [==============================] - 2s 2s/step - loss: 0.0413 - mae: 0.1697 - mse: 0.0413 - val_loss: 0.2773 - val_mae: 0.4196 - val_mse: 0.2773\n",
            "Epoch 45/100\n",
            "2/2 [==============================] - 2s 2s/step - loss: 0.0428 - mae: 0.1672 - mse: 0.0428 - val_loss: 0.2742 - val_mae: 0.4190 - val_mse: 0.2742\n",
            "Epoch 46/100\n",
            "2/2 [==============================] - 2s 2s/step - loss: 0.0451 - mae: 0.1744 - mse: 0.0451 - val_loss: 0.2674 - val_mae: 0.4187 - val_mse: 0.2674\n",
            "Epoch 47/100\n",
            "2/2 [==============================] - 2s 2s/step - loss: 0.0442 - mae: 0.1632 - mse: 0.0442 - val_loss: 0.2716 - val_mae: 0.4204 - val_mse: 0.2716\n",
            "Epoch 48/100\n",
            "2/2 [==============================] - 2s 2s/step - loss: 0.0455 - mae: 0.1734 - mse: 0.0455 - val_loss: 0.3022 - val_mae: 0.4367 - val_mse: 0.3022\n",
            "Epoch 49/100\n",
            "2/2 [==============================] - 2s 2s/step - loss: 0.0375 - mae: 0.1630 - mse: 0.0375 - val_loss: 0.3160 - val_mae: 0.4446 - val_mse: 0.3160\n",
            "Epoch 50/100\n",
            "2/2 [==============================] - 2s 2s/step - loss: 0.0488 - mae: 0.1811 - mse: 0.0488 - val_loss: 0.2772 - val_mae: 0.4244 - val_mse: 0.2772\n",
            "Epoch 51/100\n",
            "2/2 [==============================] - 2s 2s/step - loss: 0.0574 - mae: 0.1793 - mse: 0.0574 - val_loss: 0.2588 - val_mae: 0.4233 - val_mse: 0.2588\n",
            "Epoch 52/100\n",
            "2/2 [==============================] - 2s 2s/step - loss: 0.0528 - mae: 0.1926 - mse: 0.0528 - val_loss: 0.2581 - val_mae: 0.4213 - val_mse: 0.2581\n",
            "Epoch 53/100\n",
            "2/2 [==============================] - 2s 2s/step - loss: 0.0473 - mae: 0.1781 - mse: 0.0473 - val_loss: 0.2713 - val_mae: 0.4187 - val_mse: 0.2713\n",
            "Epoch 54/100\n",
            "2/2 [==============================] - 2s 2s/step - loss: 0.0462 - mae: 0.1806 - mse: 0.0462 - val_loss: 0.2931 - val_mae: 0.4259 - val_mse: 0.2931\n",
            "Epoch 55/100\n",
            "2/2 [==============================] - 2s 2s/step - loss: 0.0407 - mae: 0.1620 - mse: 0.0407 - val_loss: 0.2699 - val_mae: 0.4131 - val_mse: 0.2699\n",
            "Epoch 56/100\n",
            "2/2 [==============================] - 2s 2s/step - loss: 0.0352 - mae: 0.1619 - mse: 0.0352 - val_loss: 0.2594 - val_mae: 0.4095 - val_mse: 0.2594\n",
            "Epoch 57/100\n",
            "2/2 [==============================] - 2s 2s/step - loss: 0.0401 - mae: 0.1539 - mse: 0.0401 - val_loss: 0.2650 - val_mae: 0.4110 - val_mse: 0.2650\n",
            "Epoch 58/100\n",
            "2/2 [==============================] - 2s 2s/step - loss: 0.0364 - mae: 0.1512 - mse: 0.0364 - val_loss: 0.2834 - val_mae: 0.4200 - val_mse: 0.2834\n",
            "Epoch 59/100\n",
            "2/2 [==============================] - 2s 2s/step - loss: 0.0294 - mae: 0.1367 - mse: 0.0294 - val_loss: 0.3003 - val_mae: 0.4295 - val_mse: 0.3003\n",
            "Epoch 60/100\n",
            "2/2 [==============================] - 2s 2s/step - loss: 0.0367 - mae: 0.1492 - mse: 0.0367 - val_loss: 0.2814 - val_mae: 0.4200 - val_mse: 0.2814\n",
            "Epoch 61/100\n",
            "2/2 [==============================] - 2s 2s/step - loss: 0.0394 - mae: 0.1681 - mse: 0.0394 - val_loss: 0.2721 - val_mae: 0.4191 - val_mse: 0.2721\n",
            "Epoch 62/100\n",
            "2/2 [==============================] - 2s 2s/step - loss: 0.0328 - mae: 0.1392 - mse: 0.0328 - val_loss: 0.2790 - val_mae: 0.4215 - val_mse: 0.2790\n",
            "Epoch 63/100\n",
            "2/2 [==============================] - 2s 2s/step - loss: 0.0329 - mae: 0.1454 - mse: 0.0329 - val_loss: 0.2747 - val_mae: 0.4210 - val_mse: 0.2747\n",
            "Epoch 64/100\n",
            "2/2 [==============================] - 2s 2s/step - loss: 0.0258 - mae: 0.1259 - mse: 0.0258 - val_loss: 0.2686 - val_mae: 0.4197 - val_mse: 0.2686\n",
            "Epoch 65/100\n",
            "2/2 [==============================] - 2s 2s/step - loss: 0.0324 - mae: 0.1464 - mse: 0.0324 - val_loss: 0.2772 - val_mae: 0.4215 - val_mse: 0.2772\n",
            "Epoch 66/100\n",
            "2/2 [==============================] - 2s 2s/step - loss: 0.0291 - mae: 0.1384 - mse: 0.0291 - val_loss: 0.2814 - val_mae: 0.4222 - val_mse: 0.2814\n",
            "Epoch 67/100\n",
            "2/2 [==============================] - 2s 2s/step - loss: 0.0367 - mae: 0.1450 - mse: 0.0367 - val_loss: 0.2767 - val_mae: 0.4196 - val_mse: 0.2767\n",
            "Epoch 68/100\n",
            "2/2 [==============================] - 2s 2s/step - loss: 0.0238 - mae: 0.1192 - mse: 0.0238 - val_loss: 0.2677 - val_mae: 0.4161 - val_mse: 0.2677\n",
            "Epoch 69/100\n",
            "2/2 [==============================] - 2s 2s/step - loss: 0.0321 - mae: 0.1439 - mse: 0.0321 - val_loss: 0.2689 - val_mae: 0.4141 - val_mse: 0.2689\n",
            "Epoch 70/100\n",
            "2/2 [==============================] - 2s 2s/step - loss: 0.0235 - mae: 0.1274 - mse: 0.0235 - val_loss: 0.2736 - val_mae: 0.4147 - val_mse: 0.2736\n",
            "Epoch 71/100\n",
            "2/2 [==============================] - 2s 2s/step - loss: 0.0279 - mae: 0.1367 - mse: 0.0279 - val_loss: 0.2802 - val_mae: 0.4165 - val_mse: 0.2802\n",
            "Epoch 72/100\n",
            "2/2 [==============================] - 2s 2s/step - loss: 0.0151 - mae: 0.0919 - mse: 0.0151 - val_loss: 0.2810 - val_mae: 0.4164 - val_mse: 0.2810\n",
            "Epoch 73/100\n",
            "2/2 [==============================] - 2s 2s/step - loss: 0.0296 - mae: 0.1376 - mse: 0.0296 - val_loss: 0.2722 - val_mae: 0.4119 - val_mse: 0.2722\n",
            "Epoch 74/100\n",
            "2/2 [==============================] - 2s 2s/step - loss: 0.0303 - mae: 0.1406 - mse: 0.0303 - val_loss: 0.2710 - val_mae: 0.4109 - val_mse: 0.2710\n",
            "Epoch 75/100\n",
            "2/2 [==============================] - 2s 2s/step - loss: 0.0312 - mae: 0.1483 - mse: 0.0312 - val_loss: 0.2886 - val_mae: 0.4204 - val_mse: 0.2886\n",
            "Epoch 76/100\n",
            "2/2 [==============================] - 2s 2s/step - loss: 0.0217 - mae: 0.1204 - mse: 0.0217 - val_loss: 0.2984 - val_mae: 0.4274 - val_mse: 0.2984\n",
            "Epoch 77/100\n",
            "2/2 [==============================] - 2s 2s/step - loss: 0.0258 - mae: 0.1302 - mse: 0.0258 - val_loss: 0.2790 - val_mae: 0.4192 - val_mse: 0.2790\n",
            "Epoch 78/100\n",
            "2/2 [==============================] - 2s 2s/step - loss: 0.0273 - mae: 0.1285 - mse: 0.0273 - val_loss: 0.2757 - val_mae: 0.4204 - val_mse: 0.2757\n",
            "Epoch 79/100\n",
            "2/2 [==============================] - 2s 2s/step - loss: 0.0302 - mae: 0.1366 - mse: 0.0302 - val_loss: 0.2886 - val_mae: 0.4254 - val_mse: 0.2886\n",
            "Epoch 80/100\n",
            "2/2 [==============================] - 2s 2s/step - loss: 0.0276 - mae: 0.1361 - mse: 0.0276 - val_loss: 0.3180 - val_mae: 0.4394 - val_mse: 0.3180\n",
            "Epoch 81/100\n",
            "2/2 [==============================] - 2s 2s/step - loss: 0.0292 - mae: 0.1413 - mse: 0.0292 - val_loss: 0.3028 - val_mae: 0.4303 - val_mse: 0.3028\n",
            "Epoch 82/100\n",
            "2/2 [==============================] - 2s 2s/step - loss: 0.0265 - mae: 0.1366 - mse: 0.0265 - val_loss: 0.2747 - val_mae: 0.4190 - val_mse: 0.2747\n",
            "Epoch 83/100\n",
            "2/2 [==============================] - 2s 2s/step - loss: 0.0264 - mae: 0.1351 - mse: 0.0264 - val_loss: 0.2769 - val_mae: 0.4168 - val_mse: 0.2769\n",
            "Epoch 84/100\n",
            "2/2 [==============================] - 2s 2s/step - loss: 0.0267 - mae: 0.1319 - mse: 0.0267 - val_loss: 0.3033 - val_mae: 0.4268 - val_mse: 0.3033\n",
            "Epoch 85/100\n",
            "2/2 [==============================] - 2s 2s/step - loss: 0.0244 - mae: 0.1269 - mse: 0.0244 - val_loss: 0.3106 - val_mae: 0.4312 - val_mse: 0.3106\n",
            "Epoch 86/100\n",
            "2/2 [==============================] - 2s 2s/step - loss: 0.0240 - mae: 0.1276 - mse: 0.0240 - val_loss: 0.2823 - val_mae: 0.4163 - val_mse: 0.2823\n",
            "Epoch 87/100\n",
            "2/2 [==============================] - 2s 2s/step - loss: 0.0202 - mae: 0.1195 - mse: 0.0202 - val_loss: 0.2655 - val_mae: 0.4133 - val_mse: 0.2655\n",
            "Epoch 88/100\n",
            "2/2 [==============================] - 2s 2s/step - loss: 0.0232 - mae: 0.1183 - mse: 0.0232 - val_loss: 0.2655 - val_mae: 0.4128 - val_mse: 0.2655\n",
            "Epoch 89/100\n",
            "2/2 [==============================] - 2s 2s/step - loss: 0.0203 - mae: 0.1112 - mse: 0.0203 - val_loss: 0.2754 - val_mae: 0.4143 - val_mse: 0.2754\n",
            "Epoch 90/100\n",
            "2/2 [==============================] - 2s 2s/step - loss: 0.0231 - mae: 0.1217 - mse: 0.0231 - val_loss: 0.2818 - val_mae: 0.4171 - val_mse: 0.2818\n",
            "Epoch 91/100\n",
            "2/2 [==============================] - 2s 2s/step - loss: 0.0267 - mae: 0.1292 - mse: 0.0267 - val_loss: 0.2860 - val_mae: 0.4201 - val_mse: 0.2860\n",
            "Epoch 92/100\n",
            "2/2 [==============================] - 2s 2s/step - loss: 0.0155 - mae: 0.0965 - mse: 0.0155 - val_loss: 0.2753 - val_mae: 0.4154 - val_mse: 0.2753\n",
            "Epoch 93/100\n",
            "2/2 [==============================] - 2s 2s/step - loss: 0.0201 - mae: 0.1145 - mse: 0.0201 - val_loss: 0.2626 - val_mae: 0.4159 - val_mse: 0.2626\n",
            "Epoch 94/100\n",
            "2/2 [==============================] - 2s 2s/step - loss: 0.0271 - mae: 0.1319 - mse: 0.0271 - val_loss: 0.2637 - val_mae: 0.4129 - val_mse: 0.2637\n",
            "Epoch 95/100\n",
            "2/2 [==============================] - 2s 2s/step - loss: 0.0210 - mae: 0.1174 - mse: 0.0210 - val_loss: 0.2889 - val_mae: 0.4211 - val_mse: 0.2889\n",
            "Epoch 96/100\n",
            "2/2 [==============================] - 2s 2s/step - loss: 0.0213 - mae: 0.1177 - mse: 0.0213 - val_loss: 0.3037 - val_mae: 0.4284 - val_mse: 0.3037\n",
            "Epoch 97/100\n",
            "2/2 [==============================] - 2s 2s/step - loss: 0.0291 - mae: 0.1380 - mse: 0.0291 - val_loss: 0.2911 - val_mae: 0.4216 - val_mse: 0.2911\n",
            "Epoch 98/100\n",
            "2/2 [==============================] - 2s 2s/step - loss: 0.0147 - mae: 0.0975 - mse: 0.0147 - val_loss: 0.2811 - val_mae: 0.4180 - val_mse: 0.2811\n",
            "Epoch 99/100\n",
            "2/2 [==============================] - 2s 2s/step - loss: 0.0182 - mae: 0.1076 - mse: 0.0182 - val_loss: 0.2866 - val_mae: 0.4206 - val_mse: 0.2866\n",
            "Epoch 100/100\n",
            "2/2 [==============================] - 2s 2s/step - loss: 0.0253 - mae: 0.1203 - mse: 0.0253 - val_loss: 0.2858 - val_mae: 0.4213 - val_mse: 0.2858\n"
          ]
        }
      ]
    },
    {
      "cell_type": "markdown",
      "source": [
        "## Bayesian Optimization"
      ],
      "metadata": {
        "id": "KgS3CBrksRhg"
      }
    },
    {
      "cell_type": "code",
      "source": [
        "# Set Hyperparameters\n",
        "filters = [64, 128, 256]\n",
        "kernel_size = [3, 5, 10]\n",
        "lstm_units = [64, 128, 256]\n",
        "lstm_dropout = [0.2, 0.3, 0.4, 0.5]\n",
        "lstm_recurrent_dropout = [0.2, 0.3, 0.4, 0.5]\n",
        "dropout = [0.2, 0.3, 0.4, 0.5]\n",
        "epochs = [25, 50, 75, 100]\n",
        "\n",
        "# Train The Model\n",
        "cnn_lstm_model = getCNNLSTMModel(\n",
        "    filters = 128, \n",
        "    kernel_size = 3, \n",
        "    lstm_units = 128, \n",
        "    lstm_dropout = 0.4, \n",
        "    lstm_recurrent_dropout = 0.4, \n",
        "    dropout = 0.4)\n",
        "history = cnn_lstm_model.fit([pertanyaan_train, x_train],\n",
        "                    y_train,\n",
        "                    validation_data = [[pertanyaan_test, x_test], y_test],\n",
        "                    epochs = epochs)"
      ],
      "metadata": {
        "colab": {
          "base_uri": "https://localhost:8080/"
        },
        "id": "u8kZ7TznfMbZ",
        "outputId": "63c3ac2c-e617-40c0-9530-3d111cee2543"
      },
      "execution_count": 302,
      "outputs": [
        {
          "output_type": "stream",
          "name": "stdout",
          "text": [
            "Model: \"model_5\"\n",
            "__________________________________________________________________________________________________\n",
            " Layer (type)                   Output Shape         Param #     Connected to                     \n",
            "==================================================================================================\n",
            " input_11 (InputLayer)          [(None, 128, 768)]   0           []                               \n",
            "                                                                                                  \n",
            " input_12 (InputLayer)          [(None, 128, 768)]   0           []                               \n",
            "                                                                                                  \n",
            " conv1d_5 (Conv1D)              (None, 128, 128)     491648      ['input_11[0][0]',               \n",
            "                                                                  'input_12[0][0]']               \n",
            "                                                                                                  \n",
            " lstm_5 (LSTM)                  (None, 128)          131584      ['conv1d_5[0][0]',               \n",
            "                                                                  'conv1d_5[1][0]']               \n",
            "                                                                                                  \n",
            " dropout_5 (Dropout)            (None, 128)          0           ['lstm_5[0][0]',                 \n",
            "                                                                  'lstm_5[1][0]']                 \n",
            "                                                                                                  \n",
            " concatenate_4 (Concatenate)    (None, 256)          0           ['dropout_5[0][0]',              \n",
            "                                                                  'dropout_5[1][0]']              \n",
            "                                                                                                  \n",
            " dense_4 (Dense)                (None, 1)            257         ['concatenate_4[0][0]']          \n",
            "                                                                                                  \n",
            "==================================================================================================\n",
            "Total params: 623,489\n",
            "Trainable params: 623,489\n",
            "Non-trainable params: 0\n",
            "__________________________________________________________________________________________________\n"
          ]
        }
      ]
    },
    {
      "cell_type": "markdown",
      "source": [
        "## Result Visualization"
      ],
      "metadata": {
        "id": "3TDuPdW4t1Ik"
      }
    },
    {
      "cell_type": "markdown",
      "source": [
        "### Training"
      ],
      "metadata": {
        "id": "yjWeEQy9DVF-"
      }
    },
    {
      "cell_type": "code",
      "source": [
        "plt.figure(figsize=(12, 5))\n",
        "plt.plot(history.history['loss'])\n",
        "plt.plot(history.history['mae'])\n",
        "plt.legend(['loss (mse)', 'mae'])\n",
        "plt.title('Training loss (MSE) & MAE')\n",
        "plt.xlabel('Epochs')\n",
        "plt.ylabel('Loss')"
      ],
      "metadata": {
        "id": "Ofbn0ujbt781",
        "colab": {
          "base_uri": "https://localhost:8080/",
          "height": 367
        },
        "outputId": "8a0fd01a-b5c8-4c2a-e8f6-e8e46f5edfc8"
      },
      "execution_count": 247,
      "outputs": [
        {
          "output_type": "execute_result",
          "data": {
            "text/plain": [
              "Text(0, 0.5, 'Loss')"
            ]
          },
          "metadata": {},
          "execution_count": 247
        },
        {
          "output_type": "display_data",
          "data": {
            "text/plain": [
              "<Figure size 864x360 with 1 Axes>"
            ],
            "image/png": "[encoded data removed]"
          },
          "metadata": {
            "needs_background": "light"
          }
        }
      ]
    },
    {
      "cell_type": "markdown",
      "source": [
        "### Testing"
      ],
      "metadata": {
        "id": "PylEO44uDXO-"
      }
    },
    {
      "cell_type": "code",
      "source": [
        "plt.figure(figsize=(12, 5))\n",
        "plt.plot(history.history['val_loss'])\n",
        "plt.plot(history.history['val_mae'])\n",
        "plt.legend(['val_loss (mse)', 'val_mae'])\n",
        "plt.title('Validation loss (MSE) & MAE')\n",
        "plt.xlabel('Epochs')\n",
        "plt.ylabel('Loss')"
      ],
      "metadata": {
        "colab": {
          "base_uri": "https://localhost:8080/",
          "height": 367
        },
        "id": "UXybDdb0Cdj_",
        "outputId": "3710cb17-2e37-4ba2-cfcc-6ab40891fc33"
      },
      "execution_count": 248,
      "outputs": [
        {
          "output_type": "execute_result",
          "data": {
            "text/plain": [
              "Text(0, 0.5, 'Loss')"
            ]
          },
          "metadata": {},
          "execution_count": 248
        },
        {
          "output_type": "display_data",
          "data": {
            "text/plain": [
              "<Figure size 864x360 with 1 Axes>"
            ],
            "image/png": "[encoded data removed]"
          },
          "metadata": {
            "needs_background": "light"
          }
        }
      ]
    },
    {
      "cell_type": "markdown",
      "source": [
        "## Evaluation"
      ],
      "metadata": {
        "id": "xbl-KJ_Gt3ck"
      }
    },
    {
      "cell_type": "code",
      "source": [
        "# MSE & MAE\n",
        "loss, mae, mse = cnn_lstm_model.evaluate([pertanyaan_test, x_test], y_test)\n",
        "print(\"Loss (MSE): \", loss)\n",
        "print(\"MAE: \", mae)"
      ],
      "metadata": {
        "id": "JYWknYcAt8p0",
        "colab": {
          "base_uri": "https://localhost:8080/"
        },
        "outputId": "024f820b-0717-4ede-e526-6571ab70a594"
      },
      "execution_count": 251,
      "outputs": [
        {
          "output_type": "stream",
          "name": "stdout",
          "text": [
            "8/8 [==============================] - 1s 117ms/step - loss: 0.2858 - mae: 0.4213 - mse: 0.2858\n",
            "Loss (MSE):  0.285785436630249\n",
            "MAE:  0.4212927520275116\n"
          ]
        }
      ]
    },
    {
      "cell_type": "code",
      "source": [
        "# Accuracy All Data\n",
        "n_true = 0\n",
        "for i in range(len(df_final)) :\n",
        "  if (df_train_b['LABEL'][i] == df_final['score'][i]) :\n",
        "    n_true += 1\n",
        "accuracy = n_true / len(df_final)\n",
        "print(\"Accuracy: \", accuracy)"
      ],
      "metadata": {
        "colab": {
          "base_uri": "https://localhost:8080/"
        },
        "id": "0FiCI8ZgUkB-",
        "outputId": "31bb51f2-6e1a-4aef-9d77-3f88942b09e5"
      },
      "execution_count": 292,
      "outputs": [
        {
          "output_type": "stream",
          "name": "stdout",
          "text": [
            "Accuracy:  0.7016393442622951\n"
          ]
        }
      ]
    },
    {
      "cell_type": "code",
      "source": [
        "# Accuracy Test Data\n",
        "n_true = 0\n",
        "for i, data in enumerate(idx_test) :\n",
        "  if (df_train_b['LABEL'][data] == pred_int[i]) :\n",
        "    n_true += 1\n",
        "accuracy = n_true / len(idx_test)\n",
        "print(\"Accuracy: \", accuracy)"
      ],
      "metadata": {
        "colab": {
          "base_uri": "https://localhost:8080/"
        },
        "id": "Z6LVn3Jzchcl",
        "outputId": "a18832d6-1ede-4d3c-ee59-088b176a582a"
      },
      "execution_count": 299,
      "outputs": [
        {
          "output_type": "stream",
          "name": "stdout",
          "text": [
            "Accuracy:  0.6270491803278688\n"
          ]
        }
      ]
    },
    {
      "cell_type": "markdown",
      "source": [
        "# Predict & Export to CSV"
      ],
      "metadata": {
        "id": "nkI5mMFqFMdl"
      }
    },
    {
      "cell_type": "markdown",
      "source": [
        "## Predict"
      ],
      "metadata": {
        "id": "fD5LWrGnTBc9"
      }
    },
    {
      "cell_type": "code",
      "source": [
        "# Define Model\n",
        "model = cnn_lstm_model\n",
        "\n",
        "# Get Predicted Score\n",
        "pred = [float(i) for i in model.predict([pertanyaan_test, x_test])]\n",
        "pred_int = [round(i) for i in pred]\n",
        "\n",
        "pred_train = list(y_train)\n",
        "pred_int_train = [round(i) for i in y_train]\n",
        "\n",
        "pred_new = pred_train + pred\n",
        "pred_int_new = pred_int_train + pred_int\n",
        "\n",
        "# Get id_mahasiswa\n",
        "id_mahasiswa_train = [id_mahasiswa[i] for i in idx_labeled]\n",
        "id_mahasiswa_test = [id_mahasiswa[i] for i in idx_test]\n",
        "id_mahasiswa_new = id_mahasiswa_train + id_mahasiswa_test\n",
        "\n",
        "# Get jawaban\n",
        "jawaban_train = [jawaban[i] for i in idx_labeled]\n",
        "jawaban_test = [jawaban[i] for i in idx_test]\n",
        "jawaban_new = jawaban_train + jawaban_test\n",
        "\n",
        "# Create Dataframe\n",
        "df_final = pd.DataFrame({\n",
        "    'id_mahasiswa': id_mahasiswa_new,\n",
        "    'jawaban': jawaban_new,\n",
        "    'score': pred_int_new,\n",
        "    'score (float)': pred_new\n",
        "}).sort_values('id_mahasiswa').reset_index(drop=True)"
      ],
      "metadata": {
        "id": "514H1Qy7FPq9"
      },
      "execution_count": 280,
      "outputs": []
    },
    {
      "cell_type": "code",
      "source": [
        "df_final"
      ],
      "metadata": {
        "colab": {
          "base_uri": "https://localhost:8080/",
          "height": 424
        },
        "id": "rEZty019QQkt",
        "outputId": "27c86713-9487-4c3c-a79a-a4836e58edf8"
      },
      "execution_count": 281,
      "outputs": [
        {
          "output_type": "execute_result",
          "data": {
            "text/plain": [
              "     id_mahasiswa                                            jawaban  score  \\\n",
              "0               0  Karena orang berpikir bahwa jika disumbangkan ...      1   \n",
              "1               1  Pakaian awet adalah alternatif terhadap Fast F...      0   \n",
              "2               2                  karna orang lebih suka menyumbang      0   \n",
              "3               3               karana harga nya terjangkau dan pas.      0   \n",
              "4               4                            kerena harganya mahal .      0   \n",
              "..            ...                                                ...    ...   \n",
              "300           300  Karena,sebuah mesin penjual di Berlin menawark...      0   \n",
              "301           301  Mereka melihat kondisi pekerja di pabrik pakai...      1   \n",
              "302           302  karena yang disumbangkan adalah pakaian yang s...      1   \n",
              "303           303  karena lebih baik tangan diatas daripada tanga...      1   \n",
              "304           304  karena menyumbangkan 2 Euro tersebut sebagai u...      1   \n",
              "\n",
              "     score (float)  \n",
              "0         0.923116  \n",
              "1         0.000000  \n",
              "2         0.060554  \n",
              "3         0.000000  \n",
              "4         0.000000  \n",
              "..             ...  \n",
              "300      -0.080371  \n",
              "301       1.000000  \n",
              "302       0.661915  \n",
              "303       0.641260  \n",
              "304       0.791246  \n",
              "\n",
              "[305 rows x 4 columns]"
            ],
            "text/html": [
              "\n",
              "  <div id=\"df-09f04f8e-e9fd-41a0-ac7f-1ab76f924a89\">\n",
              "    <div class=\"colab-df-container\">\n",
              "      <div>\n",
              "<style scoped>\n",
              "    .dataframe tbody tr th:only-of-type {\n",
              "        vertical-align: middle;\n",
              "    }\n",
              "\n",
              "    .dataframe tbody tr th {\n",
              "        vertical-align: top;\n",
              "    }\n",
              "\n",
              "    .dataframe thead th {\n",
              "        text-align: right;\n",
              "    }\n",
              "</style>\n",
              "<table border=\"1\" class=\"dataframe\">\n",
              "  <thead>\n",
              "    <tr style=\"text-align: right;\">\n",
              "      <th></th>\n",
              "      <th>id_mahasiswa</th>\n",
              "      <th>jawaban</th>\n",
              "      <th>score</th>\n",
              "      <th>score (float)</th>\n",
              "    </tr>\n",
              "  </thead>\n",
              "  <tbody>\n",
              "    <tr>\n",
              "      <th>0</th>\n",
              "      <td>0</td>\n",
              "      <td>Karena orang berpikir bahwa jika disumbangkan ...</td>\n",
              "      <td>1</td>\n",
              "      <td>0.923116</td>\n",
              "    </tr>\n",
              "    <tr>\n",
              "      <th>1</th>\n",
              "      <td>1</td>\n",
              "      <td>Pakaian awet adalah alternatif terhadap Fast F...</td>\n",
              "      <td>0</td>\n",
              "      <td>0.000000</td>\n",
              "    </tr>\n",
              "    <tr>\n",
              "      <th>2</th>\n",
              "      <td>2</td>\n",
              "      <td>karna orang lebih suka menyumbang</td>\n",
              "      <td>0</td>\n",
              "      <td>0.060554</td>\n",
              "    </tr>\n",
              "    <tr>\n",
              "      <th>3</th>\n",
              "      <td>3</td>\n",
              "      <td>karana harga nya terjangkau dan pas.</td>\n",
              "      <td>0</td>\n",
              "      <td>0.000000</td>\n",
              "    </tr>\n",
              "    <tr>\n",
              "      <th>4</th>\n",
              "      <td>4</td>\n",
              "      <td>kerena harganya mahal .</td>\n",
              "      <td>0</td>\n",
              "      <td>0.000000</td>\n",
              "    </tr>\n",
              "    <tr>\n",
              "      <th>...</th>\n",
              "      <td>...</td>\n",
              "      <td>...</td>\n",
              "      <td>...</td>\n",
              "      <td>...</td>\n",
              "    </tr>\n",
              "    <tr>\n",
              "      <th>300</th>\n",
              "      <td>300</td>\n",
              "      <td>Karena,sebuah mesin penjual di Berlin menawark...</td>\n",
              "      <td>0</td>\n",
              "      <td>-0.080371</td>\n",
              "    </tr>\n",
              "    <tr>\n",
              "      <th>301</th>\n",
              "      <td>301</td>\n",
              "      <td>Mereka melihat kondisi pekerja di pabrik pakai...</td>\n",
              "      <td>1</td>\n",
              "      <td>1.000000</td>\n",
              "    </tr>\n",
              "    <tr>\n",
              "      <th>302</th>\n",
              "      <td>302</td>\n",
              "      <td>karena yang disumbangkan adalah pakaian yang s...</td>\n",
              "      <td>1</td>\n",
              "      <td>0.661915</td>\n",
              "    </tr>\n",
              "    <tr>\n",
              "      <th>303</th>\n",
              "      <td>303</td>\n",
              "      <td>karena lebih baik tangan diatas daripada tanga...</td>\n",
              "      <td>1</td>\n",
              "      <td>0.641260</td>\n",
              "    </tr>\n",
              "    <tr>\n",
              "      <th>304</th>\n",
              "      <td>304</td>\n",
              "      <td>karena menyumbangkan 2 Euro tersebut sebagai u...</td>\n",
              "      <td>1</td>\n",
              "      <td>0.791246</td>\n",
              "    </tr>\n",
              "  </tbody>\n",
              "</table>\n",
              "<p>305 rows × 4 columns</p>\n",
              "</div>\n",
              "      <button class=\"colab-df-convert\" onclick=\"convertToInteractive('df-09f04f8e-e9fd-41a0-ac7f-1ab76f924a89')\"\n",
              "              title=\"Convert this dataframe to an interactive table.\"\n",
              "              style=\"display:none;\">\n",
              "        \n",
              "  <svg xmlns=\"http://www.w3.org/2000/svg\" height=\"24px\"viewBox=\"0 0 24 24\"\n",
              "       width=\"24px\">\n",
              "    <path d=\"M0 0h24v24H0V0z\" fill=\"none\"/>\n",
              "    <path d=\"M18.56 5.44l.94 2.06.94-2.06 2.06-.94-2.06-.94-.94-2.06-.94 2.06-2.06.94zm-11 1L8.5 8.5l.94-2.06 2.06-.94-2.06-.94L8.5 2.5l-.94 2.06-2.06.94zm10 10l.94 2.06.94-2.06 2.06-.94-2.06-.94-.94-2.06-.94 2.06-2.06.94z\"/><path d=\"M17.41 7.96l-1.37-1.37c-.4-.4-.92-.59-1.43-.59-.52 0-1.04.2-1.43.59L10.3 9.45l-7.72 7.72c-.78.78-.78 2.05 0 2.83L4 21.41c.39.39.9.59 1.41.59.51 0 1.02-.2 1.41-.59l7.78-7.78 2.81-2.81c.8-.78.8-2.07 0-2.86zM5.41 20L4 18.59l7.72-7.72 1.47 1.35L5.41 20z\"/>\n",
              "  </svg>\n",
              "      </button>\n",
              "      \n",
              "  <style>\n",
              "    .colab-df-container {\n",
              "      display:flex;\n",
              "      flex-wrap:wrap;\n",
              "      gap: 12px;\n",
              "    }\n",
              "\n",
              "    .colab-df-convert {\n",
              "      background-color: #E8F0FE;\n",
              "      border: none;\n",
              "      border-radius: 50%;\n",
              "      cursor: pointer;\n",
              "      display: none;\n",
              "      fill: #1967D2;\n",
              "      height: 32px;\n",
              "      padding: 0 0 0 0;\n",
              "      width: 32px;\n",
              "    }\n",
              "\n",
              "    .colab-df-convert:hover {\n",
              "      background-color: #E2EBFA;\n",
              "      box-shadow: 0px 1px 2px rgba(60, 64, 67, 0.3), 0px 1px 3px 1px rgba(60, 64, 67, 0.15);\n",
              "      fill: #174EA6;\n",
              "    }\n",
              "\n",
              "    [theme=dark] .colab-df-convert {\n",
              "      background-color: #3B4455;\n",
              "      fill: #D2E3FC;\n",
              "    }\n",
              "\n",
              "    [theme=dark] .colab-df-convert:hover {\n",
              "      background-color: #434B5C;\n",
              "      box-shadow: 0px 1px 3px 1px rgba(0, 0, 0, 0.15);\n",
              "      filter: drop-shadow(0px 1px 2px rgba(0, 0, 0, 0.3));\n",
              "      fill: #FFFFFF;\n",
              "    }\n",
              "  </style>\n",
              "\n",
              "      <script>\n",
              "        const buttonEl =\n",
              "          document.querySelector('#df-09f04f8e-e9fd-41a0-ac7f-1ab76f924a89 button.colab-df-convert');\n",
              "        buttonEl.style.display =\n",
              "          google.colab.kernel.accessAllowed ? 'block' : 'none';\n",
              "\n",
              "        async function convertToInteractive(key) {\n",
              "          const element = document.querySelector('#df-09f04f8e-e9fd-41a0-ac7f-1ab76f924a89');\n",
              "          const dataTable =\n",
              "            await google.colab.kernel.invokeFunction('convertToInteractive',\n",
              "                                                     [key], {});\n",
              "          if (!dataTable) return;\n",
              "\n",
              "          const docLinkHtml = 'Like what you see? Visit the ' +\n",
              "            '<a target=\"_blank\" href=https://colab.research.google.com/notebooks/data_table.ipynb>data table notebook</a>'\n",
              "            + ' to learn more about interactive tables.';\n",
              "          element.innerHTML = '';\n",
              "          dataTable['output_type'] = 'display_data';\n",
              "          await google.colab.output.renderOutput(dataTable, element);\n",
              "          const docLink = document.createElement('div');\n",
              "          docLink.innerHTML = docLinkHtml;\n",
              "          element.appendChild(docLink);\n",
              "        }\n",
              "      </script>\n",
              "    </div>\n",
              "  </div>\n",
              "  "
            ]
          },
          "metadata": {},
          "execution_count": 281
        }
      ]
    },
    {
      "cell_type": "markdown",
      "source": [
        "## Export to CSV"
      ],
      "metadata": {
        "id": "JsxN4bG7S9wV"
      }
    },
    {
      "cell_type": "code",
      "source": [
        "# Direct Export\n",
        "df_final.to_excel(\"scoring_result.xlsx\", index = False)"
      ],
      "metadata": {
        "id": "lzv2-V5YSnba"
      },
      "execution_count": null,
      "outputs": []
    },
    {
      "cell_type": "code",
      "source": [
        "# Export with Columns Width Adjustment\n",
        "filename = 'scoring_result.xlsx'\n",
        "dfs = {'df_final': df_final}\n",
        "\n",
        "writer = pd.ExcelWriter(filename, engine='xlsxwriter')\n",
        "for sheetname, df in dfs.items():  # loop through `dict` of dataframes\n",
        "    df.to_excel(writer, sheet_name=sheetname, index = False)  # send df to writer\n",
        "    worksheet = writer.sheets[sheetname]  # pull worksheet object\n",
        "    for idx, col in enumerate(df):  # loop through all columns\n",
        "        series = df[col]\n",
        "        max_len = max((\n",
        "            series.astype(str).map(len).max(),  # len of largest item\n",
        "            len(str(series.name))  # len of column name/header\n",
        "            )) + 1  # adding a little extra space\n",
        "        worksheet.set_column(idx, idx, max_len)  # set column width\n",
        "writer.save()"
      ],
      "metadata": {
        "id": "czMitYNNSygo"
      },
      "execution_count": 283,
      "outputs": []
    }
  ]
}